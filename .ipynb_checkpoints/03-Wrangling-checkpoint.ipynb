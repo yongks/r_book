{
 "cells": [
  {
   "cell_type": "markdown",
   "metadata": {},
   "source": [
    "# Wrangling"
   ]
  },
  {
   "cell_type": "markdown",
   "metadata": {},
   "source": [
    "## Sample Data"
   ]
  },
  {
   "cell_type": "code",
   "execution_count": 4,
   "metadata": {},
   "outputs": [
    {
     "data": {
      "text/html": [
       "<table>\n",
       "<thead><tr><th scope=col>com</th><th scope=col>dept</th><th scope=col>team</th><th scope=col>x1</th><th scope=col>x2</th><th scope=col>x3</th></tr></thead>\n",
       "<tbody>\n",
       "\t<tr><td>C1      </td><td>D1      </td><td>T10     </td><td>48.11381</td><td>21.31079</td><td>2.683964</td></tr>\n",
       "\t<tr><td>C2      </td><td>D4      </td><td>T8      </td><td>50.48810</td><td>23.18037</td><td>5.562472</td></tr>\n",
       "\t<tr><td>C2      </td><td>D2      </td><td>T5      </td><td>58.19372</td><td>21.35657</td><td>4.216225</td></tr>\n",
       "\t<tr><td>C2      </td><td>D2      </td><td>T12     </td><td>45.62204</td><td>21.98960</td><td>4.773946</td></tr>\n",
       "\t<tr><td>C3      </td><td>D1      </td><td>T8      </td><td>50.60880</td><td>16.59088</td><td>3.412897</td></tr>\n",
       "\t<tr><td>C2      </td><td>D3      </td><td>T11     </td><td>56.81065</td><td>18.88851</td><td>5.547524</td></tr>\n",
       "</tbody>\n",
       "</table>\n"
      ],
      "text/latex": [
       "\\begin{tabular}{r|llllll}\n",
       " com & dept & team & x1 & x2 & x3\\\\\n",
       "\\hline\n",
       "\t C1       & D1       & T10      & 48.11381 & 21.31079 & 2.683964\\\\\n",
       "\t C2       & D4       & T8       & 50.48810 & 23.18037 & 5.562472\\\\\n",
       "\t C2       & D2       & T5       & 58.19372 & 21.35657 & 4.216225\\\\\n",
       "\t C2       & D2       & T12      & 45.62204 & 21.98960 & 4.773946\\\\\n",
       "\t C3       & D1       & T8       & 50.60880 & 16.59088 & 3.412897\\\\\n",
       "\t C2       & D3       & T11      & 56.81065 & 18.88851 & 5.547524\\\\\n",
       "\\end{tabular}\n"
      ],
      "text/markdown": [
       "\n",
       "com | dept | team | x1 | x2 | x3 | \n",
       "|---|---|---|---|---|---|\n",
       "| C1       | D1       | T10      | 48.11381 | 21.31079 | 2.683964 | \n",
       "| C2       | D4       | T8       | 50.48810 | 23.18037 | 5.562472 | \n",
       "| C2       | D2       | T5       | 58.19372 | 21.35657 | 4.216225 | \n",
       "| C2       | D2       | T12      | 45.62204 | 21.98960 | 4.773946 | \n",
       "| C3       | D1       | T8       | 50.60880 | 16.59088 | 3.412897 | \n",
       "| C2       | D3       | T11      | 56.81065 | 18.88851 | 5.547524 | \n",
       "\n",
       "\n"
      ],
      "text/plain": [
       "  com dept team x1       x2       x3      \n",
       "1 C1  D1   T10  48.11381 21.31079 2.683964\n",
       "2 C2  D4   T8   50.48810 23.18037 5.562472\n",
       "3 C2  D2   T5   58.19372 21.35657 4.216225\n",
       "4 C2  D2   T12  45.62204 21.98960 4.773946\n",
       "5 C3  D1   T8   50.60880 16.59088 3.412897\n",
       "6 C2  D3   T11  56.81065 18.88851 5.547524"
      ]
     },
     "metadata": {},
     "output_type": "display_data"
    }
   ],
   "source": [
    "set.seed(1234)\n",
    "my.df = data.frame(\n",
    "  com  = paste('C',sample(1:3, 100, replace = T),sep=''),\n",
    "  dept = paste('D',sample(1:7, 100, replace = T),sep=''),\n",
    "  team = paste('T',sample(1:15, 100, replace = T),sep=''),\n",
    "  x1 = rnorm(1:100, mean = 50, sd = 5),\n",
    "  x2 = rnorm(1:100, mean = 20, sd = 3),\n",
    "  x3 = rnorm(1:100, mean =  5, sd = 1),\n",
    "  stringsAsFactors = F\n",
    ")\n",
    "head(my.df)"
   ]
  },
  {
   "cell_type": "code",
   "execution_count": null,
   "metadata": {},
   "outputs": [],
   "source": []
  },
  {
   "cell_type": "markdown",
   "metadata": {},
   "source": [
    "## stringr\n",
    "### Why use stringr ?\n",
    "- Consistent syntax, all functions start with 'str_'\n",
    "- Compatible with %>%"
   ]
  },
  {
   "cell_type": "code",
   "execution_count": 2,
   "metadata": {},
   "outputs": [],
   "source": [
    "library(stringr)\n",
    "words = c(\"why\", \"video\", \"cross\", \"extra\", \"deal\", \"authority\")\n",
    "fruits = c('banana','apple','banana','durian','apple')"
   ]
  },
  {
   "cell_type": "markdown",
   "metadata": {},
   "source": [
    "### Number of Chars"
   ]
  },
  {
   "cell_type": "code",
   "execution_count": 10,
   "metadata": {},
   "outputs": [
    {
     "name": "stdout",
     "output_type": "stream",
     "text": [
      "[1] 3 5 5 5 4 9\n",
      "[1] 3 5 5 5 4 9\n"
     ]
    }
   ],
   "source": [
    "print( str_length( words ) )   # stringr\n",
    "print( nchar(words)  )         # similar to base R"
   ]
  },
  {
   "cell_type": "markdown",
   "metadata": {},
   "source": [
    "### Combinning\n",
    "This operation take single vector and combine all its elements to form a combined string"
   ]
  },
  {
   "cell_type": "code",
   "execution_count": 16,
   "metadata": {},
   "outputs": [
    {
     "name": "stdout",
     "output_type": "stream",
     "text": [
      "[1] \"banana , apple , banana , durian , apple\"\n"
     ]
    }
   ],
   "source": [
    "print( str_c(fruits, collapse = \" , \") )"
   ]
  },
  {
   "cell_type": "markdown",
   "metadata": {},
   "source": [
    "### Subset"
   ]
  },
  {
   "cell_type": "code",
   "execution_count": 36,
   "metadata": {},
   "outputs": [
    {
     "data": {
      "text/html": [
       "<ol class=list-inline>\n",
       "\t<li>'ban'</li>\n",
       "\t<li>'app'</li>\n",
       "\t<li>'ban'</li>\n",
       "\t<li>'dur'</li>\n",
       "\t<li>'app'</li>\n",
       "</ol>\n"
      ],
      "text/latex": [
       "\\begin{enumerate*}\n",
       "\\item 'ban'\n",
       "\\item 'app'\n",
       "\\item 'ban'\n",
       "\\item 'dur'\n",
       "\\item 'app'\n",
       "\\end{enumerate*}\n"
      ],
      "text/markdown": [
       "1. 'ban'\n",
       "2. 'app'\n",
       "3. 'ban'\n",
       "4. 'dur'\n",
       "5. 'app'\n",
       "\n",
       "\n"
      ],
      "text/plain": [
       "[1] \"ban\" \"app\" \"ban\" \"dur\" \"app\""
      ]
     },
     "metadata": {},
     "output_type": "display_data"
    }
   ],
   "source": [
    "str_sub(fruits, 1, 3)  # substring position 1 to 3"
   ]
  },
  {
   "cell_type": "markdown",
   "metadata": {},
   "source": [
    "### Replace"
   ]
  },
  {
   "cell_type": "code",
   "execution_count": 38,
   "metadata": {},
   "outputs": [
    {
     "data": {
      "text/html": [
       "<ol class=list-inline>\n",
       "\t<li>'why'</li>\n",
       "\t<li>'v?deo'</li>\n",
       "\t<li>'cr?ss'</li>\n",
       "\t<li>'?xtra'</li>\n",
       "\t<li>'d?al'</li>\n",
       "\t<li>'?uthority'</li>\n",
       "</ol>\n"
      ],
      "text/latex": [
       "\\begin{enumerate*}\n",
       "\\item 'why'\n",
       "\\item 'v?deo'\n",
       "\\item 'cr?ss'\n",
       "\\item '?xtra'\n",
       "\\item 'd?al'\n",
       "\\item '?uthority'\n",
       "\\end{enumerate*}\n"
      ],
      "text/markdown": [
       "1. 'why'\n",
       "2. 'v?deo'\n",
       "3. 'cr?ss'\n",
       "4. '?xtra'\n",
       "5. 'd?al'\n",
       "6. '?uthority'\n",
       "\n",
       "\n"
      ],
      "text/plain": [
       "[1] \"why\"       \"v?deo\"     \"cr?ss\"     \"?xtra\"     \"d?al\"      \"?uthority\""
      ]
     },
     "metadata": {},
     "output_type": "display_data"
    }
   ],
   "source": [
    "str_replace(words, \"[aeiou]\", \"?\")"
   ]
  },
  {
   "cell_type": "markdown",
   "metadata": {},
   "source": [
    "### String Split\n",
    "**stringr::str_split** has similar result as **base::strplit**"
   ]
  },
  {
   "cell_type": "code",
   "execution_count": 18,
   "metadata": {},
   "outputs": [
    {
     "name": "stdout",
     "output_type": "stream",
     "text": [
      "[[1]]\n",
      "[1] \"banana\"   \"apple  \"  \"banana \"  \"durian  \" \"apple\"   \n",
      "\n",
      "[[2]]\n",
      "[1] \"avocado\"     \"water melon\" \"pineapple\"  \n",
      "\n"
     ]
    }
   ],
   "source": [
    "x =c('banana, apple  , banana , durian  , apple', \n",
    "     'avocado, water melon, pineapple')\n",
    "print( str_split(x, ', ')  )"
   ]
  },
  {
   "cell_type": "code",
   "execution_count": 19,
   "metadata": {},
   "outputs": [
    {
     "name": "stdout",
     "output_type": "stream",
     "text": [
      "[[1]]\n",
      "[1] \"banana\"    \" apple  \"  \" banana \"  \" durian  \" \" apple\"   \n",
      "\n",
      "[[2]]\n",
      "[1] \"avocado\"      \" water melon\" \" pineapple\"  \n",
      "\n"
     ]
    }
   ],
   "source": [
    "print( strsplit(x,',')  )"
   ]
  },
  {
   "cell_type": "markdown",
   "metadata": {},
   "source": [
    "### Pattern Match"
   ]
  },
  {
   "cell_type": "code",
   "execution_count": 43,
   "metadata": {},
   "outputs": [
    {
     "name": "stdout",
     "output_type": "stream",
     "text": [
      "[1] \"why\"       \"video\"     \"cross\"     \"extra\"     \"deal\"      \"authority\"\n",
      "[1] TRUE TRUE\n"
     ]
    }
   ],
   "source": [
    "print( words )\n",
    "print( str_detect(x, \"[aeiou]\")  )"
   ]
  },
  {
   "cell_type": "markdown",
   "metadata": {},
   "source": [
    "## dplyr"
   ]
  },
  {
   "cell_type": "markdown",
   "metadata": {},
   "source": [
    "### Filter"
   ]
  },
  {
   "cell_type": "markdown",
   "metadata": {},
   "source": [
    "### Sorting"
   ]
  },
  {
   "cell_type": "code",
   "execution_count": null,
   "metadata": {},
   "outputs": [],
   "source": []
  },
  {
   "cell_type": "code",
   "execution_count": null,
   "metadata": {},
   "outputs": [],
   "source": []
  }
 ],
 "metadata": {
  "kernelspec": {
   "display_name": "R",
   "language": "R",
   "name": "ir"
  },
  "language_info": {
   "codemirror_mode": "r",
   "file_extension": ".r",
   "mimetype": "text/x-r-source",
   "name": "R",
   "pygments_lexer": "r",
   "version": "3.5.1"
  },
  "toc": {
   "nav_menu": {},
   "number_sections": true,
   "sideBar": true,
   "skip_h1_title": false,
   "toc_cell": false,
   "toc_position": {
    "height": "932.257px",
    "left": "0px",
    "right": "1859.01px",
    "top": "109.722px",
    "width": "274.323px"
   },
   "toc_section_display": "block",
   "toc_window_display": true
  },
  "varInspector": {
   "cols": {
    "lenName": 16,
    "lenType": 16,
    "lenVar": 40
   },
   "kernels_config": {
    "python": {
     "delete_cmd_postfix": "",
     "delete_cmd_prefix": "del ",
     "library": "var_list.py",
     "varRefreshCmd": "print(var_dic_list())"
    },
    "r": {
     "delete_cmd_postfix": ") ",
     "delete_cmd_prefix": "rm(",
     "library": "var_list.r",
     "varRefreshCmd": "cat(var_dic_list()) "
    }
   },
   "types_to_exclude": [
    "module",
    "function",
    "builtin_function_or_method",
    "instance",
    "_Feature"
   ],
   "window_display": false
  }
 },
 "nbformat": 4,
 "nbformat_minor": 2
}
