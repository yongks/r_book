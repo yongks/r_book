{
 "cells": [
  {
   "cell_type": "markdown",
   "metadata": {},
   "source": [
    "# Wrangling"
   ]
  },
  {
   "cell_type": "markdown",
   "metadata": {},
   "source": [
    "## Library"
   ]
  },
  {
   "cell_type": "code",
   "execution_count": 1,
   "metadata": {},
   "outputs": [
    {
     "name": "stderr",
     "output_type": "stream",
     "text": [
      "-- Attaching packages --------------------------------------- tidyverse 1.2.1 --\n",
      "v ggplot2 3.1.0     v purrr   0.2.5\n",
      "v tibble  1.4.2     v dplyr   0.7.8\n",
      "v tidyr   0.8.2     v stringr 1.3.1\n",
      "v readr   1.1.1     v forcats 0.3.0\n",
      "-- Conflicts ------------------------------------------ tidyverse_conflicts() --\n",
      "x dplyr::filter() masks stats::filter()\n",
      "x dplyr::lag()    masks stats::lag()\n"
     ]
    }
   ],
   "source": [
    "library(tidyverse)"
   ]
  },
  {
   "cell_type": "markdown",
   "metadata": {},
   "source": [
    "## Sample Data"
   ]
  },
  {
   "cell_type": "code",
   "execution_count": 2,
   "metadata": {},
   "outputs": [
    {
     "data": {
      "text/html": [
       "<table>\n",
       "<thead><tr><th scope=col>com</th><th scope=col>dept</th><th scope=col>team</th><th scope=col>x1</th><th scope=col>x2</th><th scope=col>x3</th></tr></thead>\n",
       "<tbody>\n",
       "\t<tr><td>C1      </td><td>D1      </td><td>T1      </td><td>49.23301</td><td>20.24018</td><td>4.162418</td></tr>\n",
       "\t<tr><td>C3      </td><td>D1      </td><td>T4      </td><td>43.04650</td><td>18.10577</td><td>3.876237</td></tr>\n",
       "\t<tr><td>C3      </td><td>D3      </td><td>T2      </td><td>46.38209</td><td>15.46014</td><td>8.043766</td></tr>\n",
       "\t<tr><td>C3      </td><td>D2      </td><td>T2      </td><td>51.29131</td><td>18.09170</td><td>5.235021</td></tr>\n",
       "\t<tr><td>C4      </td><td>D1      </td><td>T1      </td><td>48.41470</td><td>20.67890</td><td>4.966741</td></tr>\n",
       "\t<tr><td>C3      </td><td>D2      </td><td>T3      </td><td>49.11105</td><td>23.04107</td><td>2.267780</td></tr>\n",
       "</tbody>\n",
       "</table>\n"
      ],
      "text/latex": [
       "\\begin{tabular}{r|llllll}\n",
       " com & dept & team & x1 & x2 & x3\\\\\n",
       "\\hline\n",
       "\t C1       & D1       & T1       & 49.23301 & 20.24018 & 4.162418\\\\\n",
       "\t C3       & D1       & T4       & 43.04650 & 18.10577 & 3.876237\\\\\n",
       "\t C3       & D3       & T2       & 46.38209 & 15.46014 & 8.043766\\\\\n",
       "\t C3       & D2       & T2       & 51.29131 & 18.09170 & 5.235021\\\\\n",
       "\t C4       & D1       & T1       & 48.41470 & 20.67890 & 4.966741\\\\\n",
       "\t C3       & D2       & T3       & 49.11105 & 23.04107 & 2.267780\\\\\n",
       "\\end{tabular}\n"
      ],
      "text/markdown": [
       "\n",
       "com | dept | team | x1 | x2 | x3 | \n",
       "|---|---|---|---|---|---|\n",
       "| C1       | D1       | T1       | 49.23301 | 20.24018 | 4.162418 | \n",
       "| C3       | D1       | T4       | 43.04650 | 18.10577 | 3.876237 | \n",
       "| C3       | D3       | T2       | 46.38209 | 15.46014 | 8.043766 | \n",
       "| C3       | D2       | T2       | 51.29131 | 18.09170 | 5.235021 | \n",
       "| C4       | D1       | T1       | 48.41470 | 20.67890 | 4.966741 | \n",
       "| C3       | D2       | T3       | 49.11105 | 23.04107 | 2.267780 | \n",
       "\n",
       "\n"
      ],
      "text/plain": [
       "  com dept team x1       x2       x3      \n",
       "1 C1  D1   T1   49.23301 20.24018 4.162418\n",
       "2 C3  D1   T4   43.04650 18.10577 3.876237\n",
       "3 C3  D3   T2   46.38209 15.46014 8.043766\n",
       "4 C3  D2   T2   51.29131 18.09170 5.235021\n",
       "5 C4  D1   T1   48.41470 20.67890 4.966741\n",
       "6 C3  D2   T3   49.11105 23.04107 2.267780"
      ]
     },
     "metadata": {},
     "output_type": "display_data"
    }
   ],
   "source": [
    "set.seed(1234)\n",
    "n = 50\n",
    "my.df = data.frame(\n",
    "  com  = paste('C',sample(1:4, n, replace = T),sep=''),\n",
    "  dept = paste('D',sample(1:3, n, replace = T),sep=''),\n",
    "  team = paste('T',sample(1:7, n, replace = T),sep=''),\n",
    "  x1 = rnorm(1:n, mean = 50, sd = 5),\n",
    "  x2 = rnorm(1:n, mean = 20, sd = 3),\n",
    "  x3 = rnorm(1:n, mean =  5, sd = 1),\n",
    "  stringsAsFactors = F\n",
    ")\n",
    "head(my.df)"
   ]
  },
  {
   "cell_type": "markdown",
   "metadata": {},
   "source": [
    "## Base R"
   ]
  },
  {
   "cell_type": "markdown",
   "metadata": {},
   "source": [
    "### Filter"
   ]
  },
  {
   "cell_type": "markdown",
   "metadata": {},
   "source": [
    "#### Filter Vector\n",
    "use **logical vector** method"
   ]
  },
  {
   "cell_type": "code",
   "execution_count": 3,
   "metadata": {},
   "outputs": [
    {
     "data": {
      "text/html": [
       "<ol class=list-inline>\n",
       "\t<li>5</li>\n",
       "\t<li>6</li>\n",
       "\t<li>5</li>\n",
       "</ol>\n"
      ],
      "text/latex": [
       "\\begin{enumerate*}\n",
       "\\item 5\n",
       "\\item 6\n",
       "\\item 5\n",
       "\\end{enumerate*}\n"
      ],
      "text/markdown": [
       "1. 5\n",
       "2. 6\n",
       "3. 5\n",
       "\n",
       "\n"
      ],
      "text/plain": [
       "[1] 5 6 5"
      ]
     },
     "metadata": {},
     "output_type": "display_data"
    }
   ],
   "source": [
    "x = c(5,7,8,2,3,6,2,3,5)\n",
    "x [ x>3 & x<7]"
   ]
  },
  {
   "cell_type": "markdown",
   "metadata": {},
   "source": [
    "#### Filter Dataframe\n",
    "Using **subset( )** method"
   ]
  },
  {
   "cell_type": "code",
   "execution_count": 4,
   "metadata": {},
   "outputs": [
    {
     "data": {
      "text/html": [
       "<table>\n",
       "<thead><tr><th></th><th scope=col>com</th><th scope=col>dept</th><th scope=col>team</th><th scope=col>x1</th><th scope=col>x2</th><th scope=col>x3</th></tr></thead>\n",
       "<tbody>\n",
       "\t<tr><th scope=row>3</th><td>C3      </td><td>D3      </td><td>T2      </td><td>46.38209</td><td>15.46014</td><td>8.043766</td></tr>\n",
       "\t<tr><th scope=row>4</th><td>C3      </td><td>D2      </td><td>T2      </td><td>51.29131</td><td>18.09170</td><td>5.235021</td></tr>\n",
       "\t<tr><th scope=row>15</th><td>C2      </td><td>D1      </td><td>T2      </td><td>44.02736</td><td>18.13139</td><td>4.801584</td></tr>\n",
       "\t<tr><th scope=row>18</th><td>C2      </td><td>D2      </td><td>T2      </td><td>58.52982</td><td>21.91002</td><td>4.210353</td></tr>\n",
       "\t<tr><th scope=row>27</th><td>C3      </td><td>D2      </td><td>T2      </td><td>47.62641</td><td>20.29286</td><td>5.696769</td></tr>\n",
       "</tbody>\n",
       "</table>\n"
      ],
      "text/latex": [
       "\\begin{tabular}{r|llllll}\n",
       "  & com & dept & team & x1 & x2 & x3\\\\\n",
       "\\hline\n",
       "\t3 & C3       & D3       & T2       & 46.38209 & 15.46014 & 8.043766\\\\\n",
       "\t4 & C3       & D2       & T2       & 51.29131 & 18.09170 & 5.235021\\\\\n",
       "\t15 & C2       & D1       & T2       & 44.02736 & 18.13139 & 4.801584\\\\\n",
       "\t18 & C2       & D2       & T2       & 58.52982 & 21.91002 & 4.210353\\\\\n",
       "\t27 & C3       & D2       & T2       & 47.62641 & 20.29286 & 5.696769\\\\\n",
       "\\end{tabular}\n"
      ],
      "text/markdown": [
       "\n",
       "| <!--/--> | com | dept | team | x1 | x2 | x3 | \n",
       "|---|---|---|---|---|\n",
       "| 3 | C3       | D3       | T2       | 46.38209 | 15.46014 | 8.043766 | \n",
       "| 4 | C3       | D2       | T2       | 51.29131 | 18.09170 | 5.235021 | \n",
       "| 15 | C2       | D1       | T2       | 44.02736 | 18.13139 | 4.801584 | \n",
       "| 18 | C2       | D2       | T2       | 58.52982 | 21.91002 | 4.210353 | \n",
       "| 27 | C3       | D2       | T2       | 47.62641 | 20.29286 | 5.696769 | \n",
       "\n",
       "\n"
      ],
      "text/plain": [
       "   com dept team x1       x2       x3      \n",
       "3  C3  D3   T2   46.38209 15.46014 8.043766\n",
       "4  C3  D2   T2   51.29131 18.09170 5.235021\n",
       "15 C2  D1   T2   44.02736 18.13139 4.801584\n",
       "18 C2  D2   T2   58.52982 21.91002 4.210353\n",
       "27 C3  D2   T2   47.62641 20.29286 5.696769"
      ]
     },
     "metadata": {},
     "output_type": "display_data"
    }
   ],
   "source": [
    "subset(my.df, com %in% c('C2','C3') & team ==\"T2\")"
   ]
  },
  {
   "cell_type": "markdown",
   "metadata": {},
   "source": [
    "Using **logical vector** method"
   ]
  },
  {
   "cell_type": "code",
   "execution_count": 5,
   "metadata": {},
   "outputs": [
    {
     "data": {
      "text/html": [
       "<table>\n",
       "<thead><tr><th></th><th scope=col>com</th><th scope=col>dept</th><th scope=col>team</th><th scope=col>x1</th><th scope=col>x2</th><th scope=col>x3</th></tr></thead>\n",
       "<tbody>\n",
       "\t<tr><th scope=row>3</th><td>C3      </td><td>D3      </td><td>T2      </td><td>46.38209</td><td>15.46014</td><td>8.043766</td></tr>\n",
       "\t<tr><th scope=row>4</th><td>C3      </td><td>D2      </td><td>T2      </td><td>51.29131</td><td>18.09170</td><td>5.235021</td></tr>\n",
       "\t<tr><th scope=row>15</th><td>C2      </td><td>D1      </td><td>T2      </td><td>44.02736</td><td>18.13139</td><td>4.801584</td></tr>\n",
       "\t<tr><th scope=row>18</th><td>C2      </td><td>D2      </td><td>T2      </td><td>58.52982</td><td>21.91002</td><td>4.210353</td></tr>\n",
       "\t<tr><th scope=row>27</th><td>C3      </td><td>D2      </td><td>T2      </td><td>47.62641</td><td>20.29286</td><td>5.696769</td></tr>\n",
       "</tbody>\n",
       "</table>\n"
      ],
      "text/latex": [
       "\\begin{tabular}{r|llllll}\n",
       "  & com & dept & team & x1 & x2 & x3\\\\\n",
       "\\hline\n",
       "\t3 & C3       & D3       & T2       & 46.38209 & 15.46014 & 8.043766\\\\\n",
       "\t4 & C3       & D2       & T2       & 51.29131 & 18.09170 & 5.235021\\\\\n",
       "\t15 & C2       & D1       & T2       & 44.02736 & 18.13139 & 4.801584\\\\\n",
       "\t18 & C2       & D2       & T2       & 58.52982 & 21.91002 & 4.210353\\\\\n",
       "\t27 & C3       & D2       & T2       & 47.62641 & 20.29286 & 5.696769\\\\\n",
       "\\end{tabular}\n"
      ],
      "text/markdown": [
       "\n",
       "| <!--/--> | com | dept | team | x1 | x2 | x3 | \n",
       "|---|---|---|---|---|\n",
       "| 3 | C3       | D3       | T2       | 46.38209 | 15.46014 | 8.043766 | \n",
       "| 4 | C3       | D2       | T2       | 51.29131 | 18.09170 | 5.235021 | \n",
       "| 15 | C2       | D1       | T2       | 44.02736 | 18.13139 | 4.801584 | \n",
       "| 18 | C2       | D2       | T2       | 58.52982 | 21.91002 | 4.210353 | \n",
       "| 27 | C3       | D2       | T2       | 47.62641 | 20.29286 | 5.696769 | \n",
       "\n",
       "\n"
      ],
      "text/plain": [
       "   com dept team x1       x2       x3      \n",
       "3  C3  D3   T2   46.38209 15.46014 8.043766\n",
       "4  C3  D2   T2   51.29131 18.09170 5.235021\n",
       "15 C2  D1   T2   44.02736 18.13139 4.801584\n",
       "18 C2  D2   T2   58.52982 21.91002 4.210353\n",
       "27 C3  D2   T2   47.62641 20.29286 5.696769"
      ]
     },
     "metadata": {},
     "output_type": "display_data"
    }
   ],
   "source": [
    "selector = with(my.df, com %in% c('C2','C3') & team=='T2')\n",
    "my.df[selector,]"
   ]
  },
  {
   "cell_type": "markdown",
   "metadata": {},
   "source": [
    "### Arranging"
   ]
  },
  {
   "cell_type": "markdown",
   "metadata": {},
   "source": [
    "#### Arrnaging Vector\n",
    "**Direct Method with Sort( )**"
   ]
  },
  {
   "cell_type": "code",
   "execution_count": 6,
   "metadata": {
    "scrolled": true
   },
   "outputs": [
    {
     "data": {
      "text/html": [
       "<ol class=list-inline>\n",
       "\t<li>8</li>\n",
       "\t<li>7</li>\n",
       "\t<li>6</li>\n",
       "\t<li>5</li>\n",
       "\t<li>5</li>\n",
       "\t<li>3</li>\n",
       "\t<li>3</li>\n",
       "\t<li>2</li>\n",
       "\t<li>2</li>\n",
       "</ol>\n"
      ],
      "text/latex": [
       "\\begin{enumerate*}\n",
       "\\item 8\n",
       "\\item 7\n",
       "\\item 6\n",
       "\\item 5\n",
       "\\item 5\n",
       "\\item 3\n",
       "\\item 3\n",
       "\\item 2\n",
       "\\item 2\n",
       "\\end{enumerate*}\n"
      ],
      "text/markdown": [
       "1. 8\n",
       "2. 7\n",
       "3. 6\n",
       "4. 5\n",
       "5. 5\n",
       "6. 3\n",
       "7. 3\n",
       "8. 2\n",
       "9. 2\n",
       "\n",
       "\n"
      ],
      "text/plain": [
       "[1] 8 7 6 5 5 3 3 2 2"
      ]
     },
     "metadata": {},
     "output_type": "display_data"
    }
   ],
   "source": [
    "x = c(5,7,8,2,3,6,2,3,5)\n",
    "sort(x, decreasing = TRUE)"
   ]
  },
  {
   "cell_type": "markdown",
   "metadata": {},
   "source": [
    "**Indirect Method with Order**  \n",
    "**order( )** create a new vector with ordered position.  Use this to rearrange the sequence of data"
   ]
  },
  {
   "cell_type": "code",
   "execution_count": 7,
   "metadata": {},
   "outputs": [
    {
     "data": {
      "text/html": [
       "<ol class=list-inline>\n",
       "\t<li>8</li>\n",
       "\t<li>7</li>\n",
       "\t<li>6</li>\n",
       "\t<li>5</li>\n",
       "\t<li>5</li>\n",
       "\t<li>3</li>\n",
       "\t<li>3</li>\n",
       "\t<li>2</li>\n",
       "\t<li>2</li>\n",
       "</ol>\n"
      ],
      "text/latex": [
       "\\begin{enumerate*}\n",
       "\\item 8\n",
       "\\item 7\n",
       "\\item 6\n",
       "\\item 5\n",
       "\\item 5\n",
       "\\item 3\n",
       "\\item 3\n",
       "\\item 2\n",
       "\\item 2\n",
       "\\end{enumerate*}\n"
      ],
      "text/markdown": [
       "1. 8\n",
       "2. 7\n",
       "3. 6\n",
       "4. 5\n",
       "5. 5\n",
       "6. 3\n",
       "7. 3\n",
       "8. 2\n",
       "9. 2\n",
       "\n",
       "\n"
      ],
      "text/plain": [
       "[1] 8 7 6 5 5 3 3 2 2"
      ]
     },
     "metadata": {},
     "output_type": "display_data"
    }
   ],
   "source": [
    "p = order(x, decreasing = TRUE)\n",
    "x[p]"
   ]
  },
  {
   "cell_type": "markdown",
   "metadata": {},
   "source": [
    "#### Arranging Dataframe \n",
    "- **order( )** can be applied over multiple columns  \n",
    "- Use **with to minimize** typing of dataframe name"
   ]
  },
  {
   "cell_type": "code",
   "execution_count": 8,
   "metadata": {},
   "outputs": [
    {
     "data": {
      "text/html": [
       "<table>\n",
       "<thead><tr><th></th><th scope=col>com</th><th scope=col>dept</th><th scope=col>team</th><th scope=col>x1</th><th scope=col>x2</th><th scope=col>x3</th></tr></thead>\n",
       "<tbody>\n",
       "\t<tr><th scope=row>1</th><td>C1      </td><td>D1      </td><td>T1      </td><td>49.23301</td><td>20.24018</td><td>4.162418</td></tr>\n",
       "\t<tr><th scope=row>19</th><td>C1      </td><td>D1      </td><td>T1      </td><td>55.00757</td><td>19.67470</td><td>5.487815</td></tr>\n",
       "\t<tr><th scope=row>23</th><td>C1      </td><td>D1      </td><td>T7      </td><td>54.39102</td><td>20.82768</td><td>4.034097</td></tr>\n",
       "\t<tr><th scope=row>25</th><td>C1      </td><td>D1      </td><td>T4      </td><td>60.60559</td><td>21.04266</td><td>2.921762</td></tr>\n",
       "\t<tr><th scope=row>35</th><td>C1      </td><td>D1      </td><td>T7      </td><td>49.73947</td><td>18.82962</td><td>3.885551</td></tr>\n",
       "\t<tr><th scope=row>49</th><td>C1      </td><td>D1      </td><td>T7      </td><td>53.75251</td><td>14.53329</td><td>6.173498</td></tr>\n",
       "\t<tr><th scope=row>7</th><td>C1      </td><td>D2      </td><td>T2      </td><td>49.15003</td><td>20.75825</td><td>4.900209</td></tr>\n",
       "\t<tr><th scope=row>20</th><td>C1      </td><td>D2      </td><td>T6      </td><td>47.52208</td><td>21.54129</td><td>7.168033</td></tr>\n",
       "</tbody>\n",
       "</table>\n"
      ],
      "text/latex": [
       "\\begin{tabular}{r|llllll}\n",
       "  & com & dept & team & x1 & x2 & x3\\\\\n",
       "\\hline\n",
       "\t1 & C1       & D1       & T1       & 49.23301 & 20.24018 & 4.162418\\\\\n",
       "\t19 & C1       & D1       & T1       & 55.00757 & 19.67470 & 5.487815\\\\\n",
       "\t23 & C1       & D1       & T7       & 54.39102 & 20.82768 & 4.034097\\\\\n",
       "\t25 & C1       & D1       & T4       & 60.60559 & 21.04266 & 2.921762\\\\\n",
       "\t35 & C1       & D1       & T7       & 49.73947 & 18.82962 & 3.885551\\\\\n",
       "\t49 & C1       & D1       & T7       & 53.75251 & 14.53329 & 6.173498\\\\\n",
       "\t7 & C1       & D2       & T2       & 49.15003 & 20.75825 & 4.900209\\\\\n",
       "\t20 & C1       & D2       & T6       & 47.52208 & 21.54129 & 7.168033\\\\\n",
       "\\end{tabular}\n"
      ],
      "text/markdown": [
       "\n",
       "| <!--/--> | com | dept | team | x1 | x2 | x3 | \n",
       "|---|---|---|---|---|---|---|---|\n",
       "| 1 | C1       | D1       | T1       | 49.23301 | 20.24018 | 4.162418 | \n",
       "| 19 | C1       | D1       | T1       | 55.00757 | 19.67470 | 5.487815 | \n",
       "| 23 | C1       | D1       | T7       | 54.39102 | 20.82768 | 4.034097 | \n",
       "| 25 | C1       | D1       | T4       | 60.60559 | 21.04266 | 2.921762 | \n",
       "| 35 | C1       | D1       | T7       | 49.73947 | 18.82962 | 3.885551 | \n",
       "| 49 | C1       | D1       | T7       | 53.75251 | 14.53329 | 6.173498 | \n",
       "| 7 | C1       | D2       | T2       | 49.15003 | 20.75825 | 4.900209 | \n",
       "| 20 | C1       | D2       | T6       | 47.52208 | 21.54129 | 7.168033 | \n",
       "\n",
       "\n"
      ],
      "text/plain": [
       "   com dept team x1       x2       x3      \n",
       "1  C1  D1   T1   49.23301 20.24018 4.162418\n",
       "19 C1  D1   T1   55.00757 19.67470 5.487815\n",
       "23 C1  D1   T7   54.39102 20.82768 4.034097\n",
       "25 C1  D1   T4   60.60559 21.04266 2.921762\n",
       "35 C1  D1   T7   49.73947 18.82962 3.885551\n",
       "49 C1  D1   T7   53.75251 14.53329 6.173498\n",
       "7  C1  D2   T2   49.15003 20.75825 4.900209\n",
       "20 C1  D2   T6   47.52208 21.54129 7.168033"
      ]
     },
     "metadata": {},
     "output_type": "display_data"
    }
   ],
   "source": [
    "my.df[ with(my.df, order(com, dept)),] %>% head(8)\n"
   ]
  },
  {
   "cell_type": "markdown",
   "metadata": {},
   "source": [
    "## Dplyr"
   ]
  },
  {
   "cell_type": "markdown",
   "metadata": {},
   "source": [
    "### Filter"
   ]
  },
  {
   "cell_type": "code",
   "execution_count": 9,
   "metadata": {},
   "outputs": [
    {
     "data": {
      "text/html": [
       "<table>\n",
       "<thead><tr><th scope=col>com</th><th scope=col>dept</th><th scope=col>team</th><th scope=col>x1</th><th scope=col>x2</th><th scope=col>x3</th></tr></thead>\n",
       "<tbody>\n",
       "\t<tr><td>C2      </td><td>D1      </td><td>T7      </td><td>47.98634</td><td>14.15526</td><td>4.491263</td></tr>\n",
       "\t<tr><td>C2      </td><td>D1      </td><td>T2      </td><td>44.02736</td><td>18.13139</td><td>4.801584</td></tr>\n",
       "\t<tr><td>C2      </td><td>D1      </td><td>T7      </td><td>51.27598</td><td>24.18544</td><td>2.144241</td></tr>\n",
       "\t<tr><td>C2      </td><td>D2      </td><td>T2      </td><td>58.52982</td><td>21.91002</td><td>4.210353</td></tr>\n",
       "\t<tr><td>C2      </td><td>D1      </td><td>T6      </td><td>51.77775</td><td>21.19782</td><td>5.500695</td></tr>\n",
       "\t<tr><td>C2      </td><td>D2      </td><td>T5      </td><td>45.51868</td><td>19.29614</td><td>6.842464</td></tr>\n",
       "\t<tr><td>C2      </td><td>D1      </td><td>T1      </td><td>50.84093</td><td>16.83985</td><td>6.112363</td></tr>\n",
       "\t<tr><td>C2      </td><td>D1      </td><td>T5      </td><td>44.45116</td><td>18.75674</td><td>6.493493</td></tr>\n",
       "\t<tr><td>C2      </td><td>D1      </td><td>T3      </td><td>50.84513</td><td>19.79392</td><td>4.393849</td></tr>\n",
       "\t<tr><td>C2      </td><td>D1      </td><td>T3      </td><td>49.86862</td><td>24.41302</td><td>5.629536</td></tr>\n",
       "\t<tr><td>C2      </td><td>D1      </td><td>T4      </td><td>60.29081</td><td>19.00203</td><td>7.273484</td></tr>\n",
       "</tbody>\n",
       "</table>\n"
      ],
      "text/latex": [
       "\\begin{tabular}{r|llllll}\n",
       " com & dept & team & x1 & x2 & x3\\\\\n",
       "\\hline\n",
       "\t C2       & D1       & T7       & 47.98634 & 14.15526 & 4.491263\\\\\n",
       "\t C2       & D1       & T2       & 44.02736 & 18.13139 & 4.801584\\\\\n",
       "\t C2       & D1       & T7       & 51.27598 & 24.18544 & 2.144241\\\\\n",
       "\t C2       & D2       & T2       & 58.52982 & 21.91002 & 4.210353\\\\\n",
       "\t C2       & D1       & T6       & 51.77775 & 21.19782 & 5.500695\\\\\n",
       "\t C2       & D2       & T5       & 45.51868 & 19.29614 & 6.842464\\\\\n",
       "\t C2       & D1       & T1       & 50.84093 & 16.83985 & 6.112363\\\\\n",
       "\t C2       & D1       & T5       & 44.45116 & 18.75674 & 6.493493\\\\\n",
       "\t C2       & D1       & T3       & 50.84513 & 19.79392 & 4.393849\\\\\n",
       "\t C2       & D1       & T3       & 49.86862 & 24.41302 & 5.629536\\\\\n",
       "\t C2       & D1       & T4       & 60.29081 & 19.00203 & 7.273484\\\\\n",
       "\\end{tabular}\n"
      ],
      "text/markdown": [
       "\n",
       "com | dept | team | x1 | x2 | x3 | \n",
       "|---|---|---|---|---|---|---|---|---|---|---|\n",
       "| C2       | D1       | T7       | 47.98634 | 14.15526 | 4.491263 | \n",
       "| C2       | D1       | T2       | 44.02736 | 18.13139 | 4.801584 | \n",
       "| C2       | D1       | T7       | 51.27598 | 24.18544 | 2.144241 | \n",
       "| C2       | D2       | T2       | 58.52982 | 21.91002 | 4.210353 | \n",
       "| C2       | D1       | T6       | 51.77775 | 21.19782 | 5.500695 | \n",
       "| C2       | D2       | T5       | 45.51868 | 19.29614 | 6.842464 | \n",
       "| C2       | D1       | T1       | 50.84093 | 16.83985 | 6.112363 | \n",
       "| C2       | D1       | T5       | 44.45116 | 18.75674 | 6.493493 | \n",
       "| C2       | D1       | T3       | 50.84513 | 19.79392 | 4.393849 | \n",
       "| C2       | D1       | T3       | 49.86862 | 24.41302 | 5.629536 | \n",
       "| C2       | D1       | T4       | 60.29081 | 19.00203 | 7.273484 | \n",
       "\n",
       "\n"
      ],
      "text/plain": [
       "   com dept team x1       x2       x3      \n",
       "1  C2  D1   T7   47.98634 14.15526 4.491263\n",
       "2  C2  D1   T2   44.02736 18.13139 4.801584\n",
       "3  C2  D1   T7   51.27598 24.18544 2.144241\n",
       "4  C2  D2   T2   58.52982 21.91002 4.210353\n",
       "5  C2  D1   T6   51.77775 21.19782 5.500695\n",
       "6  C2  D2   T5   45.51868 19.29614 6.842464\n",
       "7  C2  D1   T1   50.84093 16.83985 6.112363\n",
       "8  C2  D1   T5   44.45116 18.75674 6.493493\n",
       "9  C2  D1   T3   50.84513 19.79392 4.393849\n",
       "10 C2  D1   T3   49.86862 24.41302 5.629536\n",
       "11 C2  D1   T4   60.29081 19.00203 7.273484"
      ]
     },
     "metadata": {},
     "output_type": "display_data"
    }
   ],
   "source": [
    "my.df %>% filter (com == 'C2' & dept %in% c('D1','D2'))"
   ]
  },
  {
   "cell_type": "markdown",
   "metadata": {},
   "source": [
    "### Select"
   ]
  },
  {
   "cell_type": "markdown",
   "metadata": {},
   "source": [
    "#### Columns by Name Range"
   ]
  },
  {
   "cell_type": "code",
   "execution_count": 10,
   "metadata": {},
   "outputs": [
    {
     "data": {
      "text/html": [
       "<table>\n",
       "<thead><tr><th scope=col>com</th><th scope=col>team</th><th scope=col>x1</th><th scope=col>x2</th></tr></thead>\n",
       "<tbody>\n",
       "\t<tr><td>C1      </td><td>T1      </td><td>49.23301</td><td>20.24018</td></tr>\n",
       "\t<tr><td>C3      </td><td>T4      </td><td>43.04650</td><td>18.10577</td></tr>\n",
       "\t<tr><td>C3      </td><td>T2      </td><td>46.38209</td><td>15.46014</td></tr>\n",
       "\t<tr><td>C3      </td><td>T2      </td><td>51.29131</td><td>18.09170</td></tr>\n",
       "\t<tr><td>C4      </td><td>T1      </td><td>48.41470</td><td>20.67890</td></tr>\n",
       "\t<tr><td>C3      </td><td>T3      </td><td>49.11105</td><td>23.04107</td></tr>\n",
       "</tbody>\n",
       "</table>\n"
      ],
      "text/latex": [
       "\\begin{tabular}{r|llll}\n",
       " com & team & x1 & x2\\\\\n",
       "\\hline\n",
       "\t C1       & T1       & 49.23301 & 20.24018\\\\\n",
       "\t C3       & T4       & 43.04650 & 18.10577\\\\\n",
       "\t C3       & T2       & 46.38209 & 15.46014\\\\\n",
       "\t C3       & T2       & 51.29131 & 18.09170\\\\\n",
       "\t C4       & T1       & 48.41470 & 20.67890\\\\\n",
       "\t C3       & T3       & 49.11105 & 23.04107\\\\\n",
       "\\end{tabular}\n"
      ],
      "text/markdown": [
       "\n",
       "com | team | x1 | x2 | \n",
       "|---|---|---|---|---|---|\n",
       "| C1       | T1       | 49.23301 | 20.24018 | \n",
       "| C3       | T4       | 43.04650 | 18.10577 | \n",
       "| C3       | T2       | 46.38209 | 15.46014 | \n",
       "| C3       | T2       | 51.29131 | 18.09170 | \n",
       "| C4       | T1       | 48.41470 | 20.67890 | \n",
       "| C3       | T3       | 49.11105 | 23.04107 | \n",
       "\n",
       "\n"
      ],
      "text/plain": [
       "  com team x1       x2      \n",
       "1 C1  T1   49.23301 20.24018\n",
       "2 C3  T4   43.04650 18.10577\n",
       "3 C3  T2   46.38209 15.46014\n",
       "4 C3  T2   51.29131 18.09170\n",
       "5 C4  T1   48.41470 20.67890\n",
       "6 C3  T3   49.11105 23.04107"
      ]
     },
     "metadata": {},
     "output_type": "display_data"
    }
   ],
   "source": [
    "my.df %>% select( com, team:x2) %>% head"
   ]
  },
  {
   "cell_type": "markdown",
   "metadata": {},
   "source": [
    "#### Columns by Number Range"
   ]
  },
  {
   "cell_type": "code",
   "execution_count": 11,
   "metadata": {},
   "outputs": [
    {
     "data": {
      "text/html": [
       "<table>\n",
       "<thead><tr><th scope=col>com</th><th scope=col>team</th><th scope=col>x1</th><th scope=col>x2</th></tr></thead>\n",
       "<tbody>\n",
       "\t<tr><td>C1      </td><td>T1      </td><td>49.23301</td><td>20.24018</td></tr>\n",
       "\t<tr><td>C3      </td><td>T4      </td><td>43.04650</td><td>18.10577</td></tr>\n",
       "\t<tr><td>C3      </td><td>T2      </td><td>46.38209</td><td>15.46014</td></tr>\n",
       "\t<tr><td>C3      </td><td>T2      </td><td>51.29131</td><td>18.09170</td></tr>\n",
       "\t<tr><td>C4      </td><td>T1      </td><td>48.41470</td><td>20.67890</td></tr>\n",
       "\t<tr><td>C3      </td><td>T3      </td><td>49.11105</td><td>23.04107</td></tr>\n",
       "</tbody>\n",
       "</table>\n"
      ],
      "text/latex": [
       "\\begin{tabular}{r|llll}\n",
       " com & team & x1 & x2\\\\\n",
       "\\hline\n",
       "\t C1       & T1       & 49.23301 & 20.24018\\\\\n",
       "\t C3       & T4       & 43.04650 & 18.10577\\\\\n",
       "\t C3       & T2       & 46.38209 & 15.46014\\\\\n",
       "\t C3       & T2       & 51.29131 & 18.09170\\\\\n",
       "\t C4       & T1       & 48.41470 & 20.67890\\\\\n",
       "\t C3       & T3       & 49.11105 & 23.04107\\\\\n",
       "\\end{tabular}\n"
      ],
      "text/markdown": [
       "\n",
       "com | team | x1 | x2 | \n",
       "|---|---|---|---|---|---|\n",
       "| C1       | T1       | 49.23301 | 20.24018 | \n",
       "| C3       | T4       | 43.04650 | 18.10577 | \n",
       "| C3       | T2       | 46.38209 | 15.46014 | \n",
       "| C3       | T2       | 51.29131 | 18.09170 | \n",
       "| C4       | T1       | 48.41470 | 20.67890 | \n",
       "| C3       | T3       | 49.11105 | 23.04107 | \n",
       "\n",
       "\n"
      ],
      "text/plain": [
       "  com team x1       x2      \n",
       "1 C1  T1   49.23301 20.24018\n",
       "2 C3  T4   43.04650 18.10577\n",
       "3 C3  T2   46.38209 15.46014\n",
       "4 C3  T2   51.29131 18.09170\n",
       "5 C4  T1   48.41470 20.67890\n",
       "6 C3  T3   49.11105 23.04107"
      ]
     },
     "metadata": {},
     "output_type": "display_data"
    }
   ],
   "source": [
    "my.df %>% select( 1,3:5) %>% head"
   ]
  },
  {
   "cell_type": "markdown",
   "metadata": {},
   "source": [
    "#### Columns by Name Matching\n",
    "Use **contain**"
   ]
  },
  {
   "cell_type": "code",
   "execution_count": 12,
   "metadata": {
    "scrolled": true
   },
   "outputs": [
    {
     "data": {
      "text/html": [
       "<table>\n",
       "<thead><tr><th scope=col>x1</th><th scope=col>x2</th><th scope=col>x3</th></tr></thead>\n",
       "<tbody>\n",
       "\t<tr><td>49.23301</td><td>20.24018</td><td>4.162418</td></tr>\n",
       "\t<tr><td>43.04650</td><td>18.10577</td><td>3.876237</td></tr>\n",
       "\t<tr><td>46.38209</td><td>15.46014</td><td>8.043766</td></tr>\n",
       "\t<tr><td>51.29131</td><td>18.09170</td><td>5.235021</td></tr>\n",
       "\t<tr><td>48.41470</td><td>20.67890</td><td>4.966741</td></tr>\n",
       "\t<tr><td>49.11105</td><td>23.04107</td><td>2.267780</td></tr>\n",
       "</tbody>\n",
       "</table>\n"
      ],
      "text/latex": [
       "\\begin{tabular}{r|lll}\n",
       " x1 & x2 & x3\\\\\n",
       "\\hline\n",
       "\t 49.23301 & 20.24018 & 4.162418\\\\\n",
       "\t 43.04650 & 18.10577 & 3.876237\\\\\n",
       "\t 46.38209 & 15.46014 & 8.043766\\\\\n",
       "\t 51.29131 & 18.09170 & 5.235021\\\\\n",
       "\t 48.41470 & 20.67890 & 4.966741\\\\\n",
       "\t 49.11105 & 23.04107 & 2.267780\\\\\n",
       "\\end{tabular}\n"
      ],
      "text/markdown": [
       "\n",
       "x1 | x2 | x3 | \n",
       "|---|---|---|---|---|---|\n",
       "| 49.23301 | 20.24018 | 4.162418 | \n",
       "| 43.04650 | 18.10577 | 3.876237 | \n",
       "| 46.38209 | 15.46014 | 8.043766 | \n",
       "| 51.29131 | 18.09170 | 5.235021 | \n",
       "| 48.41470 | 20.67890 | 4.966741 | \n",
       "| 49.11105 | 23.04107 | 2.267780 | \n",
       "\n",
       "\n"
      ],
      "text/plain": [
       "  x1       x2       x3      \n",
       "1 49.23301 20.24018 4.162418\n",
       "2 43.04650 18.10577 3.876237\n",
       "3 46.38209 15.46014 8.043766\n",
       "4 51.29131 18.09170 5.235021\n",
       "5 48.41470 20.67890 4.966741\n",
       "6 49.11105 23.04107 2.267780"
      ]
     },
     "metadata": {},
     "output_type": "display_data"
    }
   ],
   "source": [
    "my.df %>% select(contains(\"x\")) %>% head"
   ]
  },
  {
   "cell_type": "markdown",
   "metadata": {},
   "source": [
    "Use **start_with**"
   ]
  },
  {
   "cell_type": "code",
   "execution_count": 13,
   "metadata": {
    "scrolled": true
   },
   "outputs": [
    {
     "data": {
      "text/html": [
       "<table>\n",
       "<thead><tr><th scope=col>x1</th><th scope=col>x2</th><th scope=col>x3</th></tr></thead>\n",
       "<tbody>\n",
       "\t<tr><td>49.23301</td><td>20.24018</td><td>4.162418</td></tr>\n",
       "\t<tr><td>43.04650</td><td>18.10577</td><td>3.876237</td></tr>\n",
       "\t<tr><td>46.38209</td><td>15.46014</td><td>8.043766</td></tr>\n",
       "\t<tr><td>51.29131</td><td>18.09170</td><td>5.235021</td></tr>\n",
       "\t<tr><td>48.41470</td><td>20.67890</td><td>4.966741</td></tr>\n",
       "\t<tr><td>49.11105</td><td>23.04107</td><td>2.267780</td></tr>\n",
       "</tbody>\n",
       "</table>\n"
      ],
      "text/latex": [
       "\\begin{tabular}{r|lll}\n",
       " x1 & x2 & x3\\\\\n",
       "\\hline\n",
       "\t 49.23301 & 20.24018 & 4.162418\\\\\n",
       "\t 43.04650 & 18.10577 & 3.876237\\\\\n",
       "\t 46.38209 & 15.46014 & 8.043766\\\\\n",
       "\t 51.29131 & 18.09170 & 5.235021\\\\\n",
       "\t 48.41470 & 20.67890 & 4.966741\\\\\n",
       "\t 49.11105 & 23.04107 & 2.267780\\\\\n",
       "\\end{tabular}\n"
      ],
      "text/markdown": [
       "\n",
       "x1 | x2 | x3 | \n",
       "|---|---|---|---|---|---|\n",
       "| 49.23301 | 20.24018 | 4.162418 | \n",
       "| 43.04650 | 18.10577 | 3.876237 | \n",
       "| 46.38209 | 15.46014 | 8.043766 | \n",
       "| 51.29131 | 18.09170 | 5.235021 | \n",
       "| 48.41470 | 20.67890 | 4.966741 | \n",
       "| 49.11105 | 23.04107 | 2.267780 | \n",
       "\n",
       "\n"
      ],
      "text/plain": [
       "  x1       x2       x3      \n",
       "1 49.23301 20.24018 4.162418\n",
       "2 43.04650 18.10577 3.876237\n",
       "3 46.38209 15.46014 8.043766\n",
       "4 51.29131 18.09170 5.235021\n",
       "5 48.41470 20.67890 4.966741\n",
       "6 49.11105 23.04107 2.267780"
      ]
     },
     "metadata": {},
     "output_type": "display_data"
    }
   ],
   "source": [
    "my.df %>% select(starts_with('x')) %>% head"
   ]
  },
  {
   "cell_type": "markdown",
   "metadata": {},
   "source": [
    "Use **end_with**"
   ]
  },
  {
   "cell_type": "code",
   "execution_count": 14,
   "metadata": {
    "scrolled": true
   },
   "outputs": [
    {
     "data": {
      "text/html": [
       "<table>\n",
       "<thead><tr><th scope=col>x1</th></tr></thead>\n",
       "<tbody>\n",
       "\t<tr><td>49.23301</td></tr>\n",
       "\t<tr><td>43.04650</td></tr>\n",
       "\t<tr><td>46.38209</td></tr>\n",
       "\t<tr><td>51.29131</td></tr>\n",
       "\t<tr><td>48.41470</td></tr>\n",
       "\t<tr><td>49.11105</td></tr>\n",
       "</tbody>\n",
       "</table>\n"
      ],
      "text/latex": [
       "\\begin{tabular}{r|l}\n",
       " x1\\\\\n",
       "\\hline\n",
       "\t 49.23301\\\\\n",
       "\t 43.04650\\\\\n",
       "\t 46.38209\\\\\n",
       "\t 51.29131\\\\\n",
       "\t 48.41470\\\\\n",
       "\t 49.11105\\\\\n",
       "\\end{tabular}\n"
      ],
      "text/markdown": [
       "\n",
       "x1 | \n",
       "|---|---|---|---|---|---|\n",
       "| 49.23301 | \n",
       "| 43.04650 | \n",
       "| 46.38209 | \n",
       "| 51.29131 | \n",
       "| 48.41470 | \n",
       "| 49.11105 | \n",
       "\n",
       "\n"
      ],
      "text/plain": [
       "  x1      \n",
       "1 49.23301\n",
       "2 43.04650\n",
       "3 46.38209\n",
       "4 51.29131\n",
       "5 48.41470\n",
       "6 49.11105"
      ]
     },
     "metadata": {},
     "output_type": "display_data"
    }
   ],
   "source": [
    "my.df %>% select(ends_with('1')) %>% head"
   ]
  },
  {
   "cell_type": "markdown",
   "metadata": {},
   "source": [
    "#### Columns by Data Type"
   ]
  },
  {
   "cell_type": "code",
   "execution_count": 15,
   "metadata": {},
   "outputs": [
    {
     "data": {
      "text/html": [
       "<table>\n",
       "<thead><tr><th scope=col>x1</th><th scope=col>x2</th><th scope=col>x3</th></tr></thead>\n",
       "<tbody>\n",
       "\t<tr><td>49.23301</td><td>20.24018</td><td>4.162418</td></tr>\n",
       "\t<tr><td>43.04650</td><td>18.10577</td><td>3.876237</td></tr>\n",
       "\t<tr><td>46.38209</td><td>15.46014</td><td>8.043766</td></tr>\n",
       "\t<tr><td>51.29131</td><td>18.09170</td><td>5.235021</td></tr>\n",
       "\t<tr><td>48.41470</td><td>20.67890</td><td>4.966741</td></tr>\n",
       "\t<tr><td>49.11105</td><td>23.04107</td><td>2.267780</td></tr>\n",
       "</tbody>\n",
       "</table>\n"
      ],
      "text/latex": [
       "\\begin{tabular}{r|lll}\n",
       " x1 & x2 & x3\\\\\n",
       "\\hline\n",
       "\t 49.23301 & 20.24018 & 4.162418\\\\\n",
       "\t 43.04650 & 18.10577 & 3.876237\\\\\n",
       "\t 46.38209 & 15.46014 & 8.043766\\\\\n",
       "\t 51.29131 & 18.09170 & 5.235021\\\\\n",
       "\t 48.41470 & 20.67890 & 4.966741\\\\\n",
       "\t 49.11105 & 23.04107 & 2.267780\\\\\n",
       "\\end{tabular}\n"
      ],
      "text/markdown": [
       "\n",
       "x1 | x2 | x3 | \n",
       "|---|---|---|---|---|---|\n",
       "| 49.23301 | 20.24018 | 4.162418 | \n",
       "| 43.04650 | 18.10577 | 3.876237 | \n",
       "| 46.38209 | 15.46014 | 8.043766 | \n",
       "| 51.29131 | 18.09170 | 5.235021 | \n",
       "| 48.41470 | 20.67890 | 4.966741 | \n",
       "| 49.11105 | 23.04107 | 2.267780 | \n",
       "\n",
       "\n"
      ],
      "text/plain": [
       "  x1       x2       x3      \n",
       "1 49.23301 20.24018 4.162418\n",
       "2 43.04650 18.10577 3.876237\n",
       "3 46.38209 15.46014 8.043766\n",
       "4 51.29131 18.09170 5.235021\n",
       "5 48.41470 20.67890 4.966741\n",
       "6 49.11105 23.04107 2.267780"
      ]
     },
     "metadata": {},
     "output_type": "display_data"
    }
   ],
   "source": [
    "my.df %>% select_if(is.numeric) %>% head"
   ]
  },
  {
   "cell_type": "markdown",
   "metadata": {},
   "source": [
    "### Arrange\n",
    "**Sort entire data frame**"
   ]
  },
  {
   "cell_type": "code",
   "execution_count": 16,
   "metadata": {},
   "outputs": [
    {
     "data": {
      "text/html": [
       "<table>\n",
       "<thead><tr><th scope=col>com</th><th scope=col>dept</th><th scope=col>team</th><th scope=col>x1</th><th scope=col>x2</th><th scope=col>x3</th></tr></thead>\n",
       "<tbody>\n",
       "\t<tr><td>C1      </td><td>D1      </td><td>T1      </td><td>49.23301</td><td>20.24018</td><td>4.162418</td></tr>\n",
       "\t<tr><td>C1      </td><td>D3      </td><td>T1      </td><td>43.13849</td><td>16.48416</td><td>5.976032</td></tr>\n",
       "\t<tr><td>C1      </td><td>D1      </td><td>T1      </td><td>55.00757</td><td>19.67470</td><td>5.487815</td></tr>\n",
       "\t<tr><td>C1      </td><td>D2      </td><td>T2      </td><td>49.15003</td><td>20.75825</td><td>4.900209</td></tr>\n",
       "\t<tr><td>C1      </td><td>D3      </td><td>T3      </td><td>45.87001</td><td>20.36528</td><td>5.311681</td></tr>\n",
       "\t<tr><td>C1      </td><td>D1      </td><td>T4      </td><td>60.60559</td><td>21.04266</td><td>2.921762</td></tr>\n",
       "</tbody>\n",
       "</table>\n"
      ],
      "text/latex": [
       "\\begin{tabular}{r|llllll}\n",
       " com & dept & team & x1 & x2 & x3\\\\\n",
       "\\hline\n",
       "\t C1       & D1       & T1       & 49.23301 & 20.24018 & 4.162418\\\\\n",
       "\t C1       & D3       & T1       & 43.13849 & 16.48416 & 5.976032\\\\\n",
       "\t C1       & D1       & T1       & 55.00757 & 19.67470 & 5.487815\\\\\n",
       "\t C1       & D2       & T2       & 49.15003 & 20.75825 & 4.900209\\\\\n",
       "\t C1       & D3       & T3       & 45.87001 & 20.36528 & 5.311681\\\\\n",
       "\t C1       & D1       & T4       & 60.60559 & 21.04266 & 2.921762\\\\\n",
       "\\end{tabular}\n"
      ],
      "text/markdown": [
       "\n",
       "com | dept | team | x1 | x2 | x3 | \n",
       "|---|---|---|---|---|---|\n",
       "| C1       | D1       | T1       | 49.23301 | 20.24018 | 4.162418 | \n",
       "| C1       | D3       | T1       | 43.13849 | 16.48416 | 5.976032 | \n",
       "| C1       | D1       | T1       | 55.00757 | 19.67470 | 5.487815 | \n",
       "| C1       | D2       | T2       | 49.15003 | 20.75825 | 4.900209 | \n",
       "| C1       | D3       | T3       | 45.87001 | 20.36528 | 5.311681 | \n",
       "| C1       | D1       | T4       | 60.60559 | 21.04266 | 2.921762 | \n",
       "\n",
       "\n"
      ],
      "text/plain": [
       "  com dept team x1       x2       x3      \n",
       "1 C1  D1   T1   49.23301 20.24018 4.162418\n",
       "2 C1  D3   T1   43.13849 16.48416 5.976032\n",
       "3 C1  D1   T1   55.00757 19.67470 5.487815\n",
       "4 C1  D2   T2   49.15003 20.75825 4.900209\n",
       "5 C1  D3   T3   45.87001 20.36528 5.311681\n",
       "6 C1  D1   T4   60.60559 21.04266 2.921762"
      ]
     },
     "metadata": {},
     "output_type": "display_data"
    }
   ],
   "source": [
    "my.df %>% arrange(com,team) %>% head"
   ]
  },
  {
   "cell_type": "markdown",
   "metadata": {},
   "source": [
    "### Joins\n",
    "Join will automatically pick the common column names from both sides to join by"
   ]
  },
  {
   "cell_type": "markdown",
   "metadata": {},
   "source": [
    "#### Sample Data"
   ]
  },
  {
   "cell_type": "code",
   "execution_count": 17,
   "metadata": {},
   "outputs": [],
   "source": [
    "superheroes <- \"\n",
    "    name, alignment, gender,         publisher\n",
    " Magneto,       bad,   male,            Marvel\n",
    "   Storm,      good, female,            Marvel\n",
    "Mystique,       bad, female,            Marvel\n",
    "  Batman,      good,   male,                DC\n",
    "   Joker,       bad,   male,                DC\n",
    "Catwoman,       bad, female,                DC\n",
    " Hellboy,      good,   male, Dark Horse Comics\n",
    "\"\n",
    "superheroes <- read_csv(superheroes, skip = 1)\n",
    "\n",
    "publishers <- \"\n",
    "  publisher, yr_founded\n",
    "         DC,       1934\n",
    "     Marvel,       1939\n",
    "      Image,       1992\n",
    "\"\n",
    "publishers <- read_csv(publishers, skip = 1)"
   ]
  },
  {
   "cell_type": "code",
   "execution_count": 18,
   "metadata": {
    "scrolled": true
   },
   "outputs": [
    {
     "data": {
      "text/html": [
       "<table>\n",
       "<thead><tr><th scope=col>name</th><th scope=col>alignment</th><th scope=col>gender</th><th scope=col>publisher</th></tr></thead>\n",
       "<tbody>\n",
       "\t<tr><td>Magneto          </td><td>bad              </td><td>male             </td><td>Marvel           </td></tr>\n",
       "\t<tr><td>Storm            </td><td>good             </td><td>female           </td><td>Marvel           </td></tr>\n",
       "\t<tr><td>Mystique         </td><td>bad              </td><td>female           </td><td>Marvel           </td></tr>\n",
       "\t<tr><td>Batman           </td><td>good             </td><td>male             </td><td>DC               </td></tr>\n",
       "\t<tr><td>Joker            </td><td>bad              </td><td>male             </td><td>DC               </td></tr>\n",
       "\t<tr><td>Catwoman         </td><td>bad              </td><td>female           </td><td>DC               </td></tr>\n",
       "\t<tr><td>Hellboy          </td><td>good             </td><td>male             </td><td>Dark Horse Comics</td></tr>\n",
       "</tbody>\n",
       "</table>\n"
      ],
      "text/latex": [
       "\\begin{tabular}{r|llll}\n",
       " name & alignment & gender & publisher\\\\\n",
       "\\hline\n",
       "\t Magneto           & bad               & male              & Marvel           \\\\\n",
       "\t Storm             & good              & female            & Marvel           \\\\\n",
       "\t Mystique          & bad               & female            & Marvel           \\\\\n",
       "\t Batman            & good              & male              & DC               \\\\\n",
       "\t Joker             & bad               & male              & DC               \\\\\n",
       "\t Catwoman          & bad               & female            & DC               \\\\\n",
       "\t Hellboy           & good              & male              & Dark Horse Comics\\\\\n",
       "\\end{tabular}\n"
      ],
      "text/markdown": [
       "\n",
       "name | alignment | gender | publisher | \n",
       "|---|---|---|---|---|---|---|\n",
       "| Magneto           | bad               | male              | Marvel            | \n",
       "| Storm             | good              | female            | Marvel            | \n",
       "| Mystique          | bad               | female            | Marvel            | \n",
       "| Batman            | good              | male              | DC                | \n",
       "| Joker             | bad               | male              | DC                | \n",
       "| Catwoman          | bad               | female            | DC                | \n",
       "| Hellboy           | good              | male              | Dark Horse Comics | \n",
       "\n",
       "\n"
      ],
      "text/plain": [
       "  name     alignment gender publisher        \n",
       "1 Magneto  bad       male   Marvel           \n",
       "2 Storm    good      female Marvel           \n",
       "3 Mystique bad       female Marvel           \n",
       "4 Batman   good      male   DC               \n",
       "5 Joker    bad       male   DC               \n",
       "6 Catwoman bad       female DC               \n",
       "7 Hellboy  good      male   Dark Horse Comics"
      ]
     },
     "metadata": {},
     "output_type": "display_data"
    }
   ],
   "source": [
    "superheroes"
   ]
  },
  {
   "cell_type": "code",
   "execution_count": 19,
   "metadata": {
    "scrolled": true
   },
   "outputs": [
    {
     "data": {
      "text/html": [
       "<table>\n",
       "<thead><tr><th scope=col>publisher</th><th scope=col>yr_founded</th></tr></thead>\n",
       "<tbody>\n",
       "\t<tr><td>DC    </td><td>1934  </td></tr>\n",
       "\t<tr><td>Marvel</td><td>1939  </td></tr>\n",
       "\t<tr><td>Image </td><td>1992  </td></tr>\n",
       "</tbody>\n",
       "</table>\n"
      ],
      "text/latex": [
       "\\begin{tabular}{r|ll}\n",
       " publisher & yr\\_founded\\\\\n",
       "\\hline\n",
       "\t DC     & 1934  \\\\\n",
       "\t Marvel & 1939  \\\\\n",
       "\t Image  & 1992  \\\\\n",
       "\\end{tabular}\n"
      ],
      "text/markdown": [
       "\n",
       "publisher | yr_founded | \n",
       "|---|---|---|\n",
       "| DC     | 1934   | \n",
       "| Marvel | 1939   | \n",
       "| Image  | 1992   | \n",
       "\n",
       "\n"
      ],
      "text/plain": [
       "  publisher yr_founded\n",
       "1 DC        1934      \n",
       "2 Marvel    1939      \n",
       "3 Image     1992      "
      ]
     },
     "metadata": {},
     "output_type": "display_data"
    }
   ],
   "source": [
    "publishers"
   ]
  },
  {
   "cell_type": "markdown",
   "metadata": {},
   "source": [
    "#### left_join\n",
    "- Everthing from the left side, matching from right.  \n",
    "- If no matching from right, result in NA"
   ]
  },
  {
   "cell_type": "code",
   "execution_count": 20,
   "metadata": {},
   "outputs": [
    {
     "name": "stderr",
     "output_type": "stream",
     "text": [
      "Joining, by = \"publisher\"\n"
     ]
    },
    {
     "data": {
      "text/html": [
       "<table>\n",
       "<thead><tr><th scope=col>name</th><th scope=col>alignment</th><th scope=col>gender</th><th scope=col>publisher</th><th scope=col>yr_founded</th></tr></thead>\n",
       "<tbody>\n",
       "\t<tr><td>Magneto          </td><td>bad              </td><td>male             </td><td>Marvel           </td><td>1939             </td></tr>\n",
       "\t<tr><td>Storm            </td><td>good             </td><td>female           </td><td>Marvel           </td><td>1939             </td></tr>\n",
       "\t<tr><td>Mystique         </td><td>bad              </td><td>female           </td><td>Marvel           </td><td>1939             </td></tr>\n",
       "\t<tr><td>Batman           </td><td>good             </td><td>male             </td><td>DC               </td><td>1934             </td></tr>\n",
       "\t<tr><td>Joker            </td><td>bad              </td><td>male             </td><td>DC               </td><td>1934             </td></tr>\n",
       "\t<tr><td>Catwoman         </td><td>bad              </td><td>female           </td><td>DC               </td><td>1934             </td></tr>\n",
       "\t<tr><td>Hellboy          </td><td>good             </td><td>male             </td><td>Dark Horse Comics</td><td>  NA             </td></tr>\n",
       "</tbody>\n",
       "</table>\n"
      ],
      "text/latex": [
       "\\begin{tabular}{r|lllll}\n",
       " name & alignment & gender & publisher & yr\\_founded\\\\\n",
       "\\hline\n",
       "\t Magneto           & bad               & male              & Marvel            & 1939             \\\\\n",
       "\t Storm             & good              & female            & Marvel            & 1939             \\\\\n",
       "\t Mystique          & bad               & female            & Marvel            & 1939             \\\\\n",
       "\t Batman            & good              & male              & DC                & 1934             \\\\\n",
       "\t Joker             & bad               & male              & DC                & 1934             \\\\\n",
       "\t Catwoman          & bad               & female            & DC                & 1934             \\\\\n",
       "\t Hellboy           & good              & male              & Dark Horse Comics &   NA             \\\\\n",
       "\\end{tabular}\n"
      ],
      "text/markdown": [
       "\n",
       "name | alignment | gender | publisher | yr_founded | \n",
       "|---|---|---|---|---|---|---|\n",
       "| Magneto           | bad               | male              | Marvel            | 1939              | \n",
       "| Storm             | good              | female            | Marvel            | 1939              | \n",
       "| Mystique          | bad               | female            | Marvel            | 1939              | \n",
       "| Batman            | good              | male              | DC                | 1934              | \n",
       "| Joker             | bad               | male              | DC                | 1934              | \n",
       "| Catwoman          | bad               | female            | DC                | 1934              | \n",
       "| Hellboy           | good              | male              | Dark Horse Comics |   NA              | \n",
       "\n",
       "\n"
      ],
      "text/plain": [
       "  name     alignment gender publisher         yr_founded\n",
       "1 Magneto  bad       male   Marvel            1939      \n",
       "2 Storm    good      female Marvel            1939      \n",
       "3 Mystique bad       female Marvel            1939      \n",
       "4 Batman   good      male   DC                1934      \n",
       "5 Joker    bad       male   DC                1934      \n",
       "6 Catwoman bad       female DC                1934      \n",
       "7 Hellboy  good      male   Dark Horse Comics   NA      "
      ]
     },
     "metadata": {},
     "output_type": "display_data"
    }
   ],
   "source": [
    "left_join(superheroes,publishers)"
   ]
  },
  {
   "cell_type": "markdown",
   "metadata": {},
   "source": [
    "#### right_join\n",
    "- Everything from **right**, matching from **left**\n",
    "- If no matching from left, NA is produced"
   ]
  },
  {
   "cell_type": "code",
   "execution_count": 21,
   "metadata": {},
   "outputs": [
    {
     "name": "stderr",
     "output_type": "stream",
     "text": [
      "Joining, by = \"publisher\"\n"
     ]
    },
    {
     "data": {
      "text/html": [
       "<table>\n",
       "<thead><tr><th scope=col>name</th><th scope=col>alignment</th><th scope=col>gender</th><th scope=col>publisher</th><th scope=col>yr_founded</th></tr></thead>\n",
       "<tbody>\n",
       "\t<tr><td>Batman  </td><td>good    </td><td>male    </td><td>DC      </td><td>1934    </td></tr>\n",
       "\t<tr><td>Joker   </td><td>bad     </td><td>male    </td><td>DC      </td><td>1934    </td></tr>\n",
       "\t<tr><td>Catwoman</td><td>bad     </td><td>female  </td><td>DC      </td><td>1934    </td></tr>\n",
       "\t<tr><td>Magneto </td><td>bad     </td><td>male    </td><td>Marvel  </td><td>1939    </td></tr>\n",
       "\t<tr><td>Storm   </td><td>good    </td><td>female  </td><td>Marvel  </td><td>1939    </td></tr>\n",
       "\t<tr><td>Mystique</td><td>bad     </td><td>female  </td><td>Marvel  </td><td>1939    </td></tr>\n",
       "\t<tr><td>NA      </td><td>NA      </td><td>NA      </td><td>Image   </td><td>1992    </td></tr>\n",
       "</tbody>\n",
       "</table>\n"
      ],
      "text/latex": [
       "\\begin{tabular}{r|lllll}\n",
       " name & alignment & gender & publisher & yr\\_founded\\\\\n",
       "\\hline\n",
       "\t Batman   & good     & male     & DC       & 1934    \\\\\n",
       "\t Joker    & bad      & male     & DC       & 1934    \\\\\n",
       "\t Catwoman & bad      & female   & DC       & 1934    \\\\\n",
       "\t Magneto  & bad      & male     & Marvel   & 1939    \\\\\n",
       "\t Storm    & good     & female   & Marvel   & 1939    \\\\\n",
       "\t Mystique & bad      & female   & Marvel   & 1939    \\\\\n",
       "\t NA       & NA       & NA       & Image    & 1992    \\\\\n",
       "\\end{tabular}\n"
      ],
      "text/markdown": [
       "\n",
       "name | alignment | gender | publisher | yr_founded | \n",
       "|---|---|---|---|---|---|---|\n",
       "| Batman   | good     | male     | DC       | 1934     | \n",
       "| Joker    | bad      | male     | DC       | 1934     | \n",
       "| Catwoman | bad      | female   | DC       | 1934     | \n",
       "| Magneto  | bad      | male     | Marvel   | 1939     | \n",
       "| Storm    | good     | female   | Marvel   | 1939     | \n",
       "| Mystique | bad      | female   | Marvel   | 1939     | \n",
       "| NA       | NA       | NA       | Image    | 1992     | \n",
       "\n",
       "\n"
      ],
      "text/plain": [
       "  name     alignment gender publisher yr_founded\n",
       "1 Batman   good      male   DC        1934      \n",
       "2 Joker    bad       male   DC        1934      \n",
       "3 Catwoman bad       female DC        1934      \n",
       "4 Magneto  bad       male   Marvel    1939      \n",
       "5 Storm    good      female Marvel    1939      \n",
       "6 Mystique bad       female Marvel    1939      \n",
       "7 NA       NA        NA     Image     1992      "
      ]
     },
     "metadata": {},
     "output_type": "display_data"
    }
   ],
   "source": [
    "right_join(superheroes, publishers)"
   ]
  },
  {
   "cell_type": "markdown",
   "metadata": {},
   "source": [
    "#### inner_join\n",
    "Only return **matching from both** left and right"
   ]
  },
  {
   "cell_type": "code",
   "execution_count": 22,
   "metadata": {},
   "outputs": [
    {
     "name": "stderr",
     "output_type": "stream",
     "text": [
      "Joining, by = \"publisher\"\n"
     ]
    },
    {
     "data": {
      "text/html": [
       "<table>\n",
       "<thead><tr><th scope=col>name</th><th scope=col>alignment</th><th scope=col>gender</th><th scope=col>publisher</th><th scope=col>yr_founded</th></tr></thead>\n",
       "<tbody>\n",
       "\t<tr><td>Magneto </td><td>bad     </td><td>male    </td><td>Marvel  </td><td>1939    </td></tr>\n",
       "\t<tr><td>Storm   </td><td>good    </td><td>female  </td><td>Marvel  </td><td>1939    </td></tr>\n",
       "\t<tr><td>Mystique</td><td>bad     </td><td>female  </td><td>Marvel  </td><td>1939    </td></tr>\n",
       "\t<tr><td>Batman  </td><td>good    </td><td>male    </td><td>DC      </td><td>1934    </td></tr>\n",
       "\t<tr><td>Joker   </td><td>bad     </td><td>male    </td><td>DC      </td><td>1934    </td></tr>\n",
       "\t<tr><td>Catwoman</td><td>bad     </td><td>female  </td><td>DC      </td><td>1934    </td></tr>\n",
       "</tbody>\n",
       "</table>\n"
      ],
      "text/latex": [
       "\\begin{tabular}{r|lllll}\n",
       " name & alignment & gender & publisher & yr\\_founded\\\\\n",
       "\\hline\n",
       "\t Magneto  & bad      & male     & Marvel   & 1939    \\\\\n",
       "\t Storm    & good     & female   & Marvel   & 1939    \\\\\n",
       "\t Mystique & bad      & female   & Marvel   & 1939    \\\\\n",
       "\t Batman   & good     & male     & DC       & 1934    \\\\\n",
       "\t Joker    & bad      & male     & DC       & 1934    \\\\\n",
       "\t Catwoman & bad      & female   & DC       & 1934    \\\\\n",
       "\\end{tabular}\n"
      ],
      "text/markdown": [
       "\n",
       "name | alignment | gender | publisher | yr_founded | \n",
       "|---|---|---|---|---|---|\n",
       "| Magneto  | bad      | male     | Marvel   | 1939     | \n",
       "| Storm    | good     | female   | Marvel   | 1939     | \n",
       "| Mystique | bad      | female   | Marvel   | 1939     | \n",
       "| Batman   | good     | male     | DC       | 1934     | \n",
       "| Joker    | bad      | male     | DC       | 1934     | \n",
       "| Catwoman | bad      | female   | DC       | 1934     | \n",
       "\n",
       "\n"
      ],
      "text/plain": [
       "  name     alignment gender publisher yr_founded\n",
       "1 Magneto  bad       male   Marvel    1939      \n",
       "2 Storm    good      female Marvel    1939      \n",
       "3 Mystique bad       female Marvel    1939      \n",
       "4 Batman   good      male   DC        1934      \n",
       "5 Joker    bad       male   DC        1934      \n",
       "6 Catwoman bad       female DC        1934      "
      ]
     },
     "metadata": {},
     "output_type": "display_data"
    }
   ],
   "source": [
    "inner_join(superheroes, publishers)"
   ]
  },
  {
   "cell_type": "markdown",
   "metadata": {},
   "source": [
    "#### semi_join\n",
    "- Similar to inner_join, but **only left columns are kept**"
   ]
  },
  {
   "cell_type": "code",
   "execution_count": 23,
   "metadata": {},
   "outputs": [
    {
     "name": "stderr",
     "output_type": "stream",
     "text": [
      "Joining, by = \"publisher\"\n"
     ]
    },
    {
     "data": {
      "text/html": [
       "<table>\n",
       "<thead><tr><th scope=col>name</th><th scope=col>alignment</th><th scope=col>gender</th><th scope=col>publisher</th></tr></thead>\n",
       "<tbody>\n",
       "\t<tr><td>Magneto </td><td>bad     </td><td>male    </td><td>Marvel  </td></tr>\n",
       "\t<tr><td>Storm   </td><td>good    </td><td>female  </td><td>Marvel  </td></tr>\n",
       "\t<tr><td>Mystique</td><td>bad     </td><td>female  </td><td>Marvel  </td></tr>\n",
       "\t<tr><td>Batman  </td><td>good    </td><td>male    </td><td>DC      </td></tr>\n",
       "\t<tr><td>Joker   </td><td>bad     </td><td>male    </td><td>DC      </td></tr>\n",
       "\t<tr><td>Catwoman</td><td>bad     </td><td>female  </td><td>DC      </td></tr>\n",
       "</tbody>\n",
       "</table>\n"
      ],
      "text/latex": [
       "\\begin{tabular}{r|llll}\n",
       " name & alignment & gender & publisher\\\\\n",
       "\\hline\n",
       "\t Magneto  & bad      & male     & Marvel  \\\\\n",
       "\t Storm    & good     & female   & Marvel  \\\\\n",
       "\t Mystique & bad      & female   & Marvel  \\\\\n",
       "\t Batman   & good     & male     & DC      \\\\\n",
       "\t Joker    & bad      & male     & DC      \\\\\n",
       "\t Catwoman & bad      & female   & DC      \\\\\n",
       "\\end{tabular}\n"
      ],
      "text/markdown": [
       "\n",
       "name | alignment | gender | publisher | \n",
       "|---|---|---|---|---|---|\n",
       "| Magneto  | bad      | male     | Marvel   | \n",
       "| Storm    | good     | female   | Marvel   | \n",
       "| Mystique | bad      | female   | Marvel   | \n",
       "| Batman   | good     | male     | DC       | \n",
       "| Joker    | bad      | male     | DC       | \n",
       "| Catwoman | bad      | female   | DC       | \n",
       "\n",
       "\n"
      ],
      "text/plain": [
       "  name     alignment gender publisher\n",
       "1 Magneto  bad       male   Marvel   \n",
       "2 Storm    good      female Marvel   \n",
       "3 Mystique bad       female Marvel   \n",
       "4 Batman   good      male   DC       \n",
       "5 Joker    bad       male   DC       \n",
       "6 Catwoman bad       female DC       "
      ]
     },
     "metadata": {},
     "output_type": "display_data"
    }
   ],
   "source": [
    "semi_join( superheroes, publishers)"
   ]
  },
  {
   "cell_type": "markdown",
   "metadata": {},
   "source": [
    "#### anti_join\n",
    "- Return all rows from left where there is **no matching** from right\n",
    "- Keep only **left columns**\n",
    "- This is **filtering join**"
   ]
  },
  {
   "cell_type": "code",
   "execution_count": 24,
   "metadata": {},
   "outputs": [
    {
     "name": "stderr",
     "output_type": "stream",
     "text": [
      "Joining, by = \"publisher\"\n"
     ]
    },
    {
     "data": {
      "text/html": [
       "<table>\n",
       "<thead><tr><th scope=col>name</th><th scope=col>alignment</th><th scope=col>gender</th><th scope=col>publisher</th></tr></thead>\n",
       "<tbody>\n",
       "\t<tr><td>Hellboy          </td><td>good             </td><td>male             </td><td>Dark Horse Comics</td></tr>\n",
       "</tbody>\n",
       "</table>\n"
      ],
      "text/latex": [
       "\\begin{tabular}{r|llll}\n",
       " name & alignment & gender & publisher\\\\\n",
       "\\hline\n",
       "\t Hellboy           & good              & male              & Dark Horse Comics\\\\\n",
       "\\end{tabular}\n"
      ],
      "text/markdown": [
       "\n",
       "name | alignment | gender | publisher | \n",
       "|---|\n",
       "| Hellboy           | good              | male              | Dark Horse Comics | \n",
       "\n",
       "\n"
      ],
      "text/plain": [
       "  name    alignment gender publisher        \n",
       "1 Hellboy good      male   Dark Horse Comics"
      ]
     },
     "metadata": {},
     "output_type": "display_data"
    }
   ],
   "source": [
    "anti_join( superheroes, publishers)"
   ]
  },
  {
   "cell_type": "markdown",
   "metadata": {},
   "source": [
    "#### full_join\n",
    "Join everything from left and right, produce NA if there is non matching at left or right"
   ]
  },
  {
   "cell_type": "code",
   "execution_count": 25,
   "metadata": {},
   "outputs": [
    {
     "name": "stderr",
     "output_type": "stream",
     "text": [
      "Joining, by = \"publisher\"\n"
     ]
    },
    {
     "data": {
      "text/html": [
       "<table>\n",
       "<thead><tr><th scope=col>name</th><th scope=col>alignment</th><th scope=col>gender</th><th scope=col>publisher</th><th scope=col>yr_founded</th></tr></thead>\n",
       "<tbody>\n",
       "\t<tr><td>Magneto          </td><td>bad              </td><td>male             </td><td>Marvel           </td><td>1939             </td></tr>\n",
       "\t<tr><td>Storm            </td><td>good             </td><td>female           </td><td>Marvel           </td><td>1939             </td></tr>\n",
       "\t<tr><td>Mystique         </td><td>bad              </td><td>female           </td><td>Marvel           </td><td>1939             </td></tr>\n",
       "\t<tr><td>Batman           </td><td>good             </td><td>male             </td><td>DC               </td><td>1934             </td></tr>\n",
       "\t<tr><td>Joker            </td><td>bad              </td><td>male             </td><td>DC               </td><td>1934             </td></tr>\n",
       "\t<tr><td>Catwoman         </td><td>bad              </td><td>female           </td><td>DC               </td><td>1934             </td></tr>\n",
       "\t<tr><td>Hellboy          </td><td>good             </td><td>male             </td><td>Dark Horse Comics</td><td>  NA             </td></tr>\n",
       "\t<tr><td>NA               </td><td>NA               </td><td>NA               </td><td>Image            </td><td>1992             </td></tr>\n",
       "</tbody>\n",
       "</table>\n"
      ],
      "text/latex": [
       "\\begin{tabular}{r|lllll}\n",
       " name & alignment & gender & publisher & yr\\_founded\\\\\n",
       "\\hline\n",
       "\t Magneto           & bad               & male              & Marvel            & 1939             \\\\\n",
       "\t Storm             & good              & female            & Marvel            & 1939             \\\\\n",
       "\t Mystique          & bad               & female            & Marvel            & 1939             \\\\\n",
       "\t Batman            & good              & male              & DC                & 1934             \\\\\n",
       "\t Joker             & bad               & male              & DC                & 1934             \\\\\n",
       "\t Catwoman          & bad               & female            & DC                & 1934             \\\\\n",
       "\t Hellboy           & good              & male              & Dark Horse Comics &   NA             \\\\\n",
       "\t NA                & NA                & NA                & Image             & 1992             \\\\\n",
       "\\end{tabular}\n"
      ],
      "text/markdown": [
       "\n",
       "name | alignment | gender | publisher | yr_founded | \n",
       "|---|---|---|---|---|---|---|---|\n",
       "| Magneto           | bad               | male              | Marvel            | 1939              | \n",
       "| Storm             | good              | female            | Marvel            | 1939              | \n",
       "| Mystique          | bad               | female            | Marvel            | 1939              | \n",
       "| Batman            | good              | male              | DC                | 1934              | \n",
       "| Joker             | bad               | male              | DC                | 1934              | \n",
       "| Catwoman          | bad               | female            | DC                | 1934              | \n",
       "| Hellboy           | good              | male              | Dark Horse Comics |   NA              | \n",
       "| NA                | NA                | NA                | Image             | 1992              | \n",
       "\n",
       "\n"
      ],
      "text/plain": [
       "  name     alignment gender publisher         yr_founded\n",
       "1 Magneto  bad       male   Marvel            1939      \n",
       "2 Storm    good      female Marvel            1939      \n",
       "3 Mystique bad       female Marvel            1939      \n",
       "4 Batman   good      male   DC                1934      \n",
       "5 Joker    bad       male   DC                1934      \n",
       "6 Catwoman bad       female DC                1934      \n",
       "7 Hellboy  good      male   Dark Horse Comics   NA      \n",
       "8 NA       NA        NA     Image             1992      "
      ]
     },
     "metadata": {},
     "output_type": "display_data"
    }
   ],
   "source": [
    "full_join(superheroes, publishers)"
   ]
  },
  {
   "cell_type": "markdown",
   "metadata": {},
   "source": [
    "### Count\n",
    "Count product **frequency table** for underlying groups.  \n",
    "Observe that the result has **no group**"
   ]
  },
  {
   "cell_type": "code",
   "execution_count": 26,
   "metadata": {},
   "outputs": [
    {
     "name": "stdout",
     "output_type": "stream",
     "text": [
      "# A tibble: 12 x 3\n",
      "   com   dept      n\n",
      "   <chr> <chr> <int>\n",
      " 1 C1    D1        6\n",
      " 2 C1    D2        3\n",
      " 3 C1    D3        3\n",
      " 4 C2    D1        9\n",
      " 5 C2    D2        2\n",
      " 6 C2    D3        2\n",
      " 7 C3    D1        6\n",
      " 8 C3    D2        5\n",
      " 9 C3    D3        4\n",
      "10 C4    D1        5\n",
      "11 C4    D2        1\n",
      "12 C4    D3        4\n"
     ]
    }
   ],
   "source": [
    "csummary = count(my.df, com, dept)\n",
    "print( csummary )"
   ]
  },
  {
   "cell_type": "markdown",
   "metadata": {},
   "source": [
    "Notice that cound is essentially a **shortcut for group_by and summarize**.  \n",
    "- See below reproduce the result as count. \n",
    "- However, unlike **count**, this method reduce by 1 instead of completely ungroup the entire tibble"
   ]
  },
  {
   "cell_type": "code",
   "execution_count": 27,
   "metadata": {},
   "outputs": [
    {
     "name": "stdout",
     "output_type": "stream",
     "text": [
      "# A tibble: 12 x 3\n",
      "# Groups:   com [?]\n",
      "   com   dept      n\n",
      "   <chr> <chr> <int>\n",
      " 1 C1    D1        6\n",
      " 2 C1    D2        3\n",
      " 3 C1    D3        3\n",
      " 4 C2    D1        9\n",
      " 5 C2    D2        2\n",
      " 6 C2    D3        2\n",
      " 7 C3    D1        6\n",
      " 8 C3    D2        5\n",
      " 9 C3    D3        4\n",
      "10 C4    D1        5\n",
      "11 C4    D2        1\n",
      "12 C4    D3        4\n"
     ]
    }
   ],
   "source": [
    "csummary = group_by(my.df, com, dept) %>% summarise(n=n())\n",
    "print( csummary )"
   ]
  },
  {
   "cell_type": "markdown",
   "metadata": {},
   "source": [
    "### Summarize\n",
    "#### summarize\n",
    "**Summarize over entire tibble**"
   ]
  },
  {
   "cell_type": "code",
   "execution_count": 28,
   "metadata": {},
   "outputs": [
    {
     "data": {
      "text/html": [
       "<table>\n",
       "<thead><tr><th scope=col>x1_mean</th><th scope=col>x2_sum</th></tr></thead>\n",
       "<tbody>\n",
       "\t<tr><td>50.3094</td><td>1006.33</td></tr>\n",
       "</tbody>\n",
       "</table>\n"
      ],
      "text/latex": [
       "\\begin{tabular}{r|ll}\n",
       " x1\\_mean & x2\\_sum\\\\\n",
       "\\hline\n",
       "\t 50.3094 & 1006.33\\\\\n",
       "\\end{tabular}\n"
      ],
      "text/markdown": [
       "\n",
       "x1_mean | x2_sum | \n",
       "|---|\n",
       "| 50.3094 | 1006.33 | \n",
       "\n",
       "\n"
      ],
      "text/plain": [
       "  x1_mean x2_sum \n",
       "1 50.3094 1006.33"
      ]
     },
     "metadata": {},
     "output_type": "display_data"
    }
   ],
   "source": [
    "my.df %>% \n",
    "summarize (x1_mean = mean(x1),\n",
    "           x2_sum = sum(x2))"
   ]
  },
  {
   "cell_type": "markdown",
   "metadata": {},
   "source": [
    "**Summarize per Group**  \n",
    "Notice that summarize **reduce group** level by 1"
   ]
  },
  {
   "cell_type": "code",
   "execution_count": 29,
   "metadata": {},
   "outputs": [
    {
     "name": "stdout",
     "output_type": "stream",
     "text": [
      "# A tibble: 12 x 4\n",
      "# Groups:   com [?]\n",
      "   com   dept  x1_mean x2_sum\n",
      "   <chr> <chr>   <dbl>  <dbl>\n",
      " 1 C1    D1       53.8  115. \n",
      " 2 C1    D2       47.8   61.5\n",
      " 3 C1    D3       48.0   58.4\n",
      " 4 C2    D1       50.2  176. \n",
      " 5 C2    D2       52.0   41.2\n",
      " 6 C2    D3       47.6   49.1\n",
      " 7 C3    D1       49.8  120. \n",
      " 8 C3    D2       49.8  104. \n",
      " 9 C3    D3       49.5   74.4\n",
      "10 C4    D1       49.9  105. \n",
      "11 C4    D2       52.1   18.9\n",
      "12 C4    D3       52.0   81.9\n"
     ]
    }
   ],
   "source": [
    "gsummary = \n",
    "  my.df %>% \n",
    "    group_by(com,dept) %>% \n",
    "    summarize (x1_mean = mean(x1),\n",
    "               x2_sum  = sum(x2))\n",
    "\n",
    "print( gsummary )"
   ]
  },
  {
   "cell_type": "markdown",
   "metadata": {},
   "source": [
    "#### Multiple Columns (Conditional)"
   ]
  },
  {
   "cell_type": "code",
   "execution_count": 30,
   "metadata": {},
   "outputs": [
    {
     "name": "stdout",
     "output_type": "stream",
     "text": [
      "# A tibble: 12 x 5\n",
      "# Groups:   com [?]\n",
      "   com   dept     x1    x2    x3\n",
      "   <chr> <chr> <dbl> <dbl> <dbl>\n",
      " 1 C1    D1     53.8  19.2  4.44\n",
      " 2 C1    D2     47.8  20.5  5.56\n",
      " 3 C1    D3     48.0  19.5  5.48\n",
      " 4 C2    D1     50.2  19.6  5.20\n",
      " 5 C2    D2     52.0  20.6  5.53\n",
      " 6 C2    D3     47.6  24.5  5.69\n",
      " 7 C3    D1     49.8  20.0  5.21\n",
      " 8 C3    D2     49.8  20.8  4.83\n",
      " 9 C3    D3     49.5  18.6  6.45\n",
      "10 C4    D1     49.9  21.0  4.99\n",
      "11 C4    D2     52.1  18.9  5.49\n",
      "12 C4    D3     52.0  20.5  4.94\n"
     ]
    }
   ],
   "source": [
    "gsummary = \n",
    "  my.df %>% \n",
    "    group_by(com,dept) %>% \n",
    "    summarize_if (is.numeric, mean)\n",
    "\n",
    "print( gsummary )"
   ]
  },
  {
   "cell_type": "markdown",
   "metadata": {},
   "source": [
    "#### Multiple Columns (Names and Position)\n",
    "**Specific column names**"
   ]
  },
  {
   "cell_type": "code",
   "execution_count": 31,
   "metadata": {},
   "outputs": [
    {
     "data": {
      "text/html": [
       "<table>\n",
       "<thead><tr><th scope=col>com</th><th scope=col>dept</th><th scope=col>x1</th><th scope=col>x2</th><th scope=col>x3</th></tr></thead>\n",
       "<tbody>\n",
       "\t<tr><td>C1      </td><td>D1      </td><td>53.78819</td><td>19.19136</td><td>4.444190</td></tr>\n",
       "\t<tr><td>C1      </td><td>D2      </td><td>47.80892</td><td>20.50587</td><td>5.556002</td></tr>\n",
       "\t<tr><td>C1      </td><td>D3      </td><td>47.95769</td><td>19.45608</td><td>5.483456</td></tr>\n",
       "\t<tr><td>C2      </td><td>D1      </td><td>50.15156</td><td>19.60838</td><td>5.204501</td></tr>\n",
       "\t<tr><td>C2      </td><td>D2      </td><td>52.02425</td><td>20.60308</td><td>5.526408</td></tr>\n",
       "\t<tr><td>C2      </td><td>D3      </td><td>47.58095</td><td>24.53748</td><td>5.690336</td></tr>\n",
       "</tbody>\n",
       "</table>\n"
      ],
      "text/latex": [
       "\\begin{tabular}{r|lllll}\n",
       " com & dept & x1 & x2 & x3\\\\\n",
       "\\hline\n",
       "\t C1       & D1       & 53.78819 & 19.19136 & 4.444190\\\\\n",
       "\t C1       & D2       & 47.80892 & 20.50587 & 5.556002\\\\\n",
       "\t C1       & D3       & 47.95769 & 19.45608 & 5.483456\\\\\n",
       "\t C2       & D1       & 50.15156 & 19.60838 & 5.204501\\\\\n",
       "\t C2       & D2       & 52.02425 & 20.60308 & 5.526408\\\\\n",
       "\t C2       & D3       & 47.58095 & 24.53748 & 5.690336\\\\\n",
       "\\end{tabular}\n"
      ],
      "text/markdown": [
       "\n",
       "com | dept | x1 | x2 | x3 | \n",
       "|---|---|---|---|---|---|\n",
       "| C1       | D1       | 53.78819 | 19.19136 | 4.444190 | \n",
       "| C1       | D2       | 47.80892 | 20.50587 | 5.556002 | \n",
       "| C1       | D3       | 47.95769 | 19.45608 | 5.483456 | \n",
       "| C2       | D1       | 50.15156 | 19.60838 | 5.204501 | \n",
       "| C2       | D2       | 52.02425 | 20.60308 | 5.526408 | \n",
       "| C2       | D3       | 47.58095 | 24.53748 | 5.690336 | \n",
       "\n",
       "\n"
      ],
      "text/plain": [
       "  com dept x1       x2       x3      \n",
       "1 C1  D1   53.78819 19.19136 4.444190\n",
       "2 C1  D2   47.80892 20.50587 5.556002\n",
       "3 C1  D3   47.95769 19.45608 5.483456\n",
       "4 C2  D1   50.15156 19.60838 5.204501\n",
       "5 C2  D2   52.02425 20.60308 5.526408\n",
       "6 C2  D3   47.58095 24.53748 5.690336"
      ]
     },
     "metadata": {},
     "output_type": "display_data"
    }
   ],
   "source": [
    "my.df %>% \n",
    "    group_by(com,dept) %>% \n",
    "    summarize_at (c('x1','x2','x3'), mean) %>% head"
   ]
  },
  {
   "cell_type": "markdown",
   "metadata": {},
   "source": [
    "**Specific Column Names Pattern Matching**"
   ]
  },
  {
   "cell_type": "code",
   "execution_count": 32,
   "metadata": {},
   "outputs": [
    {
     "data": {
      "text/html": [
       "<table>\n",
       "<thead><tr><th scope=col>com</th><th scope=col>dept</th><th scope=col>x1</th><th scope=col>x2</th><th scope=col>x3</th></tr></thead>\n",
       "<tbody>\n",
       "\t<tr><td>C1      </td><td>D1      </td><td>53.78819</td><td>19.19136</td><td>4.444190</td></tr>\n",
       "\t<tr><td>C1      </td><td>D2      </td><td>47.80892</td><td>20.50587</td><td>5.556002</td></tr>\n",
       "\t<tr><td>C1      </td><td>D3      </td><td>47.95769</td><td>19.45608</td><td>5.483456</td></tr>\n",
       "\t<tr><td>C2      </td><td>D1      </td><td>50.15156</td><td>19.60838</td><td>5.204501</td></tr>\n",
       "\t<tr><td>C2      </td><td>D2      </td><td>52.02425</td><td>20.60308</td><td>5.526408</td></tr>\n",
       "\t<tr><td>C2      </td><td>D3      </td><td>47.58095</td><td>24.53748</td><td>5.690336</td></tr>\n",
       "</tbody>\n",
       "</table>\n"
      ],
      "text/latex": [
       "\\begin{tabular}{r|lllll}\n",
       " com & dept & x1 & x2 & x3\\\\\n",
       "\\hline\n",
       "\t C1       & D1       & 53.78819 & 19.19136 & 4.444190\\\\\n",
       "\t C1       & D2       & 47.80892 & 20.50587 & 5.556002\\\\\n",
       "\t C1       & D3       & 47.95769 & 19.45608 & 5.483456\\\\\n",
       "\t C2       & D1       & 50.15156 & 19.60838 & 5.204501\\\\\n",
       "\t C2       & D2       & 52.02425 & 20.60308 & 5.526408\\\\\n",
       "\t C2       & D3       & 47.58095 & 24.53748 & 5.690336\\\\\n",
       "\\end{tabular}\n"
      ],
      "text/markdown": [
       "\n",
       "com | dept | x1 | x2 | x3 | \n",
       "|---|---|---|---|---|---|\n",
       "| C1       | D1       | 53.78819 | 19.19136 | 4.444190 | \n",
       "| C1       | D2       | 47.80892 | 20.50587 | 5.556002 | \n",
       "| C1       | D3       | 47.95769 | 19.45608 | 5.483456 | \n",
       "| C2       | D1       | 50.15156 | 19.60838 | 5.204501 | \n",
       "| C2       | D2       | 52.02425 | 20.60308 | 5.526408 | \n",
       "| C2       | D3       | 47.58095 | 24.53748 | 5.690336 | \n",
       "\n",
       "\n"
      ],
      "text/plain": [
       "  com dept x1       x2       x3      \n",
       "1 C1  D1   53.78819 19.19136 4.444190\n",
       "2 C1  D2   47.80892 20.50587 5.556002\n",
       "3 C1  D3   47.95769 19.45608 5.483456\n",
       "4 C2  D1   50.15156 19.60838 5.204501\n",
       "5 C2  D2   52.02425 20.60308 5.526408\n",
       "6 C2  D3   47.58095 24.53748 5.690336"
      ]
     },
     "metadata": {},
     "output_type": "display_data"
    }
   ],
   "source": [
    "my.df %>% \n",
    "    group_by(com,dept) %>% \n",
    "    summarize_at(vars(matches('x')), mean) %>% head"
   ]
  },
  {
   "cell_type": "markdown",
   "metadata": {},
   "source": [
    "**Column Names and Number Range**"
   ]
  },
  {
   "cell_type": "code",
   "execution_count": 33,
   "metadata": {},
   "outputs": [
    {
     "data": {
      "text/html": [
       "<table>\n",
       "<thead><tr><th scope=col>com</th><th scope=col>dept</th><th scope=col>x1</th><th scope=col>x2</th><th scope=col>x3</th></tr></thead>\n",
       "<tbody>\n",
       "\t<tr><td>C1      </td><td>D1      </td><td>53.78819</td><td>19.19136</td><td>4.444190</td></tr>\n",
       "\t<tr><td>C1      </td><td>D2      </td><td>47.80892</td><td>20.50587</td><td>5.556002</td></tr>\n",
       "\t<tr><td>C1      </td><td>D3      </td><td>47.95769</td><td>19.45608</td><td>5.483456</td></tr>\n",
       "\t<tr><td>C2      </td><td>D1      </td><td>50.15156</td><td>19.60838</td><td>5.204501</td></tr>\n",
       "\t<tr><td>C2      </td><td>D2      </td><td>52.02425</td><td>20.60308</td><td>5.526408</td></tr>\n",
       "\t<tr><td>C2      </td><td>D3      </td><td>47.58095</td><td>24.53748</td><td>5.690336</td></tr>\n",
       "</tbody>\n",
       "</table>\n"
      ],
      "text/latex": [
       "\\begin{tabular}{r|lllll}\n",
       " com & dept & x1 & x2 & x3\\\\\n",
       "\\hline\n",
       "\t C1       & D1       & 53.78819 & 19.19136 & 4.444190\\\\\n",
       "\t C1       & D2       & 47.80892 & 20.50587 & 5.556002\\\\\n",
       "\t C1       & D3       & 47.95769 & 19.45608 & 5.483456\\\\\n",
       "\t C2       & D1       & 50.15156 & 19.60838 & 5.204501\\\\\n",
       "\t C2       & D2       & 52.02425 & 20.60308 & 5.526408\\\\\n",
       "\t C2       & D3       & 47.58095 & 24.53748 & 5.690336\\\\\n",
       "\\end{tabular}\n"
      ],
      "text/markdown": [
       "\n",
       "com | dept | x1 | x2 | x3 | \n",
       "|---|---|---|---|---|---|\n",
       "| C1       | D1       | 53.78819 | 19.19136 | 4.444190 | \n",
       "| C1       | D2       | 47.80892 | 20.50587 | 5.556002 | \n",
       "| C1       | D3       | 47.95769 | 19.45608 | 5.483456 | \n",
       "| C2       | D1       | 50.15156 | 19.60838 | 5.204501 | \n",
       "| C2       | D2       | 52.02425 | 20.60308 | 5.526408 | \n",
       "| C2       | D3       | 47.58095 | 24.53748 | 5.690336 | \n",
       "\n",
       "\n"
      ],
      "text/plain": [
       "  com dept x1       x2       x3      \n",
       "1 C1  D1   53.78819 19.19136 4.444190\n",
       "2 C1  D2   47.80892 20.50587 5.556002\n",
       "3 C1  D3   47.95769 19.45608 5.483456\n",
       "4 C2  D1   50.15156 19.60838 5.204501\n",
       "5 C2  D2   52.02425 20.60308 5.526408\n",
       "6 C2  D3   47.58095 24.53748 5.690336"
      ]
     },
     "metadata": {},
     "output_type": "display_data"
    }
   ],
   "source": [
    "my.df %>% \n",
    "    group_by(com,dept) %>% \n",
    "    summarize_at(vars(x1:x3), mean) %>% head"
   ]
  },
  {
   "cell_type": "code",
   "execution_count": 34,
   "metadata": {},
   "outputs": [
    {
     "data": {
      "text/html": [
       "<table>\n",
       "<thead><tr><th scope=col>com</th><th scope=col>dept</th><th scope=col>x1</th><th scope=col>x2</th><th scope=col>x3</th></tr></thead>\n",
       "<tbody>\n",
       "\t<tr><td>C1      </td><td>D1      </td><td>53.78819</td><td>19.19136</td><td>4.444190</td></tr>\n",
       "\t<tr><td>C1      </td><td>D2      </td><td>47.80892</td><td>20.50587</td><td>5.556002</td></tr>\n",
       "\t<tr><td>C1      </td><td>D3      </td><td>47.95769</td><td>19.45608</td><td>5.483456</td></tr>\n",
       "\t<tr><td>C2      </td><td>D1      </td><td>50.15156</td><td>19.60838</td><td>5.204501</td></tr>\n",
       "\t<tr><td>C2      </td><td>D2      </td><td>52.02425</td><td>20.60308</td><td>5.526408</td></tr>\n",
       "\t<tr><td>C2      </td><td>D3      </td><td>47.58095</td><td>24.53748</td><td>5.690336</td></tr>\n",
       "</tbody>\n",
       "</table>\n"
      ],
      "text/latex": [
       "\\begin{tabular}{r|lllll}\n",
       " com & dept & x1 & x2 & x3\\\\\n",
       "\\hline\n",
       "\t C1       & D1       & 53.78819 & 19.19136 & 4.444190\\\\\n",
       "\t C1       & D2       & 47.80892 & 20.50587 & 5.556002\\\\\n",
       "\t C1       & D3       & 47.95769 & 19.45608 & 5.483456\\\\\n",
       "\t C2       & D1       & 50.15156 & 19.60838 & 5.204501\\\\\n",
       "\t C2       & D2       & 52.02425 & 20.60308 & 5.526408\\\\\n",
       "\t C2       & D3       & 47.58095 & 24.53748 & 5.690336\\\\\n",
       "\\end{tabular}\n"
      ],
      "text/markdown": [
       "\n",
       "com | dept | x1 | x2 | x3 | \n",
       "|---|---|---|---|---|---|\n",
       "| C1       | D1       | 53.78819 | 19.19136 | 4.444190 | \n",
       "| C1       | D2       | 47.80892 | 20.50587 | 5.556002 | \n",
       "| C1       | D3       | 47.95769 | 19.45608 | 5.483456 | \n",
       "| C2       | D1       | 50.15156 | 19.60838 | 5.204501 | \n",
       "| C2       | D2       | 52.02425 | 20.60308 | 5.526408 | \n",
       "| C2       | D3       | 47.58095 | 24.53748 | 5.690336 | \n",
       "\n",
       "\n"
      ],
      "text/plain": [
       "  com dept x1       x2       x3      \n",
       "1 C1  D1   53.78819 19.19136 4.444190\n",
       "2 C1  D2   47.80892 20.50587 5.556002\n",
       "3 C1  D3   47.95769 19.45608 5.483456\n",
       "4 C2  D1   50.15156 19.60838 5.204501\n",
       "5 C2  D2   52.02425 20.60308 5.526408\n",
       "6 C2  D3   47.58095 24.53748 5.690336"
      ]
     },
     "metadata": {},
     "output_type": "display_data"
    }
   ],
   "source": [
    "my.df %>% \n",
    "    group_by(com,dept) %>% \n",
    "    summarize_at(vars(4:6), mean) %>% head"
   ]
  }
 ],
 "metadata": {
  "kernelspec": {
   "display_name": "R",
   "language": "R",
   "name": "ir"
  },
  "language_info": {
   "codemirror_mode": "r",
   "file_extension": ".r",
   "mimetype": "text/x-r-source",
   "name": "R",
   "pygments_lexer": "r",
   "version": "3.5.1"
  },
  "toc": {
   "nav_menu": {},
   "number_sections": true,
   "sideBar": true,
   "skip_h1_title": false,
   "toc_cell": false,
   "toc_position": {
    "height": "715px",
    "left": "0px",
    "right": "1859.01px",
    "top": "66px",
    "width": "340px"
   },
   "toc_section_display": "block",
   "toc_window_display": true
  },
  "varInspector": {
   "cols": {
    "lenName": 16,
    "lenType": 16,
    "lenVar": 40
   },
   "kernels_config": {
    "python": {
     "delete_cmd_postfix": "",
     "delete_cmd_prefix": "del ",
     "library": "var_list.py",
     "varRefreshCmd": "print(var_dic_list())"
    },
    "r": {
     "delete_cmd_postfix": ") ",
     "delete_cmd_prefix": "rm(",
     "library": "var_list.r",
     "varRefreshCmd": "cat(var_dic_list()) "
    }
   },
   "types_to_exclude": [
    "module",
    "function",
    "builtin_function_or_method",
    "instance",
    "_Feature"
   ],
   "window_display": false
  }
 },
 "nbformat": 4,
 "nbformat_minor": 2
}
