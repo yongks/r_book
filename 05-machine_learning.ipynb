{
 "cells": [
  {
   "cell_type": "markdown",
   "metadata": {},
   "source": [
    "# Machine Learning"
   ]
  },
  {
   "cell_type": "markdown",
   "metadata": {},
   "source": [
    "## Library"
   ]
  },
  {
   "cell_type": "code",
   "execution_count": 98,
   "metadata": {},
   "outputs": [],
   "source": [
    "library( rpart )    # decision tree\n",
    "library( titanic )  # titanic dataset\n",
    "library( caTools )  # Y ratio split\n",
    "library( tidyverse )\n",
    "options(repr.plot.width =8 , repr.plot.height = 3.5, repr.plot.res = 150)"
   ]
  },
  {
   "cell_type": "markdown",
   "metadata": {},
   "source": [
    "## Preprocessing"
   ]
  },
  {
   "cell_type": "markdown",
   "metadata": {},
   "source": [
    "### Dealing with NA"
   ]
  },
  {
   "cell_type": "markdown",
   "metadata": {},
   "source": [
    "#### Sample Data"
   ]
  },
  {
   "cell_type": "code",
   "execution_count": 99,
   "metadata": {},
   "outputs": [],
   "source": [
    "x1 = c(1,2,3,4,NA,6,NA,8)\n",
    "x2 = c('A','B','C',NA,'E','F',NA,NA)\n",
    "my.df = data.frame(x1,x2)"
   ]
  },
  {
   "cell_type": "markdown",
   "metadata": {},
   "source": [
    "#### Where are NAs (vector) ?\n",
    "Use the logical vector from **is.na( )** for row selection"
   ]
  },
  {
   "cell_type": "code",
   "execution_count": 100,
   "metadata": {},
   "outputs": [
    {
     "name": "stdout",
     "output_type": "stream",
     "text": [
      "[1] FALSE FALSE FALSE FALSE  TRUE FALSE  TRUE FALSE\n",
      "[1] 1 2 3 4 6 8\n"
     ]
    }
   ],
   "source": [
    "print( is.na(x1) )     # logical vector, NA elements will be TRUE\n",
    "print( x1[!is.na(x1)])  # Use ! to reverse select for valid elements"
   ]
  },
  {
   "cell_type": "markdown",
   "metadata": {},
   "source": [
    "#### Where are NAs (dataframe) ?\n",
    "Notice that is.na( ) scan through every cells in dataframe and return a matrix logial vector.  \n",
    "We **can't directly tell diretly** which rows contain NAs"
   ]
  },
  {
   "cell_type": "code",
   "execution_count": 101,
   "metadata": {},
   "outputs": [
    {
     "name": "stdout",
     "output_type": "stream",
     "text": [
      "        x1    x2\n",
      "[1,] FALSE FALSE\n",
      "[2,] FALSE FALSE\n",
      "[3,] FALSE FALSE\n",
      "[4,] FALSE  TRUE\n",
      "[5,]  TRUE FALSE\n",
      "[6,] FALSE FALSE\n",
      "[7,]  TRUE  TRUE\n",
      "[8,] FALSE  TRUE\n"
     ]
    }
   ],
   "source": [
    "print( is.na(my.df) )     # logical vector, NA elements will be TRUE"
   ]
  },
  {
   "cell_type": "markdown",
   "metadata": {},
   "source": [
    "Using **complete.cases( )** we can detect the rows without NAs (complete) in a returned logical vector.  \n",
    "TO detect rows with NAs, use **! not**"
   ]
  },
  {
   "cell_type": "code",
   "execution_count": 102,
   "metadata": {},
   "outputs": [
    {
     "ename": "ERROR",
     "evalue": "Error in parse(text = x, srcfile = src): <text>:1:32: unexpected symbol\n1: my.df[!complete.cases(my.df), ]m\n                                   ^\n",
     "output_type": "error",
     "traceback": [
      "Error in parse(text = x, srcfile = src): <text>:1:32: unexpected symbol\n1: my.df[!complete.cases(my.df), ]m\n                                   ^\nTraceback:\n"
     ]
    }
   ],
   "source": [
    "my.df[!complete.cases(my.df), ]m"
   ]
  },
  {
   "cell_type": "markdown",
   "metadata": {},
   "source": [
    "#### Give Me Clean Data\n",
    "Select Rows with **complete.cases**"
   ]
  },
  {
   "cell_type": "code",
   "execution_count": 103,
   "metadata": {},
   "outputs": [
    {
     "data": {
      "text/html": [
       "<table>\n",
       "<thead><tr><th></th><th scope=col>x1</th><th scope=col>x2</th></tr></thead>\n",
       "<tbody>\n",
       "\t<tr><th scope=row>1</th><td>1</td><td>A</td></tr>\n",
       "\t<tr><th scope=row>2</th><td>2</td><td>B</td></tr>\n",
       "\t<tr><th scope=row>3</th><td>3</td><td>C</td></tr>\n",
       "\t<tr><th scope=row>6</th><td>6</td><td>F</td></tr>\n",
       "</tbody>\n",
       "</table>\n"
      ],
      "text/latex": [
       "\\begin{tabular}{r|ll}\n",
       "  & x1 & x2\\\\\n",
       "\\hline\n",
       "\t1 & 1 & A\\\\\n",
       "\t2 & 2 & B\\\\\n",
       "\t3 & 3 & C\\\\\n",
       "\t6 & 6 & F\\\\\n",
       "\\end{tabular}\n"
      ],
      "text/markdown": [
       "\n",
       "| <!--/--> | x1 | x2 | \n",
       "|---|---|---|---|\n",
       "| 1 | 1 | A | \n",
       "| 2 | 2 | B | \n",
       "| 3 | 3 | C | \n",
       "| 6 | 6 | F | \n",
       "\n",
       "\n"
      ],
      "text/plain": [
       "  x1 x2\n",
       "1 1  A \n",
       "2 2  B \n",
       "3 3  C \n",
       "6 6  F "
      ]
     },
     "metadata": {},
     "output_type": "display_data"
    }
   ],
   "source": [
    "my.df[complete.cases(my.df), ]"
   ]
  },
  {
   "cell_type": "markdown",
   "metadata": {},
   "source": [
    "A more elegant ways to filter clean data is **na.omit( )**"
   ]
  },
  {
   "cell_type": "code",
   "execution_count": 104,
   "metadata": {},
   "outputs": [
    {
     "data": {
      "text/html": [
       "<table>\n",
       "<thead><tr><th></th><th scope=col>x1</th><th scope=col>x2</th></tr></thead>\n",
       "<tbody>\n",
       "\t<tr><th scope=row>1</th><td>1</td><td>A</td></tr>\n",
       "\t<tr><th scope=row>2</th><td>2</td><td>B</td></tr>\n",
       "\t<tr><th scope=row>3</th><td>3</td><td>C</td></tr>\n",
       "\t<tr><th scope=row>6</th><td>6</td><td>F</td></tr>\n",
       "</tbody>\n",
       "</table>\n"
      ],
      "text/latex": [
       "\\begin{tabular}{r|ll}\n",
       "  & x1 & x2\\\\\n",
       "\\hline\n",
       "\t1 & 1 & A\\\\\n",
       "\t2 & 2 & B\\\\\n",
       "\t3 & 3 & C\\\\\n",
       "\t6 & 6 & F\\\\\n",
       "\\end{tabular}\n"
      ],
      "text/markdown": [
       "\n",
       "| <!--/--> | x1 | x2 | \n",
       "|---|---|---|---|\n",
       "| 1 | 1 | A | \n",
       "| 2 | 2 | B | \n",
       "| 3 | 3 | C | \n",
       "| 6 | 6 | F | \n",
       "\n",
       "\n"
      ],
      "text/plain": [
       "  x1 x2\n",
       "1 1  A \n",
       "2 2  B \n",
       "3 3  C \n",
       "6 6  F "
      ]
     },
     "metadata": {},
     "output_type": "display_data"
    }
   ],
   "source": [
    "na.omit( my.df )"
   ]
  },
  {
   "cell_type": "markdown",
   "metadata": {},
   "source": [
    "### Splitting\n",
    "#### Splitting by sample( ) \n",
    "This approach randomly picked row numbers without replacement.  \n",
    "**It doesn't ensure the split ratio of of the imbalance labels**  \n",
    "The result is a number vector with positions. Use **negate -** to reverse selection for test set"
   ]
  },
  {
   "cell_type": "code",
   "execution_count": 105,
   "metadata": {},
   "outputs": [],
   "source": [
    "set.seed(1234)\n",
    "n      = nrow(mtcars)   # total rows\n",
    "ratio  = 0.7            # percentage for train split\n",
    "split = sample( x = 1:n, size = ratio*n, replace = FALSE)\n",
    "train = mtcars[  split, ]\n",
    "test  = mtcars[ -split, ]"
   ]
  },
  {
   "cell_type": "markdown",
   "metadata": {},
   "source": [
    "**Check Split Result by Row Numbers**"
   ]
  },
  {
   "cell_type": "code",
   "execution_count": 106,
   "metadata": {},
   "outputs": [
    {
     "name": "stdout",
     "output_type": "stream",
     "text": [
      "[1] 22\n",
      "[1] 10\n"
     ]
    }
   ],
   "source": [
    "print( nrow(train) )\n",
    "print( nrow(test)  )"
   ]
  },
  {
   "cell_type": "markdown",
   "metadata": {},
   "source": [
    "#### Main Label (Y) Ratio\n",
    "Split by sample.split( )\n",
    "The result is a logical vector. Therefore, use **not !** to reverse selection for test set"
   ]
  },
  {
   "cell_type": "code",
   "execution_count": 107,
   "metadata": {
    "code_folding": []
   },
   "outputs": [],
   "source": [
    "split = sample.split(Y=titanic_train$Survived, SplitRatio = 0.7)  # randomly 0.7 set to TRUE, remaining FALSE\n",
    "train = titanic_train[ split, ]\n",
    "test  = titanic_train[!split, ]"
   ]
  },
  {
   "cell_type": "code",
   "execution_count": 108,
   "metadata": {},
   "outputs": [
    {
     "name": "stdout",
     "output_type": "stream",
     "text": [
      "[1] 623\n",
      "[1] 268\n"
     ]
    },
    {
     "data": {
      "text/plain": [
       "\n",
       "        0         1 \n",
       "0.6163724 0.3836276 "
      ]
     },
     "metadata": {},
     "output_type": "display_data"
    },
    {
     "data": {
      "text/plain": [
       "\n",
       "        0         1 \n",
       "0.6156716 0.3843284 "
      ]
     },
     "metadata": {},
     "output_type": "display_data"
    }
   ],
   "source": [
    "print( nrow(train) )\n",
    "print( nrow(test) )\n",
    "prop.table( table(train$Survived))\n",
    "prop.table( table(test$Survived))\n"
   ]
  },
  {
   "cell_type": "markdown",
   "metadata": {},
   "source": [
    "### Scaling"
   ]
  },
  {
   "cell_type": "markdown",
   "metadata": {},
   "source": [
    "#### Sample Data"
   ]
  },
  {
   "cell_type": "code",
   "execution_count": 109,
   "metadata": {},
   "outputs": [],
   "source": [
    "x1 = 1:5\n",
    "x2 = 11:15\n",
    "num.df = data.frame(x1,x2)"
   ]
  },
  {
   "cell_type": "code",
   "execution_count": 110,
   "metadata": {},
   "outputs": [
    {
     "name": "stdout",
     "output_type": "stream",
     "text": [
      "  x1 x2\n",
      "1  1 11\n",
      "2  2 12\n",
      "3  3 13\n",
      "4  4 14\n",
      "5  5 15\n"
     ]
    }
   ],
   "source": [
    "print(num.df)"
   ]
  },
  {
   "cell_type": "markdown",
   "metadata": {},
   "source": [
    "#### minmax scaling\n",
    "Use apply to loop through each column and return vector on each loop"
   ]
  },
  {
   "cell_type": "code",
   "execution_count": 111,
   "metadata": {},
   "outputs": [
    {
     "data": {
      "text/html": [
       "<table>\n",
       "<thead><tr><th scope=col>x1</th><th scope=col>x2</th></tr></thead>\n",
       "<tbody>\n",
       "\t<tr><td>0.25</td><td>2.75</td></tr>\n",
       "\t<tr><td>0.50</td><td>3.00</td></tr>\n",
       "\t<tr><td>0.75</td><td>3.25</td></tr>\n",
       "\t<tr><td>1.00</td><td>3.50</td></tr>\n",
       "\t<tr><td>1.25</td><td>3.75</td></tr>\n",
       "</tbody>\n",
       "</table>\n"
      ],
      "text/latex": [
       "\\begin{tabular}{ll}\n",
       " x1 & x2\\\\\n",
       "\\hline\n",
       "\t 0.25 & 2.75\\\\\n",
       "\t 0.50 & 3.00\\\\\n",
       "\t 0.75 & 3.25\\\\\n",
       "\t 1.00 & 3.50\\\\\n",
       "\t 1.25 & 3.75\\\\\n",
       "\\end{tabular}\n"
      ],
      "text/markdown": [
       "\n",
       "x1 | x2 | \n",
       "|---|---|---|---|---|\n",
       "| 0.25 | 2.75 | \n",
       "| 0.50 | 3.00 | \n",
       "| 0.75 | 3.25 | \n",
       "| 1.00 | 3.50 | \n",
       "| 1.25 | 3.75 | \n",
       "\n",
       "\n"
      ],
      "text/plain": [
       "     x1   x2  \n",
       "[1,] 0.25 2.75\n",
       "[2,] 0.50 3.00\n",
       "[3,] 0.75 3.25\n",
       "[4,] 1.00 3.50\n",
       "[5,] 1.25 3.75"
      ]
     },
     "metadata": {},
     "output_type": "display_data"
    }
   ],
   "source": [
    "apply( num.df, MARGIN=2,\n",
    "      function(x) { x/(max(x)-min(x))}\n",
    ")"
   ]
  },
  {
   "cell_type": "markdown",
   "metadata": {},
   "source": [
    "#### Z-Score Scaling"
   ]
  },
  {
   "cell_type": "code",
   "execution_count": 112,
   "metadata": {},
   "outputs": [
    {
     "data": {
      "text/html": [
       "<table>\n",
       "<thead><tr><th scope=col>x1</th><th scope=col>x2</th></tr></thead>\n",
       "<tbody>\n",
       "\t<tr><td>-1.2649111</td><td>-1.2649111</td></tr>\n",
       "\t<tr><td>-0.6324555</td><td>-0.6324555</td></tr>\n",
       "\t<tr><td> 0.0000000</td><td> 0.0000000</td></tr>\n",
       "\t<tr><td> 0.6324555</td><td> 0.6324555</td></tr>\n",
       "\t<tr><td> 1.2649111</td><td> 1.2649111</td></tr>\n",
       "</tbody>\n",
       "</table>\n"
      ],
      "text/latex": [
       "\\begin{tabular}{ll}\n",
       " x1 & x2\\\\\n",
       "\\hline\n",
       "\t -1.2649111 & -1.2649111\\\\\n",
       "\t -0.6324555 & -0.6324555\\\\\n",
       "\t  0.0000000 &  0.0000000\\\\\n",
       "\t  0.6324555 &  0.6324555\\\\\n",
       "\t  1.2649111 &  1.2649111\\\\\n",
       "\\end{tabular}\n"
      ],
      "text/markdown": [
       "\n",
       "x1 | x2 | \n",
       "|---|---|---|---|---|\n",
       "| -1.2649111 | -1.2649111 | \n",
       "| -0.6324555 | -0.6324555 | \n",
       "|  0.0000000 |  0.0000000 | \n",
       "|  0.6324555 |  0.6324555 | \n",
       "|  1.2649111 |  1.2649111 | \n",
       "\n",
       "\n"
      ],
      "text/plain": [
       "     x1         x2        \n",
       "[1,] -1.2649111 -1.2649111\n",
       "[2,] -0.6324555 -0.6324555\n",
       "[3,]  0.0000000  0.0000000\n",
       "[4,]  0.6324555  0.6324555\n",
       "[5,]  1.2649111  1.2649111"
      ]
     },
     "metadata": {},
     "output_type": "display_data"
    }
   ],
   "source": [
    "scale( num.df )"
   ]
  },
  {
   "cell_type": "markdown",
   "metadata": {},
   "source": [
    "## Clustering\n",
    "### Sample Data\n",
    "#### Generate Pseudo Data"
   ]
  },
  {
   "cell_type": "code",
   "execution_count": 113,
   "metadata": {},
   "outputs": [
    {
     "data": {
      "text/html": [
       "<table>\n",
       "<thead><tr><th></th><th scope=col>id</th><th scope=col>grp</th><th scope=col>value1</th><th scope=col>value2</th></tr></thead>\n",
       "<tbody>\n",
       "\t<tr><th scope=row>ID_1</th><td>ID_1</td><td>G1  </td><td> 6  </td><td> 7  </td></tr>\n",
       "\t<tr><th scope=row>ID_2</th><td>ID_2</td><td>G1  </td><td>11  </td><td>17  </td></tr>\n",
       "\t<tr><th scope=row>ID_3</th><td>ID_3</td><td>G1  </td><td>13  </td><td>10  </td></tr>\n",
       "\t<tr><th scope=row>ID_4</th><td>ID_4</td><td>G1  </td><td> 3  </td><td> 9  </td></tr>\n",
       "\t<tr><th scope=row>ID_5</th><td>ID_5</td><td>G1  </td><td>11  </td><td> 9  </td></tr>\n",
       "\t<tr><th scope=row>ID_6</th><td>ID_6</td><td>G1  </td><td>12  </td><td>11  </td></tr>\n",
       "</tbody>\n",
       "</table>\n"
      ],
      "text/latex": [
       "\\begin{tabular}{r|llll}\n",
       "  & id & grp & value1 & value2\\\\\n",
       "\\hline\n",
       "\tID\\_1 & ID\\_1 & G1     &  6     &  7    \\\\\n",
       "\tID\\_2 & ID\\_2 & G1     & 11     & 17    \\\\\n",
       "\tID\\_3 & ID\\_3 & G1     & 13     & 10    \\\\\n",
       "\tID\\_4 & ID\\_4 & G1     &  3     &  9    \\\\\n",
       "\tID\\_5 & ID\\_5 & G1     & 11     &  9    \\\\\n",
       "\tID\\_6 & ID\\_6 & G1     & 12     & 11    \\\\\n",
       "\\end{tabular}\n"
      ],
      "text/markdown": [
       "\n",
       "| <!--/--> | id | grp | value1 | value2 | \n",
       "|---|---|---|---|---|---|\n",
       "| ID_1 | ID_1 | G1   |  6   |  7   | \n",
       "| ID_2 | ID_2 | G1   | 11   | 17   | \n",
       "| ID_3 | ID_3 | G1   | 13   | 10   | \n",
       "| ID_4 | ID_4 | G1   |  3   |  9   | \n",
       "| ID_5 | ID_5 | G1   | 11   |  9   | \n",
       "| ID_6 | ID_6 | G1   | 12   | 11   | \n",
       "\n",
       "\n"
      ],
      "text/plain": [
       "     id   grp value1 value2\n",
       "ID_1 ID_1 G1   6      7    \n",
       "ID_2 ID_2 G1  11     17    \n",
       "ID_3 ID_3 G1  13     10    \n",
       "ID_4 ID_4 G1   3      9    \n",
       "ID_5 ID_5 G1  11      9    \n",
       "ID_6 ID_6 G1  12     11    "
      ]
     },
     "metadata": {},
     "output_type": "display_data"
    }
   ],
   "source": [
    "set.seed(1234)\n",
    "my.cluster.df = data.frame(\n",
    "  id = paste('ID_', 1:18, sep = ''),\n",
    "  grp = c(rep('G1', 6), rep('G2', 6), rep('G3', 6)),\n",
    "  value1 = c( round(rnorm(6, mean = 10,  sd = 3)),\n",
    "              round(rnorm(6, mean = 10, sd = 3)),\n",
    "              round(rnorm(6, mean = 30, sd = 3))),\n",
    "  value2 = c( round(rnorm(6, mean = 10, sd = 3)),\n",
    "              round(rnorm(6, mean = 20, sd = 3)),\n",
    "              round(rnorm(6, mean = 20, sd = 3))),\n",
    "  stringsAsFactors = F\n",
    ")\n",
    "rownames(my.cluster.df) = my.cluster.df[,1]\n",
    "head( my.cluster.df)"
   ]
  },
  {
   "cell_type": "markdown",
   "metadata": {},
   "source": [
    "#### Sample 2D Plot"
   ]
  },
  {
   "cell_type": "code",
   "execution_count": 114,
   "metadata": {},
   "outputs": [
    {
     "name": "stderr",
     "output_type": "stream",
     "text": [
      "Warning message in min(x):\n",
      "\"no non-missing arguments to min; returning Inf\"Warning message in max(x):\n",
      "\"no non-missing arguments to max; returning -Inf\"Warning message in min(x):\n",
      "\"no non-missing arguments to min; returning Inf\"Warning message in max(x):\n",
      "\"no non-missing arguments to max; returning -Inf\""
     ]
    },
    {
     "ename": "ERROR",
     "evalue": "Error in plot.window(...): need finite 'xlim' values\n",
     "output_type": "error",
     "traceback": [
      "Error in plot.window(...): need finite 'xlim' values\nTraceback:\n",
      "1. plot(my.df$value1, my.df$value2)",
      "2. plot.default(my.df$value1, my.df$value2)",
      "3. localWindow(xlim, ylim, log, asp, ...)",
      "4. plot.window(...)"
     ]
    },
    {
     "data": {
      "image/png": "[encoded data removed]",
      "text/plain": [
       "plot without title"
      ]
     },
     "metadata": {},
     "output_type": "display_data"
    }
   ],
   "source": [
    "plot(my.df$value1, my.df$value2)"
   ]
  },
  {
   "cell_type": "markdown",
   "metadata": {},
   "source": [
    "### H Clustering\n",
    "#### Calculate Distance"
   ]
  },
  {
   "cell_type": "code",
   "execution_count": 115,
   "metadata": {},
   "outputs": [],
   "source": [
    "d = dist(my.cluster.df[, 3:4], method = 'euclidean') ## default 'euclidean'"
   ]
  },
  {
   "cell_type": "code",
   "execution_count": 116,
   "metadata": {},
   "outputs": [
    {
     "name": "stdout",
     "output_type": "stream",
     "text": [
      "           ID_1      ID_2      ID_3      ID_4      ID_5      ID_6      ID_7\n",
      "ID_2  11.180340                                                            \n",
      "ID_3   7.615773  7.280110                                                  \n",
      "ID_4   3.605551 11.313708 10.049876                                        \n",
      "ID_5   5.385165  8.000000  2.236068  8.000000                              \n",
      "ID_6   7.211103  6.082763  1.414214  9.219544  2.236068                    \n",
      "ID_7  11.180340  3.162278  9.433981 10.295630  9.486833  8.062258          \n",
      "ID_8   9.219544  3.162278  7.810250  8.602325  7.615773  6.403124  2.000000\n",
      "ID_9  15.132746  5.830952 13.000000 13.928388 13.341664 11.704700  4.000000\n",
      "ID_10 10.049876  4.000000  9.219544  8.944272  8.944272  7.810250  1.414214\n",
      "ID_11 13.341664  3.605551 10.770330 12.529964 11.180340  9.486833  2.236068\n",
      "ID_12 10.049876  4.000000  9.219544  8.944272  8.944272  7.810250  1.414214\n",
      "ID_13 27.202941 18.027756 19.849433 28.653098 22.022716 20.000000 20.615528\n",
      "ID_14 26.832816 19.104973 19.235384 28.792360 21.470911 19.697716 22.022716\n",
      "ID_15 29.154759 22.022716 21.540659 31.320920 23.769729 22.135944 25.000000\n",
      "ID_16 26.400758 19.026298 18.788294 28.460499 21.023796 19.313208 22.000000\n",
      "ID_17 23.409400 17.117243 15.811388 25.709920 18.027756 16.492423 20.223748\n",
      "ID_18 22.847319 16.031220 15.231546 25.000000 17.464249 15.811388 19.104973\n",
      "           ID_8      ID_9     ID_10     ID_11     ID_12     ID_13     ID_14\n",
      "ID_2                                                                       \n",
      "ID_3                                                                       \n",
      "ID_4                                                                       \n",
      "ID_5                                                                       \n",
      "ID_6                                                                       \n",
      "ID_7                                                                       \n",
      "ID_8                                                                       \n",
      "ID_9   6.000000                                                            \n",
      "ID_10  1.414214  5.099020                                                  \n",
      "ID_11  4.123106  2.236068  3.605551                                        \n",
      "ID_12  1.414214  5.099020  0.000000  3.605551                              \n",
      "ID_13 21.189620 20.024984 21.840330 19.235384 21.840330                    \n",
      "ID_14 22.203603 22.203603 23.086793 21.023796 23.086793  4.472136          \n",
      "ID_15 25.079872 25.317978 26.019224 24.083189 26.019224  7.071068  3.162278\n",
      "ID_16 22.090722 22.360680 23.021729 21.095023 23.021729  5.385165  1.000000\n",
      "ID_17 20.024984 21.189620 21.095023 19.646883 21.095023  8.000000  4.472136\n",
      "ID_18 19.000000 19.924859 20.024984 18.439089 20.024984  7.071068  4.242641\n",
      "          ID_15     ID_16     ID_17\n",
      "ID_2                               \n",
      "ID_3                               \n",
      "ID_4                               \n",
      "ID_5                               \n",
      "ID_6                               \n",
      "ID_7                               \n",
      "ID_8                               \n",
      "ID_9                               \n",
      "ID_10                              \n",
      "ID_11                              \n",
      "ID_12                              \n",
      "ID_13                              \n",
      "ID_14                              \n",
      "ID_15                              \n",
      "ID_16  3.000000                    \n",
      "ID_17  5.830952  3.605551          \n",
      "ID_18  6.324555  3.605551  1.414214\n"
     ]
    }
   ],
   "source": [
    "print(d)"
   ]
  },
  {
   "cell_type": "markdown",
   "metadata": {},
   "source": [
    "#### Build Dendogram"
   ]
  },
  {
   "cell_type": "code",
   "execution_count": 117,
   "metadata": {},
   "outputs": [],
   "source": [
    "dendogram = hclust(d, method = 'average')  ## method can also be 'complete','single','centroid'"
   ]
  },
  {
   "cell_type": "code",
   "execution_count": 118,
   "metadata": {},
   "outputs": [
    {
     "data": {
      "image/png": "[encoded data removed]",
      "text/plain": [
       "Plot with title \"Dendogram\""
      ]
     },
     "metadata": {},
     "output_type": "display_data"
    }
   ],
   "source": [
    "plot( dendogram, main='Dendogram', xlab='Customers', ylab='Distance' )\n",
    "rect.hclust( dendogram, k=3, border=c('red','green','blue'))"
   ]
  },
  {
   "cell_type": "code",
   "execution_count": 119,
   "metadata": {},
   "outputs": [
    {
     "name": "stdout",
     "output_type": "stream",
     "text": [
      " ID_1  ID_2  ID_3  ID_4  ID_5  ID_6  ID_7  ID_8  ID_9 ID_10 ID_11 ID_12 ID_13 \n",
      "    1     2     1     1     1     1     2     2     2     2     2     2     3 \n",
      "ID_14 ID_15 ID_16 ID_17 ID_18 \n",
      "    3     3     3     3     3 \n"
     ]
    }
   ],
   "source": [
    "clusters = cutree(dendogram, 3)\n",
    "print(clusters)"
   ]
  },
  {
   "cell_type": "code",
   "execution_count": 120,
   "metadata": {},
   "outputs": [
    {
     "data": {
      "image/png": "[encoded data removed]",
      "text/plain": [
       "plot without title"
      ]
     },
     "metadata": {},
     "output_type": "display_data"
    }
   ],
   "source": [
    "barplot( table(clusters))"
   ]
  },
  {
   "cell_type": "code",
   "execution_count": 121,
   "metadata": {
    "scrolled": true
   },
   "outputs": [
    {
     "data": {
      "image/png": "[encoded data removed]",
      "text/plain": [
       "Plot with title \"CLUSPLOT( my.cluster.df[, 3:4] )\""
      ]
     },
     "metadata": {},
     "output_type": "display_data"
    }
   ],
   "source": [
    "library(cluster)\n",
    "clusplot(my.cluster.df[,3:4], clusters, xlab='value1', ylab='value2')"
   ]
  },
  {
   "cell_type": "markdown",
   "metadata": {},
   "source": [
    "### Kmeans"
   ]
  },
  {
   "cell_type": "code",
   "execution_count": 122,
   "metadata": {},
   "outputs": [],
   "source": [
    "km.fit = kmeans(my.cluster.df[,3:4], centers = 3, nstart = 10)"
   ]
  },
  {
   "cell_type": "code",
   "execution_count": 123,
   "metadata": {},
   "outputs": [
    {
     "name": "stdout",
     "output_type": "stream",
     "text": [
      " ID_1  ID_2  ID_3  ID_4  ID_5  ID_6  ID_7  ID_8  ID_9 ID_10 ID_11 ID_12 ID_13 \n",
      "    1     3     1     1     1     1     3     3     3     3     3     3     2 \n",
      "ID_14 ID_15 ID_16 ID_17 ID_18 \n",
      "    2     2     2     2     2 \n"
     ]
    }
   ],
   "source": [
    "clusters = km.fit$cluster\n",
    "print(clusters)"
   ]
  },
  {
   "cell_type": "code",
   "execution_count": 124,
   "metadata": {},
   "outputs": [
    {
     "data": {
      "image/png": "[encoded data removed]",
      "text/plain": [
       "Plot with title \"CLUSPLOT( my.cluster.df[, 3:4] )\""
      ]
     },
     "metadata": {},
     "output_type": "display_data"
    }
   ],
   "source": [
    "library(cluster)\n",
    "clusplot(my.cluster.df[,3:4], clus = clusters)"
   ]
  },
  {
   "cell_type": "markdown",
   "metadata": {},
   "source": [
    "## Regression"
   ]
  },
  {
   "cell_type": "markdown",
   "metadata": {},
   "source": [
    "### Linear Regression"
   ]
  },
  {
   "cell_type": "markdown",
   "metadata": {},
   "source": [
    "#### The Data"
   ]
  },
  {
   "cell_type": "code",
   "execution_count": 125,
   "metadata": {},
   "outputs": [
    {
     "data": {
      "text/html": [
       "<table>\n",
       "<thead><tr><th></th><th scope=col>PassengerId</th><th scope=col>Survived</th><th scope=col>Pclass</th><th scope=col>Name</th><th scope=col>Sex</th><th scope=col>Age</th><th scope=col>SibSp</th><th scope=col>Parch</th><th scope=col>Ticket</th><th scope=col>Fare</th><th scope=col>Cabin</th><th scope=col>Embarked</th></tr></thead>\n",
       "<tbody>\n",
       "\t<tr><th scope=row>1</th><td>1                                           </td><td>0                                           </td><td>3                                           </td><td>Braund, Mr. Owen Harris                     </td><td>male                                        </td><td>22                                          </td><td>1                                           </td><td>0                                           </td><td>A/5 21171                                   </td><td> 7.2500                                     </td><td>                                            </td><td>S                                           </td></tr>\n",
       "\t<tr><th scope=row>3</th><td>3                                           </td><td>1                                           </td><td>3                                           </td><td>Heikkinen, Miss. Laina                      </td><td>female                                      </td><td>26                                          </td><td>0                                           </td><td>0                                           </td><td>STON/O2. 3101282                            </td><td> 7.9250                                     </td><td>                                            </td><td>S                                           </td></tr>\n",
       "\t<tr><th scope=row>4</th><td>4                                           </td><td>1                                           </td><td>1                                           </td><td>Futrelle, Mrs. Jacques Heath (Lily May Peel)</td><td>female                                      </td><td>35                                          </td><td>1                                           </td><td>0                                           </td><td>113803                                      </td><td>53.1000                                     </td><td>C123                                        </td><td>S                                           </td></tr>\n",
       "\t<tr><th scope=row>5</th><td>5                                           </td><td>0                                           </td><td>3                                           </td><td>Allen, Mr. William Henry                    </td><td>male                                        </td><td>35                                          </td><td>0                                           </td><td>0                                           </td><td>373450                                      </td><td> 8.0500                                     </td><td>                                            </td><td>S                                           </td></tr>\n",
       "\t<tr><th scope=row>6</th><td>6                                           </td><td>0                                           </td><td>3                                           </td><td>Moran, Mr. James                            </td><td>male                                        </td><td>NA                                          </td><td>0                                           </td><td>0                                           </td><td>330877                                      </td><td> 8.4583                                     </td><td>                                            </td><td>Q                                           </td></tr>\n",
       "\t<tr><th scope=row>8</th><td>8                                           </td><td>0                                           </td><td>3                                           </td><td>Palsson, Master. Gosta Leonard              </td><td>male                                        </td><td> 2                                          </td><td>3                                           </td><td>1                                           </td><td>349909                                      </td><td>21.0750                                     </td><td>                                            </td><td>S                                           </td></tr>\n",
       "</tbody>\n",
       "</table>\n"
      ],
      "text/latex": [
       "\\begin{tabular}{r|llllllllllll}\n",
       "  & PassengerId & Survived & Pclass & Name & Sex & Age & SibSp & Parch & Ticket & Fare & Cabin & Embarked\\\\\n",
       "\\hline\n",
       "\t1 & 1                                            & 0                                            & 3                                            & Braund, Mr. Owen Harris                      & male                                         & 22                                           & 1                                            & 0                                            & A/5 21171                                    &  7.2500                                      &                                              & S                                           \\\\\n",
       "\t3 & 3                                            & 1                                            & 3                                            & Heikkinen, Miss. Laina                       & female                                       & 26                                           & 0                                            & 0                                            & STON/O2. 3101282                             &  7.9250                                      &                                              & S                                           \\\\\n",
       "\t4 & 4                                            & 1                                            & 1                                            & Futrelle, Mrs. Jacques Heath (Lily May Peel) & female                                       & 35                                           & 1                                            & 0                                            & 113803                                       & 53.1000                                      & C123                                         & S                                           \\\\\n",
       "\t5 & 5                                            & 0                                            & 3                                            & Allen, Mr. William Henry                     & male                                         & 35                                           & 0                                            & 0                                            & 373450                                       &  8.0500                                      &                                              & S                                           \\\\\n",
       "\t6 & 6                                            & 0                                            & 3                                            & Moran, Mr. James                             & male                                         & NA                                           & 0                                            & 0                                            & 330877                                       &  8.4583                                      &                                              & Q                                           \\\\\n",
       "\t8 & 8                                            & 0                                            & 3                                            & Palsson, Master. Gosta Leonard               & male                                         &  2                                           & 3                                            & 1                                            & 349909                                       & 21.0750                                      &                                              & S                                           \\\\\n",
       "\\end{tabular}\n"
      ],
      "text/markdown": [
       "\n",
       "| <!--/--> | PassengerId | Survived | Pclass | Name | Sex | Age | SibSp | Parch | Ticket | Fare | Cabin | Embarked | \n",
       "|---|---|---|---|---|---|\n",
       "| 1 | 1                                            | 0                                            | 3                                            | Braund, Mr. Owen Harris                      | male                                         | 22                                           | 1                                            | 0                                            | A/5 21171                                    |  7.2500                                      |                                              | S                                            | \n",
       "| 3 | 3                                            | 1                                            | 3                                            | Heikkinen, Miss. Laina                       | female                                       | 26                                           | 0                                            | 0                                            | STON/O2. 3101282                             |  7.9250                                      |                                              | S                                            | \n",
       "| 4 | 4                                            | 1                                            | 1                                            | Futrelle, Mrs. Jacques Heath (Lily May Peel) | female                                       | 35                                           | 1                                            | 0                                            | 113803                                       | 53.1000                                      | C123                                         | S                                            | \n",
       "| 5 | 5                                            | 0                                            | 3                                            | Allen, Mr. William Henry                     | male                                         | 35                                           | 0                                            | 0                                            | 373450                                       |  8.0500                                      |                                              | S                                            | \n",
       "| 6 | 6                                            | 0                                            | 3                                            | Moran, Mr. James                             | male                                         | NA                                           | 0                                            | 0                                            | 330877                                       |  8.4583                                      |                                              | Q                                            | \n",
       "| 8 | 8                                            | 0                                            | 3                                            | Palsson, Master. Gosta Leonard               | male                                         |  2                                           | 3                                            | 1                                            | 349909                                       | 21.0750                                      |                                              | S                                            | \n",
       "\n",
       "\n"
      ],
      "text/plain": [
       "  PassengerId Survived Pclass Name                                        \n",
       "1 1           0        3      Braund, Mr. Owen Harris                     \n",
       "3 3           1        3      Heikkinen, Miss. Laina                      \n",
       "4 4           1        1      Futrelle, Mrs. Jacques Heath (Lily May Peel)\n",
       "5 5           0        3      Allen, Mr. William Henry                    \n",
       "6 6           0        3      Moran, Mr. James                            \n",
       "8 8           0        3      Palsson, Master. Gosta Leonard              \n",
       "  Sex    Age SibSp Parch Ticket           Fare    Cabin Embarked\n",
       "1 male   22  1     0     A/5 21171         7.2500       S       \n",
       "3 female 26  0     0     STON/O2. 3101282  7.9250       S       \n",
       "4 female 35  1     0     113803           53.1000 C123  S       \n",
       "5 male   35  0     0     373450            8.0500       S       \n",
       "6 male   NA  0     0     330877            8.4583       Q       \n",
       "8 male    2  3     1     349909           21.0750       S       "
      ]
     },
     "metadata": {},
     "output_type": "display_data"
    }
   ],
   "source": [
    "head(train)\n",
    "n = nrow(mtcars)\n",
    "spl = sample(1:n, 0.7*n, replace = FALSE)\n",
    "train = mtcars[spl,]\n",
    "test  = mtcars[-spl,]"
   ]
  },
  {
   "cell_type": "markdown",
   "metadata": {},
   "source": [
    "#### Build Model\n",
    "Example below build single variable linear ergression"
   ]
  },
  {
   "cell_type": "code",
   "execution_count": 126,
   "metadata": {},
   "outputs": [],
   "source": [
    "fit1 = lm(formula = mpg ~ hp,        data = train) \n",
    "fit2 = lm(formula = mpg ~ hp + disp, data=train)\n",
    "fit3 = lm(formula = mpg ~ .,         data=train)"
   ]
  },
  {
   "cell_type": "markdown",
   "metadata": {},
   "source": [
    "#### Understand The Model"
   ]
  },
  {
   "cell_type": "code",
   "execution_count": 127,
   "metadata": {},
   "outputs": [
    {
     "data": {
      "text/plain": [
       "\n",
       "Call:\n",
       "lm(formula = mpg ~ ., data = train)\n",
       "\n",
       "Residuals:\n",
       "    Min      1Q  Median      3Q     Max \n",
       "-4.2903 -0.8220  0.0531  0.9885  3.3759 \n",
       "\n",
       "Coefficients:\n",
       "              Estimate Std. Error t value Pr(>|t|)  \n",
       "(Intercept) -30.889069  27.833828  -1.110   0.2908  \n",
       "cyl           2.781860   1.554408   1.790   0.1010  \n",
       "disp          0.004888   0.017722   0.276   0.7878  \n",
       "hp            0.019064   0.031178   0.611   0.5533  \n",
       "drat          1.108272   2.423880   0.457   0.6564  \n",
       "wt           -5.366986   2.763897  -1.942   0.0782 .\n",
       "qsec          1.968399   1.063203   1.851   0.0911 .\n",
       "vs            4.432352   3.590414   1.234   0.2427  \n",
       "am            7.133851   3.782968   1.886   0.0860 .\n",
       "gear          1.272574   2.507704   0.507   0.6218  \n",
       "carb         -0.552846   1.369391  -0.404   0.6942  \n",
       "---\n",
       "Signif. codes:  0 '***' 0.001 '**' 0.01 '*' 0.05 '.' 0.1 ' ' 1\n",
       "\n",
       "Residual standard error: 2.359 on 11 degrees of freedom\n",
       "Multiple R-squared:  0.9287,\tAdjusted R-squared:  0.8639 \n",
       "F-statistic: 14.33 on 10 and 11 DF,  p-value: 6.296e-05\n"
      ]
     },
     "metadata": {},
     "output_type": "display_data"
    }
   ],
   "source": [
    "summary(fit3)"
   ]
  },
  {
   "cell_type": "code",
   "execution_count": 128,
   "metadata": {},
   "outputs": [
    {
     "name": "stdout",
     "output_type": "stream",
     "text": [
      "List of 12\n",
      " $ coefficients : Named num [1:2] 33.8314 -0.0953\n",
      "  ..- attr(*, \"names\")= chr [1:2] \"(Intercept)\" \"hp\"\n",
      " $ residuals    : Named num [1:22] -1.98 3.82 1.55 -2.91 2.55 ...\n",
      "  ..- attr(*, \"names\")= chr [1:22] \"Merc 230\" \"Duster 360\" \"Hornet Sportabout\" \"Merc 280\" ...\n",
      " $ effects      : Named num [1:22] -98.58 24.73 1.37 -2.51 2.37 ...\n",
      "  ..- attr(*, \"names\")= chr [1:22] \"(Intercept)\" \"hp\" \"\" \"\" ...\n",
      " $ rank         : int 2\n",
      " $ fitted.values: Named num [1:22] 24.8 10.5 17.2 22.1 17.2 ...\n",
      "  ..- attr(*, \"names\")= chr [1:22] \"Merc 230\" \"Duster 360\" \"Hornet Sportabout\" \"Merc 280\" ...\n",
      " $ assign       : int [1:2] 0 1\n",
      " $ qr           :List of 5\n",
      "  ..$ qr   : num [1:22, 1:2] -4.69 0.213 0.213 0.213 0.213 ...\n",
      "  .. ..- attr(*, \"dimnames\")=List of 2\n",
      "  .. .. ..$ : chr [1:22] \"Merc 230\" \"Duster 360\" \"Hornet Sportabout\" \"Merc 280\" ...\n",
      "  .. .. ..$ : chr [1:2] \"(Intercept)\" \"hp\"\n",
      "  .. ..- attr(*, \"assign\")= int [1:2] 0 1\n",
      "  ..$ qraux: num [1:2] 1.21 1.45\n",
      "  ..$ pivot: int [1:2] 1 2\n",
      "  ..$ tol  : num 1e-07\n",
      "  ..$ rank : int 2\n",
      "  ..- attr(*, \"class\")= chr \"qr\"\n",
      " $ df.residual  : int 20\n",
      " $ xlevels      : Named list()\n",
      " $ call         : language lm(formula = mpg ~ hp, data = train)\n",
      " $ terms        :Classes 'terms', 'formula'  language mpg ~ hp\n",
      "  .. ..- attr(*, \"variables\")= language list(mpg, hp)\n",
      "  .. ..- attr(*, \"factors\")= int [1:2, 1] 0 1\n",
      "  .. .. ..- attr(*, \"dimnames\")=List of 2\n",
      "  .. .. .. ..$ : chr [1:2] \"mpg\" \"hp\"\n",
      "  .. .. .. ..$ : chr \"hp\"\n",
      "  .. ..- attr(*, \"term.labels\")= chr \"hp\"\n",
      "  .. ..- attr(*, \"order\")= int 1\n",
      "  .. ..- attr(*, \"intercept\")= int 1\n",
      "  .. ..- attr(*, \"response\")= int 1\n",
      "  .. ..- attr(*, \".Environment\")=<environment: R_GlobalEnv> \n",
      "  .. ..- attr(*, \"predvars\")= language list(mpg, hp)\n",
      "  .. ..- attr(*, \"dataClasses\")= Named chr [1:2] \"numeric\" \"numeric\"\n",
      "  .. .. ..- attr(*, \"names\")= chr [1:2] \"mpg\" \"hp\"\n",
      " $ model        :'data.frame':\t22 obs. of  2 variables:\n",
      "  ..$ mpg: num [1:22] 22.8 14.3 18.7 19.2 19.7 21.4 16.4 21 32.4 22.8 ...\n",
      "  ..$ hp : num [1:22] 95 245 175 123 175 110 180 110 66 93 ...\n",
      "  ..- attr(*, \"terms\")=Classes 'terms', 'formula'  language mpg ~ hp\n",
      "  .. .. ..- attr(*, \"variables\")= language list(mpg, hp)\n",
      "  .. .. ..- attr(*, \"factors\")= int [1:2, 1] 0 1\n",
      "  .. .. .. ..- attr(*, \"dimnames\")=List of 2\n",
      "  .. .. .. .. ..$ : chr [1:2] \"mpg\" \"hp\"\n",
      "  .. .. .. .. ..$ : chr \"hp\"\n",
      "  .. .. ..- attr(*, \"term.labels\")= chr \"hp\"\n",
      "  .. .. ..- attr(*, \"order\")= int 1\n",
      "  .. .. ..- attr(*, \"intercept\")= int 1\n",
      "  .. .. ..- attr(*, \"response\")= int 1\n",
      "  .. .. ..- attr(*, \".Environment\")=<environment: R_GlobalEnv> \n",
      "  .. .. ..- attr(*, \"predvars\")= language list(mpg, hp)\n",
      "  .. .. ..- attr(*, \"dataClasses\")= Named chr [1:2] \"numeric\" \"numeric\"\n",
      "  .. .. .. ..- attr(*, \"names\")= chr [1:2] \"mpg\" \"hp\"\n",
      " - attr(*, \"class\")= chr \"lm\"\n"
     ]
    }
   ],
   "source": [
    "str(fit1)"
   ]
  },
  {
   "cell_type": "markdown",
   "metadata": {},
   "source": [
    "#### Visualize The Model"
   ]
  },
  {
   "cell_type": "code",
   "execution_count": 129,
   "metadata": {},
   "outputs": [
    {
     "data": {
      "image/png": "[encoded data removed]",
      "text/plain": [
       "plot without title"
      ]
     },
     "metadata": {},
     "output_type": "display_data"
    }
   ],
   "source": [
    "options(repr.plot.width =8 , repr.plot.height = 6, repr.plot.res = 300)\n",
    "par(mfrow=c(2,2))\n",
    "\n",
    "plot(mtcars$hp, mtcars$mpg)\n",
    "abline(fit1, lty=2)"
   ]
  },
  {
   "cell_type": "markdown",
   "metadata": {},
   "source": [
    "#### Prediction"
   ]
  },
  {
   "cell_type": "code",
   "execution_count": 130,
   "metadata": {},
   "outputs": [
    {
     "data": {
      "text/html": [
       "<dl class=dl-horizontal>\n",
       "\t<dt>Valiant</dt>\n",
       "\t\t<dd>20.8910146145264</dd>\n",
       "\t<dt>Merc 240D</dt>\n",
       "\t\t<dd>16.8912396253276</dd>\n",
       "\t<dt>Lincoln Continental</dt>\n",
       "\t\t<dd>8.61073002692555</dd>\n",
       "\t<dt>Chrysler Imperial</dt>\n",
       "\t\t<dd>8.69045674451024</dd>\n",
       "\t<dt>Dodge Challenger</dt>\n",
       "\t\t<dd>15.8658838270809</dd>\n",
       "\t<dt>Pontiac Firebird</dt>\n",
       "\t\t<dd>15.7080231122251</dd>\n",
       "\t<dt>Porsche 914-2</dt>\n",
       "\t\t<dd>21.2488557657</dd>\n",
       "\t<dt>Ford Pantera L</dt>\n",
       "\t\t<dd>25.605223770476</dd>\n",
       "\t<dt>Maserati Bora</dt>\n",
       "\t\t<dd>21.7993821311546</dd>\n",
       "\t<dt>Volvo 142E</dt>\n",
       "\t\t<dd>24.7056469343751</dd>\n",
       "</dl>\n"
      ],
      "text/latex": [
       "\\begin{description*}\n",
       "\\item[Valiant] 20.8910146145264\n",
       "\\item[Merc 240D] 16.8912396253276\n",
       "\\item[Lincoln Continental] 8.61073002692555\n",
       "\\item[Chrysler Imperial] 8.69045674451024\n",
       "\\item[Dodge Challenger] 15.8658838270809\n",
       "\\item[Pontiac Firebird] 15.7080231122251\n",
       "\\item[Porsche 914-2] 21.2488557657\n",
       "\\item[Ford Pantera L] 25.605223770476\n",
       "\\item[Maserati Bora] 21.7993821311546\n",
       "\\item[Volvo 142E] 24.7056469343751\n",
       "\\end{description*}\n"
      ],
      "text/markdown": [
       "Valiant\n",
       ":   20.8910146145264Merc 240D\n",
       ":   16.8912396253276Lincoln Continental\n",
       ":   8.61073002692555Chrysler Imperial\n",
       ":   8.69045674451024Dodge Challenger\n",
       ":   15.8658838270809Pontiac Firebird\n",
       ":   15.7080231122251Porsche 914-2\n",
       ":   21.2488557657Ford Pantera L\n",
       ":   25.605223770476Maserati Bora\n",
       ":   21.7993821311546Volvo 142E\n",
       ":   24.7056469343751\n",
       "\n"
      ],
      "text/plain": [
       "            Valiant           Merc 240D Lincoln Continental   Chrysler Imperial \n",
       "          20.891015           16.891240            8.610730            8.690457 \n",
       "   Dodge Challenger    Pontiac Firebird       Porsche 914-2      Ford Pantera L \n",
       "          15.865884           15.708023           21.248856           25.605224 \n",
       "      Maserati Bora          Volvo 142E \n",
       "          21.799382           24.705647 "
      ]
     },
     "metadata": {},
     "output_type": "display_data"
    }
   ],
   "source": [
    "predict(fit3, newdata = test)"
   ]
  },
  {
   "cell_type": "markdown",
   "metadata": {},
   "source": [
    "### Decision Tree"
   ]
  },
  {
   "cell_type": "markdown",
   "metadata": {},
   "source": [
    "#### Build Model"
   ]
  },
  {
   "cell_type": "code",
   "execution_count": 131,
   "metadata": {},
   "outputs": [],
   "source": [
    "library(rpart)"
   ]
  },
  {
   "cell_type": "code",
   "execution_count": 132,
   "metadata": {},
   "outputs": [],
   "source": [
    "fit = rpart( formula = mpg ~ hp + disp, data=mtcars)"
   ]
  },
  {
   "cell_type": "markdown",
   "metadata": {},
   "source": [
    "#### Understand The Model"
   ]
  },
  {
   "cell_type": "code",
   "execution_count": 133,
   "metadata": {},
   "outputs": [
    {
     "name": "stdout",
     "output_type": "stream",
     "text": [
      "Call:\n",
      "rpart(formula = mpg ~ hp + disp, data = mtcars)\n",
      "  n= 32 \n",
      "\n",
      "         CP nsplit rel error    xerror      xstd\n",
      "1 0.6130502      0 1.0000000 1.0870538 0.2614005\n",
      "2 0.0100000      1 0.3869498 0.6601878 0.1321663\n",
      "\n",
      "Variable importance\n",
      "disp   hp \n",
      "  56   44 \n",
      "\n",
      "Node number 1: 32 observations,    complexity param=0.6130502\n",
      "  mean=20.09062, MSE=35.18897 \n",
      "  left son=2 (18 obs) right son=3 (14 obs)\n",
      "  Primary splits:\n",
      "      disp < 163.8 to the right, improve=0.6130502, (0 missing)\n",
      "      hp   < 118   to the right, improve=0.6010712, (0 missing)\n",
      "  Surrogate splits:\n",
      "      hp < 118   to the right, agree=0.906, adj=0.786, (0 split)\n",
      "\n",
      "Node number 2: 18 observations\n",
      "  mean=15.99444, MSE=7.977191 \n",
      "\n",
      "Node number 3: 14 observations\n",
      "  mean=25.35714, MSE=20.86673 \n",
      "\n"
     ]
    }
   ],
   "source": [
    "summary( fit )"
   ]
  },
  {
   "cell_type": "code",
   "execution_count": 134,
   "metadata": {},
   "outputs": [
    {
     "name": "stdout",
     "output_type": "stream",
     "text": [
      "List of 14\n",
      " $ frame              :'data.frame':\t3 obs. of  8 variables:\n",
      "  ..$ var       : Factor w/ 2 levels \"<leaf>\",\"disp\": 2 1 1\n",
      "  ..$ n         : int [1:3] 32 18 14\n",
      "  ..$ wt        : num [1:3] 32 18 14\n",
      "  ..$ dev       : num [1:3] 1126 144 292\n",
      "  ..$ yval      : num [1:3] 20.1 16 25.4\n",
      "  ..$ complexity: num [1:3] 0.613 0.01 0.01\n",
      "  ..$ ncompete  : int [1:3] 1 0 0\n",
      "  ..$ nsurrogate: int [1:3] 1 0 0\n",
      " $ where              : Named int [1:32] 3 3 3 2 2 2 2 3 3 2 ...\n",
      "  ..- attr(*, \"names\")= chr [1:32] \"Mazda RX4\" \"Mazda RX4 Wag\" \"Datsun 710\" \"Hornet 4 Drive\" ...\n",
      " $ call               : language rpart(formula = mpg ~ hp + disp, data = mtcars)\n",
      " $ terms              :Classes 'terms', 'formula'  language mpg ~ hp + disp\n",
      "  .. ..- attr(*, \"variables\")= language list(mpg, hp, disp)\n",
      "  .. ..- attr(*, \"factors\")= int [1:3, 1:2] 0 1 0 0 0 1\n",
      "  .. .. ..- attr(*, \"dimnames\")=List of 2\n",
      "  .. .. .. ..$ : chr [1:3] \"mpg\" \"hp\" \"disp\"\n",
      "  .. .. .. ..$ : chr [1:2] \"hp\" \"disp\"\n",
      "  .. ..- attr(*, \"term.labels\")= chr [1:2] \"hp\" \"disp\"\n",
      "  .. ..- attr(*, \"order\")= int [1:2] 1 1\n",
      "  .. ..- attr(*, \"intercept\")= int 1\n",
      "  .. ..- attr(*, \"response\")= int 1\n",
      "  .. ..- attr(*, \".Environment\")=<environment: R_GlobalEnv> \n",
      "  .. ..- attr(*, \"predvars\")= language list(mpg, hp, disp)\n",
      "  .. ..- attr(*, \"dataClasses\")= Named chr [1:3] \"numeric\" \"numeric\" \"numeric\"\n",
      "  .. .. ..- attr(*, \"names\")= chr [1:3] \"mpg\" \"hp\" \"disp\"\n",
      " $ cptable            : num [1:2, 1:5] 0.613 0.01 0 1 1 ...\n",
      "  ..- attr(*, \"dimnames\")=List of 2\n",
      "  .. ..$ : chr [1:2] \"1\" \"2\"\n",
      "  .. ..$ : chr [1:5] \"CP\" \"nsplit\" \"rel error\" \"xerror\" ...\n",
      " $ method             : chr \"anova\"\n",
      " $ parms              : NULL\n",
      " $ control            :List of 9\n",
      "  ..$ minsplit      : int 20\n",
      "  ..$ minbucket     : num 7\n",
      "  ..$ cp            : num 0.01\n",
      "  ..$ maxcompete    : int 4\n",
      "  ..$ maxsurrogate  : int 5\n",
      "  ..$ usesurrogate  : int 2\n",
      "  ..$ surrogatestyle: int 0\n",
      "  ..$ maxdepth      : int 30\n",
      "  ..$ xval          : int 10\n",
      " $ functions          :List of 2\n",
      "  ..$ summary:function (yval, dev, wt, ylevel, digits)  \n",
      "  ..$ text   :function (yval, dev, wt, ylevel, digits, n, use.n)  \n",
      " $ numresp            : int 1\n",
      " $ splits             : num [1:3, 1:5] 32 32 0 1 1 ...\n",
      "  ..- attr(*, \"dimnames\")=List of 2\n",
      "  .. ..$ : chr [1:3] \"disp\" \"hp\" \"hp\"\n",
      "  .. ..$ : chr [1:5] \"count\" \"ncat\" \"improve\" \"index\" ...\n",
      " $ variable.importance: Named num [1:2] 690 542\n",
      "  ..- attr(*, \"names\")= chr [1:2] \"disp\" \"hp\"\n",
      " $ y                  : Named num [1:32] 21 21 22.8 21.4 18.7 18.1 14.3 24.4 22.8 19.2 ...\n",
      "  ..- attr(*, \"names\")= chr [1:32] \"Mazda RX4\" \"Mazda RX4 Wag\" \"Datsun 710\" \"Hornet 4 Drive\" ...\n",
      " $ ordered            : Named logi [1:2] FALSE FALSE\n",
      "  ..- attr(*, \"names\")= chr [1:2] \"hp\" \"disp\"\n",
      " - attr(*, \"xlevels\")= Named list()\n",
      " - attr(*, \"class\")= chr \"rpart\"\n"
     ]
    }
   ],
   "source": [
    "str( fit )"
   ]
  },
  {
   "cell_type": "markdown",
   "metadata": {},
   "source": [
    "#### Visualize"
   ]
  },
  {
   "cell_type": "code",
   "execution_count": 135,
   "metadata": {},
   "outputs": [
    {
     "data": {
      "image/png": "[encoded data removed]",
      "text/plain": [
       "plot without title"
      ]
     },
     "metadata": {},
     "output_type": "display_data"
    }
   ],
   "source": [
    "options(repr.plot.width =8 , repr.plot.height = 4.5, repr.plot.res = 300)\n",
    "plot( fit )\n",
    "text( fit, cex = .9)"
   ]
  },
  {
   "cell_type": "code",
   "execution_count": 136,
   "metadata": {},
   "outputs": [
    {
     "name": "stdout",
     "output_type": "stream",
     "text": [
      "List of 14\n",
      " $ frame              :'data.frame':\t3 obs. of  8 variables:\n",
      "  ..$ var       : Factor w/ 2 levels \"<leaf>\",\"disp\": 2 1 1\n",
      "  ..$ n         : int [1:3] 32 18 14\n",
      "  ..$ wt        : num [1:3] 32 18 14\n",
      "  ..$ dev       : num [1:3] 1126 144 292\n",
      "  ..$ yval      : num [1:3] 20.1 16 25.4\n",
      "  ..$ complexity: num [1:3] 0.613 0.01 0.01\n",
      "  ..$ ncompete  : int [1:3] 1 0 0\n",
      "  ..$ nsurrogate: int [1:3] 1 0 0\n",
      " $ where              : Named int [1:32] 3 3 3 2 2 2 2 3 3 2 ...\n",
      "  ..- attr(*, \"names\")= chr [1:32] \"Mazda RX4\" \"Mazda RX4 Wag\" \"Datsun 710\" \"Hornet 4 Drive\" ...\n",
      " $ call               : language rpart(formula = mpg ~ hp + disp, data = mtcars)\n",
      " $ terms              :Classes 'terms', 'formula'  language mpg ~ hp + disp\n",
      "  .. ..- attr(*, \"variables\")= language list(mpg, hp, disp)\n",
      "  .. ..- attr(*, \"factors\")= int [1:3, 1:2] 0 1 0 0 0 1\n",
      "  .. .. ..- attr(*, \"dimnames\")=List of 2\n",
      "  .. .. .. ..$ : chr [1:3] \"mpg\" \"hp\" \"disp\"\n",
      "  .. .. .. ..$ : chr [1:2] \"hp\" \"disp\"\n",
      "  .. ..- attr(*, \"term.labels\")= chr [1:2] \"hp\" \"disp\"\n",
      "  .. ..- attr(*, \"order\")= int [1:2] 1 1\n",
      "  .. ..- attr(*, \"intercept\")= int 1\n",
      "  .. ..- attr(*, \"response\")= int 1\n",
      "  .. ..- attr(*, \".Environment\")=<environment: R_GlobalEnv> \n",
      "  .. ..- attr(*, \"predvars\")= language list(mpg, hp, disp)\n",
      "  .. ..- attr(*, \"dataClasses\")= Named chr [1:3] \"numeric\" \"numeric\" \"numeric\"\n",
      "  .. .. ..- attr(*, \"names\")= chr [1:3] \"mpg\" \"hp\" \"disp\"\n",
      " $ cptable            : num [1:2, 1:5] 0.613 0.01 0 1 1 ...\n",
      "  ..- attr(*, \"dimnames\")=List of 2\n",
      "  .. ..$ : chr [1:2] \"1\" \"2\"\n",
      "  .. ..$ : chr [1:5] \"CP\" \"nsplit\" \"rel error\" \"xerror\" ...\n",
      " $ method             : chr \"anova\"\n",
      " $ parms              : NULL\n",
      " $ control            :List of 9\n",
      "  ..$ minsplit      : int 20\n",
      "  ..$ minbucket     : num 7\n",
      "  ..$ cp            : num 0.01\n",
      "  ..$ maxcompete    : int 4\n",
      "  ..$ maxsurrogate  : int 5\n",
      "  ..$ usesurrogate  : int 2\n",
      "  ..$ surrogatestyle: int 0\n",
      "  ..$ maxdepth      : int 30\n",
      "  ..$ xval          : int 10\n",
      " $ functions          :List of 2\n",
      "  ..$ summary:function (yval, dev, wt, ylevel, digits)  \n",
      "  ..$ text   :function (yval, dev, wt, ylevel, digits, n, use.n)  \n",
      " $ numresp            : int 1\n",
      " $ splits             : num [1:3, 1:5] 32 32 0 1 1 ...\n",
      "  ..- attr(*, \"dimnames\")=List of 2\n",
      "  .. ..$ : chr [1:3] \"disp\" \"hp\" \"hp\"\n",
      "  .. ..$ : chr [1:5] \"count\" \"ncat\" \"improve\" \"index\" ...\n",
      " $ variable.importance: Named num [1:2] 690 542\n",
      "  ..- attr(*, \"names\")= chr [1:2] \"disp\" \"hp\"\n",
      " $ y                  : Named num [1:32] 21 21 22.8 21.4 18.7 18.1 14.3 24.4 22.8 19.2 ...\n",
      "  ..- attr(*, \"names\")= chr [1:32] \"Mazda RX4\" \"Mazda RX4 Wag\" \"Datsun 710\" \"Hornet 4 Drive\" ...\n",
      " $ ordered            : Named logi [1:2] FALSE FALSE\n",
      "  ..- attr(*, \"names\")= chr [1:2] \"hp\" \"disp\"\n",
      " - attr(*, \"xlevels\")= Named list()\n",
      " - attr(*, \"class\")= chr \"rpart\"\n"
     ]
    }
   ],
   "source": [
    "str(as.vector(fit))"
   ]
  },
  {
   "cell_type": "markdown",
   "metadata": {},
   "source": [
    "## Classification"
   ]
  },
  {
   "cell_type": "markdown",
   "metadata": {},
   "source": [
    "### Sample Dataset"
   ]
  },
  {
   "cell_type": "code",
   "execution_count": 137,
   "metadata": {},
   "outputs": [],
   "source": [
    "set.seed(1234)\n",
    "raw = read.csv('./data/hr.csv')\n",
    "raw$left = as.factor(raw$left)\n",
    "\n",
    "### Split Data\n",
    "train.rows = sample( 1:nrow(raw), 0.7 * nrow(raw) )\n",
    "train.data = raw[train.rows,]\n",
    "test.data  = raw[-train.rows,]"
   ]
  },
  {
   "cell_type": "code",
   "execution_count": 138,
   "metadata": {},
   "outputs": [
    {
     "name": "stdout",
     "output_type": "stream",
     "text": [
      "Observations: 8,400\n",
      "Variables: 7\n",
      "$ S       <dbl> 0.41, 0.57, 0.83, 0.77, 0.64, 0.72, 0.90, 0.16, 0.34, 0.86,...\n",
      "$ LPE     <dbl> 0.52, 0.42, 0.91, 0.96, 0.43, 0.89, 0.96, 0.97, 0.76, 0.74,...\n",
      "$ NP      <int> 2, 2, 4, 3, 5, 4, 4, 6, 6, 2, 4, 3, 3, 5, 4, 4, 3, 5, 4, 4,...\n",
      "$ ANH     <int> 147, 248, 210, 232, 269, 217, 258, 235, 237, 178, 185, 140,...\n",
      "$ TIC     <int> 3, 4, 4, 2, 3, 3, 5, 3, 5, 3, 3, 3, 4, 4, 3, 2, 4, 3, 3, 3,...\n",
      "$ Newborn <int> 0, 0, 0, 1, 0, 0, 0, 0, 0, 0, 0, 1, 0, 1, 0, 0, 1, 0, 0, 0,...\n",
      "$ left    <fct> 1, 0, 0, 0, 0, 0, 1, 0, 0, 0, 0, 0, 0, 0, 0, 0, 0, 0, 0, 0,...\n"
     ]
    }
   ],
   "source": [
    "glimpse(train.data)"
   ]
  },
  {
   "cell_type": "markdown",
   "metadata": {},
   "source": [
    "### Logistic Regression"
   ]
  },
  {
   "cell_type": "code",
   "execution_count": 139,
   "metadata": {},
   "outputs": [],
   "source": [
    "fit = glm( left ~ ., family = binomial, data=train.data )"
   ]
  },
  {
   "cell_type": "code",
   "execution_count": 140,
   "metadata": {},
   "outputs": [
    {
     "name": "stdout",
     "output_type": "stream",
     "text": [
      "List of 30\n",
      " $ coefficients     : Named num [1:7] -1.30962 -3.79675 0.56861 -0.35192 0.00366 ...\n",
      "  ..- attr(*, \"names\")= chr [1:7] \"(Intercept)\" \"S\" \"LPE\" \"NP\" ...\n",
      " $ residuals        : Named num [1:8400] 3.39 -1.58 -1.12 -1.01 -1.09 ...\n",
      "  ..- attr(*, \"names\")= chr [1:8400] \"1365\" \"7467\" \"7311\" \"7479\" ...\n",
      " $ fitted.values    : Named num [1:8400] 0.2949 0.3671 0.1095 0.0135 0.0828 ...\n",
      "  ..- attr(*, \"names\")= chr [1:8400] \"1365\" \"7467\" \"7311\" \"7479\" ...\n",
      " $ effects          : Named num [1:8400] 37.61 25.34 -3.06 -4.84 -5.25 ...\n",
      "  ..- attr(*, \"names\")= chr [1:8400] \"(Intercept)\" \"S\" \"LPE\" \"NP\" ...\n",
      " $ R                : num [1:7, 1:7] -30.1 0 0 0 0 ...\n",
      "  ..- attr(*, \"dimnames\")=List of 2\n",
      "  .. ..$ : chr [1:7] \"(Intercept)\" \"S\" \"LPE\" \"NP\" ...\n",
      "  .. ..$ : chr [1:7] \"(Intercept)\" \"S\" \"LPE\" \"NP\" ...\n",
      " $ rank             : int 7\n",
      " $ qr               :List of 5\n",
      "  ..$ qr   : num [1:8400, 1:7] -30.10652 0.01601 0.01037 0.00384 0.00915 ...\n",
      "  .. ..- attr(*, \"dimnames\")=List of 2\n",
      "  .. .. ..$ : chr [1:8400] \"1365\" \"7467\" \"7311\" \"7479\" ...\n",
      "  .. .. ..$ : chr [1:7] \"(Intercept)\" \"S\" \"LPE\" \"NP\" ...\n",
      "  ..$ rank : int 7\n",
      "  ..$ qraux: num [1:7] 1.02 1 1.01 1 1.01 ...\n",
      "  ..$ pivot: int [1:7] 1 2 3 4 5 6 7\n",
      "  ..$ tol  : num 1e-11\n",
      "  ..- attr(*, \"class\")= chr \"qr\"\n",
      " $ family           :List of 12\n",
      "  ..$ family    : chr \"binomial\"\n",
      "  ..$ link      : chr \"logit\"\n",
      "  ..$ linkfun   :function (mu)  \n",
      "  ..$ linkinv   :function (eta)  \n",
      "  ..$ variance  :function (mu)  \n",
      "  ..$ dev.resids:function (y, mu, wt)  \n",
      "  ..$ aic       :function (y, n, mu, wt, dev)  \n",
      "  ..$ mu.eta    :function (eta)  \n",
      "  ..$ initialize:  expression({  if (NCOL(y) == 1) {  if (is.factor(y))  y <- y != levels(y)[1L]  n <- rep.int(1, nobs)  y[weights =| __truncated__\n",
      "  ..$ validmu   :function (mu)  \n",
      "  ..$ valideta  :function (eta)  \n",
      "  ..$ simulate  :function (object, nsim)  \n",
      "  ..- attr(*, \"class\")= chr \"family\"\n",
      " $ linear.predictors: Named num [1:8400] -0.872 -0.545 -2.096 -4.29 -2.405 ...\n",
      "  ..- attr(*, \"names\")= chr [1:8400] \"1365\" \"7467\" \"7311\" \"7479\" ...\n",
      " $ deviance         : num 5896\n",
      " $ aic              : num 5910\n",
      " $ null.deviance    : num 7511\n",
      " $ iter             : int 6\n",
      " $ weights          : Named num [1:8400] 0.2079 0.2323 0.0975 0.0133 0.0759 ...\n",
      "  ..- attr(*, \"names\")= chr [1:8400] \"1365\" \"7467\" \"7311\" \"7479\" ...\n",
      " $ prior.weights    : Named num [1:8400] 1 1 1 1 1 1 1 1 1 1 ...\n",
      "  ..- attr(*, \"names\")= chr [1:8400] \"1365\" \"7467\" \"7311\" \"7479\" ...\n",
      " $ df.residual      : int 8393\n",
      " $ df.null          : int 8399\n",
      " $ y                : Named num [1:8400] 1 0 0 0 0 0 1 0 0 0 ...\n",
      "  ..- attr(*, \"names\")= chr [1:8400] \"1365\" \"7467\" \"7311\" \"7479\" ...\n",
      " $ converged        : logi TRUE\n",
      " $ boundary         : logi FALSE\n",
      " $ model            :'data.frame':\t8400 obs. of  7 variables:\n",
      "  ..$ left   : Factor w/ 2 levels \"0\",\"1\": 2 1 1 1 1 1 2 1 1 1 ...\n",
      "  ..$ S      : num [1:8400] 0.41 0.57 0.83 0.77 0.64 0.72 0.9 0.16 0.34 0.86 ...\n",
      "  ..$ LPE    : num [1:8400] 0.52 0.42 0.91 0.96 0.43 0.89 0.96 0.97 0.76 0.74 ...\n",
      "  ..$ NP     : int [1:8400] 2 2 4 3 5 4 4 6 6 2 ...\n",
      "  ..$ ANH    : int [1:8400] 147 248 210 232 269 217 258 235 237 178 ...\n",
      "  ..$ TIC    : int [1:8400] 3 4 4 2 3 3 5 3 5 3 ...\n",
      "  ..$ Newborn: int [1:8400] 0 0 0 1 0 0 0 0 0 0 ...\n",
      "  ..- attr(*, \"terms\")=Classes 'terms', 'formula'  language left ~ S + LPE + NP + ANH + TIC + Newborn\n",
      "  .. .. ..- attr(*, \"variables\")= language list(left, S, LPE, NP, ANH, TIC, Newborn)\n",
      "  .. .. ..- attr(*, \"factors\")= int [1:7, 1:6] 0 1 0 0 0 0 0 0 0 1 ...\n",
      "  .. .. .. ..- attr(*, \"dimnames\")=List of 2\n",
      "  .. .. .. .. ..$ : chr [1:7] \"left\" \"S\" \"LPE\" \"NP\" ...\n",
      "  .. .. .. .. ..$ : chr [1:6] \"S\" \"LPE\" \"NP\" \"ANH\" ...\n",
      "  .. .. ..- attr(*, \"term.labels\")= chr [1:6] \"S\" \"LPE\" \"NP\" \"ANH\" ...\n",
      "  .. .. ..- attr(*, \"order\")= int [1:6] 1 1 1 1 1 1\n",
      "  .. .. ..- attr(*, \"intercept\")= int 1\n",
      "  .. .. ..- attr(*, \"response\")= int 1\n",
      "  .. .. ..- attr(*, \".Environment\")=<environment: R_GlobalEnv> \n",
      "  .. .. ..- attr(*, \"predvars\")= language list(left, S, LPE, NP, ANH, TIC, Newborn)\n",
      "  .. .. ..- attr(*, \"dataClasses\")= Named chr [1:7] \"factor\" \"numeric\" \"numeric\" \"numeric\" ...\n",
      "  .. .. .. ..- attr(*, \"names\")= chr [1:7] \"left\" \"S\" \"LPE\" \"NP\" ...\n",
      " $ call             : language glm(formula = left ~ ., family = binomial, data = train.data)\n",
      " $ formula          :Class 'formula'  language left ~ .\n",
      "  .. ..- attr(*, \".Environment\")=<environment: R_GlobalEnv> \n",
      " $ terms            :Classes 'terms', 'formula'  language left ~ S + LPE + NP + ANH + TIC + Newborn\n",
      "  .. ..- attr(*, \"variables\")= language list(left, S, LPE, NP, ANH, TIC, Newborn)\n",
      "  .. ..- attr(*, \"factors\")= int [1:7, 1:6] 0 1 0 0 0 0 0 0 0 1 ...\n",
      "  .. .. ..- attr(*, \"dimnames\")=List of 2\n",
      "  .. .. .. ..$ : chr [1:7] \"left\" \"S\" \"LPE\" \"NP\" ...\n",
      "  .. .. .. ..$ : chr [1:6] \"S\" \"LPE\" \"NP\" \"ANH\" ...\n",
      "  .. ..- attr(*, \"term.labels\")= chr [1:6] \"S\" \"LPE\" \"NP\" \"ANH\" ...\n",
      "  .. ..- attr(*, \"order\")= int [1:6] 1 1 1 1 1 1\n",
      "  .. ..- attr(*, \"intercept\")= int 1\n",
      "  .. ..- attr(*, \"response\")= int 1\n",
      "  .. ..- attr(*, \".Environment\")=<environment: R_GlobalEnv> \n",
      "  .. ..- attr(*, \"predvars\")= language list(left, S, LPE, NP, ANH, TIC, Newborn)\n",
      "  .. ..- attr(*, \"dataClasses\")= Named chr [1:7] \"factor\" \"numeric\" \"numeric\" \"numeric\" ...\n",
      "  .. .. ..- attr(*, \"names\")= chr [1:7] \"left\" \"S\" \"LPE\" \"NP\" ...\n",
      " $ data             :'data.frame':\t8400 obs. of  7 variables:\n",
      "  ..$ S      : num [1:8400] 0.41 0.57 0.83 0.77 0.64 0.72 0.9 0.16 0.34 0.86 ...\n",
      "  ..$ LPE    : num [1:8400] 0.52 0.42 0.91 0.96 0.43 0.89 0.96 0.97 0.76 0.74 ...\n",
      "  ..$ NP     : int [1:8400] 2 2 4 3 5 4 4 6 6 2 ...\n",
      "  ..$ ANH    : int [1:8400] 147 248 210 232 269 217 258 235 237 178 ...\n",
      "  ..$ TIC    : int [1:8400] 3 4 4 2 3 3 5 3 5 3 ...\n",
      "  ..$ Newborn: int [1:8400] 0 0 0 1 0 0 0 0 0 0 ...\n",
      "  ..$ left   : Factor w/ 2 levels \"0\",\"1\": 2 1 1 1 1 1 2 1 1 1 ...\n",
      " $ offset           : NULL\n",
      " $ control          :List of 3\n",
      "  ..$ epsilon: num 1e-08\n",
      "  ..$ maxit  : num 25\n",
      "  ..$ trace  : logi FALSE\n",
      " $ method           : chr \"glm.fit\"\n",
      " $ contrasts        : NULL\n",
      " $ xlevels          : Named list()\n",
      " - attr(*, \"class\")= chr [1:2] \"glm\" \"lm\"\n"
     ]
    }
   ],
   "source": [
    "str( fit )"
   ]
  },
  {
   "cell_type": "code",
   "execution_count": 141,
   "metadata": {},
   "outputs": [
    {
     "data": {
      "text/plain": [
       "    Min.  1st Qu.   Median     Mean  3rd Qu.     Max. \n",
       "0.001732 0.046016 0.103603 0.168153 0.237257 0.891413 "
      ]
     },
     "metadata": {},
     "output_type": "display_data"
    }
   ],
   "source": [
    "pred = predict( fit, newdata=test.data, type='response')\n",
    "summary( pred )"
   ]
  }
 ],
 "metadata": {
  "kernelspec": {
   "display_name": "R",
   "language": "R",
   "name": "ir"
  },
  "language_info": {
   "codemirror_mode": "r",
   "file_extension": ".r",
   "mimetype": "text/x-r-source",
   "name": "R",
   "pygments_lexer": "r",
   "version": "3.5.1"
  },
  "toc": {
   "nav_menu": {},
   "number_sections": true,
   "sideBar": true,
   "skip_h1_title": false,
   "toc_cell": false,
   "toc_position": {
    "height": "739px",
    "left": "0px",
    "right": "1312.78px",
    "top": "66px",
    "width": "261px"
   },
   "toc_section_display": "block",
   "toc_window_display": true
  },
  "varInspector": {
   "cols": {
    "lenName": 16,
    "lenType": 16,
    "lenVar": 40
   },
   "kernels_config": {
    "python": {
     "delete_cmd_postfix": "",
     "delete_cmd_prefix": "del ",
     "library": "var_list.py",
     "varRefreshCmd": "print(var_dic_list())"
    },
    "r": {
     "delete_cmd_postfix": ") ",
     "delete_cmd_prefix": "rm(",
     "library": "var_list.r",
     "varRefreshCmd": "cat(var_dic_list()) "
    }
   },
   "types_to_exclude": [
    "module",
    "function",
    "builtin_function_or_method",
    "instance",
    "_Feature"
   ],
   "window_display": false
  }
 },
 "nbformat": 4,
 "nbformat_minor": 2
}
