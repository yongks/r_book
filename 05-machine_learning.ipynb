{
 "cells": [
  {
   "cell_type": "markdown",
   "metadata": {},
   "source": [
    "# Machine Learning"
   ]
  },
  {
   "cell_type": "markdown",
   "metadata": {},
   "source": [
    "## Library"
   ]
  },
  {
   "cell_type": "code",
   "execution_count": 35,
   "metadata": {},
   "outputs": [],
   "source": [
    "library( rpart )    # decision tree\n",
    "library( titanic )  # titanic dataset\n",
    "library( caTools )  # Y ratio split"
   ]
  },
  {
   "cell_type": "markdown",
   "metadata": {},
   "source": [
    "## Preprocessing"
   ]
  },
  {
   "cell_type": "markdown",
   "metadata": {},
   "source": [
    "### Dealing with NA"
   ]
  },
  {
   "cell_type": "markdown",
   "metadata": {},
   "source": [
    "#### Sample Data"
   ]
  },
  {
   "cell_type": "code",
   "execution_count": 38,
   "metadata": {},
   "outputs": [
    {
     "data": {
      "text/html": [
       "<ol class=list-inline>\n",
       "\t<li>1</li>\n",
       "\t<li>2</li>\n",
       "\t<li>3</li>\n",
       "\t<li>4</li>\n",
       "\t<li>6</li>\n",
       "\t<li>8</li>\n",
       "</ol>\n"
      ],
      "text/latex": [
       "\\begin{enumerate*}\n",
       "\\item 1\n",
       "\\item 2\n",
       "\\item 3\n",
       "\\item 4\n",
       "\\item 6\n",
       "\\item 8\n",
       "\\end{enumerate*}\n"
      ],
      "text/markdown": [
       "1. 1\n",
       "2. 2\n",
       "3. 3\n",
       "4. 4\n",
       "5. 6\n",
       "6. 8\n",
       "\n",
       "\n"
      ],
      "text/plain": [
       "[1] 1 2 3 4 6 8\n",
       "attr(,\"na.action\")\n",
       "[1] 5 7\n",
       "attr(,\"class\")\n",
       "[1] \"omit\""
      ]
     },
     "metadata": {},
     "output_type": "display_data"
    }
   ],
   "source": [
    "x1 = c(1,2,3,4,NA,6,NA,8)\n",
    "x2 = c('A','B','C',NA,'E','F',NA,NA)\n",
    "my.df = data.frame(x1,x2)"
   ]
  },
  {
   "cell_type": "markdown",
   "metadata": {},
   "source": [
    "#### Where are NAs (vector) ?\n",
    "Use the logical vector from **is.na( )** for row selection"
   ]
  },
  {
   "cell_type": "code",
   "execution_count": 52,
   "metadata": {},
   "outputs": [
    {
     "name": "stdout",
     "output_type": "stream",
     "text": [
      "[1] FALSE FALSE FALSE FALSE  TRUE FALSE  TRUE FALSE\n",
      "[1] 1 2 3 4 6 8\n"
     ]
    }
   ],
   "source": [
    "print( is.na(x1) )     # logical vector, NA elements will be TRUE\n",
    "print( x1[!is.na(x1)])  # Use ! to reverse select for valid elements"
   ]
  },
  {
   "cell_type": "markdown",
   "metadata": {},
   "source": [
    "#### Where are NAs (dataframe) ?\n",
    "Notice that is.na( ) scan through every cells in dataframe and return a matrix logial vector.  \n",
    "We **can't directly tell diretly** which rows contain NAs"
   ]
  },
  {
   "cell_type": "code",
   "execution_count": 54,
   "metadata": {},
   "outputs": [
    {
     "name": "stdout",
     "output_type": "stream",
     "text": [
      "        x1    x2\n",
      "[1,] FALSE FALSE\n",
      "[2,] FALSE FALSE\n",
      "[3,] FALSE FALSE\n",
      "[4,] FALSE  TRUE\n",
      "[5,]  TRUE FALSE\n",
      "[6,] FALSE FALSE\n",
      "[7,]  TRUE  TRUE\n",
      "[8,] FALSE  TRUE\n"
     ]
    }
   ],
   "source": [
    "print( is.na(my.df) )     # logical vector, NA elements will be TRUE"
   ]
  },
  {
   "cell_type": "markdown",
   "metadata": {},
   "source": [
    "Using **complete.cases( )** we can detect the rows without NAs (complete) in a returned logical vector.  \n",
    "TO detect rows with NAs, use **! not**"
   ]
  },
  {
   "cell_type": "code",
   "execution_count": 57,
   "metadata": {},
   "outputs": [
    {
     "data": {
      "text/html": [
       "<table>\n",
       "<thead><tr><th></th><th scope=col>x1</th><th scope=col>x2</th></tr></thead>\n",
       "<tbody>\n",
       "\t<tr><th scope=row>4</th><td> 4</td><td>NA</td></tr>\n",
       "\t<tr><th scope=row>5</th><td>NA</td><td>E </td></tr>\n",
       "\t<tr><th scope=row>7</th><td>NA</td><td>NA</td></tr>\n",
       "\t<tr><th scope=row>8</th><td> 8</td><td>NA</td></tr>\n",
       "</tbody>\n",
       "</table>\n"
      ],
      "text/latex": [
       "\\begin{tabular}{r|ll}\n",
       "  & x1 & x2\\\\\n",
       "\\hline\n",
       "\t4 &  4 & NA\\\\\n",
       "\t5 & NA & E \\\\\n",
       "\t7 & NA & NA\\\\\n",
       "\t8 &  8 & NA\\\\\n",
       "\\end{tabular}\n"
      ],
      "text/markdown": [
       "\n",
       "| <!--/--> | x1 | x2 | \n",
       "|---|---|---|---|\n",
       "| 4 |  4 | NA | \n",
       "| 5 | NA | E  | \n",
       "| 7 | NA | NA | \n",
       "| 8 |  8 | NA | \n",
       "\n",
       "\n"
      ],
      "text/plain": [
       "  x1 x2\n",
       "4  4 NA\n",
       "5 NA E \n",
       "7 NA NA\n",
       "8  8 NA"
      ]
     },
     "metadata": {},
     "output_type": "display_data"
    }
   ],
   "source": [
    "my.df[!complete.cases(my.df), ]m"
   ]
  },
  {
   "cell_type": "markdown",
   "metadata": {},
   "source": [
    "#### Give Me Clean Data\n",
    "Select Rows with **complete.cases**"
   ]
  },
  {
   "cell_type": "code",
   "execution_count": 64,
   "metadata": {},
   "outputs": [
    {
     "data": {
      "text/html": [
       "<table>\n",
       "<thead><tr><th></th><th scope=col>x1</th><th scope=col>x2</th></tr></thead>\n",
       "<tbody>\n",
       "\t<tr><th scope=row>1</th><td>1</td><td>A</td></tr>\n",
       "\t<tr><th scope=row>2</th><td>2</td><td>B</td></tr>\n",
       "\t<tr><th scope=row>3</th><td>3</td><td>C</td></tr>\n",
       "\t<tr><th scope=row>6</th><td>6</td><td>F</td></tr>\n",
       "</tbody>\n",
       "</table>\n"
      ],
      "text/latex": [
       "\\begin{tabular}{r|ll}\n",
       "  & x1 & x2\\\\\n",
       "\\hline\n",
       "\t1 & 1 & A\\\\\n",
       "\t2 & 2 & B\\\\\n",
       "\t3 & 3 & C\\\\\n",
       "\t6 & 6 & F\\\\\n",
       "\\end{tabular}\n"
      ],
      "text/markdown": [
       "\n",
       "| <!--/--> | x1 | x2 | \n",
       "|---|---|---|---|\n",
       "| 1 | 1 | A | \n",
       "| 2 | 2 | B | \n",
       "| 3 | 3 | C | \n",
       "| 6 | 6 | F | \n",
       "\n",
       "\n"
      ],
      "text/plain": [
       "  x1 x2\n",
       "1 1  A \n",
       "2 2  B \n",
       "3 3  C \n",
       "6 6  F "
      ]
     },
     "metadata": {},
     "output_type": "display_data"
    }
   ],
   "source": [
    "my.df[complete.cases(my.df), ]"
   ]
  },
  {
   "cell_type": "markdown",
   "metadata": {},
   "source": [
    "A more elegant ways to filter clean data is **na.omit( )**"
   ]
  },
  {
   "cell_type": "code",
   "execution_count": 62,
   "metadata": {},
   "outputs": [
    {
     "data": {
      "text/html": [
       "<table>\n",
       "<thead><tr><th></th><th scope=col>x1</th><th scope=col>x2</th></tr></thead>\n",
       "<tbody>\n",
       "\t<tr><th scope=row>1</th><td>1</td><td>A</td></tr>\n",
       "\t<tr><th scope=row>2</th><td>2</td><td>B</td></tr>\n",
       "\t<tr><th scope=row>3</th><td>3</td><td>C</td></tr>\n",
       "\t<tr><th scope=row>6</th><td>6</td><td>F</td></tr>\n",
       "</tbody>\n",
       "</table>\n"
      ],
      "text/latex": [
       "\\begin{tabular}{r|ll}\n",
       "  & x1 & x2\\\\\n",
       "\\hline\n",
       "\t1 & 1 & A\\\\\n",
       "\t2 & 2 & B\\\\\n",
       "\t3 & 3 & C\\\\\n",
       "\t6 & 6 & F\\\\\n",
       "\\end{tabular}\n"
      ],
      "text/markdown": [
       "\n",
       "| <!--/--> | x1 | x2 | \n",
       "|---|---|---|---|\n",
       "| 1 | 1 | A | \n",
       "| 2 | 2 | B | \n",
       "| 3 | 3 | C | \n",
       "| 6 | 6 | F | \n",
       "\n",
       "\n"
      ],
      "text/plain": [
       "  x1 x2\n",
       "1 1  A \n",
       "2 2  B \n",
       "3 3  C \n",
       "6 6  F "
      ]
     },
     "metadata": {},
     "output_type": "display_data"
    }
   ],
   "source": [
    "na.omit( my.df )"
   ]
  },
  {
   "cell_type": "markdown",
   "metadata": {},
   "source": [
    "### Splitting\n",
    "#### Splitting by sample( ) \n",
    "This approach randomly picked row numbers without replacement.  \n",
    "**It doesn't ensure the split ratio of of the imbalance labels**  \n",
    "The result is a number vector with positions. Use **negate -** to reverse selection for test set"
   ]
  },
  {
   "cell_type": "code",
   "execution_count": 11,
   "metadata": {},
   "outputs": [],
   "source": [
    "set.seed(1234)\n",
    "n      = nrow(mtcars)   # total rows\n",
    "ratio  = 0.7            # percentage for train split\n",
    "split = sample( x = 1:n, size = ratio*n, replace = FALSE)\n",
    "train = mtcars[  split, ]\n",
    "test  = mtcars[ -split, ]"
   ]
  },
  {
   "cell_type": "markdown",
   "metadata": {},
   "source": [
    "**Check Split Result by Row Numbers**"
   ]
  },
  {
   "cell_type": "code",
   "execution_count": 8,
   "metadata": {},
   "outputs": [
    {
     "name": "stdout",
     "output_type": "stream",
     "text": [
      "[1] 22\n",
      "[1] 10\n"
     ]
    }
   ],
   "source": [
    "print( nrow(train) )\n",
    "print( nrow(test)  )"
   ]
  },
  {
   "cell_type": "markdown",
   "metadata": {},
   "source": [
    "#### Main Label (Y) Ratio\n",
    "Split by sample.split( )\n",
    "The result is a logical vector. Therefore, use **not !** to reverse selection for test set"
   ]
  },
  {
   "cell_type": "code",
   "execution_count": 28,
   "metadata": {
    "code_folding": []
   },
   "outputs": [],
   "source": [
    "split = sample.split(Y=titanic_train$Survived, SplitRatio = 0.7)  # randomly 0.7 set to TRUE, remaining FALSE\n",
    "train = titanic_train[ split, ]\n",
    "test  = titanic_train[!split, ]"
   ]
  },
  {
   "cell_type": "code",
   "execution_count": 33,
   "metadata": {},
   "outputs": [
    {
     "name": "stdout",
     "output_type": "stream",
     "text": [
      "[1] 623\n",
      "[1] 268\n"
     ]
    },
    {
     "data": {
      "text/plain": [
       "\n",
       "        0         1 \n",
       "0.6163724 0.3836276 "
      ]
     },
     "metadata": {},
     "output_type": "display_data"
    },
    {
     "data": {
      "text/plain": [
       "\n",
       "        0         1 \n",
       "0.6156716 0.3843284 "
      ]
     },
     "metadata": {},
     "output_type": "display_data"
    }
   ],
   "source": [
    "print( nrow(train) )\n",
    "print( nrow(test) )\n",
    "prop.table( table(train$Survived))\n",
    "prop.table( table(test$Survived))\n"
   ]
  },
  {
   "cell_type": "markdown",
   "metadata": {},
   "source": [
    "### Scaling"
   ]
  },
  {
   "cell_type": "markdown",
   "metadata": {},
   "source": [
    "#### Sample Data"
   ]
  },
  {
   "cell_type": "code",
   "execution_count": 59,
   "metadata": {},
   "outputs": [],
   "source": [
    "x1 = 1:5\n",
    "x2 = 11:15\n",
    "num.df = data.frame(x1,x2)"
   ]
  },
  {
   "cell_type": "code",
   "execution_count": 60,
   "metadata": {},
   "outputs": [
    {
     "name": "stdout",
     "output_type": "stream",
     "text": [
      "  x1 x2\n",
      "1  1 11\n",
      "2  2 12\n",
      "3  3 13\n",
      "4  4 14\n",
      "5  5 15\n"
     ]
    }
   ],
   "source": [
    "print(num.df)"
   ]
  },
  {
   "cell_type": "markdown",
   "metadata": {},
   "source": [
    "#### minmax scaling\n",
    "Use apply to loop through each column and return vector on each loop"
   ]
  },
  {
   "cell_type": "code",
   "execution_count": 67,
   "metadata": {},
   "outputs": [
    {
     "data": {
      "text/html": [
       "<table>\n",
       "<thead><tr><th scope=col>x1</th><th scope=col>x2</th></tr></thead>\n",
       "<tbody>\n",
       "\t<tr><td>0.25</td><td>2.75</td></tr>\n",
       "\t<tr><td>0.50</td><td>3.00</td></tr>\n",
       "\t<tr><td>0.75</td><td>3.25</td></tr>\n",
       "\t<tr><td>1.00</td><td>3.50</td></tr>\n",
       "\t<tr><td>1.25</td><td>3.75</td></tr>\n",
       "</tbody>\n",
       "</table>\n"
      ],
      "text/latex": [
       "\\begin{tabular}{ll}\n",
       " x1 & x2\\\\\n",
       "\\hline\n",
       "\t 0.25 & 2.75\\\\\n",
       "\t 0.50 & 3.00\\\\\n",
       "\t 0.75 & 3.25\\\\\n",
       "\t 1.00 & 3.50\\\\\n",
       "\t 1.25 & 3.75\\\\\n",
       "\\end{tabular}\n"
      ],
      "text/markdown": [
       "\n",
       "x1 | x2 | \n",
       "|---|---|---|---|---|\n",
       "| 0.25 | 2.75 | \n",
       "| 0.50 | 3.00 | \n",
       "| 0.75 | 3.25 | \n",
       "| 1.00 | 3.50 | \n",
       "| 1.25 | 3.75 | \n",
       "\n",
       "\n"
      ],
      "text/plain": [
       "     x1   x2  \n",
       "[1,] 0.25 2.75\n",
       "[2,] 0.50 3.00\n",
       "[3,] 0.75 3.25\n",
       "[4,] 1.00 3.50\n",
       "[5,] 1.25 3.75"
      ]
     },
     "metadata": {},
     "output_type": "display_data"
    }
   ],
   "source": [
    "apply( num.df, MARGIN=2,\n",
    "      function(x) { x/(max(x)-min(x))}\n",
    ")"
   ]
  },
  {
   "cell_type": "markdown",
   "metadata": {},
   "source": [
    "#### Z-Score Scaling"
   ]
  },
  {
   "cell_type": "code",
   "execution_count": 61,
   "metadata": {},
   "outputs": [
    {
     "data": {
      "text/html": [
       "<table>\n",
       "<thead><tr><th scope=col>x1</th><th scope=col>x2</th></tr></thead>\n",
       "<tbody>\n",
       "\t<tr><td>-1.2649111</td><td>-1.2649111</td></tr>\n",
       "\t<tr><td>-0.6324555</td><td>-0.6324555</td></tr>\n",
       "\t<tr><td> 0.0000000</td><td> 0.0000000</td></tr>\n",
       "\t<tr><td> 0.6324555</td><td> 0.6324555</td></tr>\n",
       "\t<tr><td> 1.2649111</td><td> 1.2649111</td></tr>\n",
       "</tbody>\n",
       "</table>\n"
      ],
      "text/latex": [
       "\\begin{tabular}{ll}\n",
       " x1 & x2\\\\\n",
       "\\hline\n",
       "\t -1.2649111 & -1.2649111\\\\\n",
       "\t -0.6324555 & -0.6324555\\\\\n",
       "\t  0.0000000 &  0.0000000\\\\\n",
       "\t  0.6324555 &  0.6324555\\\\\n",
       "\t  1.2649111 &  1.2649111\\\\\n",
       "\\end{tabular}\n"
      ],
      "text/markdown": [
       "\n",
       "x1 | x2 | \n",
       "|---|---|---|---|---|\n",
       "| -1.2649111 | -1.2649111 | \n",
       "| -0.6324555 | -0.6324555 | \n",
       "|  0.0000000 |  0.0000000 | \n",
       "|  0.6324555 |  0.6324555 | \n",
       "|  1.2649111 |  1.2649111 | \n",
       "\n",
       "\n"
      ],
      "text/plain": [
       "     x1         x2        \n",
       "[1,] -1.2649111 -1.2649111\n",
       "[2,] -0.6324555 -0.6324555\n",
       "[3,]  0.0000000  0.0000000\n",
       "[4,]  0.6324555  0.6324555\n",
       "[5,]  1.2649111  1.2649111"
      ]
     },
     "metadata": {},
     "output_type": "display_data"
    }
   ],
   "source": [
    "scale( num.df )"
   ]
  },
  {
   "cell_type": "markdown",
   "metadata": {
    "heading_collapsed": true
   },
   "source": [
    "## Clustering"
   ]
  },
  {
   "cell_type": "markdown",
   "metadata": {
    "hidden": true
   },
   "source": [
    "### H Clustering"
   ]
  },
  {
   "cell_type": "markdown",
   "metadata": {
    "hidden": true
   },
   "source": [
    "### Kmeans"
   ]
  },
  {
   "cell_type": "markdown",
   "metadata": {},
   "source": [
    "## Regression"
   ]
  },
  {
   "cell_type": "markdown",
   "metadata": {},
   "source": [
    "### Linear Regression"
   ]
  },
  {
   "cell_type": "markdown",
   "metadata": {},
   "source": [
    "#### The Data"
   ]
  },
  {
   "cell_type": "code",
   "execution_count": 71,
   "metadata": {},
   "outputs": [
    {
     "data": {
      "text/html": [
       "<table>\n",
       "<thead><tr><th></th><th scope=col>mpg</th><th scope=col>cyl</th><th scope=col>disp</th><th scope=col>hp</th><th scope=col>drat</th><th scope=col>wt</th><th scope=col>qsec</th><th scope=col>vs</th><th scope=col>am</th><th scope=col>gear</th><th scope=col>carb</th></tr></thead>\n",
       "<tbody>\n",
       "\t<tr><th scope=row>Datsun 710</th><td>22.8 </td><td>4    </td><td>108.0</td><td> 93  </td><td>3.85 </td><td>2.320</td><td>18.61</td><td>1    </td><td>1    </td><td>4    </td><td>1    </td></tr>\n",
       "\t<tr><th scope=row>Lotus Europa</th><td>30.4 </td><td>4    </td><td> 95.1</td><td>113  </td><td>3.77 </td><td>1.513</td><td>16.90</td><td>1    </td><td>1    </td><td>5    </td><td>2    </td></tr>\n",
       "\t<tr><th scope=row>Merc 240D</th><td>24.4 </td><td>4    </td><td>146.7</td><td> 62  </td><td>3.69 </td><td>3.190</td><td>20.00</td><td>1    </td><td>0    </td><td>4    </td><td>2    </td></tr>\n",
       "\t<tr><th scope=row>Hornet 4 Drive</th><td>21.4 </td><td>6    </td><td>258.0</td><td>110  </td><td>3.08 </td><td>3.215</td><td>19.44</td><td>1    </td><td>0    </td><td>3    </td><td>1    </td></tr>\n",
       "\t<tr><th scope=row>Maserati Bora</th><td>15.0 </td><td>8    </td><td>301.0</td><td>335  </td><td>3.54 </td><td>3.570</td><td>14.60</td><td>0    </td><td>1    </td><td>5    </td><td>8    </td></tr>\n",
       "\t<tr><th scope=row>Cadillac Fleetwood</th><td>10.4 </td><td>8    </td><td>472.0</td><td>205  </td><td>2.93 </td><td>5.250</td><td>17.98</td><td>0    </td><td>0    </td><td>3    </td><td>4    </td></tr>\n",
       "</tbody>\n",
       "</table>\n"
      ],
      "text/latex": [
       "\\begin{tabular}{r|lllllllllll}\n",
       "  & mpg & cyl & disp & hp & drat & wt & qsec & vs & am & gear & carb\\\\\n",
       "\\hline\n",
       "\tDatsun 710 & 22.8  & 4     & 108.0 &  93   & 3.85  & 2.320 & 18.61 & 1     & 1     & 4     & 1    \\\\\n",
       "\tLotus Europa & 30.4  & 4     &  95.1 & 113   & 3.77  & 1.513 & 16.90 & 1     & 1     & 5     & 2    \\\\\n",
       "\tMerc 240D & 24.4  & 4     & 146.7 &  62   & 3.69  & 3.190 & 20.00 & 1     & 0     & 4     & 2    \\\\\n",
       "\tHornet 4 Drive & 21.4  & 6     & 258.0 & 110   & 3.08  & 3.215 & 19.44 & 1     & 0     & 3     & 1    \\\\\n",
       "\tMaserati Bora & 15.0  & 8     & 301.0 & 335   & 3.54  & 3.570 & 14.60 & 0     & 1     & 5     & 8    \\\\\n",
       "\tCadillac Fleetwood & 10.4  & 8     & 472.0 & 205   & 2.93  & 5.250 & 17.98 & 0     & 0     & 3     & 4    \\\\\n",
       "\\end{tabular}\n"
      ],
      "text/markdown": [
       "\n",
       "| <!--/--> | mpg | cyl | disp | hp | drat | wt | qsec | vs | am | gear | carb | \n",
       "|---|---|---|---|---|---|\n",
       "| Datsun 710 | 22.8  | 4     | 108.0 |  93   | 3.85  | 2.320 | 18.61 | 1     | 1     | 4     | 1     | \n",
       "| Lotus Europa | 30.4  | 4     |  95.1 | 113   | 3.77  | 1.513 | 16.90 | 1     | 1     | 5     | 2     | \n",
       "| Merc 240D | 24.4  | 4     | 146.7 |  62   | 3.69  | 3.190 | 20.00 | 1     | 0     | 4     | 2     | \n",
       "| Hornet 4 Drive | 21.4  | 6     | 258.0 | 110   | 3.08  | 3.215 | 19.44 | 1     | 0     | 3     | 1     | \n",
       "| Maserati Bora | 15.0  | 8     | 301.0 | 335   | 3.54  | 3.570 | 14.60 | 0     | 1     | 5     | 8     | \n",
       "| Cadillac Fleetwood | 10.4  | 8     | 472.0 | 205   | 2.93  | 5.250 | 17.98 | 0     | 0     | 3     | 4     | \n",
       "\n",
       "\n"
      ],
      "text/plain": [
       "                   mpg  cyl disp  hp  drat wt    qsec  vs am gear carb\n",
       "Datsun 710         22.8 4   108.0  93 3.85 2.320 18.61 1  1  4    1   \n",
       "Lotus Europa       30.4 4    95.1 113 3.77 1.513 16.90 1  1  5    2   \n",
       "Merc 240D          24.4 4   146.7  62 3.69 3.190 20.00 1  0  4    2   \n",
       "Hornet 4 Drive     21.4 6   258.0 110 3.08 3.215 19.44 1  0  3    1   \n",
       "Maserati Bora      15.0 8   301.0 335 3.54 3.570 14.60 0  1  5    8   \n",
       "Cadillac Fleetwood 10.4 8   472.0 205 2.93 5.250 17.98 0  0  3    4   "
      ]
     },
     "metadata": {},
     "output_type": "display_data"
    }
   ],
   "source": [
    "head(train)\n",
    "n = nrow(mtcars)\n",
    "spl = sample(1:n, 0.7*n, replace = FALSE)\n",
    "train = mtcars[spl,]\n",
    "test  = mtcars[-spl,]"
   ]
  },
  {
   "cell_type": "markdown",
   "metadata": {},
   "source": [
    "#### Build Model\n",
    "Example below build single variable linear ergression"
   ]
  },
  {
   "cell_type": "code",
   "execution_count": 73,
   "metadata": {},
   "outputs": [],
   "source": [
    "fit1 = lm(formula = mpg ~ hp,        data = train) \n",
    "fit2 = lm(formula = mpg ~ hp + disp, data=train)\n",
    "fit3 = lm(formula = mpg ~ .,         data=train)"
   ]
  },
  {
   "cell_type": "markdown",
   "metadata": {},
   "source": [
    "#### Understand The Model"
   ]
  },
  {
   "cell_type": "code",
   "execution_count": 74,
   "metadata": {},
   "outputs": [
    {
     "data": {
      "text/plain": [
       "\n",
       "Call:\n",
       "lm(formula = mpg ~ ., data = train)\n",
       "\n",
       "Residuals:\n",
       "    Min      1Q  Median      3Q     Max \n",
       "-2.6219 -0.9163 -0.2468  0.6527  3.6651 \n",
       "\n",
       "Coefficients:\n",
       "             Estimate Std. Error t value Pr(>|t|)  \n",
       "(Intercept) 12.424539  30.005369   0.414   0.6868  \n",
       "cyl         -2.160032   1.186259  -1.821   0.0959 .\n",
       "disp         0.026009   0.022881   1.137   0.2798  \n",
       "hp           0.005407   0.025267   0.214   0.8345  \n",
       "drat         0.823752   1.924582   0.428   0.6769  \n",
       "wt          -5.957844   3.065393  -1.944   0.0780 .\n",
       "qsec         1.733884   1.525066   1.137   0.2797  \n",
       "vs          -3.860979   2.928385  -1.318   0.2141  \n",
       "am          -1.446609   2.062329  -0.701   0.4976  \n",
       "gear        -0.069946   1.646062  -0.042   0.9669  \n",
       "carb         0.598199   0.934220   0.640   0.5351  \n",
       "---\n",
       "Signif. codes:  0 '***' 0.001 '**' 0.01 '*' 0.05 '.' 0.1 ' ' 1\n",
       "\n",
       "Residual standard error: 1.996 on 11 degrees of freedom\n",
       "Multiple R-squared:  0.901,\tAdjusted R-squared:  0.8109 \n",
       "F-statistic: 10.01 on 10 and 11 DF,  p-value: 0.0003472\n"
      ]
     },
     "metadata": {},
     "output_type": "display_data"
    }
   ],
   "source": [
    "summary(fit3)"
   ]
  },
  {
   "cell_type": "code",
   "execution_count": 75,
   "metadata": {},
   "outputs": [
    {
     "name": "stdout",
     "output_type": "stream",
     "text": [
      "List of 12\n",
      " $ coefficients : Named num [1:2] 26.2501 -0.0501\n",
      "  ..- attr(*, \"names\")= chr [1:2] \"(Intercept)\" \"hp\"\n",
      " $ residuals    : Named num [1:22] 1.258 -2.0267 0.0733 1.7226 -5.0722 ...\n",
      "  ..- attr(*, \"names\")= chr [1:22] \"Merc 240D\" \"Merc 450SLC\" \"Merc 450SL\" \"Pontiac Firebird\" ...\n",
      " $ effects      : Named num [1:22] -85.8986 16.025 0.0944 1.7124 -4.8314 ...\n",
      "  ..- attr(*, \"names\")= chr [1:22] \"(Intercept)\" \"hp\" \"\" \"\" ...\n",
      " $ rank         : int 2\n",
      " $ fitted.values: Named num [1:22] 23.1 17.2 17.2 17.5 15.5 ...\n",
      "  ..- attr(*, \"names\")= chr [1:22] \"Merc 240D\" \"Merc 450SLC\" \"Merc 450SL\" \"Pontiac Firebird\" ...\n",
      " $ assign       : int [1:2] 0 1\n",
      " $ qr           :List of 5\n",
      "  ..$ qr   : num [1:22, 1:2] -4.69 0.213 0.213 0.213 0.213 ...\n",
      "  .. ..- attr(*, \"dimnames\")=List of 2\n",
      "  .. .. ..$ : chr [1:22] \"Merc 240D\" \"Merc 450SLC\" \"Merc 450SL\" \"Pontiac Firebird\" ...\n",
      "  .. .. ..$ : chr [1:2] \"(Intercept)\" \"hp\"\n",
      "  .. ..- attr(*, \"assign\")= int [1:2] 0 1\n",
      "  ..$ qraux: num [1:2] 1.21 1.12\n",
      "  ..$ pivot: int [1:2] 1 2\n",
      "  ..$ tol  : num 1e-07\n",
      "  ..$ rank : int 2\n",
      "  ..- attr(*, \"class\")= chr \"qr\"\n",
      " $ df.residual  : int 20\n",
      " $ xlevels      : Named list()\n",
      " $ call         : language lm(formula = mpg ~ hp, data = train)\n",
      " $ terms        :Classes 'terms', 'formula'  language mpg ~ hp\n",
      "  .. ..- attr(*, \"variables\")= language list(mpg, hp)\n",
      "  .. ..- attr(*, \"factors\")= int [1:2, 1] 0 1\n",
      "  .. .. ..- attr(*, \"dimnames\")=List of 2\n",
      "  .. .. .. ..$ : chr [1:2] \"mpg\" \"hp\"\n",
      "  .. .. .. ..$ : chr \"hp\"\n",
      "  .. ..- attr(*, \"term.labels\")= chr \"hp\"\n",
      "  .. ..- attr(*, \"order\")= int 1\n",
      "  .. ..- attr(*, \"intercept\")= int 1\n",
      "  .. ..- attr(*, \"response\")= int 1\n",
      "  .. ..- attr(*, \".Environment\")=<environment: R_GlobalEnv> \n",
      "  .. ..- attr(*, \"predvars\")= language list(mpg, hp)\n",
      "  .. ..- attr(*, \"dataClasses\")= Named chr [1:2] \"numeric\" \"numeric\"\n",
      "  .. .. ..- attr(*, \"names\")= chr [1:2] \"mpg\" \"hp\"\n",
      " $ model        :'data.frame':\t22 obs. of  2 variables:\n",
      "  ..$ mpg: num [1:22] 24.4 15.2 17.3 19.2 10.4 15.5 15.2 15 17.8 13.3 ...\n",
      "  ..$ hp : num [1:22] 62 180 180 175 215 150 150 335 123 245 ...\n",
      "  ..- attr(*, \"terms\")=Classes 'terms', 'formula'  language mpg ~ hp\n",
      "  .. .. ..- attr(*, \"variables\")= language list(mpg, hp)\n",
      "  .. .. ..- attr(*, \"factors\")= int [1:2, 1] 0 1\n",
      "  .. .. .. ..- attr(*, \"dimnames\")=List of 2\n",
      "  .. .. .. .. ..$ : chr [1:2] \"mpg\" \"hp\"\n",
      "  .. .. .. .. ..$ : chr \"hp\"\n",
      "  .. .. ..- attr(*, \"term.labels\")= chr \"hp\"\n",
      "  .. .. ..- attr(*, \"order\")= int 1\n",
      "  .. .. ..- attr(*, \"intercept\")= int 1\n",
      "  .. .. ..- attr(*, \"response\")= int 1\n",
      "  .. .. ..- attr(*, \".Environment\")=<environment: R_GlobalEnv> \n",
      "  .. .. ..- attr(*, \"predvars\")= language list(mpg, hp)\n",
      "  .. .. ..- attr(*, \"dataClasses\")= Named chr [1:2] \"numeric\" \"numeric\"\n",
      "  .. .. .. ..- attr(*, \"names\")= chr [1:2] \"mpg\" \"hp\"\n",
      " - attr(*, \"class\")= chr \"lm\"\n"
     ]
    }
   ],
   "source": [
    "str(fit1)"
   ]
  },
  {
   "cell_type": "markdown",
   "metadata": {},
   "source": [
    "#### Visualize The Model"
   ]
  },
  {
   "cell_type": "code",
   "execution_count": 76,
   "metadata": {},
   "outputs": [
    {
     "data": {
      "image/png": "[encoded data removed]",
      "text/plain": [
       "plot without title"
      ]
     },
     "metadata": {},
     "output_type": "display_data"
    }
   ],
   "source": [
    "options(repr.plot.width =8 , repr.plot.height = 6, repr.plot.res = 300)\n",
    "par(mfrow=c(2,2))\n",
    "\n",
    "plot(mtcars$hp, mtcars$mpg)\n",
    "abline(fit1, lty=2)"
   ]
  },
  {
   "cell_type": "markdown",
   "metadata": {},
   "source": [
    "## Prediction"
   ]
  },
  {
   "cell_type": "code",
   "execution_count": 87,
   "metadata": {},
   "outputs": [
    {
     "data": {
      "text/html": [
       "<dl class=dl-horizontal>\n",
       "\t<dt>Hornet Sportabout</dt>\n",
       "\t\t<dd>18.0506958730093</dd>\n",
       "\t<dt>Duster 360</dt>\n",
       "\t\t<dd>16.8545171650228</dd>\n",
       "\t<dt>Merc 230</dt>\n",
       "\t\t<dd>29.1835613435362</dd>\n",
       "\t<dt>Merc 280</dt>\n",
       "\t\t<dd>17.204682723023</dd>\n",
       "\t<dt>Merc 450SE</dt>\n",
       "\t\t<dd>13.3255478458337</dd>\n",
       "\t<dt>Fiat 128</dt>\n",
       "\t\t<dd>25.2113484167466</dd>\n",
       "\t<dt>Honda Civic</dt>\n",
       "\t\t<dd>28.1941595522065</dd>\n",
       "\t<dt>Toyota Corolla</dt>\n",
       "\t\t<dd>28.0437850615843</dd>\n",
       "\t<dt>Toyota Corona</dt>\n",
       "\t\t<dd>27.0167207465389</dd>\n",
       "\t<dt>Lotus Europa</dt>\n",
       "\t\t<dd>25.8018715929288</dd>\n",
       "</dl>\n"
      ],
      "text/latex": [
       "\\begin{description*}\n",
       "\\item[Hornet Sportabout] 18.0506958730093\n",
       "\\item[Duster 360] 16.8545171650228\n",
       "\\item[Merc 230] 29.1835613435362\n",
       "\\item[Merc 280] 17.204682723023\n",
       "\\item[Merc 450SE] 13.3255478458337\n",
       "\\item[Fiat 128] 25.2113484167466\n",
       "\\item[Honda Civic] 28.1941595522065\n",
       "\\item[Toyota Corolla] 28.0437850615843\n",
       "\\item[Toyota Corona] 27.0167207465389\n",
       "\\item[Lotus Europa] 25.8018715929288\n",
       "\\end{description*}\n"
      ],
      "text/markdown": [
       "Hornet Sportabout\n",
       ":   18.0506958730093Duster 360\n",
       ":   16.8545171650228Merc 230\n",
       ":   29.1835613435362Merc 280\n",
       ":   17.204682723023Merc 450SE\n",
       ":   13.3255478458337Fiat 128\n",
       ":   25.2113484167466Honda Civic\n",
       ":   28.1941595522065Toyota Corolla\n",
       ":   28.0437850615843Toyota Corona\n",
       ":   27.0167207465389Lotus Europa\n",
       ":   25.8018715929288\n",
       "\n"
      ],
      "text/plain": [
       "Hornet Sportabout        Duster 360          Merc 230          Merc 280 \n",
       "         18.05070          16.85452          29.18356          17.20468 \n",
       "       Merc 450SE          Fiat 128       Honda Civic    Toyota Corolla \n",
       "         13.32555          25.21135          28.19416          28.04379 \n",
       "    Toyota Corona      Lotus Europa \n",
       "         27.01672          25.80187 "
      ]
     },
     "metadata": {},
     "output_type": "display_data"
    }
   ],
   "source": [
    "predict(fit3, newdata = test)"
   ]
  },
  {
   "cell_type": "markdown",
   "metadata": {},
   "source": [
    "### Decision Tree"
   ]
  },
  {
   "cell_type": "markdown",
   "metadata": {},
   "source": [
    "#### Build Model"
   ]
  },
  {
   "cell_type": "code",
   "execution_count": 16,
   "metadata": {},
   "outputs": [],
   "source": [
    "library(rpart)"
   ]
  },
  {
   "cell_type": "code",
   "execution_count": 17,
   "metadata": {},
   "outputs": [],
   "source": [
    "fit = rpart( formula = mpg ~ hp + disp, data=mtcars)"
   ]
  },
  {
   "cell_type": "markdown",
   "metadata": {},
   "source": [
    "#### Understand The Model"
   ]
  },
  {
   "cell_type": "code",
   "execution_count": 18,
   "metadata": {},
   "outputs": [
    {
     "name": "stdout",
     "output_type": "stream",
     "text": [
      "Call:\n",
      "rpart(formula = mpg ~ hp + disp, data = mtcars)\n",
      "  n= 32 \n",
      "\n",
      "         CP nsplit rel error    xerror      xstd\n",
      "1 0.6130502      0 1.0000000 1.0848488 0.2556221\n",
      "2 0.0100000      1 0.3869498 0.5690072 0.1030710\n",
      "\n",
      "Variable importance\n",
      "disp   hp \n",
      "  56   44 \n",
      "\n",
      "Node number 1: 32 observations,    complexity param=0.6130502\n",
      "  mean=20.09062, MSE=35.18897 \n",
      "  left son=2 (18 obs) right son=3 (14 obs)\n",
      "  Primary splits:\n",
      "      disp < 163.8 to the right, improve=0.6130502, (0 missing)\n",
      "      hp   < 118   to the right, improve=0.6010712, (0 missing)\n",
      "  Surrogate splits:\n",
      "      hp < 118   to the right, agree=0.906, adj=0.786, (0 split)\n",
      "\n",
      "Node number 2: 18 observations\n",
      "  mean=15.99444, MSE=7.977191 \n",
      "\n",
      "Node number 3: 14 observations\n",
      "  mean=25.35714, MSE=20.86673 \n",
      "\n"
     ]
    }
   ],
   "source": [
    "summary( fit )"
   ]
  },
  {
   "cell_type": "code",
   "execution_count": 19,
   "metadata": {},
   "outputs": [
    {
     "name": "stdout",
     "output_type": "stream",
     "text": [
      "List of 14\n",
      " $ frame              :'data.frame':\t3 obs. of  8 variables:\n",
      "  ..$ var       : Factor w/ 2 levels \"<leaf>\",\"disp\": 2 1 1\n",
      "  ..$ n         : int [1:3] 32 18 14\n",
      "  ..$ wt        : num [1:3] 32 18 14\n",
      "  ..$ dev       : num [1:3] 1126 144 292\n",
      "  ..$ yval      : num [1:3] 20.1 16 25.4\n",
      "  ..$ complexity: num [1:3] 0.613 0.01 0.01\n",
      "  ..$ ncompete  : int [1:3] 1 0 0\n",
      "  ..$ nsurrogate: int [1:3] 1 0 0\n",
      " $ where              : Named int [1:32] 3 3 3 2 2 2 2 3 3 2 ...\n",
      "  ..- attr(*, \"names\")= chr [1:32] \"Mazda RX4\" \"Mazda RX4 Wag\" \"Datsun 710\" \"Hornet 4 Drive\" ...\n",
      " $ call               : language rpart(formula = mpg ~ hp + disp, data = mtcars)\n",
      " $ terms              :Classes 'terms', 'formula'  language mpg ~ hp + disp\n",
      "  .. ..- attr(*, \"variables\")= language list(mpg, hp, disp)\n",
      "  .. ..- attr(*, \"factors\")= int [1:3, 1:2] 0 1 0 0 0 1\n",
      "  .. .. ..- attr(*, \"dimnames\")=List of 2\n",
      "  .. .. .. ..$ : chr [1:3] \"mpg\" \"hp\" \"disp\"\n",
      "  .. .. .. ..$ : chr [1:2] \"hp\" \"disp\"\n",
      "  .. ..- attr(*, \"term.labels\")= chr [1:2] \"hp\" \"disp\"\n",
      "  .. ..- attr(*, \"order\")= int [1:2] 1 1\n",
      "  .. ..- attr(*, \"intercept\")= int 1\n",
      "  .. ..- attr(*, \"response\")= int 1\n",
      "  .. ..- attr(*, \".Environment\")=<environment: R_GlobalEnv> \n",
      "  .. ..- attr(*, \"predvars\")= language list(mpg, hp, disp)\n",
      "  .. ..- attr(*, \"dataClasses\")= Named chr [1:3] \"numeric\" \"numeric\" \"numeric\"\n",
      "  .. .. ..- attr(*, \"names\")= chr [1:3] \"mpg\" \"hp\" \"disp\"\n",
      " $ cptable            : num [1:2, 1:5] 0.613 0.01 0 1 1 ...\n",
      "  ..- attr(*, \"dimnames\")=List of 2\n",
      "  .. ..$ : chr [1:2] \"1\" \"2\"\n",
      "  .. ..$ : chr [1:5] \"CP\" \"nsplit\" \"rel error\" \"xerror\" ...\n",
      " $ method             : chr \"anova\"\n",
      " $ parms              : NULL\n",
      " $ control            :List of 9\n",
      "  ..$ minsplit      : int 20\n",
      "  ..$ minbucket     : num 7\n",
      "  ..$ cp            : num 0.01\n",
      "  ..$ maxcompete    : int 4\n",
      "  ..$ maxsurrogate  : int 5\n",
      "  ..$ usesurrogate  : int 2\n",
      "  ..$ surrogatestyle: int 0\n",
      "  ..$ maxdepth      : int 30\n",
      "  ..$ xval          : int 10\n",
      " $ functions          :List of 2\n",
      "  ..$ summary:function (yval, dev, wt, ylevel, digits)  \n",
      "  ..$ text   :function (yval, dev, wt, ylevel, digits, n, use.n)  \n",
      " $ numresp            : int 1\n",
      " $ splits             : num [1:3, 1:5] 32 32 0 1 1 ...\n",
      "  ..- attr(*, \"dimnames\")=List of 2\n",
      "  .. ..$ : chr [1:3] \"disp\" \"hp\" \"hp\"\n",
      "  .. ..$ : chr [1:5] \"count\" \"ncat\" \"improve\" \"index\" ...\n",
      " $ variable.importance: Named num [1:2] 690 542\n",
      "  ..- attr(*, \"names\")= chr [1:2] \"disp\" \"hp\"\n",
      " $ y                  : Named num [1:32] 21 21 22.8 21.4 18.7 18.1 14.3 24.4 22.8 19.2 ...\n",
      "  ..- attr(*, \"names\")= chr [1:32] \"Mazda RX4\" \"Mazda RX4 Wag\" \"Datsun 710\" \"Hornet 4 Drive\" ...\n",
      " $ ordered            : Named logi [1:2] FALSE FALSE\n",
      "  ..- attr(*, \"names\")= chr [1:2] \"hp\" \"disp\"\n",
      " - attr(*, \"xlevels\")= Named list()\n",
      " - attr(*, \"class\")= chr \"rpart\"\n"
     ]
    }
   ],
   "source": [
    "str( fit )"
   ]
  },
  {
   "cell_type": "markdown",
   "metadata": {},
   "source": [
    "#### Visualize"
   ]
  },
  {
   "cell_type": "code",
   "execution_count": 22,
   "metadata": {},
   "outputs": [
    {
     "data": {
      "image/png": "[encoded data removed]",
      "text/plain": [
       "plot without title"
      ]
     },
     "metadata": {},
     "output_type": "display_data"
    }
   ],
   "source": [
    "options(repr.plot.width =8 , repr.plot.height = 4.5, repr.plot.res = 300)\n",
    "plot( fit )\n",
    "text( fit, cex = .9)"
   ]
  },
  {
   "cell_type": "code",
   "execution_count": 21,
   "metadata": {},
   "outputs": [
    {
     "name": "stdout",
     "output_type": "stream",
     "text": [
      "List of 14\n",
      " $ frame              :'data.frame':\t3 obs. of  8 variables:\n",
      "  ..$ var       : Factor w/ 2 levels \"<leaf>\",\"disp\": 2 1 1\n",
      "  ..$ n         : int [1:3] 32 18 14\n",
      "  ..$ wt        : num [1:3] 32 18 14\n",
      "  ..$ dev       : num [1:3] 1126 144 292\n",
      "  ..$ yval      : num [1:3] 20.1 16 25.4\n",
      "  ..$ complexity: num [1:3] 0.613 0.01 0.01\n",
      "  ..$ ncompete  : int [1:3] 1 0 0\n",
      "  ..$ nsurrogate: int [1:3] 1 0 0\n",
      " $ where              : Named int [1:32] 3 3 3 2 2 2 2 3 3 2 ...\n",
      "  ..- attr(*, \"names\")= chr [1:32] \"Mazda RX4\" \"Mazda RX4 Wag\" \"Datsun 710\" \"Hornet 4 Drive\" ...\n",
      " $ call               : language rpart(formula = mpg ~ hp + disp, data = mtcars)\n",
      " $ terms              :Classes 'terms', 'formula'  language mpg ~ hp + disp\n",
      "  .. ..- attr(*, \"variables\")= language list(mpg, hp, disp)\n",
      "  .. ..- attr(*, \"factors\")= int [1:3, 1:2] 0 1 0 0 0 1\n",
      "  .. .. ..- attr(*, \"dimnames\")=List of 2\n",
      "  .. .. .. ..$ : chr [1:3] \"mpg\" \"hp\" \"disp\"\n",
      "  .. .. .. ..$ : chr [1:2] \"hp\" \"disp\"\n",
      "  .. ..- attr(*, \"term.labels\")= chr [1:2] \"hp\" \"disp\"\n",
      "  .. ..- attr(*, \"order\")= int [1:2] 1 1\n",
      "  .. ..- attr(*, \"intercept\")= int 1\n",
      "  .. ..- attr(*, \"response\")= int 1\n",
      "  .. ..- attr(*, \".Environment\")=<environment: R_GlobalEnv> \n",
      "  .. ..- attr(*, \"predvars\")= language list(mpg, hp, disp)\n",
      "  .. ..- attr(*, \"dataClasses\")= Named chr [1:3] \"numeric\" \"numeric\" \"numeric\"\n",
      "  .. .. ..- attr(*, \"names\")= chr [1:3] \"mpg\" \"hp\" \"disp\"\n",
      " $ cptable            : num [1:2, 1:5] 0.613 0.01 0 1 1 ...\n",
      "  ..- attr(*, \"dimnames\")=List of 2\n",
      "  .. ..$ : chr [1:2] \"1\" \"2\"\n",
      "  .. ..$ : chr [1:5] \"CP\" \"nsplit\" \"rel error\" \"xerror\" ...\n",
      " $ method             : chr \"anova\"\n",
      " $ parms              : NULL\n",
      " $ control            :List of 9\n",
      "  ..$ minsplit      : int 20\n",
      "  ..$ minbucket     : num 7\n",
      "  ..$ cp            : num 0.01\n",
      "  ..$ maxcompete    : int 4\n",
      "  ..$ maxsurrogate  : int 5\n",
      "  ..$ usesurrogate  : int 2\n",
      "  ..$ surrogatestyle: int 0\n",
      "  ..$ maxdepth      : int 30\n",
      "  ..$ xval          : int 10\n",
      " $ functions          :List of 2\n",
      "  ..$ summary:function (yval, dev, wt, ylevel, digits)  \n",
      "  ..$ text   :function (yval, dev, wt, ylevel, digits, n, use.n)  \n",
      " $ numresp            : int 1\n",
      " $ splits             : num [1:3, 1:5] 32 32 0 1 1 ...\n",
      "  ..- attr(*, \"dimnames\")=List of 2\n",
      "  .. ..$ : chr [1:3] \"disp\" \"hp\" \"hp\"\n",
      "  .. ..$ : chr [1:5] \"count\" \"ncat\" \"improve\" \"index\" ...\n",
      " $ variable.importance: Named num [1:2] 690 542\n",
      "  ..- attr(*, \"names\")= chr [1:2] \"disp\" \"hp\"\n",
      " $ y                  : Named num [1:32] 21 21 22.8 21.4 18.7 18.1 14.3 24.4 22.8 19.2 ...\n",
      "  ..- attr(*, \"names\")= chr [1:32] \"Mazda RX4\" \"Mazda RX4 Wag\" \"Datsun 710\" \"Hornet 4 Drive\" ...\n",
      " $ ordered            : Named logi [1:2] FALSE FALSE\n",
      "  ..- attr(*, \"names\")= chr [1:2] \"hp\" \"disp\"\n",
      " - attr(*, \"xlevels\")= Named list()\n",
      " - attr(*, \"class\")= chr \"rpart\"\n"
     ]
    }
   ],
   "source": [
    "str(as.vector(fit))"
   ]
  }
 ],
 "metadata": {
  "kernelspec": {
   "display_name": "R",
   "language": "R",
   "name": "ir"
  },
  "language_info": {
   "codemirror_mode": "r",
   "file_extension": ".r",
   "mimetype": "text/x-r-source",
   "name": "R",
   "pygments_lexer": "r",
   "version": "3.5.1"
  },
  "toc": {
   "nav_menu": {},
   "number_sections": true,
   "sideBar": true,
   "skip_h1_title": false,
   "toc_cell": false,
   "toc_position": {
    "height": "712px",
    "left": "0px",
    "right": "1312.78px",
    "top": "66px",
    "width": "372px"
   },
   "toc_section_display": "block",
   "toc_window_display": true
  },
  "varInspector": {
   "cols": {
    "lenName": 16,
    "lenType": 16,
    "lenVar": 40
   },
   "kernels_config": {
    "python": {
     "delete_cmd_postfix": "",
     "delete_cmd_prefix": "del ",
     "library": "var_list.py",
     "varRefreshCmd": "print(var_dic_list())"
    },
    "r": {
     "delete_cmd_postfix": ") ",
     "delete_cmd_prefix": "rm(",
     "library": "var_list.r",
     "varRefreshCmd": "cat(var_dic_list()) "
    }
   },
   "types_to_exclude": [
    "module",
    "function",
    "builtin_function_or_method",
    "instance",
    "_Feature"
   ],
   "window_display": false
  }
 },
 "nbformat": 4,
 "nbformat_minor": 2
}
