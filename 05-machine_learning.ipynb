{
 "cells": [
  {
   "cell_type": "markdown",
   "metadata": {},
   "source": [
    "# Machine Learning"
   ]
  },
  {
   "cell_type": "markdown",
   "metadata": {},
   "source": [
    "## Library"
   ]
  },
  {
   "cell_type": "code",
   "execution_count": 7,
   "metadata": {},
   "outputs": [],
   "source": [
    "library( rpart )  # decision tree"
   ]
  },
  {
   "cell_type": "markdown",
   "metadata": {},
   "source": [
    "## Clustering"
   ]
  },
  {
   "cell_type": "markdown",
   "metadata": {},
   "source": [
    "### H Clustering"
   ]
  },
  {
   "cell_type": "markdown",
   "metadata": {},
   "source": [
    "### Kmeans"
   ]
  },
  {
   "cell_type": "markdown",
   "metadata": {},
   "source": [
    "## Regression"
   ]
  },
  {
   "cell_type": "markdown",
   "metadata": {},
   "source": [
    "### Linear Regression"
   ]
  },
  {
   "cell_type": "markdown",
   "metadata": {},
   "source": [
    "#### The Data"
   ]
  },
  {
   "cell_type": "code",
   "execution_count": 8,
   "metadata": {},
   "outputs": [
    {
     "data": {
      "text/html": [
       "<table>\n",
       "<thead><tr><th></th><th scope=col>mpg</th><th scope=col>cyl</th><th scope=col>disp</th><th scope=col>hp</th><th scope=col>drat</th><th scope=col>wt</th><th scope=col>qsec</th><th scope=col>vs</th><th scope=col>am</th><th scope=col>gear</th><th scope=col>carb</th></tr></thead>\n",
       "<tbody>\n",
       "\t<tr><th scope=row>Mazda RX4</th><td>21.0 </td><td>6    </td><td>160  </td><td>110  </td><td>3.90 </td><td>2.620</td><td>16.46</td><td>0    </td><td>1    </td><td>4    </td><td>4    </td></tr>\n",
       "\t<tr><th scope=row>Mazda RX4 Wag</th><td>21.0 </td><td>6    </td><td>160  </td><td>110  </td><td>3.90 </td><td>2.875</td><td>17.02</td><td>0    </td><td>1    </td><td>4    </td><td>4    </td></tr>\n",
       "\t<tr><th scope=row>Datsun 710</th><td>22.8 </td><td>4    </td><td>108  </td><td> 93  </td><td>3.85 </td><td>2.320</td><td>18.61</td><td>1    </td><td>1    </td><td>4    </td><td>1    </td></tr>\n",
       "\t<tr><th scope=row>Hornet 4 Drive</th><td>21.4 </td><td>6    </td><td>258  </td><td>110  </td><td>3.08 </td><td>3.215</td><td>19.44</td><td>1    </td><td>0    </td><td>3    </td><td>1    </td></tr>\n",
       "\t<tr><th scope=row>Hornet Sportabout</th><td>18.7 </td><td>8    </td><td>360  </td><td>175  </td><td>3.15 </td><td>3.440</td><td>17.02</td><td>0    </td><td>0    </td><td>3    </td><td>2    </td></tr>\n",
       "\t<tr><th scope=row>Valiant</th><td>18.1 </td><td>6    </td><td>225  </td><td>105  </td><td>2.76 </td><td>3.460</td><td>20.22</td><td>1    </td><td>0    </td><td>3    </td><td>1    </td></tr>\n",
       "</tbody>\n",
       "</table>\n"
      ],
      "text/latex": [
       "\\begin{tabular}{r|lllllllllll}\n",
       "  & mpg & cyl & disp & hp & drat & wt & qsec & vs & am & gear & carb\\\\\n",
       "\\hline\n",
       "\tMazda RX4 & 21.0  & 6     & 160   & 110   & 3.90  & 2.620 & 16.46 & 0     & 1     & 4     & 4    \\\\\n",
       "\tMazda RX4 Wag & 21.0  & 6     & 160   & 110   & 3.90  & 2.875 & 17.02 & 0     & 1     & 4     & 4    \\\\\n",
       "\tDatsun 710 & 22.8  & 4     & 108   &  93   & 3.85  & 2.320 & 18.61 & 1     & 1     & 4     & 1    \\\\\n",
       "\tHornet 4 Drive & 21.4  & 6     & 258   & 110   & 3.08  & 3.215 & 19.44 & 1     & 0     & 3     & 1    \\\\\n",
       "\tHornet Sportabout & 18.7  & 8     & 360   & 175   & 3.15  & 3.440 & 17.02 & 0     & 0     & 3     & 2    \\\\\n",
       "\tValiant & 18.1  & 6     & 225   & 105   & 2.76  & 3.460 & 20.22 & 1     & 0     & 3     & 1    \\\\\n",
       "\\end{tabular}\n"
      ],
      "text/markdown": [
       "\n",
       "| <!--/--> | mpg | cyl | disp | hp | drat | wt | qsec | vs | am | gear | carb | \n",
       "|---|---|---|---|---|---|\n",
       "| Mazda RX4 | 21.0  | 6     | 160   | 110   | 3.90  | 2.620 | 16.46 | 0     | 1     | 4     | 4     | \n",
       "| Mazda RX4 Wag | 21.0  | 6     | 160   | 110   | 3.90  | 2.875 | 17.02 | 0     | 1     | 4     | 4     | \n",
       "| Datsun 710 | 22.8  | 4     | 108   |  93   | 3.85  | 2.320 | 18.61 | 1     | 1     | 4     | 1     | \n",
       "| Hornet 4 Drive | 21.4  | 6     | 258   | 110   | 3.08  | 3.215 | 19.44 | 1     | 0     | 3     | 1     | \n",
       "| Hornet Sportabout | 18.7  | 8     | 360   | 175   | 3.15  | 3.440 | 17.02 | 0     | 0     | 3     | 2     | \n",
       "| Valiant | 18.1  | 6     | 225   | 105   | 2.76  | 3.460 | 20.22 | 1     | 0     | 3     | 1     | \n",
       "\n",
       "\n"
      ],
      "text/plain": [
       "                  mpg  cyl disp hp  drat wt    qsec  vs am gear carb\n",
       "Mazda RX4         21.0 6   160  110 3.90 2.620 16.46 0  1  4    4   \n",
       "Mazda RX4 Wag     21.0 6   160  110 3.90 2.875 17.02 0  1  4    4   \n",
       "Datsun 710        22.8 4   108   93 3.85 2.320 18.61 1  1  4    1   \n",
       "Hornet 4 Drive    21.4 6   258  110 3.08 3.215 19.44 1  0  3    1   \n",
       "Hornet Sportabout 18.7 8   360  175 3.15 3.440 17.02 0  0  3    2   \n",
       "Valiant           18.1 6   225  105 2.76 3.460 20.22 1  0  3    1   "
      ]
     },
     "metadata": {},
     "output_type": "display_data"
    }
   ],
   "source": [
    "head(mtcars)"
   ]
  },
  {
   "cell_type": "markdown",
   "metadata": {},
   "source": [
    "#### Build Model\n",
    "Example below build single variable linear ergression"
   ]
  },
  {
   "cell_type": "code",
   "execution_count": 9,
   "metadata": {},
   "outputs": [],
   "source": [
    "fit1 = lm(formula = mpg ~ hp, data = mtcars) \n",
    "fit2 = lm(formula = mpg ~ hp + disp, data=mtcars)\n",
    "fit3 = lm(formula = mpg ~ ., data=mtcars)"
   ]
  },
  {
   "cell_type": "markdown",
   "metadata": {},
   "source": [
    "#### Understand The Model"
   ]
  },
  {
   "cell_type": "code",
   "execution_count": 10,
   "metadata": {},
   "outputs": [
    {
     "data": {
      "text/plain": [
       "\n",
       "Call:\n",
       "lm(formula = mpg ~ ., data = mtcars)\n",
       "\n",
       "Residuals:\n",
       "    Min      1Q  Median      3Q     Max \n",
       "-3.4506 -1.6044 -0.1196  1.2193  4.6271 \n",
       "\n",
       "Coefficients:\n",
       "            Estimate Std. Error t value Pr(>|t|)  \n",
       "(Intercept) 12.30337   18.71788   0.657   0.5181  \n",
       "cyl         -0.11144    1.04502  -0.107   0.9161  \n",
       "disp         0.01334    0.01786   0.747   0.4635  \n",
       "hp          -0.02148    0.02177  -0.987   0.3350  \n",
       "drat         0.78711    1.63537   0.481   0.6353  \n",
       "wt          -3.71530    1.89441  -1.961   0.0633 .\n",
       "qsec         0.82104    0.73084   1.123   0.2739  \n",
       "vs           0.31776    2.10451   0.151   0.8814  \n",
       "am           2.52023    2.05665   1.225   0.2340  \n",
       "gear         0.65541    1.49326   0.439   0.6652  \n",
       "carb        -0.19942    0.82875  -0.241   0.8122  \n",
       "---\n",
       "Signif. codes:  0 '***' 0.001 '**' 0.01 '*' 0.05 '.' 0.1 ' ' 1\n",
       "\n",
       "Residual standard error: 2.65 on 21 degrees of freedom\n",
       "Multiple R-squared:  0.869,\tAdjusted R-squared:  0.8066 \n",
       "F-statistic: 13.93 on 10 and 21 DF,  p-value: 3.793e-07\n"
      ]
     },
     "metadata": {},
     "output_type": "display_data"
    }
   ],
   "source": [
    "summary(fit3)"
   ]
  },
  {
   "cell_type": "code",
   "execution_count": 11,
   "metadata": {},
   "outputs": [
    {
     "ename": "ERROR",
     "evalue": "Error in str(fit): object 'fit' not found\n",
     "output_type": "error",
     "traceback": [
      "Error in str(fit): object 'fit' not found\nTraceback:\n",
      "1. str(fit)"
     ]
    }
   ],
   "source": [
    "str(fit)"
   ]
  },
  {
   "cell_type": "markdown",
   "metadata": {},
   "source": [
    "#### Visualize The Model"
   ]
  },
  {
   "cell_type": "code",
   "execution_count": null,
   "metadata": {},
   "outputs": [],
   "source": [
    "options(repr.plot.width =8 , repr.plot.height = 6, repr.plot.res = 300)\n",
    "par(mfrow=c(2,2))\n",
    "\n",
    "plot(mtcars$hp, mtcars$mpg)\n",
    "abline(fit1, lty=2)"
   ]
  },
  {
   "cell_type": "markdown",
   "metadata": {},
   "source": [
    "### Decision Tree"
   ]
  },
  {
   "cell_type": "markdown",
   "metadata": {},
   "source": [
    "#### Build Model"
   ]
  },
  {
   "cell_type": "code",
   "execution_count": 16,
   "metadata": {},
   "outputs": [],
   "source": [
    "library(rpart)"
   ]
  },
  {
   "cell_type": "code",
   "execution_count": 17,
   "metadata": {},
   "outputs": [],
   "source": [
    "fit = rpart( formula = mpg ~ hp + disp, data=mtcars)"
   ]
  },
  {
   "cell_type": "markdown",
   "metadata": {},
   "source": [
    "#### Understand The Model"
   ]
  },
  {
   "cell_type": "code",
   "execution_count": 18,
   "metadata": {},
   "outputs": [
    {
     "name": "stdout",
     "output_type": "stream",
     "text": [
      "Call:\n",
      "rpart(formula = mpg ~ hp + disp, data = mtcars)\n",
      "  n= 32 \n",
      "\n",
      "         CP nsplit rel error    xerror      xstd\n",
      "1 0.6130502      0 1.0000000 1.0848488 0.2556221\n",
      "2 0.0100000      1 0.3869498 0.5690072 0.1030710\n",
      "\n",
      "Variable importance\n",
      "disp   hp \n",
      "  56   44 \n",
      "\n",
      "Node number 1: 32 observations,    complexity param=0.6130502\n",
      "  mean=20.09062, MSE=35.18897 \n",
      "  left son=2 (18 obs) right son=3 (14 obs)\n",
      "  Primary splits:\n",
      "      disp < 163.8 to the right, improve=0.6130502, (0 missing)\n",
      "      hp   < 118   to the right, improve=0.6010712, (0 missing)\n",
      "  Surrogate splits:\n",
      "      hp < 118   to the right, agree=0.906, adj=0.786, (0 split)\n",
      "\n",
      "Node number 2: 18 observations\n",
      "  mean=15.99444, MSE=7.977191 \n",
      "\n",
      "Node number 3: 14 observations\n",
      "  mean=25.35714, MSE=20.86673 \n",
      "\n"
     ]
    }
   ],
   "source": [
    "summary( fit )"
   ]
  },
  {
   "cell_type": "code",
   "execution_count": 19,
   "metadata": {},
   "outputs": [
    {
     "name": "stdout",
     "output_type": "stream",
     "text": [
      "List of 14\n",
      " $ frame              :'data.frame':\t3 obs. of  8 variables:\n",
      "  ..$ var       : Factor w/ 2 levels \"<leaf>\",\"disp\": 2 1 1\n",
      "  ..$ n         : int [1:3] 32 18 14\n",
      "  ..$ wt        : num [1:3] 32 18 14\n",
      "  ..$ dev       : num [1:3] 1126 144 292\n",
      "  ..$ yval      : num [1:3] 20.1 16 25.4\n",
      "  ..$ complexity: num [1:3] 0.613 0.01 0.01\n",
      "  ..$ ncompete  : int [1:3] 1 0 0\n",
      "  ..$ nsurrogate: int [1:3] 1 0 0\n",
      " $ where              : Named int [1:32] 3 3 3 2 2 2 2 3 3 2 ...\n",
      "  ..- attr(*, \"names\")= chr [1:32] \"Mazda RX4\" \"Mazda RX4 Wag\" \"Datsun 710\" \"Hornet 4 Drive\" ...\n",
      " $ call               : language rpart(formula = mpg ~ hp + disp, data = mtcars)\n",
      " $ terms              :Classes 'terms', 'formula'  language mpg ~ hp + disp\n",
      "  .. ..- attr(*, \"variables\")= language list(mpg, hp, disp)\n",
      "  .. ..- attr(*, \"factors\")= int [1:3, 1:2] 0 1 0 0 0 1\n",
      "  .. .. ..- attr(*, \"dimnames\")=List of 2\n",
      "  .. .. .. ..$ : chr [1:3] \"mpg\" \"hp\" \"disp\"\n",
      "  .. .. .. ..$ : chr [1:2] \"hp\" \"disp\"\n",
      "  .. ..- attr(*, \"term.labels\")= chr [1:2] \"hp\" \"disp\"\n",
      "  .. ..- attr(*, \"order\")= int [1:2] 1 1\n",
      "  .. ..- attr(*, \"intercept\")= int 1\n",
      "  .. ..- attr(*, \"response\")= int 1\n",
      "  .. ..- attr(*, \".Environment\")=<environment: R_GlobalEnv> \n",
      "  .. ..- attr(*, \"predvars\")= language list(mpg, hp, disp)\n",
      "  .. ..- attr(*, \"dataClasses\")= Named chr [1:3] \"numeric\" \"numeric\" \"numeric\"\n",
      "  .. .. ..- attr(*, \"names\")= chr [1:3] \"mpg\" \"hp\" \"disp\"\n",
      " $ cptable            : num [1:2, 1:5] 0.613 0.01 0 1 1 ...\n",
      "  ..- attr(*, \"dimnames\")=List of 2\n",
      "  .. ..$ : chr [1:2] \"1\" \"2\"\n",
      "  .. ..$ : chr [1:5] \"CP\" \"nsplit\" \"rel error\" \"xerror\" ...\n",
      " $ method             : chr \"anova\"\n",
      " $ parms              : NULL\n",
      " $ control            :List of 9\n",
      "  ..$ minsplit      : int 20\n",
      "  ..$ minbucket     : num 7\n",
      "  ..$ cp            : num 0.01\n",
      "  ..$ maxcompete    : int 4\n",
      "  ..$ maxsurrogate  : int 5\n",
      "  ..$ usesurrogate  : int 2\n",
      "  ..$ surrogatestyle: int 0\n",
      "  ..$ maxdepth      : int 30\n",
      "  ..$ xval          : int 10\n",
      " $ functions          :List of 2\n",
      "  ..$ summary:function (yval, dev, wt, ylevel, digits)  \n",
      "  ..$ text   :function (yval, dev, wt, ylevel, digits, n, use.n)  \n",
      " $ numresp            : int 1\n",
      " $ splits             : num [1:3, 1:5] 32 32 0 1 1 ...\n",
      "  ..- attr(*, \"dimnames\")=List of 2\n",
      "  .. ..$ : chr [1:3] \"disp\" \"hp\" \"hp\"\n",
      "  .. ..$ : chr [1:5] \"count\" \"ncat\" \"improve\" \"index\" ...\n",
      " $ variable.importance: Named num [1:2] 690 542\n",
      "  ..- attr(*, \"names\")= chr [1:2] \"disp\" \"hp\"\n",
      " $ y                  : Named num [1:32] 21 21 22.8 21.4 18.7 18.1 14.3 24.4 22.8 19.2 ...\n",
      "  ..- attr(*, \"names\")= chr [1:32] \"Mazda RX4\" \"Mazda RX4 Wag\" \"Datsun 710\" \"Hornet 4 Drive\" ...\n",
      " $ ordered            : Named logi [1:2] FALSE FALSE\n",
      "  ..- attr(*, \"names\")= chr [1:2] \"hp\" \"disp\"\n",
      " - attr(*, \"xlevels\")= Named list()\n",
      " - attr(*, \"class\")= chr \"rpart\"\n"
     ]
    }
   ],
   "source": [
    "str( fit )"
   ]
  },
  {
   "cell_type": "markdown",
   "metadata": {},
   "source": [
    "#### Visualize"
   ]
  },
  {
   "cell_type": "code",
   "execution_count": 22,
   "metadata": {},
   "outputs": [
    {
     "data": {
      "image/png": "[encoded data removed]",
      "text/plain": [
       "plot without title"
      ]
     },
     "metadata": {},
     "output_type": "display_data"
    }
   ],
   "source": [
    "options(repr.plot.width =8 , repr.plot.height = 4.5, repr.plot.res = 300)\n",
    "plot( fit )\n",
    "text( fit, cex = .9)"
   ]
  },
  {
   "cell_type": "code",
   "execution_count": 21,
   "metadata": {},
   "outputs": [
    {
     "name": "stdout",
     "output_type": "stream",
     "text": [
      "List of 14\n",
      " $ frame              :'data.frame':\t3 obs. of  8 variables:\n",
      "  ..$ var       : Factor w/ 2 levels \"<leaf>\",\"disp\": 2 1 1\n",
      "  ..$ n         : int [1:3] 32 18 14\n",
      "  ..$ wt        : num [1:3] 32 18 14\n",
      "  ..$ dev       : num [1:3] 1126 144 292\n",
      "  ..$ yval      : num [1:3] 20.1 16 25.4\n",
      "  ..$ complexity: num [1:3] 0.613 0.01 0.01\n",
      "  ..$ ncompete  : int [1:3] 1 0 0\n",
      "  ..$ nsurrogate: int [1:3] 1 0 0\n",
      " $ where              : Named int [1:32] 3 3 3 2 2 2 2 3 3 2 ...\n",
      "  ..- attr(*, \"names\")= chr [1:32] \"Mazda RX4\" \"Mazda RX4 Wag\" \"Datsun 710\" \"Hornet 4 Drive\" ...\n",
      " $ call               : language rpart(formula = mpg ~ hp + disp, data = mtcars)\n",
      " $ terms              :Classes 'terms', 'formula'  language mpg ~ hp + disp\n",
      "  .. ..- attr(*, \"variables\")= language list(mpg, hp, disp)\n",
      "  .. ..- attr(*, \"factors\")= int [1:3, 1:2] 0 1 0 0 0 1\n",
      "  .. .. ..- attr(*, \"dimnames\")=List of 2\n",
      "  .. .. .. ..$ : chr [1:3] \"mpg\" \"hp\" \"disp\"\n",
      "  .. .. .. ..$ : chr [1:2] \"hp\" \"disp\"\n",
      "  .. ..- attr(*, \"term.labels\")= chr [1:2] \"hp\" \"disp\"\n",
      "  .. ..- attr(*, \"order\")= int [1:2] 1 1\n",
      "  .. ..- attr(*, \"intercept\")= int 1\n",
      "  .. ..- attr(*, \"response\")= int 1\n",
      "  .. ..- attr(*, \".Environment\")=<environment: R_GlobalEnv> \n",
      "  .. ..- attr(*, \"predvars\")= language list(mpg, hp, disp)\n",
      "  .. ..- attr(*, \"dataClasses\")= Named chr [1:3] \"numeric\" \"numeric\" \"numeric\"\n",
      "  .. .. ..- attr(*, \"names\")= chr [1:3] \"mpg\" \"hp\" \"disp\"\n",
      " $ cptable            : num [1:2, 1:5] 0.613 0.01 0 1 1 ...\n",
      "  ..- attr(*, \"dimnames\")=List of 2\n",
      "  .. ..$ : chr [1:2] \"1\" \"2\"\n",
      "  .. ..$ : chr [1:5] \"CP\" \"nsplit\" \"rel error\" \"xerror\" ...\n",
      " $ method             : chr \"anova\"\n",
      " $ parms              : NULL\n",
      " $ control            :List of 9\n",
      "  ..$ minsplit      : int 20\n",
      "  ..$ minbucket     : num 7\n",
      "  ..$ cp            : num 0.01\n",
      "  ..$ maxcompete    : int 4\n",
      "  ..$ maxsurrogate  : int 5\n",
      "  ..$ usesurrogate  : int 2\n",
      "  ..$ surrogatestyle: int 0\n",
      "  ..$ maxdepth      : int 30\n",
      "  ..$ xval          : int 10\n",
      " $ functions          :List of 2\n",
      "  ..$ summary:function (yval, dev, wt, ylevel, digits)  \n",
      "  ..$ text   :function (yval, dev, wt, ylevel, digits, n, use.n)  \n",
      " $ numresp            : int 1\n",
      " $ splits             : num [1:3, 1:5] 32 32 0 1 1 ...\n",
      "  ..- attr(*, \"dimnames\")=List of 2\n",
      "  .. ..$ : chr [1:3] \"disp\" \"hp\" \"hp\"\n",
      "  .. ..$ : chr [1:5] \"count\" \"ncat\" \"improve\" \"index\" ...\n",
      " $ variable.importance: Named num [1:2] 690 542\n",
      "  ..- attr(*, \"names\")= chr [1:2] \"disp\" \"hp\"\n",
      " $ y                  : Named num [1:32] 21 21 22.8 21.4 18.7 18.1 14.3 24.4 22.8 19.2 ...\n",
      "  ..- attr(*, \"names\")= chr [1:32] \"Mazda RX4\" \"Mazda RX4 Wag\" \"Datsun 710\" \"Hornet 4 Drive\" ...\n",
      " $ ordered            : Named logi [1:2] FALSE FALSE\n",
      "  ..- attr(*, \"names\")= chr [1:2] \"hp\" \"disp\"\n",
      " - attr(*, \"xlevels\")= Named list()\n",
      " - attr(*, \"class\")= chr \"rpart\"\n"
     ]
    }
   ],
   "source": [
    "str(as.vector(fit))"
   ]
  }
 ],
 "metadata": {
  "kernelspec": {
   "display_name": "R",
   "language": "R",
   "name": "ir"
  },
  "language_info": {
   "codemirror_mode": "r",
   "file_extension": ".r",
   "mimetype": "text/x-r-source",
   "name": "R",
   "pygments_lexer": "r",
   "version": "3.5.1"
  },
  "toc": {
   "nav_menu": {},
   "number_sections": true,
   "sideBar": true,
   "skip_h1_title": false,
   "toc_cell": false,
   "toc_position": {},
   "toc_section_display": "block",
   "toc_window_display": true
  },
  "varInspector": {
   "cols": {
    "lenName": 16,
    "lenType": 16,
    "lenVar": 40
   },
   "kernels_config": {
    "python": {
     "delete_cmd_postfix": "",
     "delete_cmd_prefix": "del ",
     "library": "var_list.py",
     "varRefreshCmd": "print(var_dic_list())"
    },
    "r": {
     "delete_cmd_postfix": ") ",
     "delete_cmd_prefix": "rm(",
     "library": "var_list.r",
     "varRefreshCmd": "cat(var_dic_list()) "
    }
   },
   "types_to_exclude": [
    "module",
    "function",
    "builtin_function_or_method",
    "instance",
    "_Feature"
   ],
   "window_display": false
  }
 },
 "nbformat": 4,
 "nbformat_minor": 2
}
