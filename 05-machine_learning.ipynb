{
 "cells": [
  {
   "cell_type": "markdown",
   "metadata": {},
   "source": [
    "# Machine Learning"
   ]
  },
  {
   "cell_type": "markdown",
   "metadata": {},
   "source": [
    "## Clustering"
   ]
  },
  {
   "cell_type": "markdown",
   "metadata": {},
   "source": [
    "### H Clustering"
   ]
  },
  {
   "cell_type": "markdown",
   "metadata": {},
   "source": [
    "### Kmeans"
   ]
  },
  {
   "cell_type": "markdown",
   "metadata": {},
   "source": [
    "## Regression"
   ]
  },
  {
   "cell_type": "markdown",
   "metadata": {},
   "source": [
    "### Linear Regression"
   ]
  },
  {
   "cell_type": "markdown",
   "metadata": {},
   "source": [
    "#### The Data"
   ]
  },
  {
   "cell_type": "code",
   "execution_count": 13,
   "metadata": {},
   "outputs": [
    {
     "data": {
      "text/html": [
       "<table>\n",
       "<thead><tr><th></th><th scope=col>mpg</th><th scope=col>cyl</th><th scope=col>disp</th><th scope=col>hp</th><th scope=col>drat</th><th scope=col>wt</th><th scope=col>qsec</th><th scope=col>vs</th><th scope=col>am</th><th scope=col>gear</th><th scope=col>carb</th></tr></thead>\n",
       "<tbody>\n",
       "\t<tr><th scope=row>Mazda RX4</th><td>21.0 </td><td>6    </td><td>160  </td><td>110  </td><td>3.90 </td><td>2.620</td><td>16.46</td><td>0    </td><td>1    </td><td>4    </td><td>4    </td></tr>\n",
       "\t<tr><th scope=row>Mazda RX4 Wag</th><td>21.0 </td><td>6    </td><td>160  </td><td>110  </td><td>3.90 </td><td>2.875</td><td>17.02</td><td>0    </td><td>1    </td><td>4    </td><td>4    </td></tr>\n",
       "\t<tr><th scope=row>Datsun 710</th><td>22.8 </td><td>4    </td><td>108  </td><td> 93  </td><td>3.85 </td><td>2.320</td><td>18.61</td><td>1    </td><td>1    </td><td>4    </td><td>1    </td></tr>\n",
       "\t<tr><th scope=row>Hornet 4 Drive</th><td>21.4 </td><td>6    </td><td>258  </td><td>110  </td><td>3.08 </td><td>3.215</td><td>19.44</td><td>1    </td><td>0    </td><td>3    </td><td>1    </td></tr>\n",
       "\t<tr><th scope=row>Hornet Sportabout</th><td>18.7 </td><td>8    </td><td>360  </td><td>175  </td><td>3.15 </td><td>3.440</td><td>17.02</td><td>0    </td><td>0    </td><td>3    </td><td>2    </td></tr>\n",
       "\t<tr><th scope=row>Valiant</th><td>18.1 </td><td>6    </td><td>225  </td><td>105  </td><td>2.76 </td><td>3.460</td><td>20.22</td><td>1    </td><td>0    </td><td>3    </td><td>1    </td></tr>\n",
       "</tbody>\n",
       "</table>\n"
      ],
      "text/latex": [
       "\\begin{tabular}{r|lllllllllll}\n",
       "  & mpg & cyl & disp & hp & drat & wt & qsec & vs & am & gear & carb\\\\\n",
       "\\hline\n",
       "\tMazda RX4 & 21.0  & 6     & 160   & 110   & 3.90  & 2.620 & 16.46 & 0     & 1     & 4     & 4    \\\\\n",
       "\tMazda RX4 Wag & 21.0  & 6     & 160   & 110   & 3.90  & 2.875 & 17.02 & 0     & 1     & 4     & 4    \\\\\n",
       "\tDatsun 710 & 22.8  & 4     & 108   &  93   & 3.85  & 2.320 & 18.61 & 1     & 1     & 4     & 1    \\\\\n",
       "\tHornet 4 Drive & 21.4  & 6     & 258   & 110   & 3.08  & 3.215 & 19.44 & 1     & 0     & 3     & 1    \\\\\n",
       "\tHornet Sportabout & 18.7  & 8     & 360   & 175   & 3.15  & 3.440 & 17.02 & 0     & 0     & 3     & 2    \\\\\n",
       "\tValiant & 18.1  & 6     & 225   & 105   & 2.76  & 3.460 & 20.22 & 1     & 0     & 3     & 1    \\\\\n",
       "\\end{tabular}\n"
      ],
      "text/markdown": [
       "\n",
       "| <!--/--> | mpg | cyl | disp | hp | drat | wt | qsec | vs | am | gear | carb | \n",
       "|---|---|---|---|---|---|\n",
       "| Mazda RX4 | 21.0  | 6     | 160   | 110   | 3.90  | 2.620 | 16.46 | 0     | 1     | 4     | 4     | \n",
       "| Mazda RX4 Wag | 21.0  | 6     | 160   | 110   | 3.90  | 2.875 | 17.02 | 0     | 1     | 4     | 4     | \n",
       "| Datsun 710 | 22.8  | 4     | 108   |  93   | 3.85  | 2.320 | 18.61 | 1     | 1     | 4     | 1     | \n",
       "| Hornet 4 Drive | 21.4  | 6     | 258   | 110   | 3.08  | 3.215 | 19.44 | 1     | 0     | 3     | 1     | \n",
       "| Hornet Sportabout | 18.7  | 8     | 360   | 175   | 3.15  | 3.440 | 17.02 | 0     | 0     | 3     | 2     | \n",
       "| Valiant | 18.1  | 6     | 225   | 105   | 2.76  | 3.460 | 20.22 | 1     | 0     | 3     | 1     | \n",
       "\n",
       "\n"
      ],
      "text/plain": [
       "                  mpg  cyl disp hp  drat wt    qsec  vs am gear carb\n",
       "Mazda RX4         21.0 6   160  110 3.90 2.620 16.46 0  1  4    4   \n",
       "Mazda RX4 Wag     21.0 6   160  110 3.90 2.875 17.02 0  1  4    4   \n",
       "Datsun 710        22.8 4   108   93 3.85 2.320 18.61 1  1  4    1   \n",
       "Hornet 4 Drive    21.4 6   258  110 3.08 3.215 19.44 1  0  3    1   \n",
       "Hornet Sportabout 18.7 8   360  175 3.15 3.440 17.02 0  0  3    2   \n",
       "Valiant           18.1 6   225  105 2.76 3.460 20.22 1  0  3    1   "
      ]
     },
     "metadata": {},
     "output_type": "display_data"
    }
   ],
   "source": [
    "head(mtcars)"
   ]
  },
  {
   "cell_type": "markdown",
   "metadata": {},
   "source": [
    "#### Build Model"
   ]
  },
  {
   "cell_type": "code",
   "execution_count": 15,
   "metadata": {
    "scrolled": true
   },
   "outputs": [],
   "source": [
    "fit = lm(mtcars, formula = mpg ~.)"
   ]
  },
  {
   "cell_type": "code",
   "execution_count": 16,
   "metadata": {},
   "outputs": [
    {
     "data": {
      "text/plain": [
       "\n",
       "Call:\n",
       "lm(formula = mpg ~ ., data = mtcars)\n",
       "\n",
       "Residuals:\n",
       "    Min      1Q  Median      3Q     Max \n",
       "-3.4506 -1.6044 -0.1196  1.2193  4.6271 \n",
       "\n",
       "Coefficients:\n",
       "            Estimate Std. Error t value Pr(>|t|)  \n",
       "(Intercept) 12.30337   18.71788   0.657   0.5181  \n",
       "cyl         -0.11144    1.04502  -0.107   0.9161  \n",
       "disp         0.01334    0.01786   0.747   0.4635  \n",
       "hp          -0.02148    0.02177  -0.987   0.3350  \n",
       "drat         0.78711    1.63537   0.481   0.6353  \n",
       "wt          -3.71530    1.89441  -1.961   0.0633 .\n",
       "qsec         0.82104    0.73084   1.123   0.2739  \n",
       "vs           0.31776    2.10451   0.151   0.8814  \n",
       "am           2.52023    2.05665   1.225   0.2340  \n",
       "gear         0.65541    1.49326   0.439   0.6652  \n",
       "carb        -0.19942    0.82875  -0.241   0.8122  \n",
       "---\n",
       "Signif. codes:  0 '***' 0.001 '**' 0.01 '*' 0.05 '.' 0.1 ' ' 1\n",
       "\n",
       "Residual standard error: 2.65 on 21 degrees of freedom\n",
       "Multiple R-squared:  0.869,\tAdjusted R-squared:  0.8066 \n",
       "F-statistic: 13.93 on 10 and 21 DF,  p-value: 3.793e-07\n"
      ]
     },
     "metadata": {},
     "output_type": "display_data"
    }
   ],
   "source": [
    "summary(fit)"
   ]
  },
  {
   "cell_type": "code",
   "execution_count": 17,
   "metadata": {},
   "outputs": [
    {
     "data": {
      "text/html": [
       "<dl class=dl-horizontal>\n",
       "\t<dt>Mazda RX4</dt>\n",
       "\t\t<dd>-1.59950576126238</dd>\n",
       "\t<dt>Mazda RX4 Wag</dt>\n",
       "\t\t<dd>-1.11188607935667</dd>\n",
       "\t<dt>Datsun 710</dt>\n",
       "\t\t<dd>-3.45064408479879</dd>\n",
       "\t<dt>Hornet 4 Drive</dt>\n",
       "\t\t<dd>0.162595453324269</dd>\n",
       "\t<dt>Hornet Sportabout</dt>\n",
       "\t\t<dd>1.00656597130251</dd>\n",
       "\t<dt>Valiant</dt>\n",
       "\t\t<dd>-2.28303903567157</dd>\n",
       "\t<dt>Duster 360</dt>\n",
       "\t\t<dd>-0.0862562527809426</dd>\n",
       "\t<dt>Merc 240D</dt>\n",
       "\t\t<dd>1.90398811511132</dd>\n",
       "\t<dt>Merc 230</dt>\n",
       "\t\t<dd>-1.61908989756229</dd>\n",
       "\t<dt>Merc 280</dt>\n",
       "\t\t<dd>0.500970057660505</dd>\n",
       "\t<dt>Merc 280C</dt>\n",
       "\t\t<dd>-1.39165439214427</dd>\n",
       "\t<dt>Merc 450SE</dt>\n",
       "\t\t<dd>2.22783788955662</dd>\n",
       "\t<dt>Merc 450SL</dt>\n",
       "\t\t<dd>1.70042640399035</dd>\n",
       "\t<dt>Merc 450SLC</dt>\n",
       "\t\t<dd>-0.542224699463131</dd>\n",
       "\t<dt>Cadillac Fleetwood</dt>\n",
       "\t\t<dd>-1.63401341512804</dd>\n",
       "\t<dt>Lincoln Continental</dt>\n",
       "\t\t<dd>-0.536437710856186</dd>\n",
       "\t<dt>Chrysler Imperial</dt>\n",
       "\t\t<dd>4.20637063816536</dd>\n",
       "\t<dt>Fiat 128</dt>\n",
       "\t\t<dd>4.62709419222164</dd>\n",
       "\t<dt>Honda Civic</dt>\n",
       "\t\t<dd>0.503261088688636</dd>\n",
       "\t<dt>Toyota Corolla</dt>\n",
       "\t\t<dd>4.38763090426122</dd>\n",
       "\t<dt>Toyota Corona</dt>\n",
       "\t\t<dd>-2.14310344160503</dd>\n",
       "\t<dt>Dodge Challenger</dt>\n",
       "\t\t<dd>-1.4430532211761</dd>\n",
       "\t<dt>AMC Javelin</dt>\n",
       "\t\t<dd>-2.53218149782934</dd>\n",
       "\t<dt>Camaro Z28</dt>\n",
       "\t\t<dd>-0.00602197620180331</dd>\n",
       "\t<dt>Pontiac Firebird</dt>\n",
       "\t\t<dd>2.50832101130778</dd>\n",
       "\t<dt>Fiat X1-9</dt>\n",
       "\t\t<dd>-0.993468693444605</dd>\n",
       "\t<dt>Porsche 914-2</dt>\n",
       "\t\t<dd>-0.152953960868617</dd>\n",
       "\t<dt>Lotus Europa</dt>\n",
       "\t\t<dd>2.76372741720275</dd>\n",
       "\t<dt>Ford Pantera L</dt>\n",
       "\t\t<dd>-3.07004080286475</dd>\n",
       "\t<dt>Ferrari Dino</dt>\n",
       "\t\t<dd>0.00617184552521879</dd>\n",
       "\t<dt>Maserati Bora</dt>\n",
       "\t\t<dd>1.05888161794013</dd>\n",
       "\t<dt>Volvo 142E</dt>\n",
       "\t\t<dd>-2.96826768324378</dd>\n",
       "</dl>\n"
      ],
      "text/latex": [
       "\\begin{description*}\n",
       "\\item[Mazda RX4] -1.59950576126238\n",
       "\\item[Mazda RX4 Wag] -1.11188607935667\n",
       "\\item[Datsun 710] -3.45064408479879\n",
       "\\item[Hornet 4 Drive] 0.162595453324269\n",
       "\\item[Hornet Sportabout] 1.00656597130251\n",
       "\\item[Valiant] -2.28303903567157\n",
       "\\item[Duster 360] -0.0862562527809426\n",
       "\\item[Merc 240D] 1.90398811511132\n",
       "\\item[Merc 230] -1.61908989756229\n",
       "\\item[Merc 280] 0.500970057660505\n",
       "\\item[Merc 280C] -1.39165439214427\n",
       "\\item[Merc 450SE] 2.22783788955662\n",
       "\\item[Merc 450SL] 1.70042640399035\n",
       "\\item[Merc 450SLC] -0.542224699463131\n",
       "\\item[Cadillac Fleetwood] -1.63401341512804\n",
       "\\item[Lincoln Continental] -0.536437710856186\n",
       "\\item[Chrysler Imperial] 4.20637063816536\n",
       "\\item[Fiat 128] 4.62709419222164\n",
       "\\item[Honda Civic] 0.503261088688636\n",
       "\\item[Toyota Corolla] 4.38763090426122\n",
       "\\item[Toyota Corona] -2.14310344160503\n",
       "\\item[Dodge Challenger] -1.4430532211761\n",
       "\\item[AMC Javelin] -2.53218149782934\n",
       "\\item[Camaro Z28] -0.00602197620180331\n",
       "\\item[Pontiac Firebird] 2.50832101130778\n",
       "\\item[Fiat X1-9] -0.993468693444605\n",
       "\\item[Porsche 914-2] -0.152953960868617\n",
       "\\item[Lotus Europa] 2.76372741720275\n",
       "\\item[Ford Pantera L] -3.07004080286475\n",
       "\\item[Ferrari Dino] 0.00617184552521879\n",
       "\\item[Maserati Bora] 1.05888161794013\n",
       "\\item[Volvo 142E] -2.96826768324378\n",
       "\\end{description*}\n"
      ],
      "text/markdown": [
       "Mazda RX4\n",
       ":   -1.59950576126238Mazda RX4 Wag\n",
       ":   -1.11188607935667Datsun 710\n",
       ":   -3.45064408479879Hornet 4 Drive\n",
       ":   0.162595453324269Hornet Sportabout\n",
       ":   1.00656597130251Valiant\n",
       ":   -2.28303903567157Duster 360\n",
       ":   -0.0862562527809426Merc 240D\n",
       ":   1.90398811511132Merc 230\n",
       ":   -1.61908989756229Merc 280\n",
       ":   0.500970057660505Merc 280C\n",
       ":   -1.39165439214427Merc 450SE\n",
       ":   2.22783788955662Merc 450SL\n",
       ":   1.70042640399035Merc 450SLC\n",
       ":   -0.542224699463131Cadillac Fleetwood\n",
       ":   -1.63401341512804Lincoln Continental\n",
       ":   -0.536437710856186Chrysler Imperial\n",
       ":   4.20637063816536Fiat 128\n",
       ":   4.62709419222164Honda Civic\n",
       ":   0.503261088688636Toyota Corolla\n",
       ":   4.38763090426122Toyota Corona\n",
       ":   -2.14310344160503Dodge Challenger\n",
       ":   -1.4430532211761AMC Javelin\n",
       ":   -2.53218149782934Camaro Z28\n",
       ":   -0.00602197620180331Pontiac Firebird\n",
       ":   2.50832101130778Fiat X1-9\n",
       ":   -0.993468693444605Porsche 914-2\n",
       ":   -0.152953960868617Lotus Europa\n",
       ":   2.76372741720275Ford Pantera L\n",
       ":   -3.07004080286475Ferrari Dino\n",
       ":   0.00617184552521879Maserati Bora\n",
       ":   1.05888161794013Volvo 142E\n",
       ":   -2.96826768324378\n",
       "\n"
      ],
      "text/plain": [
       "          Mazda RX4       Mazda RX4 Wag          Datsun 710      Hornet 4 Drive \n",
       "       -1.599505761        -1.111886079        -3.450644085         0.162595453 \n",
       "  Hornet Sportabout             Valiant          Duster 360           Merc 240D \n",
       "        1.006565971        -2.283039036        -0.086256253         1.903988115 \n",
       "           Merc 230            Merc 280           Merc 280C          Merc 450SE \n",
       "       -1.619089898         0.500970058        -1.391654392         2.227837890 \n",
       "         Merc 450SL         Merc 450SLC  Cadillac Fleetwood Lincoln Continental \n",
       "        1.700426404        -0.542224699        -1.634013415        -0.536437711 \n",
       "  Chrysler Imperial            Fiat 128         Honda Civic      Toyota Corolla \n",
       "        4.206370638         4.627094192         0.503261089         4.387630904 \n",
       "      Toyota Corona    Dodge Challenger         AMC Javelin          Camaro Z28 \n",
       "       -2.143103442        -1.443053221        -2.532181498        -0.006021976 \n",
       "   Pontiac Firebird           Fiat X1-9       Porsche 914-2        Lotus Europa \n",
       "        2.508321011        -0.993468693        -0.152953961         2.763727417 \n",
       "     Ford Pantera L        Ferrari Dino       Maserati Bora          Volvo 142E \n",
       "       -3.070040803         0.006171846         1.058881618        -2.968267683 "
      ]
     },
     "metadata": {},
     "output_type": "display_data"
    }
   ],
   "source": [
    "residuals(fit)"
   ]
  },
  {
   "cell_type": "code",
   "execution_count": null,
   "metadata": {},
   "outputs": [],
   "source": []
  },
  {
   "cell_type": "markdown",
   "metadata": {},
   "source": [
    "## Classification"
   ]
  },
  {
   "cell_type": "markdown",
   "metadata": {},
   "source": [
    "### Decision Tree"
   ]
  },
  {
   "cell_type": "markdown",
   "metadata": {},
   "source": [
    "### Naive Bayes"
   ]
  },
  {
   "cell_type": "markdown",
   "metadata": {},
   "source": [
    "### Logistic Regression"
   ]
  }
 ],
 "metadata": {
  "kernelspec": {
   "display_name": "R",
   "language": "R",
   "name": "ir"
  },
  "language_info": {
   "codemirror_mode": "r",
   "file_extension": ".r",
   "mimetype": "text/x-r-source",
   "name": "R",
   "pygments_lexer": "r",
   "version": "3.5.1"
  },
  "toc": {
   "nav_menu": {},
   "number_sections": true,
   "sideBar": true,
   "skip_h1_title": false,
   "toc_cell": false,
   "toc_position": {},
   "toc_section_display": "block",
   "toc_window_display": true
  },
  "varInspector": {
   "cols": {
    "lenName": 16,
    "lenType": 16,
    "lenVar": 40
   },
   "kernels_config": {
    "python": {
     "delete_cmd_postfix": "",
     "delete_cmd_prefix": "del ",
     "library": "var_list.py",
     "varRefreshCmd": "print(var_dic_list())"
    },
    "r": {
     "delete_cmd_postfix": ") ",
     "delete_cmd_prefix": "rm(",
     "library": "var_list.r",
     "varRefreshCmd": "cat(var_dic_list()) "
    }
   },
   "types_to_exclude": [
    "module",
    "function",
    "builtin_function_or_method",
    "instance",
    "_Feature"
   ],
   "window_display": false
  }
 },
 "nbformat": 4,
 "nbformat_minor": 2
}
