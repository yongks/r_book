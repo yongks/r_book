{
  "cells": [
    {
      "metadata": {},
      "cell_type": "markdown",
      "source": "# R Built-In Data Types"
    },
    {
      "metadata": {},
      "cell_type": "markdown",
      "source": "## Number"
    },
    {
      "metadata": {},
      "cell_type": "markdown",
      "source": "### Integer\nUse **L** to denote integer"
    },
    {
      "metadata": {
        "trusted": true
      },
      "cell_type": "code",
      "source": "print ( 2L )\nprint( typeof( 2L ) )\nprint( is.integer( 2L ) )",
      "execution_count": 6,
      "outputs": [
        {
          "output_type": "stream",
          "text": "[1] 2\n[1] \"integer\"\n[1] TRUE\n",
          "name": "stdout"
        }
      ]
    },
    {
      "metadata": {},
      "cell_type": "markdown",
      "source": "### Double"
    },
    {
      "metadata": {
        "trusted": true
      },
      "cell_type": "code",
      "source": "print ( 2.3 )\nprint( typeof( 2.3 ) )\nprint( is.double( 2.3 ) )",
      "execution_count": 11,
      "outputs": [
        {
          "output_type": "stream",
          "text": "[1] 2.3\n[1] \"double\"\n[1] TRUE\n",
          "name": "stdout"
        }
      ]
    },
    {
      "metadata": {},
      "cell_type": "markdown",
      "source": "### is.numeric()\n**Both** integer and double are numeric"
    },
    {
      "metadata": {
        "trusted": true
      },
      "cell_type": "code",
      "source": "print( is.numeric(2L) )\nprint( is.numeric(2.3L) )",
      "execution_count": 17,
      "outputs": [
        {
          "output_type": "stream",
          "text": "[1] TRUE\n[1] TRUE\n",
          "name": "stdout"
        }
      ]
    },
    {
      "metadata": {},
      "cell_type": "markdown",
      "source": "## Character"
    },
    {
      "metadata": {
        "trusted": true
      },
      "cell_type": "code",
      "source": "print( 'abc' )\nprint( typeof('abc') )\nprint( is.character('abc') )",
      "execution_count": 24,
      "outputs": [
        {
          "output_type": "stream",
          "text": "[1] \"abc\"\n[1] \"character\"\n[1] TRUE\n",
          "name": "stdout"
        }
      ]
    },
    {
      "metadata": {},
      "cell_type": "markdown",
      "source": "## Date and Time"
    },
    {
      "metadata": {},
      "cell_type": "markdown",
      "source": "### Date\n- Date is in fact **double**\n- There is **no is.date()** function"
    },
    {
      "metadata": {
        "trusted": true
      },
      "cell_type": "code",
      "source": "d = as.Date('2019-01-03')\nprint( d )\nprint( typeof(d) )\nprint( is.double(d) )",
      "execution_count": 2,
      "outputs": [
        {
          "output_type": "stream",
          "text": "[1] \"2019-01-03\"\n[1] \"double\"\n[1] TRUE\n",
          "name": "stdout"
        }
      ]
    },
    {
      "metadata": {
        "trusted": true
      },
      "cell_type": "markdown",
      "source": "### Time"
    },
    {
      "metadata": {
        "trusted": true
      },
      "cell_type": "markdown",
      "source": "### Date and Time"
    },
    {
      "metadata": {
        "trusted": true
      },
      "cell_type": "code",
      "source": "",
      "execution_count": null,
      "outputs": []
    },
    {
      "metadata": {
        "collapsed": true
      },
      "cell_type": "markdown",
      "source": "# R Built-In Data Structure"
    },
    {
      "metadata": {
        "trusted": true
      },
      "cell_type": "markdown",
      "source": "## Vector\n- Vector can only contain single data type (atomic) elements"
    },
    {
      "metadata": {},
      "cell_type": "markdown",
      "source": "### Creating Vector"
    },
    {
      "metadata": {},
      "cell_type": "markdown",
      "source": "#### Empty Vector\n- Empty vector is vector with no elements, also known as **NULL**\n- Use **is.null()** to test NULL"
    },
    {
      "metadata": {
        "trusted": true
      },
      "cell_type": "code",
      "source": "empty = c()\nprint   (empty)\ntypeof  (empty)\nis.null (empty)",
      "execution_count": 9,
      "outputs": [
        {
          "output_type": "stream",
          "text": "NULL\n",
          "name": "stdout"
        },
        {
          "output_type": "display_data",
          "data": {
            "text/plain": "[1] \"NULL\"",
            "text/latex": "'NULL'",
            "text/markdown": "'NULL'",
            "text/html": "'NULL'"
          },
          "metadata": {}
        },
        {
          "output_type": "display_data",
          "data": {
            "text/plain": "[1] TRUE",
            "text/latex": "TRUE",
            "text/markdown": "TRUE",
            "text/html": "TRUE"
          },
          "metadata": {}
        }
      ]
    },
    {
      "metadata": {},
      "cell_type": "markdown",
      "source": "#### Assignment"
    },
    {
      "metadata": {
        "trusted": true
      },
      "cell_type": "code",
      "source": "x1 = c(1,2,3,4,5)    \nx2 = c('yongks','mahathir','limge','annuar','limks')\nx3 = c(1,4:6,10:15)  ## assign with range of number\nstr (x1)\nstr (x2)\nstr (x3)",
      "execution_count": 74,
      "outputs": [
        {
          "output_type": "stream",
          "text": " num [1:5] 1 2 3 4 5\n chr [1:5] \"yongks\" \"mahathir\" \"limge\" \"annuar\" \"limks\"\n num [1:10] 1 4 5 6 10 11 12 13 14 15\n",
          "name": "stdout"
        }
      ]
    },
    {
      "metadata": {},
      "cell_type": "markdown",
      "source": "### Naming & Attributes\n- Each element of vector can have a name"
    },
    {
      "metadata": {},
      "cell_type": "markdown",
      "source": "#### Creating Names"
    },
    {
      "metadata": {
        "trusted": true
      },
      "cell_type": "code",
      "source": "y        = c(7,8,9,10)\nnames(y) = c('seven','eight','nine')\nprint(y)",
      "execution_count": 58,
      "outputs": [
        {
          "output_type": "stream",
          "text": "seven eight  nine  <NA> \n    7     8     9    10 \n",
          "name": "stdout"
        }
      ]
    },
    {
      "metadata": {},
      "cell_type": "markdown",
      "source": "#### Retrieving Names\n- **names()** return a vector of all names of a vector\n- Elements that has not been assinged names will have **NA**"
    },
    {
      "metadata": {
        "trusted": true
      },
      "cell_type": "code",
      "source": "names(y)",
      "execution_count": 60,
      "outputs": [
        {
          "output_type": "display_data",
          "data": {
            "text/plain": "[1] \"seven\" \"eight\" \"nine\"  NA     ",
            "text/latex": "\\begin{enumerate*}\n\\item 'seven'\n\\item 'eight'\n\\item 'nine'\n\\item NA\n\\end{enumerate*}\n",
            "text/markdown": "1. 'seven'\n2. 'eight'\n3. 'nine'\n4. NA\n\n\n",
            "text/html": "<ol class=list-inline>\n\t<li>'seven'</li>\n\t<li>'eight'</li>\n\t<li>'nine'</li>\n\t<li>NA</li>\n</ol>\n"
          },
          "metadata": {}
        }
      ]
    },
    {
      "metadata": {},
      "cell_type": "markdown",
      "source": "#### Name as Attribute"
    },
    {
      "metadata": {},
      "cell_type": "markdown",
      "source": "Naming vector **creates \"name\" attributes**"
    },
    {
      "metadata": {
        "trusted": true
      },
      "cell_type": "code",
      "source": "attributes (y)",
      "execution_count": 62,
      "outputs": [
        {
          "output_type": "display_data",
          "data": {
            "text/plain": "$names\n[1] \"seven\" \"eight\" \"nine\"  NA     \n",
            "text/latex": "\\textbf{\\$names} = \\begin{enumerate*}\n\\item 'seven'\n\\item 'eight'\n\\item 'nine'\n\\item NA\n\\end{enumerate*}\n",
            "text/markdown": "**$names** = 1. 'seven'\n2. 'eight'\n3. 'nine'\n4. NA\n\n\n",
            "text/html": "<strong>$names</strong> = <ol class=list-inline>\n\t<li>'seven'</li>\n\t<li>'eight'</li>\n\t<li>'nine'</li>\n\t<li>NA</li>\n</ol>\n"
          },
          "metadata": {}
        }
      ]
    },
    {
      "metadata": {},
      "cell_type": "markdown",
      "source": "### Accessing Elements\n- Accessing element(s) will always return as a new vector"
    },
    {
      "metadata": {},
      "cell_type": "markdown",
      "source": "#### Access with Index Vector\nSupply a **number vector in [  ]** to select the elements.   \nIndex number starts at 1."
    },
    {
      "metadata": {
        "trusted": true
      },
      "cell_type": "code",
      "source": "z = c('aaa','bbb','ccc','ddd','eee','fff','ggg','hhh','iii','jjj')\n\nprint( z[3]   )       ## retrieve single element\nprint( z[c(1,3,4)]  ) ## retrieve element 1,3,4\nprint( z[1:3] )       ## retrieve first 3 elements\nprint( z[c(1:3, 7:9)])",
      "execution_count": 7,
      "outputs": [
        {
          "output_type": "stream",
          "text": "[1] \"ccc\"\n[1] \"aaa\" \"ccc\" \"ddd\"\n[1] \"aaa\" \"bbb\" \"ccc\"\n[1] \"aaa\" \"bbb\" \"ccc\" \"ggg\" \"hhh\" \"iii\"\n",
          "name": "stdout"
        }
      ]
    },
    {
      "metadata": {},
      "cell_type": "markdown",
      "source": "Use **negate (-num)** to deselect item(s)"
    },
    {
      "metadata": {
        "trusted": true
      },
      "cell_type": "code",
      "source": "print( z[c(-1,-4)] )  ## negate specific elements\nprint( z[c(-1:-3)] )  ## deselect first 3 elements",
      "execution_count": 8,
      "outputs": [
        {
          "output_type": "stream",
          "text": "[1] \"bbb\" \"ccc\" \"eee\" \"fff\" \"ggg\" \"hhh\" \"iii\" \"jjj\"\n[1] \"ddd\" \"eee\" \"fff\" \"ggg\" \"hhh\" \"iii\" \"jjj\"\n",
          "name": "stdout"
        }
      ]
    },
    {
      "metadata": {
        "trusted": true
      },
      "cell_type": "markdown",
      "source": "#### Access with Logical Vector\nConceptual wize, index a vector with T/F will return elements which match T"
    },
    {
      "metadata": {
        "trusted": true
      },
      "cell_type": "code",
      "source": "z = c('aaa','bbb','ccc','ddd','eee','fff','ggg','hhh','iii','jjj')\nprint( z[ c(T,T,T,F,F,F,F,F,F,F)] ) ## retrieve first 3 elements",
      "execution_count": 11,
      "outputs": [
        {
          "output_type": "stream",
          "text": "[1] \"aaa\" \"bbb\" \"ccc\"\n",
          "name": "stdout"
        }
      ]
    },
    {
      "metadata": {},
      "cell_type": "markdown",
      "source": "**This method can be used as 'filtering'**, \nby first \n- Form a logical vector based on matching criteria of the vector itself\n- Index the data vector with this logical vector \n- If logical vector is shorter than data, **logical elements repeat itself**"
    },
    {
      "metadata": {
        "trusted": true
      },
      "cell_type": "code",
      "source": "## create the logical vector\ncriteria = z %in% c('fff','iii')\nprint( criteria )\nprint( z[criteria] )   ## apply the logical vector to vector indexing",
      "execution_count": 12,
      "outputs": [
        {
          "output_type": "stream",
          "text": " [1] FALSE FALSE FALSE FALSE FALSE  TRUE FALSE FALSE  TRUE FALSE\n[1] \"fff\" \"iii\"\n",
          "name": "stdout"
        }
      ]
    },
    {
      "metadata": {},
      "cell_type": "markdown",
      "source": "Logical vector **repeat itself** if shorter than data length.  "
    },
    {
      "metadata": {
        "trusted": true
      },
      "cell_type": "code",
      "source": "## select every alternate element (odd position)\nz[c(T,F)]",
      "execution_count": 13,
      "outputs": [
        {
          "output_type": "display_data",
          "data": {
            "text/plain": "[1] \"aaa\" \"ccc\" \"eee\" \"ggg\" \"iii\"",
            "text/latex": "\\begin{enumerate*}\n\\item 'aaa'\n\\item 'ccc'\n\\item 'eee'\n\\item 'ggg'\n\\item 'iii'\n\\end{enumerate*}\n",
            "text/markdown": "1. 'aaa'\n2. 'ccc'\n3. 'eee'\n4. 'ggg'\n5. 'iii'\n\n\n",
            "text/html": "<ol class=list-inline>\n\t<li>'aaa'</li>\n\t<li>'ccc'</li>\n\t<li>'eee'</li>\n\t<li>'ggg'</li>\n\t<li>'iii'</li>\n</ol>\n"
          },
          "metadata": {}
        }
      ]
    },
    {
      "metadata": {},
      "cell_type": "markdown",
      "source": "#### Access with Name\nIndex with a vector of names"
    },
    {
      "metadata": {
        "trusted": true
      },
      "cell_type": "code",
      "source": "z = c(1,2,3,4,5,6,7,8,9)\nnames(z) = c('one','two','three','four','five','six','seven','eight','nine')",
      "execution_count": 14,
      "outputs": []
    },
    {
      "metadata": {
        "trusted": true
      },
      "cell_type": "code",
      "source": "print( z['seven']  )            # does not require c() if single element\nprint( z[c('seven','nine')]  )  # choose two elements by name",
      "execution_count": 15,
      "outputs": [
        {
          "output_type": "stream",
          "text": "seven \n    7 \nseven  nine \n    7     9 \n",
          "name": "stdout"
        }
      ]
    },
    {
      "metadata": {},
      "cell_type": "markdown",
      "source": "### Remove Item(s)"
    },
    {
      "metadata": {},
      "cell_type": "markdown",
      "source": "#### Characteristic"
    },
    {
      "metadata": {
        "trusted": true
      },
      "cell_type": "code",
      "source": "is.atomic(x2)",
      "execution_count": 38,
      "outputs": [
        {
          "output_type": "display_data",
          "data": {
            "text/plain": "[1] TRUE",
            "text/latex": "TRUE",
            "text/markdown": "TRUE",
            "text/html": "TRUE"
          },
          "metadata": {}
        }
      ]
    },
    {
      "metadata": {},
      "cell_type": "markdown",
      "source": "### Characteristic of Vector"
    },
    {
      "metadata": {
        "trusted": true
      },
      "cell_type": "code",
      "source": "z = c(1,2,3,4,5,6,7,8,9)\nnames(z) = c('one','two','three','four','five','six','seven','eight','nine')\nattributes()",
      "execution_count": 3,
      "outputs": []
    },
    {
      "metadata": {
        "trusted": true
      },
      "cell_type": "code",
      "source": "",
      "execution_count": null,
      "outputs": []
    },
    {
      "metadata": {
        "trusted": true
      },
      "cell_type": "markdown",
      "source": "## Data Frame"
    },
    {
      "metadata": {
        "trusted": true
      },
      "cell_type": "code",
      "source": "",
      "execution_count": null,
      "outputs": []
    },
    {
      "metadata": {
        "trusted": true
      },
      "cell_type": "code",
      "source": "",
      "execution_count": null,
      "outputs": []
    },
    {
      "metadata": {
        "trusted": true
      },
      "cell_type": "markdown",
      "source": "# Control Structure"
    },
    {
      "metadata": {},
      "cell_type": "markdown",
      "source": "## if..then..else"
    },
    {
      "metadata": {
        "trusted": true
      },
      "cell_type": "code",
      "source": "",
      "execution_count": null,
      "outputs": []
    },
    {
      "metadata": {},
      "cell_type": "markdown",
      "source": "## For Loop"
    },
    {
      "metadata": {},
      "cell_type": "markdown",
      "source": "Loop through any vector, numeric or character"
    },
    {
      "metadata": {},
      "cell_type": "markdown",
      "source": "### Loop through Number vector"
    },
    {
      "metadata": {
        "trusted": true
      },
      "cell_type": "code",
      "source": "for(i in 1:5)\n    print(i)",
      "execution_count": 4,
      "outputs": [
        {
          "output_type": "stream",
          "text": "[1] 1\n[1] 2\n[1] 3\n[1] 4\n[1] 5\n",
          "name": "stdout"
        }
      ]
    },
    {
      "metadata": {},
      "cell_type": "markdown",
      "source": "### Loop through Character Vector"
    },
    {
      "metadata": {
        "trusted": true
      },
      "cell_type": "code",
      "source": "students = c(10,15,16,18,20)\nnames(students) = c('ali','abu','ah kow','sammy','david')\nprint(students)",
      "execution_count": 1,
      "outputs": [
        {
          "output_type": "stream",
          "text": "   ali    abu ah kow  sammy  david \n    10     15     16     18     20 \n",
          "name": "stdout"
        }
      ]
    },
    {
      "metadata": {
        "trusted": true
      },
      "cell_type": "code",
      "source": "for (i in 1:length(students)) {\n    cat('Student name: ', names(students)[i], '\\tage: ', students[i],'\\n')\n}",
      "execution_count": 2,
      "outputs": [
        {
          "output_type": "stream",
          "text": "Student name:  ali \tage:  10 \nStudent name:  abu \tage:  15 \nStudent name:  ah kow \tage:  16 \nStudent name:  sammy \tage:  18 \nStudent name:  david \tage:  20 \n",
          "name": "stdout"
        }
      ]
    },
    {
      "metadata": {
        "trusted": true
      },
      "cell_type": "code",
      "source": "#",
      "execution_count": null,
      "outputs": []
    },
    {
      "metadata": {
        "trusted": true
      },
      "cell_type": "code",
      "source": "",
      "execution_count": null,
      "outputs": []
    },
    {
      "metadata": {
        "trusted": true
      },
      "cell_type": "code",
      "source": "",
      "execution_count": null,
      "outputs": []
    }
  ],
  "metadata": {
    "kernelspec": {
      "name": "r",
      "display_name": "R",
      "language": "R"
    },
    "language_info": {
      "mimetype": "text/x-r-source",
      "name": "R",
      "pygments_lexer": "r",
      "version": "3.4.1",
      "file_extension": ".r",
      "codemirror_mode": "r"
    },
    "toc": {
      "nav_menu": {
        "width": "309px",
        "height": "514px"
      },
      "number_sections": true,
      "sideBar": false,
      "skip_h1_title": false,
      "base_numbering": 1,
      "title_cell": "Table of Contents",
      "title_sidebar": "Contents",
      "toc_cell": false,
      "toc_position": {
        "height": "621px",
        "width": "219px",
        "left": "821px",
        "top": "150px"
      },
      "toc_section_display": true,
      "toc_window_display": true
    }
  },
  "nbformat": 4,
  "nbformat_minor": 2
}