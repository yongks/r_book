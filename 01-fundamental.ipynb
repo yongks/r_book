{
 "cells": [
  {
   "cell_type": "markdown",
   "metadata": {},
   "source": [
    "# Basic Data Types"
   ]
  },
  {
   "cell_type": "markdown",
   "metadata": {},
   "source": [
    "## Library Used"
   ]
  },
  {
   "cell_type": "code",
   "execution_count": 9,
   "metadata": {},
   "outputs": [],
   "source": [
    "library(stringr)\n",
    "# str_detect       (x, pattern)\n",
    "# str_subset       (x, pattern)\n",
    "# str_count        (x, pattern)\n",
    "# str_replace      (x, pattern, replacment)\n",
    "# str_replace_all  (x, pattern, replacement)\n",
    "# str_length       (x)\n",
    "# str_c            (..., sep),  (...,collapse),  (..., sep, collapse)\n",
    "# str_sub          (string, start, end )\n",
    "# str_split        (x, pattern)\n",
    "# str_trim         (x)\n",
    "\n",
    "## remark\n",
    "# x      = multiple elements vector\n",
    "# ...    = multiple vectors, vectorized execution\n",
    "\n",
    "\n",
    "library(tidyverse)\n",
    "# count\n",
    "\n",
    "\n",
    "library(lubridate)\n",
    "# year\n",
    "# month\n",
    "# day\n",
    "# ddays            (integer)\n",
    "# dhours           (integer)\n",
    "# ceiling_date     ( x, unit)"
   ]
  },
  {
   "cell_type": "markdown",
   "metadata": {},
   "source": [
    "## Number"
   ]
  },
  {
   "cell_type": "markdown",
   "metadata": {},
   "source": [
    "### Integer\n",
    "Use **L** to denote integer"
   ]
  },
  {
   "cell_type": "code",
   "execution_count": 10,
   "metadata": {},
   "outputs": [
    {
     "name": "stdout",
     "output_type": "stream",
     "text": [
      "[1] 2\n",
      "[1] 2 3 4\n",
      "[1] TRUE\n"
     ]
    }
   ],
   "source": [
    "print( 2L )\n",
    "print( c(2L, 3L, 4L) )\n",
    "print( is.integer(2L) )"
   ]
  },
  {
   "cell_type": "markdown",
   "metadata": {},
   "source": [
    "### Double"
   ]
  },
  {
   "cell_type": "code",
   "execution_count": 11,
   "metadata": {},
   "outputs": [
    {
     "name": "stdout",
     "output_type": "stream",
     "text": [
      "[1] 2.3\n",
      "[1] 2.3 4.1 5.2\n",
      "[1] TRUE\n"
     ]
    }
   ],
   "source": [
    "print( 2.3 )\n",
    "print( c(2.3,4.1,5.2) )\n",
    "print( is.double( 2.3 ) )"
   ]
  },
  {
   "cell_type": "markdown",
   "metadata": {},
   "source": [
    "### Operations\n",
    "#### Sample Data"
   ]
  },
  {
   "cell_type": "code",
   "execution_count": 12,
   "metadata": {},
   "outputs": [
    {
     "name": "stdout",
     "output_type": "stream",
     "text": [
      "[1] 3.333333 4.666667 6.666667\n",
      "[1] 2.333333 5.333333 8.666667\n"
     ]
    }
   ],
   "source": [
    "my.num = c(10/3,14/3,20/3)\n",
    "my.num2 = c(7/3, 16/3, 26/3)\n",
    "print(my.num)\n",
    "print(my.num2)"
   ]
  },
  {
   "cell_type": "markdown",
   "metadata": {},
   "source": [
    "#### Additon / Substraction"
   ]
  },
  {
   "cell_type": "code",
   "execution_count": 13,
   "metadata": {},
   "outputs": [
    {
     "name": "stdout",
     "output_type": "stream",
     "text": [
      "[1]  5.666667 10.000000 15.333333\n",
      "[1]  1.0000000 -0.6666667 -2.0000000\n"
     ]
    }
   ],
   "source": [
    "print( my.num + my.num2 )\n",
    "print( my.num - my.num2 )"
   ]
  },
  {
   "cell_type": "markdown",
   "metadata": {},
   "source": [
    "#### Division"
   ]
  },
  {
   "cell_type": "code",
   "execution_count": 14,
   "metadata": {},
   "outputs": [
    {
     "name": "stdout",
     "output_type": "stream",
     "text": [
      "[1] 3.75\n",
      "[1] 3\n",
      "[1] 1\n"
     ]
    }
   ],
   "source": [
    "print( 15 /   4 )  # floting division\n",
    "print( 15 %/% 4 )  # integer division (quotiant)\n",
    "print( 21 %%  4 )  # remainder"
   ]
  },
  {
   "cell_type": "markdown",
   "metadata": {},
   "source": [
    "#### Rounding"
   ]
  },
  {
   "cell_type": "markdown",
   "metadata": {},
   "source": [
    "**Round To 0 decimal**"
   ]
  },
  {
   "cell_type": "code",
   "execution_count": 15,
   "metadata": {},
   "outputs": [
    {
     "name": "stdout",
     "output_type": "stream",
     "text": [
      "[1] 4 4 5\n"
     ]
    }
   ],
   "source": [
    "print( round(c(4.49, 4.50, 4.51) ))"
   ]
  },
  {
   "cell_type": "markdown",
   "metadata": {},
   "source": [
    "**Round To X decimals**"
   ]
  },
  {
   "cell_type": "code",
   "execution_count": 16,
   "metadata": {},
   "outputs": [
    {
     "name": "stdout",
     "output_type": "stream",
     "text": [
      "[1] 3.84 3.85 3.85\n"
     ]
    }
   ],
   "source": [
    "print( round( c(3.844, 3.845, 3.846), 2 ))"
   ]
  },
  {
   "cell_type": "markdown",
   "metadata": {},
   "source": [
    "#### Celing and Floor"
   ]
  },
  {
   "cell_type": "code",
   "execution_count": 17,
   "metadata": {},
   "outputs": [
    {
     "name": "stdout",
     "output_type": "stream",
     "text": [
      "[1] 4 5 7\n",
      "[1] 3 4 6\n"
     ]
    }
   ],
   "source": [
    "print( ceiling(my.num) )\n",
    "print( floor(my.num) )"
   ]
  },
  {
   "cell_type": "markdown",
   "metadata": {},
   "source": [
    "#### Absolute (positive)"
   ]
  },
  {
   "cell_type": "code",
   "execution_count": 18,
   "metadata": {},
   "outputs": [
    {
     "data": {
      "text/html": [
       "<ol class=list-inline>\n",
       "\t<li>3.33333333333333</li>\n",
       "\t<li>4.66666666666667</li>\n",
       "\t<li>6.66666666666667</li>\n",
       "</ol>\n"
      ],
      "text/latex": [
       "\\begin{enumerate*}\n",
       "\\item 3.33333333333333\n",
       "\\item 4.66666666666667\n",
       "\\item 6.66666666666667\n",
       "\\end{enumerate*}\n"
      ],
      "text/markdown": [
       "1. 3.33333333333333\n",
       "2. 4.66666666666667\n",
       "3. 6.66666666666667\n",
       "\n",
       "\n"
      ],
      "text/plain": [
       "[1] 3.333333 4.666667 6.666667"
      ]
     },
     "metadata": {},
     "output_type": "display_data"
    }
   ],
   "source": [
    "abs(0-my.num)"
   ]
  },
  {
   "cell_type": "markdown",
   "metadata": {},
   "source": [
    "## String"
   ]
  },
  {
   "cell_type": "code",
   "execution_count": 19,
   "metadata": {},
   "outputs": [
    {
     "name": "stdout",
     "output_type": "stream",
     "text": [
      "[1] \"abc\"\n",
      "[1] \"abc\" \"efg\" \"xyz\"\n",
      "[1] TRUE\n"
     ]
    }
   ],
   "source": [
    "print( 'abc' )\n",
    "print( c('abc','efg','xyz'))\n",
    "print( is.character('abc') )"
   ]
  },
  {
   "cell_type": "markdown",
   "metadata": {},
   "source": [
    "### Properties\n",
    "#### Number of Chars"
   ]
  },
  {
   "cell_type": "code",
   "execution_count": 20,
   "metadata": {},
   "outputs": [
    {
     "data": {
      "text/html": [
       "<ol class=list-inline>\n",
       "\t<li>3</li>\n",
       "\t<li>3</li>\n",
       "\t<li>5</li>\n",
       "\t<li>4</li>\n",
       "</ol>\n"
      ],
      "text/latex": [
       "\\begin{enumerate*}\n",
       "\\item 3\n",
       "\\item 3\n",
       "\\item 5\n",
       "\\item 4\n",
       "\\end{enumerate*}\n"
      ],
      "text/markdown": [
       "1. 3\n",
       "2. 3\n",
       "3. 5\n",
       "4. 4\n",
       "\n",
       "\n"
      ],
      "text/plain": [
       "[1] 3 3 5 4"
      ]
     },
     "metadata": {},
     "output_type": "display_data"
    }
   ],
   "source": [
    "x = c('One','Two','Three','Four')\n",
    "nchar(x)"
   ]
  },
  {
   "cell_type": "markdown",
   "metadata": {},
   "source": [
    "### Splitting\n",
    "#### strsplit"
   ]
  },
  {
   "cell_type": "code",
   "execution_count": 21,
   "metadata": {},
   "outputs": [
    {
     "name": "stdout",
     "output_type": "stream",
     "text": [
      "[1] \"nissan, toyota, bmw\"\n",
      "[1] \"apple, banana, durian\"\n"
     ]
    }
   ],
   "source": [
    "fruits_string = 'apple, banana, durian'\n",
    "cars_string   = 'nissan, toyota, bmw'\n",
    "print(cars_string)\n",
    "print(fruits_string)"
   ]
  },
  {
   "cell_type": "code",
   "execution_count": 22,
   "metadata": {},
   "outputs": [
    {
     "name": "stdout",
     "output_type": "stream",
     "text": [
      "[[1]]\n",
      "[1] \"apple\"   \" banana\" \" durian\"\n",
      "\n",
      "[[2]]\n",
      "[1] \"nissan\"  \" toyota\" \" bmw\"   \n",
      "\n"
     ]
    }
   ],
   "source": [
    "print( strsplit(c(fruits_string, cars_string), \",\") )"
   ]
  },
  {
   "cell_type": "markdown",
   "metadata": {},
   "source": [
    "#### stringr::str_split"
   ]
  },
  {
   "cell_type": "code",
   "execution_count": 23,
   "metadata": {},
   "outputs": [
    {
     "name": "stdout",
     "output_type": "stream",
     "text": [
      "[[1]]\n",
      "[1] \"apple\"   \" banana\" \" durian\"\n",
      "\n",
      "[[2]]\n",
      "[1] \"nissan\"  \" toyota\" \" bmw\"   \n",
      "\n"
     ]
    }
   ],
   "source": [
    "print( str_split(c(fruits_string, cars_string), pattern = ',') )"
   ]
  },
  {
   "cell_type": "markdown",
   "metadata": {},
   "source": [
    "### Trimming"
   ]
  },
  {
   "cell_type": "code",
   "execution_count": 24,
   "metadata": {},
   "outputs": [],
   "source": [
    "fat_string = c(' toyota  ', 'bmw  ','nissan')"
   ]
  },
  {
   "cell_type": "markdown",
   "metadata": {},
   "source": [
    "#### trimws\n",
    "Trim trailing and tailing white spaces"
   ]
  },
  {
   "cell_type": "code",
   "execution_count": 25,
   "metadata": {},
   "outputs": [
    {
     "name": "stdout",
     "output_type": "stream",
     "text": [
      "[1] \"toyota\" \"bmw\"    \"nissan\"\n"
     ]
    }
   ],
   "source": [
    "print( trimws(fat_string) )"
   ]
  },
  {
   "cell_type": "markdown",
   "metadata": {},
   "source": [
    "#### stringr::str_trim"
   ]
  },
  {
   "cell_type": "code",
   "execution_count": 26,
   "metadata": {},
   "outputs": [
    {
     "name": "stdout",
     "output_type": "stream",
     "text": [
      "[1] \"toyota\" \"bmw\"    \"nissan\"\n"
     ]
    }
   ],
   "source": [
    "print( str_trim(fat_string) )"
   ]
  },
  {
   "cell_type": "markdown",
   "metadata": {},
   "source": [
    "### Concatenante"
   ]
  },
  {
   "cell_type": "markdown",
   "metadata": {},
   "source": [
    "#### Sample Data"
   ]
  },
  {
   "cell_type": "code",
   "execution_count": 27,
   "metadata": {},
   "outputs": [
    {
     "name": "stdout",
     "output_type": "stream",
     "text": [
      "[1] \"banana\" \"mango\"  \"durian\"\n",
      "[1] \"toyota\" \"nissan\" \"bms\"   \n"
     ]
    }
   ],
   "source": [
    "fruits = c('banana','mango', 'durian')\n",
    "cars   = c('toyota','nissan','bms')\n",
    "print(fruits)\n",
    "print(cars)"
   ]
  },
  {
   "cell_type": "markdown",
   "metadata": {},
   "source": [
    "#### paste\n",
    "**Seperator**  \n",
    "Vectorized operation"
   ]
  },
  {
   "cell_type": "code",
   "execution_count": 28,
   "metadata": {},
   "outputs": [
    {
     "name": "stdout",
     "output_type": "stream",
     "text": [
      "[1] \"banana-toyota\" \"mango-nissan\"  \"durian-bms\"   \n"
     ]
    }
   ],
   "source": [
    "print( paste(fruits, cars, sep = '-') )"
   ]
  },
  {
   "cell_type": "markdown",
   "metadata": {},
   "source": [
    "**Collapse**  \n",
    "Objective is have result as one single string"
   ]
  },
  {
   "cell_type": "code",
   "execution_count": 29,
   "metadata": {},
   "outputs": [
    {
     "name": "stdout",
     "output_type": "stream",
     "text": [
      "[1] \"banana-mango-durian\"\n"
     ]
    }
   ],
   "source": [
    "print( paste(fruits, collapse = '-') )"
   ]
  },
  {
   "cell_type": "markdown",
   "metadata": {},
   "source": [
    "**Seperator, Then Collapse**  \n",
    "Combine both operation together"
   ]
  },
  {
   "cell_type": "code",
   "execution_count": 30,
   "metadata": {},
   "outputs": [
    {
     "name": "stdout",
     "output_type": "stream",
     "text": [
      "[1] \"banana|toyota-mango|nissan-durian|bms\"\n"
     ]
    }
   ],
   "source": [
    "print( paste(fruits, cars, sep='|', collapse = '-'))"
   ]
  },
  {
   "cell_type": "markdown",
   "metadata": {},
   "source": [
    "Use **paste0( )  if no seperator required**  \n",
    "**paste0 is shorthand** for paste(x, sep=\"\")"
   ]
  },
  {
   "cell_type": "code",
   "execution_count": 31,
   "metadata": {},
   "outputs": [
    {
     "name": "stdout",
     "output_type": "stream",
     "text": [
      "[1] \"filenumber32\"\n"
     ]
    }
   ],
   "source": [
    "print( paste0(\"file\", \"number\", \"32\")  )"
   ]
  },
  {
   "cell_type": "markdown",
   "metadata": {},
   "source": [
    "#### **stringr::str_c**"
   ]
  },
  {
   "cell_type": "code",
   "execution_count": 32,
   "metadata": {},
   "outputs": [
    {
     "name": "stdout",
     "output_type": "stream",
     "text": [
      "[1] \"banana-toyota\" \"mango-nissan\"  \"durian-bms\"   \n",
      "[1] \"banana,toyota|mango,nissan|durian,bms\"\n"
     ]
    }
   ],
   "source": [
    "library(stringr)\n",
    "\n",
    "print( str_c( fruits, cars, sep='-') )\n",
    "print( str_c(fruits, cars, collapse = '|', sep=','))"
   ]
  },
  {
   "cell_type": "markdown",
   "metadata": {},
   "source": [
    "### Subposition"
   ]
  },
  {
   "cell_type": "code",
   "execution_count": null,
   "metadata": {},
   "outputs": [],
   "source": []
  },
  {
   "cell_type": "markdown",
   "metadata": {},
   "source": [
    "**stringr::str_sub**"
   ]
  },
  {
   "cell_type": "code",
   "execution_count": 33,
   "metadata": {},
   "outputs": [
    {
     "data": {
      "text/html": [
       "<ol class=list-inline>\n",
       "\t<li>'ban'</li>\n",
       "\t<li>'man'</li>\n",
       "\t<li>'dur'</li>\n",
       "</ol>\n"
      ],
      "text/latex": [
       "\\begin{enumerate*}\n",
       "\\item 'ban'\n",
       "\\item 'man'\n",
       "\\item 'dur'\n",
       "\\end{enumerate*}\n"
      ],
      "text/markdown": [
       "1. 'ban'\n",
       "2. 'man'\n",
       "3. 'dur'\n",
       "\n",
       "\n"
      ],
      "text/plain": [
       "[1] \"ban\" \"man\" \"dur\""
      ]
     },
     "metadata": {},
     "output_type": "display_data"
    }
   ],
   "source": [
    "str_sub(fruits, 1, 3)  # substring position 1 to 3"
   ]
  },
  {
   "cell_type": "markdown",
   "metadata": {},
   "source": [
    "### Find"
   ]
  },
  {
   "cell_type": "code",
   "execution_count": 34,
   "metadata": {},
   "outputs": [],
   "source": [
    "cars = c('Nissan serena','toyota camry','Toyota Estima','nissan sentra','TOYOTA vios')"
   ]
  },
  {
   "cell_type": "markdown",
   "metadata": {},
   "source": [
    "#### grep\n",
    "**grep( pattern=, x=, value=FALSE, ignore.case=FALSE)**  \n",
    "can return either indices or values"
   ]
  },
  {
   "cell_type": "markdown",
   "metadata": {},
   "source": [
    "**Find (Return Indices) the Matching Pattern**"
   ]
  },
  {
   "cell_type": "code",
   "execution_count": 35,
   "metadata": {},
   "outputs": [
    {
     "name": "stdout",
     "output_type": "stream",
     "text": [
      "[1] \"Nissan serena\" \"toyota camry\"  \"Toyota Estima\" \"nissan sentra\"\n",
      "[5] \"TOYOTA vios\"  \n",
      "[1] 2\n",
      "[1] 2 3 5\n"
     ]
    }
   ],
   "source": [
    "print( cars ) \n",
    "print( grep('toyota', cars) )                      # case sensitive\n",
    "print( grep('toyota', cars, ignore.case = TRUE) )  # case insensitive"
   ]
  },
  {
   "cell_type": "markdown",
   "metadata": {},
   "source": [
    "**Find The Matching Values**"
   ]
  },
  {
   "cell_type": "code",
   "execution_count": 36,
   "metadata": {},
   "outputs": [
    {
     "name": "stdout",
     "output_type": "stream",
     "text": [
      "[1] \"Nissan serena\" \"toyota camry\"  \"Toyota Estima\" \"nissan sentra\"\n",
      "[5] \"TOYOTA vios\"  \n",
      "[1] \"toyota camry\"\n",
      "[1] \"toyota camry\"  \"Toyota Estima\" \"TOYOTA vios\"  \n"
     ]
    }
   ],
   "source": [
    "## Return **value instead of indices**\n",
    "print( cars )\n",
    "print( grep('toyota', cars, value=TRUE) )\n",
    "print( grep('toyota', cars, value=TRUE, ignore.case = TRUE) )"
   ]
  },
  {
   "cell_type": "markdown",
   "metadata": {},
   "source": [
    "#### stringr::str_detect/subset\n",
    "**str_detect** (string, pattern)  - which element contain pattern  \n",
    "**str_subset** (string, pattern)  - return all elements that matches  \n",
    "\n",
    "Default to case sensitive,\n",
    "use pattern=fixed( , ignore_case=TRUE) for case insensitive.\n",
    "\n",
    "**Detect (Return Logical Vector) The Matching Pattern**"
   ]
  },
  {
   "cell_type": "code",
   "execution_count": 37,
   "metadata": {},
   "outputs": [
    {
     "name": "stdout",
     "output_type": "stream",
     "text": [
      "[1] \"Nissan serena\" \"toyota camry\"  \"Toyota Estima\" \"nissan sentra\"\n",
      "[5] \"TOYOTA vios\"  \n",
      "[1] FALSE  TRUE FALSE FALSE FALSE\n",
      "[1] FALSE  TRUE  TRUE FALSE  TRUE\n"
     ]
    }
   ],
   "source": [
    "print(cars)\n",
    "print( str_detect(cars, 'toyota') )                           # case sensitive\n",
    "print( str_detect(cars, fixed('toyota', ignore_case=TRUE)) )  # case insensitive"
   ]
  },
  {
   "cell_type": "markdown",
   "metadata": {},
   "source": [
    "**Find The Matching Values**"
   ]
  },
  {
   "cell_type": "code",
   "execution_count": 38,
   "metadata": {},
   "outputs": [
    {
     "name": "stdout",
     "output_type": "stream",
     "text": [
      "[1] \"Nissan serena\" \"toyota camry\"  \"Toyota Estima\" \"nissan sentra\"\n",
      "[5] \"TOYOTA vios\"  \n",
      "[1] \"toyota camry\"\n",
      "[1] \"toyota camry\"  \"Toyota Estima\" \"TOYOTA vios\"  \n"
     ]
    }
   ],
   "source": [
    "print(cars)\n",
    "print( str_subset(cars, 'toyota') )                           # case sensitive\n",
    "print( str_subset(cars, fixed('toyota', ignore_case=TRUE)) )  # case insensitive"
   ]
  },
  {
   "cell_type": "markdown",
   "metadata": {},
   "source": [
    "### Replace\n",
    "#### gsub\n",
    "**gsub( pattern=, replacement=, x=, ignore.case=TRUE)**  \n",
    "return a new string vector"
   ]
  },
  {
   "cell_type": "code",
   "execution_count": 39,
   "metadata": {},
   "outputs": [
    {
     "name": "stdout",
     "output_type": "stream",
     "text": [
      "[1] \"Nissan serena\" \"toyota camry\"  \"Toyota Estima\" \"nissan sentra\"\n",
      "[5] \"TOYOTA vios\"  \n",
      "[1] \"Nissan serena\" \"Toyota camry\"  \"Toyota Estima\" \"nissan sentra\"\n",
      "[5] \"TOYOTA vios\"  \n",
      "[1] \"Nissan serena\" \"Toyota camry\"  \"Toyota Estima\" \"nissan sentra\"\n",
      "[5] \"Toyota vios\"  \n"
     ]
    }
   ],
   "source": [
    "print( cars )\n",
    "print( gsub(pattern='toyota', replacement='Toyota', cars) ) \n",
    "print( gsub(pattern='toyota',replacement='Toyota',ignore.case = TRUE, cars) )"
   ]
  },
  {
   "cell_type": "markdown",
   "metadata": {},
   "source": [
    "#### stringr::str_replace/replace_all\n",
    "**str_replace** (x, pattern, replacement)      # replace first occurance for each elements  \n",
    "**str_replace_all** (x, pattern, replacement)  # replace all occurances on every elements  \n",
    "\n",
    "Default to case sensitive,  \n",
    "use **pattern=fixed( , ignore_case=TRUE)** for case insensitive."
   ]
  },
  {
   "cell_type": "code",
   "execution_count": 40,
   "metadata": {},
   "outputs": [
    {
     "name": "stdout",
     "output_type": "stream",
     "text": [
      "[1] \"Nissan serena\" \"toyota camry\"  \"Toyota Estima\" \"nissan sentra\"\n",
      "[5] \"TOYOTA vios\"  \n",
      "[1] \"Nissan serena\" \"Toyota camry\"  \"Toyota Estima\" \"nissan sentra\"\n",
      "[5] \"TOYOTA vios\"  \n",
      "[1] \"Nissan serena\" \"Toyota camry\"  \"Toyota Estima\" \"nissan sentra\"\n",
      "[5] \"Toyota vios\"  \n"
     ]
    }
   ],
   "source": [
    "print( cars )\n",
    "print( str_replace     (cars, 'toyota','Toyota') )\n",
    "print( str_replace_all (cars, \n",
    "                        fixed('toyota', ignore_case=TRUE),  # case insensitive\n",
    "                        'Toyota') )"
   ]
  },
  {
   "cell_type": "markdown",
   "metadata": {},
   "source": [
    "### Case Conversion"
   ]
  },
  {
   "cell_type": "code",
   "execution_count": 41,
   "metadata": {},
   "outputs": [
    {
     "name": "stdout",
     "output_type": "stream",
     "text": [
      "[1] \"one\"   \"two\"   \"three\"\n",
      "[1] \"ONE\"   \"TWO\"   \"THREE\"\n"
     ]
    }
   ],
   "source": [
    "x = c('One','Two','Three')\n",
    "print( tolower(x)  )\n",
    "print( toupper(x)  )"
   ]
  },
  {
   "cell_type": "markdown",
   "metadata": {},
   "source": [
    "## Logical"
   ]
  },
  {
   "cell_type": "markdown",
   "metadata": {},
   "source": [
    "### Logical Comparison\n",
    "Take note, R will coerce different data type before comparing"
   ]
  },
  {
   "cell_type": "markdown",
   "metadata": {},
   "source": [
    "#### Equality"
   ]
  },
  {
   "cell_type": "code",
   "execution_count": 42,
   "metadata": {},
   "outputs": [
    {
     "name": "stdout",
     "output_type": "stream",
     "text": [
      "[1] TRUE\n",
      "[1] TRUE\n",
      "[1] TRUE\n",
      "[1] TRUE\n",
      "[1] FALSE\n"
     ]
    }
   ],
   "source": [
    "print( 3 == 3 )          # compare two integers\n",
    "print( 3L == 3.0 )       # compare integer and double\n",
    "print( 'abc' == 'abc' )  # compare two char\n",
    "print( 3.0 == '3' )      # compare integer and character\n",
    "print( 3.0 == 'three' )  # compare integer and character"
   ]
  },
  {
   "cell_type": "markdown",
   "metadata": {},
   "source": [
    "#### Not Equal"
   ]
  },
  {
   "cell_type": "code",
   "execution_count": 43,
   "metadata": {},
   "outputs": [
    {
     "name": "stdout",
     "output_type": "stream",
     "text": [
      "[1] FALSE\n",
      "[1] FALSE\n",
      "[1] TRUE\n",
      "[1] TRUE\n",
      "[1] TRUE\n"
     ]
    }
   ],
   "source": [
    "print( 3     != 3 )        # compare two integers\n",
    "print( 3L    != 3.0 )      # compare integer and double\n",
    "print( 'abc' != 'a' )      # compare two char\n",
    "print( 3.0   != '33' )     # compare integer and character\n",
    "print( 3.0   != 'three' )  # compare integer and character"
   ]
  },
  {
   "cell_type": "markdown",
   "metadata": {},
   "source": [
    "### Logical Operator"
   ]
  },
  {
   "cell_type": "markdown",
   "metadata": {},
   "source": [
    "#### Negate"
   ]
  },
  {
   "cell_type": "code",
   "execution_count": 44,
   "metadata": {},
   "outputs": [
    {
     "data": {
      "text/html": [
       "FALSE"
      ],
      "text/latex": [
       "FALSE"
      ],
      "text/markdown": [
       "FALSE"
      ],
      "text/plain": [
       "[1] FALSE"
      ]
     },
     "metadata": {},
     "output_type": "display_data"
    }
   ],
   "source": [
    "!(3L == 3.0)"
   ]
  },
  {
   "cell_type": "markdown",
   "metadata": {},
   "source": [
    "#### AND ( & and &&)\n",
    "DONT'T Fall into trop of &&  \n",
    "**Select numbers between 2 and 6**  "
   ]
  },
  {
   "cell_type": "code",
   "execution_count": 45,
   "metadata": {},
   "outputs": [
    {
     "name": "stdout",
     "output_type": "stream",
     "text": [
      "[1] FALSE FALSE  TRUE  TRUE  TRUE FALSE FALSE FALSE\n",
      "[1] 3 4 5\n"
     ]
    }
   ],
   "source": [
    "z = 1:8\n",
    "print( z>2 & z<6    )\n",
    "print( z[z>2 & z<6] )"
   ]
  },
  {
   "cell_type": "markdown",
   "metadata": {},
   "source": [
    "**However && only evaluate the first elemnt)**  \n",
    "When will you use it ? No idea"
   ]
  },
  {
   "cell_type": "code",
   "execution_count": 46,
   "metadata": {},
   "outputs": [
    {
     "name": "stdout",
     "output_type": "stream",
     "text": [
      "[1] FALSE\n",
      "[1] FALSE\n"
     ]
    }
   ],
   "source": [
    "print( z>2    && z<6     )\n",
    "print( z[1]>2 && z[1]<6  )"
   ]
  },
  {
   "cell_type": "markdown",
   "metadata": {},
   "source": [
    "#### OR ( | and ||)\n",
    "**DONT'T Fall into trop of ||  **\n",
    "**Select odd numbers or >5**"
   ]
  },
  {
   "cell_type": "code",
   "execution_count": 47,
   "metadata": {},
   "outputs": [
    {
     "name": "stdout",
     "output_type": "stream",
     "text": [
      "[1]  1  3  5  6  7  8  9 10\n"
     ]
    }
   ],
   "source": [
    "z = 1:10\n",
    "print( z[ z%%2==1 | z>5 ] )"
   ]
  },
  {
   "cell_type": "markdown",
   "metadata": {},
   "source": [
    "**However || only evaluate the first elemnt)**  \n",
    "When will you use it ? No idea"
   ]
  },
  {
   "cell_type": "code",
   "execution_count": 48,
   "metadata": {},
   "outputs": [
    {
     "name": "stdout",
     "output_type": "stream",
     "text": [
      "[1] TRUE\n",
      "[1] TRUE\n"
     ]
    }
   ],
   "source": [
    "print( z%%2==1 || z>5 )\n",
    "print( z[1]%%2==1 || z[1]>5 )"
   ]
  },
  {
   "cell_type": "markdown",
   "metadata": {},
   "source": [
    "### Evaluation using IF\n",
    "\n",
    "#### Evaluating String\n",
    "**String Has no relevance in logic**"
   ]
  },
  {
   "cell_type": "code",
   "execution_count": 49,
   "metadata": {},
   "outputs": [
    {
     "data": {
      "text/html": [
       "<ol class=list-inline>\n",
       "\t<li>&lt;NA&gt;</li>\n",
       "\t<li>&lt;NA&gt;</li>\n",
       "\t<li>&lt;NA&gt;</li>\n",
       "\t<li>&lt;NA&gt;</li>\n",
       "</ol>\n"
      ],
      "text/latex": [
       "\\begin{enumerate*}\n",
       "\\item <NA>\n",
       "\\item <NA>\n",
       "\\item <NA>\n",
       "\\item <NA>\n",
       "\\end{enumerate*}\n"
      ],
      "text/markdown": [
       "1. &lt;NA&gt;\n",
       "2. &lt;NA&gt;\n",
       "3. &lt;NA&gt;\n",
       "4. &lt;NA&gt;\n",
       "\n",
       "\n"
      ],
      "text/plain": [
       "[1] NA NA NA NA"
      ]
     },
     "metadata": {},
     "output_type": "display_data"
    }
   ],
   "source": [
    "x = c('ali','abu','ah kow', NULL, NA)\n",
    "ifelse(x, 'Human','Unknown')"
   ]
  },
  {
   "cell_type": "markdown",
   "metadata": {},
   "source": [
    "#### Evaluating Numbers\n",
    "- General behaviour of **IF** is to evaluate actual FALSE, any other condition is considered TRUE\n",
    "- Zero evaluates to FASE, other numbers considered TRUE"
   ]
  },
  {
   "cell_type": "code",
   "execution_count": 50,
   "metadata": {},
   "outputs": [
    {
     "name": "stdout",
     "output_type": "stream",
     "text": [
      "[1]  0  1  2  3 NA\n",
      "[1] FALSE  TRUE FALSE FALSE    NA\n",
      "[1]  TRUE FALSE FALSE FALSE    NA\n",
      "[1] FALSE  TRUE  TRUE  TRUE    NA\n",
      "[1] \"Zero\"     \"Not Zero\" \"Not Zero\" \"Not Zero\" NA        \n",
      "[1] \"Zero\"     \"Not Zero\" \"Not Zero\" \"Not Zero\" NA        \n",
      "[1] \"Not Zero\"\n"
     ]
    }
   ],
   "source": [
    "x= c(0:3,NULL,NA)\n",
    "print(x)\n",
    "print( x ==TRUE )\n",
    "print( x ==FALSE )\n",
    "print( !x==FALSE )\n",
    "\n",
    "print( ifelse(x, 'Not Zero','Zero') )\n",
    "print( ifelse(!x==FALSE, 'Not Zero','Zero') )\n",
    "\n",
    "if (2.2) print('Not Zero') # same applies to double"
   ]
  },
  {
   "cell_type": "markdown",
   "metadata": {},
   "source": [
    "### Comparing NA\n",
    "Any operation against NA will **return NA**"
   ]
  },
  {
   "cell_type": "code",
   "execution_count": 51,
   "metadata": {},
   "outputs": [
    {
     "name": "stdout",
     "output_type": "stream",
     "text": [
      "[1]  2  3 NA  5  6  7\n",
      "[1] NA NA NA NA NA NA\n"
     ]
    }
   ],
   "source": [
    "nas = c(1,2,NA,4,5,6)\n",
    "nas = nas + 1\n",
    "print (nas)\n",
    "print( nas == NA )"
   ]
  },
  {
   "cell_type": "markdown",
   "metadata": {},
   "source": [
    "Use **is.na()** to check if value is NA, NEVER use x==NA to check"
   ]
  },
  {
   "cell_type": "code",
   "execution_count": 52,
   "metadata": {},
   "outputs": [
    {
     "data": {
      "text/html": [
       "<ol class=list-inline>\n",
       "\t<li>FALSE</li>\n",
       "\t<li>FALSE</li>\n",
       "\t<li>TRUE</li>\n",
       "\t<li>FALSE</li>\n",
       "\t<li>FALSE</li>\n",
       "\t<li>FALSE</li>\n",
       "</ol>\n"
      ],
      "text/latex": [
       "\\begin{enumerate*}\n",
       "\\item FALSE\n",
       "\\item FALSE\n",
       "\\item TRUE\n",
       "\\item FALSE\n",
       "\\item FALSE\n",
       "\\item FALSE\n",
       "\\end{enumerate*}\n"
      ],
      "text/markdown": [
       "1. FALSE\n",
       "2. FALSE\n",
       "3. TRUE\n",
       "4. FALSE\n",
       "5. FALSE\n",
       "6. FALSE\n",
       "\n",
       "\n"
      ],
      "text/plain": [
       "[1] FALSE FALSE  TRUE FALSE FALSE FALSE"
      ]
     },
     "metadata": {},
     "output_type": "display_data"
    }
   ],
   "source": [
    "is.na(nas)"
   ]
  },
  {
   "cell_type": "markdown",
   "metadata": {},
   "source": [
    "### Comparing NULL"
   ]
  },
  {
   "cell_type": "markdown",
   "metadata": {},
   "source": [
    "**Null is neither TRUE or FALSE**"
   ]
  },
  {
   "cell_type": "code",
   "execution_count": 53,
   "metadata": {},
   "outputs": [
    {
     "data": {
      "text/html": [],
      "text/latex": [],
      "text/markdown": [],
      "text/plain": [
       "logical(0)"
      ]
     },
     "metadata": {},
     "output_type": "display_data"
    }
   ],
   "source": [
    "NULL==TRUE | NULL==FALSE"
   ]
  },
  {
   "cell_type": "markdown",
   "metadata": {},
   "source": [
    "- Comparing NULL with anything get **NOTHING**  \n",
    "- **NOTHING is not NULL)**"
   ]
  },
  {
   "cell_type": "code",
   "execution_count": 54,
   "metadata": {},
   "outputs": [
    {
     "name": "stdout",
     "output_type": "stream",
     "text": [
      "[1] \"logical\"\n",
      "[1] 0\n",
      "[1] FALSE\n"
     ]
    }
   ],
   "source": [
    "result = (NULL=='abc')\n",
    "print( typeof(result)  )\n",
    "print( length(result)  )\n",
    "print( is.null(result) )"
   ]
  },
  {
   "cell_type": "markdown",
   "metadata": {},
   "source": [
    "## Factor"
   ]
  },
  {
   "cell_type": "markdown",
   "metadata": {},
   "source": [
    "### Creating\n",
    "#### Non Ordered Factor\n",
    "There is no need to specify levels"
   ]
  },
  {
   "cell_type": "code",
   "execution_count": 55,
   "metadata": {},
   "outputs": [
    {
     "name": "stdout",
     "output_type": "stream",
     "text": [
      "[1] apple    banana   apple    durian   rambutan durian  \n",
      "Levels: apple banana durian rambutan\n"
     ]
    }
   ],
   "source": [
    "X = c('apple','banana','apple','durian','rambutan','durian')\n",
    "f1 = factor(X)\n",
    "print( f1 )"
   ]
  },
  {
   "cell_type": "markdown",
   "metadata": {},
   "source": [
    "#### Ordered Factor\n",
    "- Specify ordered=T and its levels in order"
   ]
  },
  {
   "cell_type": "code",
   "execution_count": 56,
   "metadata": {},
   "outputs": [
    {
     "name": "stdout",
     "output_type": "stream",
     "text": [
      "[1] slow  turbo fast  slow  fast  slow \n",
      "Levels: slow < fast < turbo\n"
     ]
    }
   ],
   "source": [
    "y = c('slow','turbo','fast','slow','fast','slow')\n",
    "f2 = factor(y, ordered=TRUE, \n",
    "               levels= c('slow','fast','turbo'))\n",
    "print( f2 )"
   ]
  },
  {
   "cell_type": "markdown",
   "metadata": {},
   "source": [
    "- Each element is comparible according to the order specified"
   ]
  },
  {
   "cell_type": "code",
   "execution_count": 57,
   "metadata": {},
   "outputs": [
    {
     "name": "stdout",
     "output_type": "stream",
     "text": [
      "[1] TRUE\n"
     ]
    }
   ],
   "source": [
    "print( f2[1] < f2[2] )"
   ]
  },
  {
   "cell_type": "markdown",
   "metadata": {},
   "source": [
    "### Levels"
   ]
  },
  {
   "cell_type": "code",
   "execution_count": 58,
   "metadata": {},
   "outputs": [
    {
     "name": "stdout",
     "output_type": "stream",
     "text": [
      "[1] \"apple\"    \"banana\"   \"durian\"   \"rambutan\" \"mango\"   \n"
     ]
    }
   ],
   "source": [
    "X = c('apple','banana','apple','durian','rambutan','durian')\n",
    "f1 = factor(X, levels = c('apple','banana','durian','rambutan','mango'))\n",
    "print( levels(f1) )"
   ]
  },
  {
   "cell_type": "markdown",
   "metadata": {},
   "source": [
    "#### Dropping Unused Levels\n",
    "**droplevels remove unused category**"
   ]
  },
  {
   "cell_type": "code",
   "execution_count": 59,
   "metadata": {},
   "outputs": [
    {
     "name": "stdout",
     "output_type": "stream",
     "text": [
      "[1] apple    banana   apple    durian   rambutan durian  \n",
      "Levels: apple banana durian rambutan mango\n"
     ]
    }
   ],
   "source": [
    "print( f1 )"
   ]
  },
  {
   "cell_type": "code",
   "execution_count": 60,
   "metadata": {},
   "outputs": [
    {
     "name": "stdout",
     "output_type": "stream",
     "text": [
      "[1] apple    banana   apple    durian   rambutan durian  \n",
      "Levels: apple banana durian rambutan\n"
     ]
    }
   ],
   "source": [
    "f2 = droplevels(f1)\n",
    "print( f2 )"
   ]
  },
  {
   "cell_type": "markdown",
   "metadata": {},
   "source": [
    "#### Levels Convert To Integer\n",
    "Levels can be converted to integer. Each integer represent a category"
   ]
  },
  {
   "cell_type": "code",
   "execution_count": 61,
   "metadata": {},
   "outputs": [
    {
     "name": "stdout",
     "output_type": "stream",
     "text": [
      "[1] apple    banana   apple    durian   rambutan durian  \n",
      "Levels: apple banana durian rambutan mango\n",
      "[1] 1 2 1 3 4 3\n"
     ]
    }
   ],
   "source": [
    "print( f1 )\n",
    "print( as.integer(f1) )"
   ]
  },
  {
   "cell_type": "markdown",
   "metadata": {},
   "source": [
    "## Date\n",
    "- Date is in fact type of **double**\n",
    "- There is **no is.date()** function"
   ]
  },
  {
   "cell_type": "code",
   "execution_count": 62,
   "metadata": {},
   "outputs": [
    {
     "name": "stdout",
     "output_type": "stream",
     "text": [
      "[1] \"2019-01-03\"\n",
      "[1] \"double\"\n",
      "[1] TRUE\n"
     ]
    }
   ],
   "source": [
    "d = as.Date('2019-01-03')\n",
    "print( d )\n",
    "print( typeof(d) )\n",
    "print( is.double(d) )"
   ]
  },
  {
   "cell_type": "markdown",
   "metadata": {},
   "source": [
    "### Creating Date\n",
    "#### Base R"
   ]
  },
  {
   "cell_type": "markdown",
   "metadata": {},
   "source": [
    "**System Date**"
   ]
  },
  {
   "cell_type": "code",
   "execution_count": 63,
   "metadata": {},
   "outputs": [
    {
     "name": "stdout",
     "output_type": "stream",
     "text": [
      "[1] \"2019-01-04\"\n"
     ]
    }
   ],
   "source": [
    "print( Sys.Date()  ) "
   ]
  },
  {
   "cell_type": "markdown",
   "metadata": {},
   "source": [
    "**Create From String**  \n",
    "Default string format is \"yyyy-mm-dd\" or \"yyyy/mm/dd\", customizable"
   ]
  },
  {
   "cell_type": "code",
   "execution_count": 64,
   "metadata": {},
   "outputs": [
    {
     "name": "stdout",
     "output_type": "stream",
     "text": [
      " Date[1:3], format: \"1971-07-11\" \"1980-12-11\" \"1981-11-20\"\n"
     ]
    }
   ],
   "source": [
    "birthdays = as.Date(c('1971-07-11','1980-12-11','1981-11-20'))\n",
    "birthdays = as.Date(c('1971/7/11','1980/12/11','1981/11/20'))\n",
    "str(birthdays)"
   ]
  },
  {
   "cell_type": "code",
   "execution_count": 65,
   "metadata": {},
   "outputs": [
    {
     "name": "stdout",
     "output_type": "stream",
     "text": [
      " Date[1:3], format: \"1971-07-11\" \"1980-12-11\" \"1981-11-20\"\n"
     ]
    }
   ],
   "source": [
    "str(birthdays)"
   ]
  },
  {
   "cell_type": "markdown",
   "metadata": {},
   "source": [
    "#### lubridate\n",
    "**System Date**"
   ]
  },
  {
   "cell_type": "code",
   "execution_count": 66,
   "metadata": {},
   "outputs": [
    {
     "name": "stdout",
     "output_type": "stream",
     "text": [
      "[1] \"2019-01-04\"\n"
     ]
    }
   ],
   "source": [
    "print( today())"
   ]
  },
  {
   "cell_type": "markdown",
   "metadata": {},
   "source": [
    "**Create From String**"
   ]
  },
  {
   "cell_type": "code",
   "execution_count": 67,
   "metadata": {},
   "outputs": [
    {
     "name": "stdout",
     "output_type": "stream",
     "text": [
      " Date[1:3], format: \"1973-07-11\" \"1980-12-11\" \"1981-11-20\"\n"
     ]
    }
   ],
   "source": [
    "birthdays = ymd(c('1971-07-11','1980-12-11','1981-11-20'))\n",
    "birthdays = dmy(c('11-07-1973','11-12-1980','20-11-1981'))\n",
    "birthdays = dmy(c('11/7/1973','11/12/1980','20/11/1981'))\n",
    "str(birthdays)"
   ]
  },
  {
   "cell_type": "markdown",
   "metadata": {},
   "source": [
    "**Create From Number Vectors**"
   ]
  },
  {
   "cell_type": "code",
   "execution_count": 68,
   "metadata": {},
   "outputs": [
    {
     "name": "stdout",
     "output_type": "stream",
     "text": [
      "[1] \"2018-11-30\"\n"
     ]
    }
   ],
   "source": [
    "print( make_date(year = 2018, month=11, day=30) )"
   ]
  },
  {
   "cell_type": "markdown",
   "metadata": {},
   "source": [
    "### Date Formating"
   ]
  },
  {
   "cell_type": "code",
   "execution_count": 69,
   "metadata": {},
   "outputs": [
    {
     "name": "stdout",
     "output_type": "stream",
     "text": [
      "[1] \"function (tzone = \\\"\\\") \" \"{\"                       \n",
      "[3] \"    as_date(now(tzone))\"  \"}\"                       \n",
      "[1] \"function (tzone = \\\"\\\") \" \"{\"                       \n",
      "[3] \"    as_date(now(tzone))\"  \"}\"                       \n",
      "[1] \"function (tzone = \\\"\\\") \" \"{\"                       \n",
      "[3] \"    as_date(now(tzone))\"  \"}\"                       \n",
      "[1] \"function (tzone = \\\"\\\") \" \"{\"                       \n",
      "[3] \"    as_date(now(tzone))\"  \"}\"                       \n",
      "[1] \"function (tzone = \\\"\\\") \" \"{\"                       \n",
      "[3] \"    as_date(now(tzone))\"  \"}\"                       \n"
     ]
    }
   ],
   "source": [
    "print( format(today, format=\"%m %d %y\") )\n",
    "print( format(today, format=\"%b %d %y\") )\n",
    "print( format(today, format=\"%B %d %Y\") )\n",
    "print( format(today, format=\"%a %B %d %Y\") )\n",
    "print( format(today, format=\"%A %B %d %Y\") )"
   ]
  },
  {
   "cell_type": "markdown",
   "metadata": {},
   "source": [
    "### Year, Month, Day, Weekday"
   ]
  },
  {
   "cell_type": "markdown",
   "metadata": {},
   "source": [
    "#### Base R\n",
    "All functions below return string"
   ]
  },
  {
   "cell_type": "code",
   "execution_count": 70,
   "metadata": {},
   "outputs": [
    {
     "name": "stdout",
     "output_type": "stream",
     "text": [
      "[1] \"1973\" \"1980\" \"1981\"\n",
      "[1] \"07\" \"12\" \"11\"\n",
      "[1] \"11\" \"11\" \"20\"\n",
      "[1] \"Wednesday\" \"Thursday\"  \"Friday\"   \n"
     ]
    }
   ],
   "source": [
    "print( strftime(birthdays,'%Y') )\n",
    "print( strftime(birthdays,'%m') )\n",
    "print( strftime(birthdays,'%d') )\n",
    "print(  weekdays( birthdays )  )"
   ]
  },
  {
   "cell_type": "markdown",
   "metadata": {},
   "source": [
    "#### lubridate"
   ]
  },
  {
   "cell_type": "code",
   "execution_count": 71,
   "metadata": {},
   "outputs": [
    {
     "name": "stdout",
     "output_type": "stream",
     "text": [
      "[1] 1973 1980 1981\n",
      "[1]  7 12 11\n",
      "[1] 11 11 20\n"
     ]
    }
   ],
   "source": [
    "print( year(birthdays) )\n",
    "print( month(birthdays))\n",
    "print( day(birthdays)  )"
   ]
  },
  {
   "cell_type": "markdown",
   "metadata": {},
   "source": [
    "**Weekday**  \n",
    "label=T, return factor of Weekday"
   ]
  },
  {
   "cell_type": "code",
   "execution_count": 72,
   "metadata": {},
   "outputs": [
    {
     "name": "stdout",
     "output_type": "stream",
     "text": [
      "[1] 4 5 6\n"
     ]
    }
   ],
   "source": [
    "print( wday(birthdays) )   # 1:Sunday, 7:Saturday"
   ]
  },
  {
   "cell_type": "code",
   "execution_count": 73,
   "metadata": {
    "scrolled": true
   },
   "outputs": [
    {
     "name": "stdout",
     "output_type": "stream",
     "text": [
      " Ord.factor w/ 7 levels \"Sun\"<\"Mon\"<\"Tue\"<..: 4 5 6\n"
     ]
    }
   ],
   "source": [
    "wd = wday( birthdays, label = T )\n",
    "str(wd)"
   ]
  },
  {
   "cell_type": "markdown",
   "metadata": {},
   "source": [
    "### Date Arithmetic (lubridate)"
   ]
  },
  {
   "cell_type": "markdown",
   "metadata": {},
   "source": [
    "#### First Day Of Next Month"
   ]
  },
  {
   "cell_type": "code",
   "execution_count": 74,
   "metadata": {},
   "outputs": [
    {
     "name": "stdout",
     "output_type": "stream",
     "text": [
      "[1] \"2019-02-01\"\n"
     ]
    }
   ],
   "source": [
    "first_day_of_next_month = ceiling_date(today() ,unit = 'month')\n",
    "print( first_day_of_next_month )"
   ]
  },
  {
   "cell_type": "markdown",
   "metadata": {},
   "source": [
    "#### Last Day Of This Month\n",
    "Use **-days(1)**"
   ]
  },
  {
   "cell_type": "code",
   "execution_count": 75,
   "metadata": {},
   "outputs": [
    {
     "name": "stdout",
     "output_type": "stream",
     "text": [
      "[1] \"2019-01-31\"\n"
     ]
    }
   ],
   "source": [
    "last_day_of_this_month = first_day_of_next_month - days(1)\n",
    "print( last_day_of_this_month )"
   ]
  },
  {
   "cell_type": "markdown",
   "metadata": {},
   "source": [
    "#### First Day of Next year"
   ]
  },
  {
   "cell_type": "code",
   "execution_count": 76,
   "metadata": {},
   "outputs": [
    {
     "name": "stdout",
     "output_type": "stream",
     "text": [
      "[1] \"2020-01-01\"\n"
     ]
    }
   ],
   "source": [
    "print( ceiling_date( today() ,unit = 'year') )"
   ]
  },
  {
   "cell_type": "markdown",
   "metadata": {},
   "source": [
    "### Date Span"
   ]
  },
  {
   "cell_type": "markdown",
   "metadata": {},
   "source": [
    "#### lubridate\n",
    "**Today Date**"
   ]
  },
  {
   "cell_type": "code",
   "execution_count": 77,
   "metadata": {},
   "outputs": [
    {
     "data": {
      "text/html": [
       "<time datetime=\"2019-01-04\">2019-01-04</time>"
      ],
      "text/latex": [
       "2019-01-04"
      ],
      "text/markdown": [
       "2019-01-04"
      ],
      "text/plain": [
       "[1] \"2019-01-04\""
      ]
     },
     "metadata": {},
     "output_type": "display_data"
    }
   ],
   "source": [
    "today()"
   ]
  },
  {
   "cell_type": "markdown",
   "metadata": {},
   "source": [
    "**Tomorrow Date**"
   ]
  },
  {
   "cell_type": "code",
   "execution_count": 78,
   "metadata": {},
   "outputs": [
    {
     "name": "stdout",
     "output_type": "stream",
     "text": [
      "[1] \"2019-01-05\"\n"
     ]
    }
   ],
   "source": [
    "tomorrow = today() + ddays(1)\n",
    "print( tomorrow )"
   ]
  },
  {
   "cell_type": "markdown",
   "metadata": {},
   "source": [
    "**One year ago date**"
   ]
  },
  {
   "cell_type": "code",
   "execution_count": 79,
   "metadata": {},
   "outputs": [
    {
     "name": "stdout",
     "output_type": "stream",
     "text": [
      "[1] \"2018-01-04\"\n"
     ]
    }
   ],
   "source": [
    "last_year = today() - dyears(1)\n",
    "print( last_year )"
   ]
  },
  {
   "cell_type": "markdown",
   "metadata": {},
   "source": [
    "**One year and 12 weeks from Today**"
   ]
  },
  {
   "cell_type": "code",
   "execution_count": 80,
   "metadata": {},
   "outputs": [
    {
     "name": "stdout",
     "output_type": "stream",
     "text": [
      "[1] \"2020-03-28\"\n"
     ]
    }
   ],
   "source": [
    "future = today() + dyears(1) + dweeks(12)\n",
    "print( future )"
   ]
  },
  {
   "cell_type": "markdown",
   "metadata": {},
   "source": [
    "**Duration (difftime Object)**  \n",
    "- Difference between two dates object is duration (difftime object)\n",
    "- units can only be **auto, days, weeks, secs, hours, mins**\n",
    "- units cannot be year or month, because their length is conistent"
   ]
  },
  {
   "cell_type": "code",
   "execution_count": 81,
   "metadata": {},
   "outputs": [
    {
     "name": "stdout",
     "output_type": "stream",
     "text": [
      " 'difftime' num 16595\n",
      " - attr(*, \"units\")= chr \"days\"\n"
     ]
    },
    {
     "ename": "ERROR",
     "evalue": "Error in str(y.diff): object 'y.diff' not found\n",
     "output_type": "error",
     "traceback": [
      "Error in str(y.diff): object 'y.diff' not found\nTraceback:\n",
      "1. str(y.diff)"
     ]
    }
   ],
   "source": [
    "date1 = as.Date('2019-01-01')\n",
    "date2 = as.Date('1973-07-26')\n",
    "d.diff  = difftime (date1, date2, units = 'days')\n",
    "w.diff  = difftime (date1, date2, units = 'auto')\n",
    "str(d.diff)\n",
    "str(y.diff)\n",
    "str(date2-date1)"
   ]
  },
  {
   "cell_type": "code",
   "execution_count": null,
   "metadata": {},
   "outputs": [],
   "source": [
    "print( my.duration / ddays(1) )\n",
    "print( my.duration / dyears(1) )\n",
    "print( my.duration / dhours(1) )\n",
    "print( my.duration / dminutes(1) )\n",
    "print( my.duration / dseconds(1) )"
   ]
  },
  {
   "cell_type": "markdown",
   "metadata": {},
   "source": [
    "**Age**"
   ]
  },
  {
   "cell_type": "code",
   "execution_count": 82,
   "metadata": {},
   "outputs": [
    {
     "name": "stdout",
     "output_type": "stream",
     "text": [
      "[1] 45.47397\n"
     ]
    }
   ],
   "source": [
    "print( (today()-as.Date('1973-07-26'))/dyears(1))"
   ]
  },
  {
   "cell_type": "markdown",
   "metadata": {},
   "source": [
    "## Class and Typeof\n",
    "\n",
    "### Class"
   ]
  },
  {
   "cell_type": "code",
   "execution_count": 83,
   "metadata": {},
   "outputs": [
    {
     "name": "stdout",
     "output_type": "stream",
     "text": [
      "[1] \"integer\"\n",
      "[1] \"numeric\"\n",
      "[1] \"character\"\n",
      "[1] \"factor\"\n",
      "[1] \"Date\"\n",
      "[1] \"logical\"\n"
     ]
    }
   ],
   "source": [
    "print( class(2L) )\n",
    "print( class(2.3) )\n",
    "print( class('abc') )\n",
    "print( class(factor('abc') ))\n",
    "print( class(as.Date('2018-03-31')))\n",
    "print( class(TRUE) )"
   ]
  },
  {
   "cell_type": "markdown",
   "metadata": {},
   "source": [
    "### Typeof"
   ]
  },
  {
   "cell_type": "code",
   "execution_count": 84,
   "metadata": {},
   "outputs": [
    {
     "name": "stdout",
     "output_type": "stream",
     "text": [
      "[1] \"integer\"\n",
      "[1] \"double\"\n",
      "[1] \"character\"\n",
      "[1] \"integer\"\n",
      "[1] \"double\"\n",
      "[1] \"logical\"\n"
     ]
    }
   ],
   "source": [
    "print( typeof(2L) )\n",
    "print( typeof(2.3) )\n",
    "print( typeof('abc') )\n",
    "print( typeof(factor('abc') ))\n",
    "print( typeof(as.Date('2018-03-31')))\n",
    "print( typeof(TRUE) )"
   ]
  },
  {
   "cell_type": "markdown",
   "metadata": {},
   "source": [
    "### is..."
   ]
  },
  {
   "cell_type": "code",
   "execution_count": 85,
   "metadata": {},
   "outputs": [
    {
     "name": "stdout",
     "output_type": "stream",
     "text": [
      "[1] TRUE\n",
      "[1] TRUE\n",
      "[1] TRUE\n",
      "[1] TRUE\n",
      "[1] TRUE\n"
     ]
    }
   ],
   "source": [
    "print( is.integer(2L) )\n",
    "print( is.double(2.3) )\n",
    "print( is.character('abc') )\n",
    "print( is.factor(factor('abc') ))\n",
    "print( is.double(as.Date('2018-03-31')))  # date is double"
   ]
  },
  {
   "cell_type": "markdown",
   "metadata": {},
   "source": [
    "#### is.numeric\n",
    "Observe that, although **date** is tyoepf double, bowever, it is not numeric"
   ]
  },
  {
   "cell_type": "code",
   "execution_count": 86,
   "metadata": {},
   "outputs": [
    {
     "name": "stdout",
     "output_type": "stream",
     "text": [
      "[1] TRUE\n",
      "[1] TRUE\n",
      "[1] FALSE\n"
     ]
    }
   ],
   "source": [
    "print( is.numeric(2L))\n",
    "print( is.numeric(2.3))\n",
    "\n",
    "# date is double, but not numeric\n",
    "print( is.numeric(as.Date('2018-03-31')))  "
   ]
  },
  {
   "cell_type": "markdown",
   "metadata": {
    "collapsed": true
   },
   "source": [
    "# Built-In Data Structure"
   ]
  },
  {
   "cell_type": "markdown",
   "metadata": {},
   "source": [
    "## Vector\n",
    "- Vector can only contain single data type (atomic) elements"
   ]
  },
  {
   "cell_type": "markdown",
   "metadata": {},
   "source": [
    "### Creating Vector"
   ]
  },
  {
   "cell_type": "markdown",
   "metadata": {},
   "source": [
    "#### Empty Vector\n",
    "- Empty vector is vector with no elements, also known as **NULL**\n",
    "- Use **is.null()** to test NULL"
   ]
  },
  {
   "cell_type": "code",
   "execution_count": 87,
   "metadata": {},
   "outputs": [
    {
     "name": "stdout",
     "output_type": "stream",
     "text": [
      "NULL\n"
     ]
    },
    {
     "data": {
      "text/html": [
       "'NULL'"
      ],
      "text/latex": [
       "'NULL'"
      ],
      "text/markdown": [
       "'NULL'"
      ],
      "text/plain": [
       "[1] \"NULL\""
      ]
     },
     "metadata": {},
     "output_type": "display_data"
    },
    {
     "data": {
      "text/html": [
       "TRUE"
      ],
      "text/latex": [
       "TRUE"
      ],
      "text/markdown": [
       "TRUE"
      ],
      "text/plain": [
       "[1] TRUE"
      ]
     },
     "metadata": {},
     "output_type": "display_data"
    }
   ],
   "source": [
    "empty = c()\n",
    "print   (empty)\n",
    "typeof  (empty)\n",
    "is.null (empty)"
   ]
  },
  {
   "cell_type": "markdown",
   "metadata": {},
   "source": [
    "#### Assignment"
   ]
  },
  {
   "cell_type": "code",
   "execution_count": 88,
   "metadata": {},
   "outputs": [
    {
     "name": "stdout",
     "output_type": "stream",
     "text": [
      " num [1:5] 1 2 3 4 5\n",
      " chr [1:5] \"yongks\" \"mahathir\" \"limge\" \"annuar\" \"limks\"\n",
      " num [1:10] 1 4 5 6 10 11 12 13 14 15\n"
     ]
    }
   ],
   "source": [
    "x1 = c(1,2,3,4,5)    \n",
    "x2 = c('yongks','mahathir','limge','annuar','limks')\n",
    "x3 = c(1,4:6,10:15)  ## assign with range of number\n",
    "str (x1)\n",
    "str (x2)\n",
    "str (x3)"
   ]
  },
  {
   "cell_type": "markdown",
   "metadata": {},
   "source": [
    "### Naming & Attributes\n",
    "- Each element of vector can have a name"
   ]
  },
  {
   "cell_type": "markdown",
   "metadata": {},
   "source": [
    "#### Creating Names"
   ]
  },
  {
   "cell_type": "code",
   "execution_count": 89,
   "metadata": {},
   "outputs": [
    {
     "name": "stdout",
     "output_type": "stream",
     "text": [
      "seven eight  nine  <NA> \n",
      "    7     8     9    10 \n"
     ]
    }
   ],
   "source": [
    "y        = c(7,8,9,10)\n",
    "names(y) = c('seven','eight','nine')\n",
    "print(y)"
   ]
  },
  {
   "cell_type": "markdown",
   "metadata": {},
   "source": [
    "#### Retrieving Names\n",
    "- **names()** return a vector of all names of a vector\n",
    "- Elements that has not been assinged names will have **NA**"
   ]
  },
  {
   "cell_type": "code",
   "execution_count": 90,
   "metadata": {},
   "outputs": [
    {
     "data": {
      "text/html": [
       "<ol class=list-inline>\n",
       "\t<li>'seven'</li>\n",
       "\t<li>'eight'</li>\n",
       "\t<li>'nine'</li>\n",
       "\t<li>NA</li>\n",
       "</ol>\n"
      ],
      "text/latex": [
       "\\begin{enumerate*}\n",
       "\\item 'seven'\n",
       "\\item 'eight'\n",
       "\\item 'nine'\n",
       "\\item NA\n",
       "\\end{enumerate*}\n"
      ],
      "text/markdown": [
       "1. 'seven'\n",
       "2. 'eight'\n",
       "3. 'nine'\n",
       "4. NA\n",
       "\n",
       "\n"
      ],
      "text/plain": [
       "[1] \"seven\" \"eight\" \"nine\"  NA     "
      ]
     },
     "metadata": {},
     "output_type": "display_data"
    }
   ],
   "source": [
    "names(y)"
   ]
  },
  {
   "cell_type": "markdown",
   "metadata": {},
   "source": [
    "#### Name as Attribute"
   ]
  },
  {
   "cell_type": "markdown",
   "metadata": {},
   "source": [
    "Naming vector **creates \"name\" attributes**"
   ]
  },
  {
   "cell_type": "code",
   "execution_count": 91,
   "metadata": {},
   "outputs": [
    {
     "data": {
      "text/html": [
       "<strong>$names</strong> = <ol class=list-inline>\n",
       "\t<li>'seven'</li>\n",
       "\t<li>'eight'</li>\n",
       "\t<li>'nine'</li>\n",
       "\t<li>NA</li>\n",
       "</ol>\n"
      ],
      "text/latex": [
       "\\textbf{\\$names} = \\begin{enumerate*}\n",
       "\\item 'seven'\n",
       "\\item 'eight'\n",
       "\\item 'nine'\n",
       "\\item NA\n",
       "\\end{enumerate*}\n"
      ],
      "text/markdown": [
       "**$names** = 1. 'seven'\n",
       "2. 'eight'\n",
       "3. 'nine'\n",
       "4. NA\n",
       "\n",
       "\n"
      ],
      "text/plain": [
       "$names\n",
       "[1] \"seven\" \"eight\" \"nine\"  NA     \n"
      ]
     },
     "metadata": {},
     "output_type": "display_data"
    }
   ],
   "source": [
    "attributes (y)"
   ]
  },
  {
   "cell_type": "markdown",
   "metadata": {},
   "source": [
    "### Accessing Elements\n",
    "- Accessing element(s) will always return as a new vector"
   ]
  },
  {
   "cell_type": "markdown",
   "metadata": {},
   "source": [
    "#### Access with Index Vector\n",
    "Supply a **number vector in [  ]** to select the elements.   \n",
    "Index number starts at 1."
   ]
  },
  {
   "cell_type": "code",
   "execution_count": 92,
   "metadata": {},
   "outputs": [
    {
     "name": "stdout",
     "output_type": "stream",
     "text": [
      "[1] \"ccc\"\n",
      "[1] \"aaa\" \"ccc\" \"ddd\"\n",
      "[1] \"aaa\" \"bbb\" \"ccc\"\n",
      "[1] \"aaa\" \"bbb\" \"ccc\" \"ggg\" \"hhh\" \"iii\"\n"
     ]
    }
   ],
   "source": [
    "z = c('aaa','bbb','ccc','ddd','eee','fff','ggg','hhh','iii','jjj')\n",
    "\n",
    "print( z[3]   )       ## retrieve single element\n",
    "print( z[c(1,3,4)]  ) ## retrieve element 1,3,4\n",
    "print( z[1:3] )       ## retrieve first 3 elements\n",
    "print( z[c(1:3, 7:9)])"
   ]
  },
  {
   "cell_type": "markdown",
   "metadata": {},
   "source": [
    "Use **negate (-num)** to deselect item(s)"
   ]
  },
  {
   "cell_type": "code",
   "execution_count": 93,
   "metadata": {},
   "outputs": [
    {
     "name": "stdout",
     "output_type": "stream",
     "text": [
      "[1] \"bbb\" \"ccc\" \"eee\" \"fff\" \"ggg\" \"hhh\" \"iii\" \"jjj\"\n",
      "[1] \"ddd\" \"eee\" \"fff\" \"ggg\" \"hhh\" \"iii\" \"jjj\"\n"
     ]
    }
   ],
   "source": [
    "print( z[c(-1,-4)] )  ## negate specific elements\n",
    "print( z[c(-1:-3)] )  ## deselect first 3 elements"
   ]
  },
  {
   "cell_type": "markdown",
   "metadata": {},
   "source": [
    "#### Access with Logical Vector\n",
    "Conceptual wize, index a vector with T/F will return elements which match T"
   ]
  },
  {
   "cell_type": "code",
   "execution_count": 94,
   "metadata": {},
   "outputs": [
    {
     "name": "stdout",
     "output_type": "stream",
     "text": [
      "[1] \"aaa\" \"bbb\" \"ccc\"\n"
     ]
    }
   ],
   "source": [
    "z = c('aaa','bbb','ccc','ddd','eee','fff','ggg','hhh','iii','jjj')\n",
    "print( z[ c(T,T,T,F,F,F,F,F,F,F)] ) ## retrieve first 3 elements"
   ]
  },
  {
   "cell_type": "markdown",
   "metadata": {},
   "source": [
    "**This method can be used as 'filtering'**, \n",
    "by first \n",
    "- Form a logical vector based on matching criteria of the vector itself\n",
    "- Index the data vector with this logical vector \n",
    "- If logical vector is shorter than data, **logical elements repeat itself**"
   ]
  },
  {
   "cell_type": "code",
   "execution_count": 95,
   "metadata": {},
   "outputs": [
    {
     "name": "stdout",
     "output_type": "stream",
     "text": [
      " [1] FALSE FALSE FALSE FALSE FALSE  TRUE FALSE FALSE  TRUE FALSE\n",
      "[1] \"fff\" \"iii\"\n"
     ]
    }
   ],
   "source": [
    "## create the logical vector\n",
    "criteria = z %in% c('fff','iii')\n",
    "print( criteria )\n",
    "print( z[criteria] )   ## apply the logical vector to vector indexing"
   ]
  },
  {
   "cell_type": "markdown",
   "metadata": {},
   "source": [
    "Logical vector **repeat itself** if shorter than data length.  "
   ]
  },
  {
   "cell_type": "code",
   "execution_count": 96,
   "metadata": {},
   "outputs": [
    {
     "data": {
      "text/html": [
       "<ol class=list-inline>\n",
       "\t<li>'aaa'</li>\n",
       "\t<li>'ccc'</li>\n",
       "\t<li>'eee'</li>\n",
       "\t<li>'ggg'</li>\n",
       "\t<li>'iii'</li>\n",
       "</ol>\n"
      ],
      "text/latex": [
       "\\begin{enumerate*}\n",
       "\\item 'aaa'\n",
       "\\item 'ccc'\n",
       "\\item 'eee'\n",
       "\\item 'ggg'\n",
       "\\item 'iii'\n",
       "\\end{enumerate*}\n"
      ],
      "text/markdown": [
       "1. 'aaa'\n",
       "2. 'ccc'\n",
       "3. 'eee'\n",
       "4. 'ggg'\n",
       "5. 'iii'\n",
       "\n",
       "\n"
      ],
      "text/plain": [
       "[1] \"aaa\" \"ccc\" \"eee\" \"ggg\" \"iii\""
      ]
     },
     "metadata": {},
     "output_type": "display_data"
    }
   ],
   "source": [
    "## select every alternate element (odd position)\n",
    "z[c(T,F)]"
   ]
  },
  {
   "cell_type": "markdown",
   "metadata": {},
   "source": [
    "#### Access with Name\n",
    "Index with a vector of names"
   ]
  },
  {
   "cell_type": "code",
   "execution_count": 97,
   "metadata": {},
   "outputs": [],
   "source": [
    "z = c(1,2,3,4,5,6,7,8,9)\n",
    "names(z) = c('one','two','three','four','five','six','seven','eight','nine')"
   ]
  },
  {
   "cell_type": "code",
   "execution_count": 98,
   "metadata": {},
   "outputs": [
    {
     "name": "stdout",
     "output_type": "stream",
     "text": [
      "seven \n",
      "    7 \n",
      "seven  nine \n",
      "    7     9 \n"
     ]
    }
   ],
   "source": [
    "print( z['seven']  )            # does not require c() if single element\n",
    "print( z[c('seven','nine')]  )  # choose two elements by name"
   ]
  },
  {
   "cell_type": "markdown",
   "metadata": {},
   "source": [
    "### Remove Item(s)"
   ]
  },
  {
   "cell_type": "markdown",
   "metadata": {},
   "source": [
    "#### Characteristic"
   ]
  },
  {
   "cell_type": "code",
   "execution_count": 99,
   "metadata": {},
   "outputs": [
    {
     "data": {
      "text/html": [
       "TRUE"
      ],
      "text/latex": [
       "TRUE"
      ],
      "text/markdown": [
       "TRUE"
      ],
      "text/plain": [
       "[1] TRUE"
      ]
     },
     "metadata": {},
     "output_type": "display_data"
    }
   ],
   "source": [
    "is.atomic(x2)"
   ]
  },
  {
   "cell_type": "markdown",
   "metadata": {},
   "source": [
    "### Characteristic of Vector"
   ]
  },
  {
   "cell_type": "code",
   "execution_count": 100,
   "metadata": {},
   "outputs": [
    {
     "ename": "ERROR",
     "evalue": "Error in attributes(): 0 arguments passed to 'attributes' which requires 1\n",
     "output_type": "error",
     "traceback": [
      "Error in attributes(): 0 arguments passed to 'attributes' which requires 1\nTraceback:\n"
     ]
    }
   ],
   "source": [
    "z = c(1,2,3,4,5,6,7,8,9)\n",
    "names(z) = c('one','two','three','four','five','six','seven','eight','nine')\n",
    "attributes()"
   ]
  },
  {
   "cell_type": "markdown",
   "metadata": {},
   "source": [
    "## Data Frame\n",
    "### Class and Typeof\n",
    "Observe that dataframe is a type of **list**"
   ]
  },
  {
   "cell_type": "code",
   "execution_count": 101,
   "metadata": {},
   "outputs": [
    {
     "name": "stdout",
     "output_type": "stream",
     "text": [
      "[1] \"data.frame\"\n",
      "[1] \"list\"\n",
      "[1] TRUE\n",
      "[1] TRUE\n"
     ]
    }
   ],
   "source": [
    "print( class(iris) )\n",
    "print( typeof(iris) )\n",
    "print( is.data.frame(iris) )\n",
    "print( is.list(iris) )"
   ]
  },
  {
   "cell_type": "markdown",
   "metadata": {},
   "source": [
    "### Creating\n",
    "- Use **data.frame()** to create data frame from vectors\n",
    "- All original vectors must have same length, otherwise will have error"
   ]
  },
  {
   "cell_type": "markdown",
   "metadata": {},
   "source": [
    "#### Create From Vectors\n",
    "- Character is auto converted to **Factor**\n",
    "- **Rownames** default to 1,2,3, etc"
   ]
  },
  {
   "cell_type": "code",
   "execution_count": 102,
   "metadata": {},
   "outputs": [
    {
     "name": "stdout",
     "output_type": "stream",
     "text": [
      "'data.frame':\t5 obs. of  3 variables:\n",
      " $ X1: num  1 2 3 4 5\n",
      " $ x2: Factor w/ 5 levels \"firve\",\"four\",..: 3 5 4 2 1\n",
      " $ x3: Factor w/ 5 levels \"dua\",\"empat\",..: 4 1 5 2 3\n"
     ]
    }
   ],
   "source": [
    "x1 = c(1,2,3,4,5)\n",
    "x2 = c('one','two','three','four','firve')\n",
    "x3 = c('satu','dua','tiga','empat','lima')\n",
    "X  = data.frame(X1=x1, x2, x3)\n",
    "str(X)"
   ]
  },
  {
   "cell_type": "markdown",
   "metadata": {},
   "source": [
    "- Disable Auto Factor conversion"
   ]
  },
  {
   "cell_type": "code",
   "execution_count": 103,
   "metadata": {},
   "outputs": [
    {
     "name": "stdout",
     "output_type": "stream",
     "text": [
      "'data.frame':\t5 obs. of  3 variables:\n",
      " $ x1: num  1 2 3 4 5\n",
      " $ x2: chr  \"one\" \"two\" \"three\" \"four\" ...\n",
      " $ x3: chr  \"satu\" \"dua\" \"tiga\" \"empat\" ...\n"
     ]
    }
   ],
   "source": [
    "X = data.frame(x1,x2,x3, stringsAsFactors = FALSE)\n",
    "str( X )"
   ]
  },
  {
   "cell_type": "markdown",
   "metadata": {},
   "source": [
    "- Specify Row Names"
   ]
  },
  {
   "cell_type": "code",
   "execution_count": 104,
   "metadata": {},
   "outputs": [
    {
     "name": "stdout",
     "output_type": "stream",
     "text": [
      "      x1    x2\n",
      "satu   1   one\n",
      "dua    2   two\n",
      "tiga   3 three\n",
      "empat  4  four\n",
      "lima   5 firve\n"
     ]
    }
   ],
   "source": [
    "X = data.frame(x1,x2, row.names = x3)\n",
    "print( X )"
   ]
  },
  {
   "cell_type": "markdown",
   "metadata": {},
   "source": [
    "### Column Manipulation"
   ]
  },
  {
   "cell_type": "markdown",
   "metadata": {},
   "source": [
    "#### Sample Data"
   ]
  },
  {
   "cell_type": "code",
   "execution_count": 105,
   "metadata": {},
   "outputs": [
    {
     "name": "stdout",
     "output_type": "stream",
     "text": [
      "    x1    x2    x3\n",
      "_1_  1   one  satu\n",
      "_2_  2   two   dua\n",
      "_3_  3 three  tiga\n",
      "_4_  4  four empat\n",
      "_5_  5  five  lima\n"
     ]
    }
   ],
   "source": [
    "x1 = c(1,2,3,4,5)\n",
    "x2 = c('one','two','three','four','five')\n",
    "x3 = c('satu','dua','tiga','empat','lima')\n",
    "rn = c('_1_','_2_','_3_','_4_','_5_')\n",
    "X = data.frame(x1,x2,x3, \n",
    "               stringsAsFactors = FALSE, \n",
    "               row.names=rn)\n",
    "print( X )"
   ]
  },
  {
   "cell_type": "markdown",
   "metadata": {},
   "source": [
    "#### Column Names\n",
    "Notice both **names** and **colnames** return all column names in vector"
   ]
  },
  {
   "cell_type": "code",
   "execution_count": 125,
   "metadata": {},
   "outputs": [
    {
     "name": "stdout",
     "output_type": "stream",
     "text": [
      "[1] \"x1\" \"x2\" \"x3\" \"x4\" \"x5\" \"x6\"\n",
      "[1] \"x1\" \"x2\" \"x3\" \"x4\" \"x5\" \"x6\"\n"
     ]
    }
   ],
   "source": [
    "print( names(X) )\n",
    "print( colnames( X )  )"
   ]
  },
  {
   "cell_type": "markdown",
   "metadata": {},
   "source": [
    "#### Selecting One Column"
   ]
  },
  {
   "cell_type": "markdown",
   "metadata": {},
   "source": [
    "**Index subsetting return vector**"
   ]
  },
  {
   "cell_type": "code",
   "execution_count": 287,
   "metadata": {},
   "outputs": [
    {
     "name": "stdout",
     "output_type": "stream",
     "text": [
      "[1] \"one\"   \"two\"   \"three\" \"four\"  \"five\" \n",
      "[1] \"one\"   \"two\"   \"three\" \"four\"  \"five\" \n"
     ]
    }
   ],
   "source": [
    "print( X[,2] )    # column number\n",
    "print( X[,'x2'] ) # column name"
   ]
  },
  {
   "cell_type": "markdown",
   "metadata": {},
   "source": [
    "**subset( )  return dataframe** with rownames retained"
   ]
  },
  {
   "cell_type": "code",
   "execution_count": 258,
   "metadata": {},
   "outputs": [
    {
     "data": {
      "text/html": [
       "<table>\n",
       "<thead><tr><th></th><th scope=col>x2</th></tr></thead>\n",
       "<tbody>\n",
       "\t<tr><th scope=row>_1_</th><td>one  </td></tr>\n",
       "\t<tr><th scope=row>_2_</th><td>two  </td></tr>\n",
       "\t<tr><th scope=row>_3_</th><td>three</td></tr>\n",
       "\t<tr><th scope=row>_4_</th><td>four </td></tr>\n",
       "\t<tr><th scope=row>_5_</th><td>five </td></tr>\n",
       "</tbody>\n",
       "</table>\n"
      ],
      "text/latex": [
       "\\begin{tabular}{r|l}\n",
       "  & x2\\\\\n",
       "\\hline\n",
       "\t\\_1\\_ & one  \\\\\n",
       "\t\\_2\\_ & two  \\\\\n",
       "\t\\_3\\_ & three\\\\\n",
       "\t\\_4\\_ & four \\\\\n",
       "\t\\_5\\_ & five \\\\\n",
       "\\end{tabular}\n"
      ],
      "text/markdown": [
       "\n",
       "| <!--/--> | x2 | \n",
       "|---|---|---|---|---|\n",
       "| _1_ | one   | \n",
       "| _2_ | two   | \n",
       "| _3_ | three | \n",
       "| _4_ | four  | \n",
       "| _5_ | five  | \n",
       "\n",
       "\n"
      ],
      "text/plain": [
       "    x2   \n",
       "_1_ one  \n",
       "_2_ two  \n",
       "_3_ three\n",
       "_4_ four \n",
       "_5_ five "
      ]
     },
     "metadata": {},
     "output_type": "display_data"
    }
   ],
   "source": [
    "subset(X, select=2)  # return Dataframe, not Vector, notice rownames maintained"
   ]
  },
  {
   "cell_type": "code",
   "execution_count": 259,
   "metadata": {},
   "outputs": [
    {
     "data": {
      "text/html": [
       "<table>\n",
       "<thead><tr><th></th><th scope=col>x2</th></tr></thead>\n",
       "<tbody>\n",
       "\t<tr><th scope=row>_1_</th><td>one  </td></tr>\n",
       "\t<tr><th scope=row>_2_</th><td>two  </td></tr>\n",
       "\t<tr><th scope=row>_3_</th><td>three</td></tr>\n",
       "\t<tr><th scope=row>_4_</th><td>four </td></tr>\n",
       "\t<tr><th scope=row>_5_</th><td>five </td></tr>\n",
       "</tbody>\n",
       "</table>\n"
      ],
      "text/latex": [
       "\\begin{tabular}{r|l}\n",
       "  & x2\\\\\n",
       "\\hline\n",
       "\t\\_1\\_ & one  \\\\\n",
       "\t\\_2\\_ & two  \\\\\n",
       "\t\\_3\\_ & three\\\\\n",
       "\t\\_4\\_ & four \\\\\n",
       "\t\\_5\\_ & five \\\\\n",
       "\\end{tabular}\n"
      ],
      "text/markdown": [
       "\n",
       "| <!--/--> | x2 | \n",
       "|---|---|---|---|---|\n",
       "| _1_ | one   | \n",
       "| _2_ | two   | \n",
       "| _3_ | three | \n",
       "| _4_ | four  | \n",
       "| _5_ | five  | \n",
       "\n",
       "\n"
      ],
      "text/plain": [
       "    x2   \n",
       "_1_ one  \n",
       "_2_ two  \n",
       "_3_ three\n",
       "_4_ four \n",
       "_5_ five "
      ]
     },
     "metadata": {},
     "output_type": "display_data"
    }
   ],
   "source": [
    "subset(X, select='x2')"
   ]
  },
  {
   "cell_type": "markdown",
   "metadata": {},
   "source": [
    "#### Select Multiple Columns\n",
    "**By specific column names**"
   ]
  },
  {
   "cell_type": "code",
   "execution_count": 284,
   "metadata": {},
   "outputs": [
    {
     "name": "stdout",
     "output_type": "stream",
     "text": [
      "    x1    x2    x3\n",
      "_1_  1   one  satu\n",
      "_2_  2   two   dua\n",
      "_3_  3 three  tiga\n",
      "_4_  4  four empat\n",
      "_5_  5  five  lima\n"
     ]
    }
   ],
   "source": [
    "print( X[,c('x1','x2','x3')] )   # by column names"
   ]
  },
  {
   "cell_type": "markdown",
   "metadata": {},
   "source": [
    "**subset( )** way is better, because it support **minus -** "
   ]
  },
  {
   "cell_type": "code",
   "execution_count": 291,
   "metadata": {},
   "outputs": [
    {
     "data": {
      "text/html": [
       "<table>\n",
       "<thead><tr><th></th><th scope=col>x1</th><th scope=col>x2</th><th scope=col>x3</th></tr></thead>\n",
       "<tbody>\n",
       "\t<tr><th scope=row>_1_</th><td>1    </td><td>one  </td><td>satu </td></tr>\n",
       "\t<tr><th scope=row>_2_</th><td>2    </td><td>two  </td><td>dua  </td></tr>\n",
       "\t<tr><th scope=row>_3_</th><td>3    </td><td>three</td><td>tiga </td></tr>\n",
       "\t<tr><th scope=row>_4_</th><td>4    </td><td>four </td><td>empat</td></tr>\n",
       "\t<tr><th scope=row>_5_</th><td>5    </td><td>five </td><td>lima </td></tr>\n",
       "</tbody>\n",
       "</table>\n"
      ],
      "text/latex": [
       "\\begin{tabular}{r|lll}\n",
       "  & x1 & x2 & x3\\\\\n",
       "\\hline\n",
       "\t\\_1\\_ & 1     & one   & satu \\\\\n",
       "\t\\_2\\_ & 2     & two   & dua  \\\\\n",
       "\t\\_3\\_ & 3     & three & tiga \\\\\n",
       "\t\\_4\\_ & 4     & four  & empat\\\\\n",
       "\t\\_5\\_ & 5     & five  & lima \\\\\n",
       "\\end{tabular}\n"
      ],
      "text/markdown": [
       "\n",
       "| <!--/--> | x1 | x2 | x3 | \n",
       "|---|---|---|---|---|\n",
       "| _1_ | 1     | one   | satu  | \n",
       "| _2_ | 2     | two   | dua   | \n",
       "| _3_ | 3     | three | tiga  | \n",
       "| _4_ | 4     | four  | empat | \n",
       "| _5_ | 5     | five  | lima  | \n",
       "\n",
       "\n"
      ],
      "text/plain": [
       "    x1 x2    x3   \n",
       "_1_ 1  one   satu \n",
       "_2_ 2  two   dua  \n",
       "_3_ 3  three tiga \n",
       "_4_ 4  four  empat\n",
       "_5_ 5  five  lima "
      ]
     },
     "metadata": {},
     "output_type": "display_data"
    }
   ],
   "source": [
    "subset (X, select = c('x1','x2','x3'))"
   ]
  },
  {
   "cell_type": "code",
   "execution_count": 292,
   "metadata": {},
   "outputs": [
    {
     "data": {
      "text/html": [
       "<table>\n",
       "<thead><tr><th></th><th scope=col>x1</th><th scope=col>x2</th><th scope=col>x3</th></tr></thead>\n",
       "<tbody>\n",
       "\t<tr><th scope=row>_1_</th><td>1    </td><td>one  </td><td>satu </td></tr>\n",
       "\t<tr><th scope=row>_2_</th><td>2    </td><td>two  </td><td>dua  </td></tr>\n",
       "\t<tr><th scope=row>_3_</th><td>3    </td><td>three</td><td>tiga </td></tr>\n",
       "\t<tr><th scope=row>_4_</th><td>4    </td><td>four </td><td>empat</td></tr>\n",
       "\t<tr><th scope=row>_5_</th><td>5    </td><td>five </td><td>lima </td></tr>\n",
       "</tbody>\n",
       "</table>\n"
      ],
      "text/latex": [
       "\\begin{tabular}{r|lll}\n",
       "  & x1 & x2 & x3\\\\\n",
       "\\hline\n",
       "\t\\_1\\_ & 1     & one   & satu \\\\\n",
       "\t\\_2\\_ & 2     & two   & dua  \\\\\n",
       "\t\\_3\\_ & 3     & three & tiga \\\\\n",
       "\t\\_4\\_ & 4     & four  & empat\\\\\n",
       "\t\\_5\\_ & 5     & five  & lima \\\\\n",
       "\\end{tabular}\n"
      ],
      "text/markdown": [
       "\n",
       "| <!--/--> | x1 | x2 | x3 | \n",
       "|---|---|---|---|---|\n",
       "| _1_ | 1     | one   | satu  | \n",
       "| _2_ | 2     | two   | dua   | \n",
       "| _3_ | 3     | three | tiga  | \n",
       "| _4_ | 4     | four  | empat | \n",
       "| _5_ | 5     | five  | lima  | \n",
       "\n",
       "\n"
      ],
      "text/plain": [
       "    x1 x2    x3   \n",
       "_1_ 1  one   satu \n",
       "_2_ 2  two   dua  \n",
       "_3_ 3  three tiga \n",
       "_4_ 4  four  empat\n",
       "_5_ 5  five  lima "
      ]
     },
     "metadata": {},
     "output_type": "display_data"
    }
   ],
   "source": [
    "subset (X, select = -c(x5,x6))   # use -"
   ]
  },
  {
   "cell_type": "markdown",
   "metadata": {},
   "source": [
    "**By Column Number**  "
   ]
  },
  {
   "cell_type": "code",
   "execution_count": 253,
   "metadata": {
    "scrolled": true
   },
   "outputs": [
    {
     "data": {
      "text/html": [
       "<table>\n",
       "<thead><tr><th></th><th scope=col>x1</th><th scope=col>x2</th><th scope=col>x3</th></tr></thead>\n",
       "<tbody>\n",
       "\t<tr><th scope=row>_1_</th><td>1    </td><td>one  </td><td>satu </td></tr>\n",
       "\t<tr><th scope=row>_2_</th><td>2    </td><td>two  </td><td>dua  </td></tr>\n",
       "\t<tr><th scope=row>_3_</th><td>3    </td><td>three</td><td>tiga </td></tr>\n",
       "\t<tr><th scope=row>_4_</th><td>4    </td><td>four </td><td>empat</td></tr>\n",
       "\t<tr><th scope=row>_5_</th><td>5    </td><td>five </td><td>lima </td></tr>\n",
       "</tbody>\n",
       "</table>\n"
      ],
      "text/latex": [
       "\\begin{tabular}{r|lll}\n",
       "  & x1 & x2 & x3\\\\\n",
       "\\hline\n",
       "\t\\_1\\_ & 1     & one   & satu \\\\\n",
       "\t\\_2\\_ & 2     & two   & dua  \\\\\n",
       "\t\\_3\\_ & 3     & three & tiga \\\\\n",
       "\t\\_4\\_ & 4     & four  & empat\\\\\n",
       "\t\\_5\\_ & 5     & five  & lima \\\\\n",
       "\\end{tabular}\n"
      ],
      "text/markdown": [
       "\n",
       "| <!--/--> | x1 | x2 | x3 | \n",
       "|---|---|---|---|---|\n",
       "| _1_ | 1     | one   | satu  | \n",
       "| _2_ | 2     | two   | dua   | \n",
       "| _3_ | 3     | three | tiga  | \n",
       "| _4_ | 4     | four  | empat | \n",
       "| _5_ | 5     | five  | lima  | \n",
       "\n",
       "\n"
      ],
      "text/plain": [
       "    x1 x2    x3   \n",
       "_1_ 1  one   satu \n",
       "_2_ 2  two   dua  \n",
       "_3_ 3  three tiga \n",
       "_4_ 4  four  empat\n",
       "_5_ 5  five  lima "
      ]
     },
     "metadata": {},
     "output_type": "display_data"
    }
   ],
   "source": [
    "X[ , c(1:3)]"
   ]
  },
  {
   "cell_type": "code",
   "execution_count": 295,
   "metadata": {},
   "outputs": [
    {
     "data": {
      "text/html": [
       "<table>\n",
       "<thead><tr><th></th><th scope=col>x1</th><th scope=col>x2</th><th scope=col>x3</th></tr></thead>\n",
       "<tbody>\n",
       "\t<tr><th scope=row>_1_</th><td>1    </td><td>one  </td><td>satu </td></tr>\n",
       "\t<tr><th scope=row>_2_</th><td>2    </td><td>two  </td><td>dua  </td></tr>\n",
       "\t<tr><th scope=row>_3_</th><td>3    </td><td>three</td><td>tiga </td></tr>\n",
       "\t<tr><th scope=row>_4_</th><td>4    </td><td>four </td><td>empat</td></tr>\n",
       "\t<tr><th scope=row>_5_</th><td>5    </td><td>five </td><td>lima </td></tr>\n",
       "</tbody>\n",
       "</table>\n"
      ],
      "text/latex": [
       "\\begin{tabular}{r|lll}\n",
       "  & x1 & x2 & x3\\\\\n",
       "\\hline\n",
       "\t\\_1\\_ & 1     & one   & satu \\\\\n",
       "\t\\_2\\_ & 2     & two   & dua  \\\\\n",
       "\t\\_3\\_ & 3     & three & tiga \\\\\n",
       "\t\\_4\\_ & 4     & four  & empat\\\\\n",
       "\t\\_5\\_ & 5     & five  & lima \\\\\n",
       "\\end{tabular}\n"
      ],
      "text/markdown": [
       "\n",
       "| <!--/--> | x1 | x2 | x3 | \n",
       "|---|---|---|---|---|\n",
       "| _1_ | 1     | one   | satu  | \n",
       "| _2_ | 2     | two   | dua   | \n",
       "| _3_ | 3     | three | tiga  | \n",
       "| _4_ | 4     | four  | empat | \n",
       "| _5_ | 5     | five  | lima  | \n",
       "\n",
       "\n"
      ],
      "text/plain": [
       "    x1 x2    x3   \n",
       "_1_ 1  one   satu \n",
       "_2_ 2  two   dua  \n",
       "_3_ 3  three tiga \n",
       "_4_ 4  four  empat\n",
       "_5_ 5  five  lima "
      ]
     },
     "metadata": {},
     "output_type": "display_data"
    }
   ],
   "source": [
    "X[, -c(4:6)]    # use -"
   ]
  },
  {
   "cell_type": "markdown",
   "metadata": {},
   "source": [
    "**subset( )** does the same job"
   ]
  },
  {
   "cell_type": "code",
   "execution_count": 273,
   "metadata": {},
   "outputs": [
    {
     "data": {
      "text/html": [
       "<table>\n",
       "<thead><tr><th></th><th scope=col>x1</th><th scope=col>x2</th><th scope=col>x3</th></tr></thead>\n",
       "<tbody>\n",
       "\t<tr><th scope=row>_1_</th><td>1    </td><td>one  </td><td>satu </td></tr>\n",
       "\t<tr><th scope=row>_2_</th><td>2    </td><td>two  </td><td>dua  </td></tr>\n",
       "\t<tr><th scope=row>_3_</th><td>3    </td><td>three</td><td>tiga </td></tr>\n",
       "\t<tr><th scope=row>_4_</th><td>4    </td><td>four </td><td>empat</td></tr>\n",
       "\t<tr><th scope=row>_5_</th><td>5    </td><td>five </td><td>lima </td></tr>\n",
       "</tbody>\n",
       "</table>\n"
      ],
      "text/latex": [
       "\\begin{tabular}{r|lll}\n",
       "  & x1 & x2 & x3\\\\\n",
       "\\hline\n",
       "\t\\_1\\_ & 1     & one   & satu \\\\\n",
       "\t\\_2\\_ & 2     & two   & dua  \\\\\n",
       "\t\\_3\\_ & 3     & three & tiga \\\\\n",
       "\t\\_4\\_ & 4     & four  & empat\\\\\n",
       "\t\\_5\\_ & 5     & five  & lima \\\\\n",
       "\\end{tabular}\n"
      ],
      "text/markdown": [
       "\n",
       "| <!--/--> | x1 | x2 | x3 | \n",
       "|---|---|---|---|---|\n",
       "| _1_ | 1     | one   | satu  | \n",
       "| _2_ | 2     | two   | dua   | \n",
       "| _3_ | 3     | three | tiga  | \n",
       "| _4_ | 4     | four  | empat | \n",
       "| _5_ | 5     | five  | lima  | \n",
       "\n",
       "\n"
      ],
      "text/plain": [
       "    x1 x2    x3   \n",
       "_1_ 1  one   satu \n",
       "_2_ 2  two   dua  \n",
       "_3_ 3  three tiga \n",
       "_4_ 4  four  empat\n",
       "_5_ 5  five  lima "
      ]
     },
     "metadata": {},
     "output_type": "display_data"
    }
   ],
   "source": [
    "subset(X, select=1:3) "
   ]
  },
  {
   "cell_type": "code",
   "execution_count": 274,
   "metadata": {},
   "outputs": [
    {
     "data": {
      "text/html": [
       "<table>\n",
       "<thead><tr><th></th><th scope=col>x1</th><th scope=col>x2</th><th scope=col>x3</th></tr></thead>\n",
       "<tbody>\n",
       "\t<tr><th scope=row>_1_</th><td>1    </td><td>one  </td><td>satu </td></tr>\n",
       "\t<tr><th scope=row>_2_</th><td>2    </td><td>two  </td><td>dua  </td></tr>\n",
       "\t<tr><th scope=row>_3_</th><td>3    </td><td>three</td><td>tiga </td></tr>\n",
       "\t<tr><th scope=row>_4_</th><td>4    </td><td>four </td><td>empat</td></tr>\n",
       "\t<tr><th scope=row>_5_</th><td>5    </td><td>five </td><td>lima </td></tr>\n",
       "</tbody>\n",
       "</table>\n"
      ],
      "text/latex": [
       "\\begin{tabular}{r|lll}\n",
       "  & x1 & x2 & x3\\\\\n",
       "\\hline\n",
       "\t\\_1\\_ & 1     & one   & satu \\\\\n",
       "\t\\_2\\_ & 2     & two   & dua  \\\\\n",
       "\t\\_3\\_ & 3     & three & tiga \\\\\n",
       "\t\\_4\\_ & 4     & four  & empat\\\\\n",
       "\t\\_5\\_ & 5     & five  & lima \\\\\n",
       "\\end{tabular}\n"
      ],
      "text/markdown": [
       "\n",
       "| <!--/--> | x1 | x2 | x3 | \n",
       "|---|---|---|---|---|\n",
       "| _1_ | 1     | one   | satu  | \n",
       "| _2_ | 2     | two   | dua   | \n",
       "| _3_ | 3     | three | tiga  | \n",
       "| _4_ | 4     | four  | empat | \n",
       "| _5_ | 5     | five  | lima  | \n",
       "\n",
       "\n"
      ],
      "text/plain": [
       "    x1 x2    x3   \n",
       "_1_ 1  one   satu \n",
       "_2_ 2  two   dua  \n",
       "_3_ 3  three tiga \n",
       "_4_ 4  four  empat\n",
       "_5_ 5  five  lima "
      ]
     },
     "metadata": {},
     "output_type": "display_data"
    }
   ],
   "source": [
    "subset(X, select=-(4:6))  # use -"
   ]
  },
  {
   "cell_type": "markdown",
   "metadata": {},
   "source": [
    "**By logical vector**"
   ]
  },
  {
   "cell_type": "code",
   "execution_count": 254,
   "metadata": {},
   "outputs": [
    {
     "name": "stdout",
     "output_type": "stream",
     "text": [
      "       x2    x3\n",
      "_1_   one  satu\n",
      "_2_   two   dua\n",
      "_3_ three  tiga\n",
      "_4_  four empat\n",
      "_5_  five  lima\n"
     ]
    }
   ],
   "source": [
    "print( X[, colnames(X) %in% c('x2','x3')] )  # by column names"
   ]
  },
  {
   "cell_type": "markdown",
   "metadata": {},
   "source": [
    "**subset( ) does th same job**"
   ]
  },
  {
   "cell_type": "code",
   "execution_count": 300,
   "metadata": {},
   "outputs": [
    {
     "data": {
      "text/html": [
       "<table>\n",
       "<thead><tr><th></th><th scope=col>x1</th><th scope=col>x2</th><th scope=col>x3</th></tr></thead>\n",
       "<tbody>\n",
       "\t<tr><th scope=row>_1_</th><td>1    </td><td>one  </td><td>satu </td></tr>\n",
       "\t<tr><th scope=row>_2_</th><td>2    </td><td>two  </td><td>dua  </td></tr>\n",
       "\t<tr><th scope=row>_3_</th><td>3    </td><td>three</td><td>tiga </td></tr>\n",
       "\t<tr><th scope=row>_4_</th><td>4    </td><td>four </td><td>empat</td></tr>\n",
       "\t<tr><th scope=row>_5_</th><td>5    </td><td>five </td><td>lima </td></tr>\n",
       "</tbody>\n",
       "</table>\n"
      ],
      "text/latex": [
       "\\begin{tabular}{r|lll}\n",
       "  & x1 & x2 & x3\\\\\n",
       "\\hline\n",
       "\t\\_1\\_ & 1     & one   & satu \\\\\n",
       "\t\\_2\\_ & 2     & two   & dua  \\\\\n",
       "\t\\_3\\_ & 3     & three & tiga \\\\\n",
       "\t\\_4\\_ & 4     & four  & empat\\\\\n",
       "\t\\_5\\_ & 5     & five  & lima \\\\\n",
       "\\end{tabular}\n"
      ],
      "text/markdown": [
       "\n",
       "| <!--/--> | x1 | x2 | x3 | \n",
       "|---|---|---|---|---|\n",
       "| _1_ | 1     | one   | satu  | \n",
       "| _2_ | 2     | two   | dua   | \n",
       "| _3_ | 3     | three | tiga  | \n",
       "| _4_ | 4     | four  | empat | \n",
       "| _5_ | 5     | five  | lima  | \n",
       "\n",
       "\n"
      ],
      "text/plain": [
       "    x1 x2    x3   \n",
       "_1_ 1  one   satu \n",
       "_2_ 2  two   dua  \n",
       "_3_ 3  three tiga \n",
       "_4_ 4  four  empat\n",
       "_5_ 5  five  lima "
      ]
     },
     "metadata": {},
     "output_type": "display_data"
    }
   ],
   "source": [
    "subset( X, select = colnames(X) %in% c('x1','x2','x3'))"
   ]
  },
  {
   "cell_type": "markdown",
   "metadata": {},
   "source": [
    "#### Duplicate Column"
   ]
  },
  {
   "cell_type": "code",
   "execution_count": 117,
   "metadata": {},
   "outputs": [
    {
     "name": "stdout",
     "output_type": "stream",
     "text": [
      "'data.frame':\t5 obs. of  6 variables:\n",
      " $ x1: num  1 2 3 4 5\n",
      " $ x2: chr  \"one\" \"two\" \"three\" \"four\" ...\n",
      " $ x3: chr  \"satu\" \"dua\" \"tiga\" \"empat\" ...\n",
      " $ x4: chr  \"satu\" \"dua\" \"tiga\" \"empat\" ...\n",
      " $ x5: chr  \"one\" \"two\" \"three\" \"four\" ...\n",
      " $ x6: num  1 2 3 4 5\n"
     ]
    }
   ],
   "source": [
    "X$x4 = X$x3\n",
    "X$x5 = X$x2\n",
    "X$x6 = X$x1\n",
    "str(X)"
   ]
  },
  {
   "cell_type": "markdown",
   "metadata": {},
   "source": [
    "#### Remove Column(s)\n",
    "**Remove Single Column**"
   ]
  },
  {
   "cell_type": "code",
   "execution_count": 111,
   "metadata": {},
   "outputs": [
    {
     "name": "stdout",
     "output_type": "stream",
     "text": [
      "'data.frame':\t5 obs. of  3 variables:\n",
      " $ x1: num  1 2 3 4 5\n",
      " $ x2: chr  \"one\" \"two\" \"three\" \"four\" ...\n",
      " $ x3: chr  \"satu\" \"dua\" \"tiga\" \"empat\" ...\n"
     ]
    }
   ],
   "source": [
    "X$x4 = NULL\n",
    "str(X)"
   ]
  },
  {
   "cell_type": "markdown",
   "metadata": {},
   "source": [
    "**Remove Multiple Columns**  \n",
    "There is no inplace method for column deletion. Use column selction method to deselect columns you want to remove, and save into the same variable name"
   ]
  },
  {
   "cell_type": "markdown",
   "metadata": {},
   "source": [
    "#### Combining Column(s)\n",
    "Use **cbind**, stands for column bind"
   ]
  },
  {
   "cell_type": "code",
   "execution_count": 116,
   "metadata": {},
   "outputs": [
    {
     "data": {
      "text/html": [
       "<table>\n",
       "<thead><tr><th></th><th scope=col>x1</th><th scope=col>x2</th><th scope=col>x3</th><th scope=col>x5</th><th scope=col>x6</th></tr></thead>\n",
       "<tbody>\n",
       "\t<tr><th scope=row>_1_</th><td>1    </td><td>one  </td><td>satu </td><td>1    </td><td>one  </td></tr>\n",
       "\t<tr><th scope=row>_2_</th><td>2    </td><td>two  </td><td>dua  </td><td>2    </td><td>two  </td></tr>\n",
       "\t<tr><th scope=row>_3_</th><td>3    </td><td>three</td><td>tiga </td><td>3    </td><td>three</td></tr>\n",
       "\t<tr><th scope=row>_4_</th><td>4    </td><td>four </td><td>empat</td><td>4    </td><td>four </td></tr>\n",
       "\t<tr><th scope=row>_5_</th><td>5    </td><td>five </td><td>lima </td><td>5    </td><td>five </td></tr>\n",
       "</tbody>\n",
       "</table>\n"
      ],
      "text/latex": [
       "\\begin{tabular}{r|lllll}\n",
       "  & x1 & x2 & x3 & x5 & x6\\\\\n",
       "\\hline\n",
       "\t\\_1\\_ & 1     & one   & satu  & 1     & one  \\\\\n",
       "\t\\_2\\_ & 2     & two   & dua   & 2     & two  \\\\\n",
       "\t\\_3\\_ & 3     & three & tiga  & 3     & three\\\\\n",
       "\t\\_4\\_ & 4     & four  & empat & 4     & four \\\\\n",
       "\t\\_5\\_ & 5     & five  & lima  & 5     & five \\\\\n",
       "\\end{tabular}\n"
      ],
      "text/markdown": [
       "\n",
       "| <!--/--> | x1 | x2 | x3 | x5 | x6 | \n",
       "|---|---|---|---|---|\n",
       "| _1_ | 1     | one   | satu  | 1     | one   | \n",
       "| _2_ | 2     | two   | dua   | 2     | two   | \n",
       "| _3_ | 3     | three | tiga  | 3     | three | \n",
       "| _4_ | 4     | four  | empat | 4     | four  | \n",
       "| _5_ | 5     | five  | lima  | 5     | five  | \n",
       "\n",
       "\n"
      ],
      "text/plain": [
       "    x1 x2    x3    x5 x6   \n",
       "_1_ 1  one   satu  1  one  \n",
       "_2_ 2  two   dua   2  two  \n",
       "_3_ 3  three tiga  3  three\n",
       "_4_ 4  four  empat 4  four \n",
       "_5_ 5  five  lima  5  five "
      ]
     },
     "metadata": {},
     "output_type": "display_data"
    }
   ],
   "source": [
    "## create a new vector\n",
    "x5 = X$x1\n",
    "x6 = X$x2\n",
    "## combine it into dataframe\n",
    "cbind(X,x5, x6)"
   ]
  },
  {
   "cell_type": "markdown",
   "metadata": {},
   "source": [
    "### Select Rows\n",
    "Single or Multi Rows selection **always return dataframe**"
   ]
  },
  {
   "cell_type": "markdown",
   "metadata": {},
   "source": [
    "#### Select Single Row"
   ]
  },
  {
   "cell_type": "code",
   "execution_count": 304,
   "metadata": {},
   "outputs": [
    {
     "name": "stdout",
     "output_type": "stream",
     "text": [
      "    x1    x2   x3    x5 x6\n",
      "_3_  3 three tiga three  3\n"
     ]
    }
   ],
   "source": [
    "print( X[3,] )     # by row number"
   ]
  },
  {
   "cell_type": "code",
   "execution_count": 305,
   "metadata": {},
   "outputs": [
    {
     "name": "stdout",
     "output_type": "stream",
     "text": [
      "    x1    x2   x3    x5 x6\n",
      "_3_  3 three tiga three  3\n"
     ]
    }
   ],
   "source": [
    "print( X['_3_',])  # by row names"
   ]
  },
  {
   "cell_type": "markdown",
   "metadata": {},
   "source": [
    "#### Select Multiple Rows"
   ]
  },
  {
   "cell_type": "code",
   "execution_count": 302,
   "metadata": {},
   "outputs": [
    {
     "name": "stdout",
     "output_type": "stream",
     "text": [
      "    x1    x2    x3    x5 x6\n",
      "_3_  3 three  tiga three  3\n",
      "_4_  4  four empat  four  4\n",
      "_5_  5  five  lima  five  5\n",
      "    x1    x2    x3    x5 x6\n",
      "_3_  3 three  tiga three  3\n",
      "_4_  4  four empat  four  4\n",
      "_5_  5  five  lima  five  5\n"
     ]
    }
   ],
   "source": [
    "print( X[3:5,] )                  # by row number"
   ]
  },
  {
   "cell_type": "code",
   "execution_count": 303,
   "metadata": {},
   "outputs": [
    {
     "name": "stdout",
     "output_type": "stream",
     "text": [
      "    x1    x2    x3    x5 x6\n",
      "_3_  3 three  tiga three  3\n",
      "_4_  4  four empat  four  4\n",
      "_5_  5  five  lima  five  5\n"
     ]
    }
   ],
   "source": [
    "print( X[c('_3_','_4_','_5_'),] ) # by row names"
   ]
  },
  {
   "cell_type": "code",
   "execution_count": 314,
   "metadata": {},
   "outputs": [
    {
     "data": {
      "text/html": [
       "<table>\n",
       "<thead><tr><th></th><th scope=col>x1</th><th scope=col>x2</th><th scope=col>x3</th><th scope=col>x5</th><th scope=col>x6</th></tr></thead>\n",
       "<tbody>\n",
       "\t<tr><th scope=row>_3_</th><td>3    </td><td>three</td><td>tiga </td><td>three</td><td>3    </td></tr>\n",
       "\t<tr><th scope=row>_4_</th><td>4    </td><td>four </td><td>empat</td><td>four </td><td>4    </td></tr>\n",
       "\t<tr><th scope=row>_5_</th><td>5    </td><td>five </td><td>lima </td><td>five </td><td>5    </td></tr>\n",
       "</tbody>\n",
       "</table>\n"
      ],
      "text/latex": [
       "\\begin{tabular}{r|lllll}\n",
       "  & x1 & x2 & x3 & x5 & x6\\\\\n",
       "\\hline\n",
       "\t\\_3\\_ & 3     & three & tiga  & three & 3    \\\\\n",
       "\t\\_4\\_ & 4     & four  & empat & four  & 4    \\\\\n",
       "\t\\_5\\_ & 5     & five  & lima  & five  & 5    \\\\\n",
       "\\end{tabular}\n"
      ],
      "text/markdown": [
       "\n",
       "| <!--/--> | x1 | x2 | x3 | x5 | x6 | \n",
       "|---|---|---|\n",
       "| _3_ | 3     | three | tiga  | three | 3     | \n",
       "| _4_ | 4     | four  | empat | four  | 4     | \n",
       "| _5_ | 5     | five  | lima  | five  | 5     | \n",
       "\n",
       "\n"
      ],
      "text/plain": [
       "    x1 x2    x3    x5    x6\n",
       "_3_ 3  three tiga  three 3 \n",
       "_4_ 4  four  empat four  4 \n",
       "_5_ 5  five  lima  five  5 "
      ]
     },
     "metadata": {},
     "output_type": "display_data"
    }
   ],
   "source": [
    "criteria = X$x1>=4 | X$x3=='tiga'  # construct a logical vector\n",
    "X[criteria, ]"
   ]
  },
  {
   "cell_type": "markdown",
   "metadata": {},
   "source": [
    "**subset( ) Method**"
   ]
  },
  {
   "cell_type": "code",
   "execution_count": 317,
   "metadata": {
    "scrolled": true
   },
   "outputs": [
    {
     "data": {
      "text/html": [
       "<table>\n",
       "<thead><tr><th></th><th scope=col>x1</th><th scope=col>x2</th><th scope=col>x3</th><th scope=col>x5</th><th scope=col>x6</th></tr></thead>\n",
       "<tbody>\n",
       "\t<tr><th scope=row>_3_</th><td>3    </td><td>three</td><td>tiga </td><td>three</td><td>3    </td></tr>\n",
       "\t<tr><th scope=row>_4_</th><td>4    </td><td>four </td><td>empat</td><td>four </td><td>4    </td></tr>\n",
       "\t<tr><th scope=row>_5_</th><td>5    </td><td>five </td><td>lima </td><td>five </td><td>5    </td></tr>\n",
       "</tbody>\n",
       "</table>\n"
      ],
      "text/latex": [
       "\\begin{tabular}{r|lllll}\n",
       "  & x1 & x2 & x3 & x5 & x6\\\\\n",
       "\\hline\n",
       "\t\\_3\\_ & 3     & three & tiga  & three & 3    \\\\\n",
       "\t\\_4\\_ & 4     & four  & empat & four  & 4    \\\\\n",
       "\t\\_5\\_ & 5     & five  & lima  & five  & 5    \\\\\n",
       "\\end{tabular}\n"
      ],
      "text/markdown": [
       "\n",
       "| <!--/--> | x1 | x2 | x3 | x5 | x6 | \n",
       "|---|---|---|\n",
       "| _3_ | 3     | three | tiga  | three | 3     | \n",
       "| _4_ | 4     | four  | empat | four  | 4     | \n",
       "| _5_ | 5     | five  | lima  | five  | 5     | \n",
       "\n",
       "\n"
      ],
      "text/plain": [
       "    x1 x2    x3    x5    x6\n",
       "_3_ 3  three tiga  three 3 \n",
       "_4_ 4  four  empat four  4 \n",
       "_5_ 5  five  lima  five  5 "
      ]
     },
     "metadata": {},
     "output_type": "display_data"
    }
   ],
   "source": [
    "criteria = X$x1>=4 | X$x3=='tiga'  # construct a logical vector\n",
    "subset( X, criteria )"
   ]
  },
  {
   "cell_type": "markdown",
   "metadata": {},
   "source": [
    "### Data Frame Properties"
   ]
  },
  {
   "cell_type": "markdown",
   "metadata": {},
   "source": [
    "#### Dimension\n",
    "**dim(  )** returns vector of two elemens (rows,cols)"
   ]
  },
  {
   "cell_type": "code",
   "execution_count": 337,
   "metadata": {},
   "outputs": [
    {
     "name": "stdout",
     "output_type": "stream",
     "text": [
      "[1] 150   5\n",
      "[1] 150\n",
      "[1] 5\n"
     ]
    }
   ],
   "source": [
    "print( dim( iris )  )  # vector of two elements\n",
    "print( dim(iris)[1] )  # get rows\n",
    "print( dim(iris)[2] )  # get columns"
   ]
  },
  {
   "cell_type": "markdown",
   "metadata": {},
   "source": [
    "**Number of Rows**"
   ]
  },
  {
   "cell_type": "code",
   "execution_count": 338,
   "metadata": {},
   "outputs": [
    {
     "name": "stdout",
     "output_type": "stream",
     "text": [
      "[1] 150\n"
     ]
    }
   ],
   "source": [
    "print( nrow(iris) )"
   ]
  },
  {
   "cell_type": "markdown",
   "metadata": {},
   "source": [
    "**Number of Columns**  \n",
    "It may not be intuitive, however, length() on dataframe return number of columns"
   ]
  },
  {
   "cell_type": "code",
   "execution_count": 339,
   "metadata": {
    "scrolled": true
   },
   "outputs": [
    {
     "name": "stdout",
     "output_type": "stream",
     "text": [
      "[1] 5\n",
      "[1] 5\n"
     ]
    }
   ],
   "source": [
    "print( ncol(iris) )\n",
    "print( length(iris) )"
   ]
  },
  {
   "cell_type": "markdown",
   "metadata": {},
   "source": [
    "#### Attributes\n",
    "Let's see all available attributes for data frame"
   ]
  },
  {
   "cell_type": "code",
   "execution_count": 340,
   "metadata": {},
   "outputs": [
    {
     "data": {
      "text/html": [
       "<dl>\n",
       "\t<dt>$names</dt>\n",
       "\t\t<dd><ol class=list-inline>\n",
       "\t<li>'Sepal.Length'</li>\n",
       "\t<li>'Sepal.Width'</li>\n",
       "\t<li>'Petal.Length'</li>\n",
       "\t<li>'Petal.Width'</li>\n",
       "\t<li>'Species'</li>\n",
       "</ol>\n",
       "</dd>\n",
       "\t<dt>$class</dt>\n",
       "\t\t<dd>'data.frame'</dd>\n",
       "\t<dt>$row.names</dt>\n",
       "\t\t<dd><ol class=list-inline>\n",
       "\t<li>1</li>\n",
       "\t<li>2</li>\n",
       "\t<li>3</li>\n",
       "\t<li>4</li>\n",
       "\t<li>5</li>\n",
       "\t<li>6</li>\n",
       "\t<li>7</li>\n",
       "\t<li>8</li>\n",
       "\t<li>9</li>\n",
       "\t<li>10</li>\n",
       "\t<li>11</li>\n",
       "\t<li>12</li>\n",
       "\t<li>13</li>\n",
       "\t<li>14</li>\n",
       "\t<li>15</li>\n",
       "\t<li>16</li>\n",
       "\t<li>17</li>\n",
       "\t<li>18</li>\n",
       "\t<li>19</li>\n",
       "\t<li>20</li>\n",
       "\t<li>21</li>\n",
       "\t<li>22</li>\n",
       "\t<li>23</li>\n",
       "\t<li>24</li>\n",
       "\t<li>25</li>\n",
       "\t<li>26</li>\n",
       "\t<li>27</li>\n",
       "\t<li>28</li>\n",
       "\t<li>29</li>\n",
       "\t<li>30</li>\n",
       "\t<li>31</li>\n",
       "\t<li>32</li>\n",
       "\t<li>33</li>\n",
       "\t<li>34</li>\n",
       "\t<li>35</li>\n",
       "\t<li>36</li>\n",
       "\t<li>37</li>\n",
       "\t<li>38</li>\n",
       "\t<li>39</li>\n",
       "\t<li>40</li>\n",
       "\t<li>41</li>\n",
       "\t<li>42</li>\n",
       "\t<li>43</li>\n",
       "\t<li>44</li>\n",
       "\t<li>45</li>\n",
       "\t<li>46</li>\n",
       "\t<li>47</li>\n",
       "\t<li>48</li>\n",
       "\t<li>49</li>\n",
       "\t<li>50</li>\n",
       "\t<li>51</li>\n",
       "\t<li>52</li>\n",
       "\t<li>53</li>\n",
       "\t<li>54</li>\n",
       "\t<li>55</li>\n",
       "\t<li>56</li>\n",
       "\t<li>57</li>\n",
       "\t<li>58</li>\n",
       "\t<li>59</li>\n",
       "\t<li>60</li>\n",
       "\t<li>61</li>\n",
       "\t<li>62</li>\n",
       "\t<li>63</li>\n",
       "\t<li>64</li>\n",
       "\t<li>65</li>\n",
       "\t<li>66</li>\n",
       "\t<li>67</li>\n",
       "\t<li>68</li>\n",
       "\t<li>69</li>\n",
       "\t<li>70</li>\n",
       "\t<li>71</li>\n",
       "\t<li>72</li>\n",
       "\t<li>73</li>\n",
       "\t<li>74</li>\n",
       "\t<li>75</li>\n",
       "\t<li>76</li>\n",
       "\t<li>77</li>\n",
       "\t<li>78</li>\n",
       "\t<li>79</li>\n",
       "\t<li>80</li>\n",
       "\t<li>81</li>\n",
       "\t<li>82</li>\n",
       "\t<li>83</li>\n",
       "\t<li>84</li>\n",
       "\t<li>85</li>\n",
       "\t<li>86</li>\n",
       "\t<li>87</li>\n",
       "\t<li>88</li>\n",
       "\t<li>89</li>\n",
       "\t<li>90</li>\n",
       "\t<li>91</li>\n",
       "\t<li>92</li>\n",
       "\t<li>93</li>\n",
       "\t<li>94</li>\n",
       "\t<li>95</li>\n",
       "\t<li>96</li>\n",
       "\t<li>97</li>\n",
       "\t<li>98</li>\n",
       "\t<li>99</li>\n",
       "\t<li>100</li>\n",
       "\t<li>101</li>\n",
       "\t<li>102</li>\n",
       "\t<li>103</li>\n",
       "\t<li>104</li>\n",
       "\t<li>105</li>\n",
       "\t<li>106</li>\n",
       "\t<li>107</li>\n",
       "\t<li>108</li>\n",
       "\t<li>109</li>\n",
       "\t<li>110</li>\n",
       "\t<li>111</li>\n",
       "\t<li>112</li>\n",
       "\t<li>113</li>\n",
       "\t<li>114</li>\n",
       "\t<li>115</li>\n",
       "\t<li>116</li>\n",
       "\t<li>117</li>\n",
       "\t<li>118</li>\n",
       "\t<li>119</li>\n",
       "\t<li>120</li>\n",
       "\t<li>121</li>\n",
       "\t<li>122</li>\n",
       "\t<li>123</li>\n",
       "\t<li>124</li>\n",
       "\t<li>125</li>\n",
       "\t<li>126</li>\n",
       "\t<li>127</li>\n",
       "\t<li>128</li>\n",
       "\t<li>129</li>\n",
       "\t<li>130</li>\n",
       "\t<li>131</li>\n",
       "\t<li>132</li>\n",
       "\t<li>133</li>\n",
       "\t<li>134</li>\n",
       "\t<li>135</li>\n",
       "\t<li>136</li>\n",
       "\t<li>137</li>\n",
       "\t<li>138</li>\n",
       "\t<li>139</li>\n",
       "\t<li>140</li>\n",
       "\t<li>141</li>\n",
       "\t<li>142</li>\n",
       "\t<li>143</li>\n",
       "\t<li>144</li>\n",
       "\t<li>145</li>\n",
       "\t<li>146</li>\n",
       "\t<li>147</li>\n",
       "\t<li>148</li>\n",
       "\t<li>149</li>\n",
       "\t<li>150</li>\n",
       "</ol>\n",
       "</dd>\n",
       "</dl>\n"
      ],
      "text/latex": [
       "\\begin{description}\n",
       "\\item[\\$names] \\begin{enumerate*}\n",
       "\\item 'Sepal.Length'\n",
       "\\item 'Sepal.Width'\n",
       "\\item 'Petal.Length'\n",
       "\\item 'Petal.Width'\n",
       "\\item 'Species'\n",
       "\\end{enumerate*}\n",
       "\n",
       "\\item[\\$class] 'data.frame'\n",
       "\\item[\\$row.names] \\begin{enumerate*}\n",
       "\\item 1\n",
       "\\item 2\n",
       "\\item 3\n",
       "\\item 4\n",
       "\\item 5\n",
       "\\item 6\n",
       "\\item 7\n",
       "\\item 8\n",
       "\\item 9\n",
       "\\item 10\n",
       "\\item 11\n",
       "\\item 12\n",
       "\\item 13\n",
       "\\item 14\n",
       "\\item 15\n",
       "\\item 16\n",
       "\\item 17\n",
       "\\item 18\n",
       "\\item 19\n",
       "\\item 20\n",
       "\\item 21\n",
       "\\item 22\n",
       "\\item 23\n",
       "\\item 24\n",
       "\\item 25\n",
       "\\item 26\n",
       "\\item 27\n",
       "\\item 28\n",
       "\\item 29\n",
       "\\item 30\n",
       "\\item 31\n",
       "\\item 32\n",
       "\\item 33\n",
       "\\item 34\n",
       "\\item 35\n",
       "\\item 36\n",
       "\\item 37\n",
       "\\item 38\n",
       "\\item 39\n",
       "\\item 40\n",
       "\\item 41\n",
       "\\item 42\n",
       "\\item 43\n",
       "\\item 44\n",
       "\\item 45\n",
       "\\item 46\n",
       "\\item 47\n",
       "\\item 48\n",
       "\\item 49\n",
       "\\item 50\n",
       "\\item 51\n",
       "\\item 52\n",
       "\\item 53\n",
       "\\item 54\n",
       "\\item 55\n",
       "\\item 56\n",
       "\\item 57\n",
       "\\item 58\n",
       "\\item 59\n",
       "\\item 60\n",
       "\\item 61\n",
       "\\item 62\n",
       "\\item 63\n",
       "\\item 64\n",
       "\\item 65\n",
       "\\item 66\n",
       "\\item 67\n",
       "\\item 68\n",
       "\\item 69\n",
       "\\item 70\n",
       "\\item 71\n",
       "\\item 72\n",
       "\\item 73\n",
       "\\item 74\n",
       "\\item 75\n",
       "\\item 76\n",
       "\\item 77\n",
       "\\item 78\n",
       "\\item 79\n",
       "\\item 80\n",
       "\\item 81\n",
       "\\item 82\n",
       "\\item 83\n",
       "\\item 84\n",
       "\\item 85\n",
       "\\item 86\n",
       "\\item 87\n",
       "\\item 88\n",
       "\\item 89\n",
       "\\item 90\n",
       "\\item 91\n",
       "\\item 92\n",
       "\\item 93\n",
       "\\item 94\n",
       "\\item 95\n",
       "\\item 96\n",
       "\\item 97\n",
       "\\item 98\n",
       "\\item 99\n",
       "\\item 100\n",
       "\\item 101\n",
       "\\item 102\n",
       "\\item 103\n",
       "\\item 104\n",
       "\\item 105\n",
       "\\item 106\n",
       "\\item 107\n",
       "\\item 108\n",
       "\\item 109\n",
       "\\item 110\n",
       "\\item 111\n",
       "\\item 112\n",
       "\\item 113\n",
       "\\item 114\n",
       "\\item 115\n",
       "\\item 116\n",
       "\\item 117\n",
       "\\item 118\n",
       "\\item 119\n",
       "\\item 120\n",
       "\\item 121\n",
       "\\item 122\n",
       "\\item 123\n",
       "\\item 124\n",
       "\\item 125\n",
       "\\item 126\n",
       "\\item 127\n",
       "\\item 128\n",
       "\\item 129\n",
       "\\item 130\n",
       "\\item 131\n",
       "\\item 132\n",
       "\\item 133\n",
       "\\item 134\n",
       "\\item 135\n",
       "\\item 136\n",
       "\\item 137\n",
       "\\item 138\n",
       "\\item 139\n",
       "\\item 140\n",
       "\\item 141\n",
       "\\item 142\n",
       "\\item 143\n",
       "\\item 144\n",
       "\\item 145\n",
       "\\item 146\n",
       "\\item 147\n",
       "\\item 148\n",
       "\\item 149\n",
       "\\item 150\n",
       "\\end{enumerate*}\n",
       "\n",
       "\\end{description}\n"
      ],
      "text/markdown": [
       "$names\n",
       ":   1. 'Sepal.Length'\n",
       "2. 'Sepal.Width'\n",
       "3. 'Petal.Length'\n",
       "4. 'Petal.Width'\n",
       "5. 'Species'\n",
       "\n",
       "\n",
       "\n",
       "$class\n",
       ":   'data.frame'\n",
       "$row.names\n",
       ":   1. 1\n",
       "2. 2\n",
       "3. 3\n",
       "4. 4\n",
       "5. 5\n",
       "6. 6\n",
       "7. 7\n",
       "8. 8\n",
       "9. 9\n",
       "10. 10\n",
       "11. 11\n",
       "12. 12\n",
       "13. 13\n",
       "14. 14\n",
       "15. 15\n",
       "16. 16\n",
       "17. 17\n",
       "18. 18\n",
       "19. 19\n",
       "20. 20\n",
       "21. 21\n",
       "22. 22\n",
       "23. 23\n",
       "24. 24\n",
       "25. 25\n",
       "26. 26\n",
       "27. 27\n",
       "28. 28\n",
       "29. 29\n",
       "30. 30\n",
       "31. 31\n",
       "32. 32\n",
       "33. 33\n",
       "34. 34\n",
       "35. 35\n",
       "36. 36\n",
       "37. 37\n",
       "38. 38\n",
       "39. 39\n",
       "40. 40\n",
       "41. 41\n",
       "42. 42\n",
       "43. 43\n",
       "44. 44\n",
       "45. 45\n",
       "46. 46\n",
       "47. 47\n",
       "48. 48\n",
       "49. 49\n",
       "50. 50\n",
       "51. 51\n",
       "52. 52\n",
       "53. 53\n",
       "54. 54\n",
       "55. 55\n",
       "56. 56\n",
       "57. 57\n",
       "58. 58\n",
       "59. 59\n",
       "60. 60\n",
       "61. 61\n",
       "62. 62\n",
       "63. 63\n",
       "64. 64\n",
       "65. 65\n",
       "66. 66\n",
       "67. 67\n",
       "68. 68\n",
       "69. 69\n",
       "70. 70\n",
       "71. 71\n",
       "72. 72\n",
       "73. 73\n",
       "74. 74\n",
       "75. 75\n",
       "76. 76\n",
       "77. 77\n",
       "78. 78\n",
       "79. 79\n",
       "80. 80\n",
       "81. 81\n",
       "82. 82\n",
       "83. 83\n",
       "84. 84\n",
       "85. 85\n",
       "86. 86\n",
       "87. 87\n",
       "88. 88\n",
       "89. 89\n",
       "90. 90\n",
       "91. 91\n",
       "92. 92\n",
       "93. 93\n",
       "94. 94\n",
       "95. 95\n",
       "96. 96\n",
       "97. 97\n",
       "98. 98\n",
       "99. 99\n",
       "100. 100\n",
       "101. 101\n",
       "102. 102\n",
       "103. 103\n",
       "104. 104\n",
       "105. 105\n",
       "106. 106\n",
       "107. 107\n",
       "108. 108\n",
       "109. 109\n",
       "110. 110\n",
       "111. 111\n",
       "112. 112\n",
       "113. 113\n",
       "114. 114\n",
       "115. 115\n",
       "116. 116\n",
       "117. 117\n",
       "118. 118\n",
       "119. 119\n",
       "120. 120\n",
       "121. 121\n",
       "122. 122\n",
       "123. 123\n",
       "124. 124\n",
       "125. 125\n",
       "126. 126\n",
       "127. 127\n",
       "128. 128\n",
       "129. 129\n",
       "130. 130\n",
       "131. 131\n",
       "132. 132\n",
       "133. 133\n",
       "134. 134\n",
       "135. 135\n",
       "136. 136\n",
       "137. 137\n",
       "138. 138\n",
       "139. 139\n",
       "140. 140\n",
       "141. 141\n",
       "142. 142\n",
       "143. 143\n",
       "144. 144\n",
       "145. 145\n",
       "146. 146\n",
       "147. 147\n",
       "148. 148\n",
       "149. 149\n",
       "150. 150\n",
       "\n",
       "\n",
       "\n",
       "\n",
       "\n"
      ],
      "text/plain": [
       "$names\n",
       "[1] \"Sepal.Length\" \"Sepal.Width\"  \"Petal.Length\" \"Petal.Width\"  \"Species\"     \n",
       "\n",
       "$class\n",
       "[1] \"data.frame\"\n",
       "\n",
       "$row.names\n",
       "  [1]   1   2   3   4   5   6   7   8   9  10  11  12  13  14  15  16  17  18\n",
       " [19]  19  20  21  22  23  24  25  26  27  28  29  30  31  32  33  34  35  36\n",
       " [37]  37  38  39  40  41  42  43  44  45  46  47  48  49  50  51  52  53  54\n",
       " [55]  55  56  57  58  59  60  61  62  63  64  65  66  67  68  69  70  71  72\n",
       " [73]  73  74  75  76  77  78  79  80  81  82  83  84  85  86  87  88  89  90\n",
       " [91]  91  92  93  94  95  96  97  98  99 100 101 102 103 104 105 106 107 108\n",
       "[109] 109 110 111 112 113 114 115 116 117 118 119 120 121 122 123 124 125 126\n",
       "[127] 127 128 129 130 131 132 133 134 135 136 137 138 139 140 141 142 143 144\n",
       "[145] 145 146 147 148 149 150\n"
      ]
     },
     "metadata": {},
     "output_type": "display_data"
    }
   ],
   "source": [
    "attributes(iris)"
   ]
  },
  {
   "cell_type": "markdown",
   "metadata": {},
   "source": [
    "**Retrieve single attribute**"
   ]
  },
  {
   "cell_type": "code",
   "execution_count": 341,
   "metadata": {},
   "outputs": [
    {
     "data": {
      "text/html": [
       "<ol class=list-inline>\n",
       "\t<li>'Sepal.Length'</li>\n",
       "\t<li>'Sepal.Width'</li>\n",
       "\t<li>'Petal.Length'</li>\n",
       "\t<li>'Petal.Width'</li>\n",
       "\t<li>'Species'</li>\n",
       "</ol>\n"
      ],
      "text/latex": [
       "\\begin{enumerate*}\n",
       "\\item 'Sepal.Length'\n",
       "\\item 'Sepal.Width'\n",
       "\\item 'Petal.Length'\n",
       "\\item 'Petal.Width'\n",
       "\\item 'Species'\n",
       "\\end{enumerate*}\n"
      ],
      "text/markdown": [
       "1. 'Sepal.Length'\n",
       "2. 'Sepal.Width'\n",
       "3. 'Petal.Length'\n",
       "4. 'Petal.Width'\n",
       "5. 'Species'\n",
       "\n",
       "\n"
      ],
      "text/plain": [
       "[1] \"Sepal.Length\" \"Sepal.Width\"  \"Petal.Length\" \"Petal.Width\"  \"Species\"     "
      ]
     },
     "metadata": {},
     "output_type": "display_data"
    }
   ],
   "source": [
    "attr(iris,'names')"
   ]
  },
  {
   "cell_type": "markdown",
   "metadata": {},
   "source": [
    "#### Names\n",
    "**Column Names**  \n",
    "- Observe that both **names()  and colnames()** return dataframe column names \n",
    "- However, **colnames(  )** is more intuitive"
   ]
  },
  {
   "cell_type": "code",
   "execution_count": 342,
   "metadata": {},
   "outputs": [
    {
     "name": "stdout",
     "output_type": "stream",
     "text": [
      "[1] \"Sepal.Length\" \"Sepal.Width\"  \"Petal.Length\" \"Petal.Width\"  \"Species\"     \n",
      "[1] \"Sepal.Length\" \"Sepal.Width\"  \"Petal.Length\" \"Petal.Width\"  \"Species\"     \n"
     ]
    }
   ],
   "source": [
    "print( names(iris) )\n",
    "print( colnames(iris) )"
   ]
  },
  {
   "cell_type": "markdown",
   "metadata": {},
   "source": [
    "**Row Names**"
   ]
  },
  {
   "cell_type": "code",
   "execution_count": 343,
   "metadata": {},
   "outputs": [
    {
     "data": {
      "text/html": [
       "<ol class=list-inline>\n",
       "\t<li>'1'</li>\n",
       "\t<li>'2'</li>\n",
       "\t<li>'3'</li>\n",
       "\t<li>'4'</li>\n",
       "\t<li>'5'</li>\n",
       "\t<li>'6'</li>\n",
       "\t<li>'7'</li>\n",
       "\t<li>'8'</li>\n",
       "\t<li>'9'</li>\n",
       "\t<li>'10'</li>\n",
       "\t<li>'11'</li>\n",
       "\t<li>'12'</li>\n",
       "\t<li>'13'</li>\n",
       "\t<li>'14'</li>\n",
       "\t<li>'15'</li>\n",
       "\t<li>'16'</li>\n",
       "\t<li>'17'</li>\n",
       "\t<li>'18'</li>\n",
       "\t<li>'19'</li>\n",
       "\t<li>'20'</li>\n",
       "\t<li>'21'</li>\n",
       "\t<li>'22'</li>\n",
       "\t<li>'23'</li>\n",
       "\t<li>'24'</li>\n",
       "\t<li>'25'</li>\n",
       "\t<li>'26'</li>\n",
       "\t<li>'27'</li>\n",
       "\t<li>'28'</li>\n",
       "\t<li>'29'</li>\n",
       "\t<li>'30'</li>\n",
       "\t<li>'31'</li>\n",
       "\t<li>'32'</li>\n",
       "\t<li>'33'</li>\n",
       "\t<li>'34'</li>\n",
       "\t<li>'35'</li>\n",
       "\t<li>'36'</li>\n",
       "\t<li>'37'</li>\n",
       "\t<li>'38'</li>\n",
       "\t<li>'39'</li>\n",
       "\t<li>'40'</li>\n",
       "\t<li>'41'</li>\n",
       "\t<li>'42'</li>\n",
       "\t<li>'43'</li>\n",
       "\t<li>'44'</li>\n",
       "\t<li>'45'</li>\n",
       "\t<li>'46'</li>\n",
       "\t<li>'47'</li>\n",
       "\t<li>'48'</li>\n",
       "\t<li>'49'</li>\n",
       "\t<li>'50'</li>\n",
       "\t<li>'51'</li>\n",
       "\t<li>'52'</li>\n",
       "\t<li>'53'</li>\n",
       "\t<li>'54'</li>\n",
       "\t<li>'55'</li>\n",
       "\t<li>'56'</li>\n",
       "\t<li>'57'</li>\n",
       "\t<li>'58'</li>\n",
       "\t<li>'59'</li>\n",
       "\t<li>'60'</li>\n",
       "\t<li>'61'</li>\n",
       "\t<li>'62'</li>\n",
       "\t<li>'63'</li>\n",
       "\t<li>'64'</li>\n",
       "\t<li>'65'</li>\n",
       "\t<li>'66'</li>\n",
       "\t<li>'67'</li>\n",
       "\t<li>'68'</li>\n",
       "\t<li>'69'</li>\n",
       "\t<li>'70'</li>\n",
       "\t<li>'71'</li>\n",
       "\t<li>'72'</li>\n",
       "\t<li>'73'</li>\n",
       "\t<li>'74'</li>\n",
       "\t<li>'75'</li>\n",
       "\t<li>'76'</li>\n",
       "\t<li>'77'</li>\n",
       "\t<li>'78'</li>\n",
       "\t<li>'79'</li>\n",
       "\t<li>'80'</li>\n",
       "\t<li>'81'</li>\n",
       "\t<li>'82'</li>\n",
       "\t<li>'83'</li>\n",
       "\t<li>'84'</li>\n",
       "\t<li>'85'</li>\n",
       "\t<li>'86'</li>\n",
       "\t<li>'87'</li>\n",
       "\t<li>'88'</li>\n",
       "\t<li>'89'</li>\n",
       "\t<li>'90'</li>\n",
       "\t<li>'91'</li>\n",
       "\t<li>'92'</li>\n",
       "\t<li>'93'</li>\n",
       "\t<li>'94'</li>\n",
       "\t<li>'95'</li>\n",
       "\t<li>'96'</li>\n",
       "\t<li>'97'</li>\n",
       "\t<li>'98'</li>\n",
       "\t<li>'99'</li>\n",
       "\t<li>'100'</li>\n",
       "\t<li>'101'</li>\n",
       "\t<li>'102'</li>\n",
       "\t<li>'103'</li>\n",
       "\t<li>'104'</li>\n",
       "\t<li>'105'</li>\n",
       "\t<li>'106'</li>\n",
       "\t<li>'107'</li>\n",
       "\t<li>'108'</li>\n",
       "\t<li>'109'</li>\n",
       "\t<li>'110'</li>\n",
       "\t<li>'111'</li>\n",
       "\t<li>'112'</li>\n",
       "\t<li>'113'</li>\n",
       "\t<li>'114'</li>\n",
       "\t<li>'115'</li>\n",
       "\t<li>'116'</li>\n",
       "\t<li>'117'</li>\n",
       "\t<li>'118'</li>\n",
       "\t<li>'119'</li>\n",
       "\t<li>'120'</li>\n",
       "\t<li>'121'</li>\n",
       "\t<li>'122'</li>\n",
       "\t<li>'123'</li>\n",
       "\t<li>'124'</li>\n",
       "\t<li>'125'</li>\n",
       "\t<li>'126'</li>\n",
       "\t<li>'127'</li>\n",
       "\t<li>'128'</li>\n",
       "\t<li>'129'</li>\n",
       "\t<li>'130'</li>\n",
       "\t<li>'131'</li>\n",
       "\t<li>'132'</li>\n",
       "\t<li>'133'</li>\n",
       "\t<li>'134'</li>\n",
       "\t<li>'135'</li>\n",
       "\t<li>'136'</li>\n",
       "\t<li>'137'</li>\n",
       "\t<li>'138'</li>\n",
       "\t<li>'139'</li>\n",
       "\t<li>'140'</li>\n",
       "\t<li>'141'</li>\n",
       "\t<li>'142'</li>\n",
       "\t<li>'143'</li>\n",
       "\t<li>'144'</li>\n",
       "\t<li>'145'</li>\n",
       "\t<li>'146'</li>\n",
       "\t<li>'147'</li>\n",
       "\t<li>'148'</li>\n",
       "\t<li>'149'</li>\n",
       "\t<li>'150'</li>\n",
       "</ol>\n"
      ],
      "text/latex": [
       "\\begin{enumerate*}\n",
       "\\item '1'\n",
       "\\item '2'\n",
       "\\item '3'\n",
       "\\item '4'\n",
       "\\item '5'\n",
       "\\item '6'\n",
       "\\item '7'\n",
       "\\item '8'\n",
       "\\item '9'\n",
       "\\item '10'\n",
       "\\item '11'\n",
       "\\item '12'\n",
       "\\item '13'\n",
       "\\item '14'\n",
       "\\item '15'\n",
       "\\item '16'\n",
       "\\item '17'\n",
       "\\item '18'\n",
       "\\item '19'\n",
       "\\item '20'\n",
       "\\item '21'\n",
       "\\item '22'\n",
       "\\item '23'\n",
       "\\item '24'\n",
       "\\item '25'\n",
       "\\item '26'\n",
       "\\item '27'\n",
       "\\item '28'\n",
       "\\item '29'\n",
       "\\item '30'\n",
       "\\item '31'\n",
       "\\item '32'\n",
       "\\item '33'\n",
       "\\item '34'\n",
       "\\item '35'\n",
       "\\item '36'\n",
       "\\item '37'\n",
       "\\item '38'\n",
       "\\item '39'\n",
       "\\item '40'\n",
       "\\item '41'\n",
       "\\item '42'\n",
       "\\item '43'\n",
       "\\item '44'\n",
       "\\item '45'\n",
       "\\item '46'\n",
       "\\item '47'\n",
       "\\item '48'\n",
       "\\item '49'\n",
       "\\item '50'\n",
       "\\item '51'\n",
       "\\item '52'\n",
       "\\item '53'\n",
       "\\item '54'\n",
       "\\item '55'\n",
       "\\item '56'\n",
       "\\item '57'\n",
       "\\item '58'\n",
       "\\item '59'\n",
       "\\item '60'\n",
       "\\item '61'\n",
       "\\item '62'\n",
       "\\item '63'\n",
       "\\item '64'\n",
       "\\item '65'\n",
       "\\item '66'\n",
       "\\item '67'\n",
       "\\item '68'\n",
       "\\item '69'\n",
       "\\item '70'\n",
       "\\item '71'\n",
       "\\item '72'\n",
       "\\item '73'\n",
       "\\item '74'\n",
       "\\item '75'\n",
       "\\item '76'\n",
       "\\item '77'\n",
       "\\item '78'\n",
       "\\item '79'\n",
       "\\item '80'\n",
       "\\item '81'\n",
       "\\item '82'\n",
       "\\item '83'\n",
       "\\item '84'\n",
       "\\item '85'\n",
       "\\item '86'\n",
       "\\item '87'\n",
       "\\item '88'\n",
       "\\item '89'\n",
       "\\item '90'\n",
       "\\item '91'\n",
       "\\item '92'\n",
       "\\item '93'\n",
       "\\item '94'\n",
       "\\item '95'\n",
       "\\item '96'\n",
       "\\item '97'\n",
       "\\item '98'\n",
       "\\item '99'\n",
       "\\item '100'\n",
       "\\item '101'\n",
       "\\item '102'\n",
       "\\item '103'\n",
       "\\item '104'\n",
       "\\item '105'\n",
       "\\item '106'\n",
       "\\item '107'\n",
       "\\item '108'\n",
       "\\item '109'\n",
       "\\item '110'\n",
       "\\item '111'\n",
       "\\item '112'\n",
       "\\item '113'\n",
       "\\item '114'\n",
       "\\item '115'\n",
       "\\item '116'\n",
       "\\item '117'\n",
       "\\item '118'\n",
       "\\item '119'\n",
       "\\item '120'\n",
       "\\item '121'\n",
       "\\item '122'\n",
       "\\item '123'\n",
       "\\item '124'\n",
       "\\item '125'\n",
       "\\item '126'\n",
       "\\item '127'\n",
       "\\item '128'\n",
       "\\item '129'\n",
       "\\item '130'\n",
       "\\item '131'\n",
       "\\item '132'\n",
       "\\item '133'\n",
       "\\item '134'\n",
       "\\item '135'\n",
       "\\item '136'\n",
       "\\item '137'\n",
       "\\item '138'\n",
       "\\item '139'\n",
       "\\item '140'\n",
       "\\item '141'\n",
       "\\item '142'\n",
       "\\item '143'\n",
       "\\item '144'\n",
       "\\item '145'\n",
       "\\item '146'\n",
       "\\item '147'\n",
       "\\item '148'\n",
       "\\item '149'\n",
       "\\item '150'\n",
       "\\end{enumerate*}\n"
      ],
      "text/markdown": [
       "1. '1'\n",
       "2. '2'\n",
       "3. '3'\n",
       "4. '4'\n",
       "5. '5'\n",
       "6. '6'\n",
       "7. '7'\n",
       "8. '8'\n",
       "9. '9'\n",
       "10. '10'\n",
       "11. '11'\n",
       "12. '12'\n",
       "13. '13'\n",
       "14. '14'\n",
       "15. '15'\n",
       "16. '16'\n",
       "17. '17'\n",
       "18. '18'\n",
       "19. '19'\n",
       "20. '20'\n",
       "21. '21'\n",
       "22. '22'\n",
       "23. '23'\n",
       "24. '24'\n",
       "25. '25'\n",
       "26. '26'\n",
       "27. '27'\n",
       "28. '28'\n",
       "29. '29'\n",
       "30. '30'\n",
       "31. '31'\n",
       "32. '32'\n",
       "33. '33'\n",
       "34. '34'\n",
       "35. '35'\n",
       "36. '36'\n",
       "37. '37'\n",
       "38. '38'\n",
       "39. '39'\n",
       "40. '40'\n",
       "41. '41'\n",
       "42. '42'\n",
       "43. '43'\n",
       "44. '44'\n",
       "45. '45'\n",
       "46. '46'\n",
       "47. '47'\n",
       "48. '48'\n",
       "49. '49'\n",
       "50. '50'\n",
       "51. '51'\n",
       "52. '52'\n",
       "53. '53'\n",
       "54. '54'\n",
       "55. '55'\n",
       "56. '56'\n",
       "57. '57'\n",
       "58. '58'\n",
       "59. '59'\n",
       "60. '60'\n",
       "61. '61'\n",
       "62. '62'\n",
       "63. '63'\n",
       "64. '64'\n",
       "65. '65'\n",
       "66. '66'\n",
       "67. '67'\n",
       "68. '68'\n",
       "69. '69'\n",
       "70. '70'\n",
       "71. '71'\n",
       "72. '72'\n",
       "73. '73'\n",
       "74. '74'\n",
       "75. '75'\n",
       "76. '76'\n",
       "77. '77'\n",
       "78. '78'\n",
       "79. '79'\n",
       "80. '80'\n",
       "81. '81'\n",
       "82. '82'\n",
       "83. '83'\n",
       "84. '84'\n",
       "85. '85'\n",
       "86. '86'\n",
       "87. '87'\n",
       "88. '88'\n",
       "89. '89'\n",
       "90. '90'\n",
       "91. '91'\n",
       "92. '92'\n",
       "93. '93'\n",
       "94. '94'\n",
       "95. '95'\n",
       "96. '96'\n",
       "97. '97'\n",
       "98. '98'\n",
       "99. '99'\n",
       "100. '100'\n",
       "101. '101'\n",
       "102. '102'\n",
       "103. '103'\n",
       "104. '104'\n",
       "105. '105'\n",
       "106. '106'\n",
       "107. '107'\n",
       "108. '108'\n",
       "109. '109'\n",
       "110. '110'\n",
       "111. '111'\n",
       "112. '112'\n",
       "113. '113'\n",
       "114. '114'\n",
       "115. '115'\n",
       "116. '116'\n",
       "117. '117'\n",
       "118. '118'\n",
       "119. '119'\n",
       "120. '120'\n",
       "121. '121'\n",
       "122. '122'\n",
       "123. '123'\n",
       "124. '124'\n",
       "125. '125'\n",
       "126. '126'\n",
       "127. '127'\n",
       "128. '128'\n",
       "129. '129'\n",
       "130. '130'\n",
       "131. '131'\n",
       "132. '132'\n",
       "133. '133'\n",
       "134. '134'\n",
       "135. '135'\n",
       "136. '136'\n",
       "137. '137'\n",
       "138. '138'\n",
       "139. '139'\n",
       "140. '140'\n",
       "141. '141'\n",
       "142. '142'\n",
       "143. '143'\n",
       "144. '144'\n",
       "145. '145'\n",
       "146. '146'\n",
       "147. '147'\n",
       "148. '148'\n",
       "149. '149'\n",
       "150. '150'\n",
       "\n",
       "\n"
      ],
      "text/plain": [
       "  [1] \"1\"   \"2\"   \"3\"   \"4\"   \"5\"   \"6\"   \"7\"   \"8\"   \"9\"   \"10\"  \"11\"  \"12\" \n",
       " [13] \"13\"  \"14\"  \"15\"  \"16\"  \"17\"  \"18\"  \"19\"  \"20\"  \"21\"  \"22\"  \"23\"  \"24\" \n",
       " [25] \"25\"  \"26\"  \"27\"  \"28\"  \"29\"  \"30\"  \"31\"  \"32\"  \"33\"  \"34\"  \"35\"  \"36\" \n",
       " [37] \"37\"  \"38\"  \"39\"  \"40\"  \"41\"  \"42\"  \"43\"  \"44\"  \"45\"  \"46\"  \"47\"  \"48\" \n",
       " [49] \"49\"  \"50\"  \"51\"  \"52\"  \"53\"  \"54\"  \"55\"  \"56\"  \"57\"  \"58\"  \"59\"  \"60\" \n",
       " [61] \"61\"  \"62\"  \"63\"  \"64\"  \"65\"  \"66\"  \"67\"  \"68\"  \"69\"  \"70\"  \"71\"  \"72\" \n",
       " [73] \"73\"  \"74\"  \"75\"  \"76\"  \"77\"  \"78\"  \"79\"  \"80\"  \"81\"  \"82\"  \"83\"  \"84\" \n",
       " [85] \"85\"  \"86\"  \"87\"  \"88\"  \"89\"  \"90\"  \"91\"  \"92\"  \"93\"  \"94\"  \"95\"  \"96\" \n",
       " [97] \"97\"  \"98\"  \"99\"  \"100\" \"101\" \"102\" \"103\" \"104\" \"105\" \"106\" \"107\" \"108\"\n",
       "[109] \"109\" \"110\" \"111\" \"112\" \"113\" \"114\" \"115\" \"116\" \"117\" \"118\" \"119\" \"120\"\n",
       "[121] \"121\" \"122\" \"123\" \"124\" \"125\" \"126\" \"127\" \"128\" \"129\" \"130\" \"131\" \"132\"\n",
       "[133] \"133\" \"134\" \"135\" \"136\" \"137\" \"138\" \"139\" \"140\" \"141\" \"142\" \"143\" \"144\"\n",
       "[145] \"145\" \"146\" \"147\" \"148\" \"149\" \"150\""
      ]
     },
     "metadata": {},
     "output_type": "display_data"
    }
   ],
   "source": [
    "rownames(iris)"
   ]
  },
  {
   "cell_type": "code",
   "execution_count": null,
   "metadata": {},
   "outputs": [],
   "source": []
  },
  {
   "cell_type": "markdown",
   "metadata": {},
   "source": [
    "## List\n",
    "- List can hold many types of data including list\n",
    "- Each data that it holds can have different length (unlike dataframe)"
   ]
  },
  {
   "cell_type": "code",
   "execution_count": null,
   "metadata": {},
   "outputs": [],
   "source": []
  },
  {
   "cell_type": "markdown",
   "metadata": {},
   "source": [
    "# Control Structure"
   ]
  },
  {
   "cell_type": "markdown",
   "metadata": {},
   "source": [
    "## if..then..else\n",
    "If else is **not vectorized**. It doesn't support multiple elements input"
   ]
  },
  {
   "cell_type": "code",
   "execution_count": 86,
   "metadata": {},
   "outputs": [
    {
     "name": "stdout",
     "output_type": "stream",
     "text": [
      "[1] \"1\"\n"
     ]
    }
   ],
   "source": [
    "X = 1\n",
    "if (X==1) \n",
    "    print('1')"
   ]
  },
  {
   "cell_type": "markdown",
   "metadata": {},
   "source": [
    "**{  } is necessary** when **else** presence. Otherwise error"
   ]
  },
  {
   "cell_type": "code",
   "execution_count": 345,
   "metadata": {},
   "outputs": [
    {
     "name": "stdout",
     "output_type": "stream",
     "text": [
      "[1] \"1\"\n"
     ]
    }
   ],
   "source": [
    "X = 1\n",
    "if (X ==1) {\n",
    "    print('1')\n",
    "} else {\n",
    "    print('not one')\n",
    "}"
   ]
  },
  {
   "cell_type": "markdown",
   "metadata": {},
   "source": [
    "## Looped ifelse\n",
    "ifelse loop through all elements, and return value for True and False match"
   ]
  },
  {
   "cell_type": "code",
   "execution_count": 111,
   "metadata": {},
   "outputs": [
    {
     "name": "stdout",
     "output_type": "stream",
     "text": [
      "[1] 0 1 2 3 4 5\n",
      "[1] \"Even\" \"Odd\"  \"Even\" \"Odd\"  \"Even\" \"Odd\" \n"
     ]
    }
   ],
   "source": [
    "V = 0:5\n",
    "print( V )\n",
    "print( ifelse(V%%2, \"Odd\", \"Even\")) "
   ]
  },
  {
   "cell_type": "markdown",
   "metadata": {},
   "source": [
    "Since it is **vectorized**, the input can be **passed to function** to calculate return value "
   ]
  },
  {
   "cell_type": "code",
   "execution_count": 1,
   "metadata": {},
   "outputs": [
    {
     "name": "stdout",
     "output_type": "stream",
     "text": [
      "[1] -2 -1  0  1  2  3  4\n"
     ]
    },
    {
     "name": "stderr",
     "output_type": "stream",
     "text": [
      "Warning message in sqrt(V):\n",
      "\"NaNs produced\"Warning message in sqrt(V * -1):\n",
      "\"NaNs produced\""
     ]
    },
    {
     "name": "stdout",
     "output_type": "stream",
     "text": [
      "[1] 1.414214 1.000000 0.000000 1.000000 1.414214 1.732051 2.000000\n"
     ]
    }
   ],
   "source": [
    "V = -2:4\n",
    "print( V )\n",
    "print( ifelse(V>0, sqrt(V), sqrt(V*-1) )) "
   ]
  },
  {
   "cell_type": "markdown",
   "metadata": {},
   "source": [
    "## For Loop"
   ]
  },
  {
   "cell_type": "markdown",
   "metadata": {},
   "source": [
    "Loop through any vector, numeric or character"
   ]
  },
  {
   "cell_type": "markdown",
   "metadata": {},
   "source": [
    "### Loop through Vectors\n",
    "**Number Vector**"
   ]
  },
  {
   "cell_type": "code",
   "execution_count": 346,
   "metadata": {},
   "outputs": [
    {
     "name": "stdout",
     "output_type": "stream",
     "text": [
      "[1] 1\n",
      "[1] 2\n",
      "[1] 3\n",
      "[1] 4\n",
      "[1] 5\n"
     ]
    }
   ],
   "source": [
    "for(i in 1:5)\n",
    "    print(i)"
   ]
  },
  {
   "cell_type": "markdown",
   "metadata": {},
   "source": [
    "**Character Vector**  "
   ]
  },
  {
   "cell_type": "code",
   "execution_count": 347,
   "metadata": {},
   "outputs": [
    {
     "name": "stdout",
     "output_type": "stream",
     "text": [
      "   ali    abu ah kow  sammy  david \n",
      "    10     15     16     18     20 \n"
     ]
    }
   ],
   "source": [
    "## Create the Data vector\n",
    "students = c(10,15,16,18,20)\n",
    "names(students) = c('ali','abu','ah kow','sammy','david')\n",
    "print(students)"
   ]
  },
  {
   "cell_type": "code",
   "execution_count": 348,
   "metadata": {},
   "outputs": [
    {
     "name": "stdout",
     "output_type": "stream",
     "text": [
      "Student name:  ali \tage:  10 \n",
      "Student name:  abu \tage:  15 \n",
      "Student name:  ah kow \tage:  16 \n",
      "Student name:  sammy \tage:  18 \n",
      "Student name:  david \tage:  20 \n"
     ]
    }
   ],
   "source": [
    "## Loop\n",
    "for (i in 1:length(students)) {\n",
    "    cat('Student name: ', names(students)[i], '\\tage: ', students[i],'\\n')\n",
    "}"
   ]
  },
  {
   "cell_type": "markdown",
   "metadata": {},
   "source": [
    "### Break and Next\n",
    "**Next Loop, skip anything remaining**"
   ]
  },
  {
   "cell_type": "code",
   "execution_count": 349,
   "metadata": {},
   "outputs": [
    {
     "name": "stdout",
     "output_type": "stream",
     "text": [
      "[1] 2\n",
      "[1] 4\n",
      "[1] 6\n",
      "[1] 8\n",
      "[1] 10\n"
     ]
    }
   ],
   "source": [
    "for(i in 1:10) {\n",
    "    if (i%%2)  # if even number\n",
    "        next\n",
    "    else\n",
    "        print(i)\n",
    "}"
   ]
  },
  {
   "cell_type": "markdown",
   "metadata": {},
   "source": [
    "**Exit Loop Immediately**"
   ]
  },
  {
   "cell_type": "code",
   "execution_count": 350,
   "metadata": {},
   "outputs": [
    {
     "name": "stdout",
     "output_type": "stream",
     "text": [
      "[1] 1\n",
      "[1] 2\n",
      "[1] 3\n",
      "[1] 4\n",
      "[1] 5\n"
     ]
    }
   ],
   "source": [
    "for(i in 1:10) {\n",
    "    if (i>5)  # stop the loop entirely if i>5\n",
    "        break\n",
    "    else\n",
    "        print(i)\n",
    "}"
   ]
  },
  {
   "cell_type": "markdown",
   "metadata": {},
   "source": [
    "## While Loop"
   ]
  },
  {
   "cell_type": "markdown",
   "metadata": {},
   "source": [
    "### Loop through Number Vector"
   ]
  },
  {
   "cell_type": "code",
   "execution_count": 351,
   "metadata": {},
   "outputs": [
    {
     "name": "stdout",
     "output_type": "stream",
     "text": [
      "[1] 1\n",
      "[1] 2\n",
      "[1] 3\n",
      "[1] 4\n",
      "[1] 5\n"
     ]
    }
   ],
   "source": [
    "i = 1\n",
    "while (i <= 5) {\n",
    "    print(i)\n",
    "    i = i+1\n",
    "}"
   ]
  },
  {
   "cell_type": "markdown",
   "metadata": {},
   "source": [
    "### Loop through Character Vector"
   ]
  },
  {
   "cell_type": "code",
   "execution_count": 352,
   "metadata": {},
   "outputs": [
    {
     "name": "stdout",
     "output_type": "stream",
     "text": [
      "   ali    abu ah kow  sammy  david \n",
      "    10     15     16     18     20 \n"
     ]
    }
   ],
   "source": [
    "students = c(10,15,16,18,20)\n",
    "names(students) = c('ali','abu','ah kow','sammy','david')\n",
    "print(students)"
   ]
  },
  {
   "cell_type": "code",
   "execution_count": 353,
   "metadata": {},
   "outputs": [
    {
     "name": "stdout",
     "output_type": "stream",
     "text": [
      "Student name:  ali \tage:  10 \n",
      "Student name:  abu \tage:  15 \n",
      "Student name:  ah kow \tage:  16 \n",
      "Student name:  sammy \tage:  18 \n",
      "Student name:  david \tage:  20 \n"
     ]
    }
   ],
   "source": [
    "i = 1\n",
    "while (i <= length(students)) {\n",
    "    cat('Student name: ', names(students)[i], '\\tage: ', students[i],'\\n')\n",
    "    i = i+1\n",
    "}"
   ]
  },
  {
   "cell_type": "markdown",
   "metadata": {},
   "source": [
    "### Next and Break"
   ]
  },
  {
   "cell_type": "markdown",
   "metadata": {},
   "source": [
    "**Next will continue to next loop, skip remaining statements**"
   ]
  },
  {
   "cell_type": "code",
   "execution_count": 354,
   "metadata": {},
   "outputs": [
    {
     "name": "stdout",
     "output_type": "stream",
     "text": [
      "[1] 2\n",
      "[1] 4\n",
      "[1] 6\n"
     ]
    }
   ],
   "source": [
    "i = 0\n",
    "while (i <= 5) {\n",
    "    i = i + 1\n",
    "    if ( i%%2 ) ( # if odd number, skip\n",
    "        next\n",
    "    )\n",
    "    print(i)\n",
    "}"
   ]
  },
  {
   "cell_type": "markdown",
   "metadata": {},
   "source": [
    "**Break will entirely exit the loop**"
   ]
  },
  {
   "cell_type": "code",
   "execution_count": 355,
   "metadata": {},
   "outputs": [
    {
     "name": "stdout",
     "output_type": "stream",
     "text": [
      "[1] 1\n",
      "[1] 2\n"
     ]
    }
   ],
   "source": [
    "i = 0\n",
    "while (i <= 5) {\n",
    "    i = i + 1\n",
    "    if ( i==3 ) ( \n",
    "        break\n",
    "    )\n",
    "    print(i)\n",
    "}"
   ]
  },
  {
   "cell_type": "markdown",
   "metadata": {},
   "source": [
    "## Repeat Loop\n",
    "Repeat is a forever loop with no conditional matching  \n",
    "Ensure you program has a if condition to **break**"
   ]
  },
  {
   "cell_type": "code",
   "execution_count": 356,
   "metadata": {},
   "outputs": [
    {
     "name": "stdout",
     "output_type": "stream",
     "text": [
      "[1] 2\n",
      "[1] 4\n",
      "[1] 6\n",
      "[1] 8\n",
      "[1] 10\n"
     ]
    }
   ],
   "source": [
    "i = 0\n",
    "repeat {\n",
    "    i = i + 1\n",
    "    if (i%%2) { # if odd number, skip\n",
    "        next\n",
    "        }\n",
    "    if (i>10) { # if >5, stop\n",
    "        break\n",
    "        }\n",
    "    print(i)\n",
    "}"
   ]
  },
  {
   "cell_type": "markdown",
   "metadata": {},
   "source": [
    "## Apply Family\n",
    "**apply( )** are much faster than for loop"
   ]
  },
  {
   "cell_type": "markdown",
   "metadata": {},
   "source": [
    "#### Loop Through Each Element In Vector (sapply)"
   ]
  },
  {
   "cell_type": "code",
   "execution_count": 36,
   "metadata": {},
   "outputs": [
    {
     "data": {
      "text/html": [
       "<ol class=list-inline>\n",
       "\t<li>2</li>\n",
       "\t<li>2.23606797749979</li>\n",
       "\t<li>2.44948974278318</li>\n",
       "\t<li>2.64575131106459</li>\n",
       "</ol>\n"
      ],
      "text/latex": [
       "\\begin{enumerate*}\n",
       "\\item 2\n",
       "\\item 2.23606797749979\n",
       "\\item 2.44948974278318\n",
       "\\item 2.64575131106459\n",
       "\\end{enumerate*}\n"
      ],
      "text/markdown": [
       "1. 2\n",
       "2. 2.23606797749979\n",
       "3. 2.44948974278318\n",
       "4. 2.64575131106459\n",
       "\n",
       "\n"
      ],
      "text/plain": [
       "[1] 2.000000 2.236068 2.449490 2.645751"
      ]
     },
     "metadata": {},
     "output_type": "display_data"
    }
   ],
   "source": [
    "vc = 1:4\n",
    "sapply( vc, function(x) sqrt((x+3)) ) "
   ]
  },
  {
   "cell_type": "markdown",
   "metadata": {},
   "source": [
    "#### Loop Through Data Frame (apply)\n",
    "**Column Wise**  \n",
    "Use **apply** with **MARGIN=2** for column"
   ]
  },
  {
   "cell_type": "markdown",
   "metadata": {},
   "source": [
    "Return **mean** for each column. Result is a **vector**."
   ]
  },
  {
   "cell_type": "code",
   "execution_count": 2,
   "metadata": {},
   "outputs": [
    {
     "name": "stdout",
     "output_type": "stream",
     "text": [
      "       mpg        cyl       disp         hp       drat         wt       qsec \n",
      " 20.090625   6.187500 230.721875 146.687500   3.596563   3.217250  17.848750 \n",
      "        vs         am       gear       carb \n",
      "  0.437500   0.406250   3.687500   2.812500 \n"
     ]
    }
   ],
   "source": [
    "print( apply( mtcars, MARGIN=2, mean) )"
   ]
  },
  {
   "cell_type": "markdown",
   "metadata": {},
   "source": [
    "**Scale Min-Max** on all elements by Column. Return is a **dataframe**"
   ]
  },
  {
   "cell_type": "code",
   "execution_count": 5,
   "metadata": {},
   "outputs": [
    {
     "data": {
      "text/html": [
       "<table>\n",
       "<thead><tr><th></th><th scope=col>mpg</th><th scope=col>cyl</th><th scope=col>disp</th><th scope=col>hp</th><th scope=col>drat</th><th scope=col>wt</th><th scope=col>qsec</th><th scope=col>vs</th><th scope=col>am</th><th scope=col>gear</th><th scope=col>carb</th></tr></thead>\n",
       "<tbody>\n",
       "\t<tr><th scope=row>Mazda RX4</th><td>0.8936170</td><td>1.5      </td><td>0.3991020</td><td>0.3886926</td><td>1.797235 </td><td>0.6699054</td><td>1.959524 </td><td>0        </td><td>1        </td><td>2.0      </td><td>0.5714286</td></tr>\n",
       "\t<tr><th scope=row>Mazda RX4 Wag</th><td>0.8936170</td><td>1.5      </td><td>0.3991020</td><td>0.3886926</td><td>1.797235 </td><td>0.7351061</td><td>2.026190 </td><td>0        </td><td>1        </td><td>2.0      </td><td>0.5714286</td></tr>\n",
       "\t<tr><th scope=row>Datsun 710</th><td>0.9702128</td><td>1.0      </td><td>0.2693939</td><td>0.3286219</td><td>1.774194 </td><td>0.5931987</td><td>2.215476 </td><td>1        </td><td>1        </td><td>2.0      </td><td>0.1428571</td></tr>\n",
       "\t<tr><th scope=row>Hornet 4 Drive</th><td>0.9106383</td><td>1.5      </td><td>0.6435520</td><td>0.3886926</td><td>1.419355 </td><td>0.8220404</td><td>2.314286 </td><td>1        </td><td>0        </td><td>1.5      </td><td>0.1428571</td></tr>\n",
       "\t<tr><th scope=row>Hornet Sportabout</th><td>0.7957447</td><td>2.0      </td><td>0.8979795</td><td>0.6183746</td><td>1.451613 </td><td>0.8795704</td><td>2.026190 </td><td>0        </td><td>0        </td><td>1.5      </td><td>0.2857143</td></tr>\n",
       "\t<tr><th scope=row>Valiant</th><td>0.7702128</td><td>1.5      </td><td>0.5612372</td><td>0.3710247</td><td>1.271889 </td><td>0.8846842</td><td>2.407143 </td><td>1        </td><td>0        </td><td>1.5      </td><td>0.1428571</td></tr>\n",
       "</tbody>\n",
       "</table>\n"
      ],
      "text/latex": [
       "\\begin{tabular}{r|lllllllllll}\n",
       "  & mpg & cyl & disp & hp & drat & wt & qsec & vs & am & gear & carb\\\\\n",
       "\\hline\n",
       "\tMazda RX4 & 0.8936170 & 1.5       & 0.3991020 & 0.3886926 & 1.797235  & 0.6699054 & 1.959524  & 0         & 1         & 2.0       & 0.5714286\\\\\n",
       "\tMazda RX4 Wag & 0.8936170 & 1.5       & 0.3991020 & 0.3886926 & 1.797235  & 0.7351061 & 2.026190  & 0         & 1         & 2.0       & 0.5714286\\\\\n",
       "\tDatsun 710 & 0.9702128 & 1.0       & 0.2693939 & 0.3286219 & 1.774194  & 0.5931987 & 2.215476  & 1         & 1         & 2.0       & 0.1428571\\\\\n",
       "\tHornet 4 Drive & 0.9106383 & 1.5       & 0.6435520 & 0.3886926 & 1.419355  & 0.8220404 & 2.314286  & 1         & 0         & 1.5       & 0.1428571\\\\\n",
       "\tHornet Sportabout & 0.7957447 & 2.0       & 0.8979795 & 0.6183746 & 1.451613  & 0.8795704 & 2.026190  & 0         & 0         & 1.5       & 0.2857143\\\\\n",
       "\tValiant & 0.7702128 & 1.5       & 0.5612372 & 0.3710247 & 1.271889  & 0.8846842 & 2.407143  & 1         & 0         & 1.5       & 0.1428571\\\\\n",
       "\\end{tabular}\n"
      ],
      "text/markdown": [
       "\n",
       "| <!--/--> | mpg | cyl | disp | hp | drat | wt | qsec | vs | am | gear | carb | \n",
       "|---|---|---|---|---|---|\n",
       "| Mazda RX4 | 0.8936170 | 1.5       | 0.3991020 | 0.3886926 | 1.797235  | 0.6699054 | 1.959524  | 0         | 1         | 2.0       | 0.5714286 | \n",
       "| Mazda RX4 Wag | 0.8936170 | 1.5       | 0.3991020 | 0.3886926 | 1.797235  | 0.7351061 | 2.026190  | 0         | 1         | 2.0       | 0.5714286 | \n",
       "| Datsun 710 | 0.9702128 | 1.0       | 0.2693939 | 0.3286219 | 1.774194  | 0.5931987 | 2.215476  | 1         | 1         | 2.0       | 0.1428571 | \n",
       "| Hornet 4 Drive | 0.9106383 | 1.5       | 0.6435520 | 0.3886926 | 1.419355  | 0.8220404 | 2.314286  | 1         | 0         | 1.5       | 0.1428571 | \n",
       "| Hornet Sportabout | 0.7957447 | 2.0       | 0.8979795 | 0.6183746 | 1.451613  | 0.8795704 | 2.026190  | 0         | 0         | 1.5       | 0.2857143 | \n",
       "| Valiant | 0.7702128 | 1.5       | 0.5612372 | 0.3710247 | 1.271889  | 0.8846842 | 2.407143  | 1         | 0         | 1.5       | 0.1428571 | \n",
       "\n",
       "\n"
      ],
      "text/plain": [
       "                  mpg       cyl disp      hp        drat     wt        qsec    \n",
       "Mazda RX4         0.8936170 1.5 0.3991020 0.3886926 1.797235 0.6699054 1.959524\n",
       "Mazda RX4 Wag     0.8936170 1.5 0.3991020 0.3886926 1.797235 0.7351061 2.026190\n",
       "Datsun 710        0.9702128 1.0 0.2693939 0.3286219 1.774194 0.5931987 2.215476\n",
       "Hornet 4 Drive    0.9106383 1.5 0.6435520 0.3886926 1.419355 0.8220404 2.314286\n",
       "Hornet Sportabout 0.7957447 2.0 0.8979795 0.6183746 1.451613 0.8795704 2.026190\n",
       "Valiant           0.7702128 1.5 0.5612372 0.3710247 1.271889 0.8846842 2.407143\n",
       "                  vs am gear carb     \n",
       "Mazda RX4         0  1  2.0  0.5714286\n",
       "Mazda RX4 Wag     0  1  2.0  0.5714286\n",
       "Datsun 710        1  1  2.0  0.1428571\n",
       "Hornet 4 Drive    1  0  1.5  0.1428571\n",
       "Hornet Sportabout 0  0  1.5  0.2857143\n",
       "Valiant           1  0  1.5  0.1428571"
      ]
     },
     "metadata": {},
     "output_type": "display_data"
    }
   ],
   "source": [
    "apply( mtcars, MARGIN=2,\n",
    "      function(x) { x/(max(x)-min(x))}\n",
    ") %>% head"
   ]
  },
  {
   "cell_type": "markdown",
   "metadata": {},
   "source": [
    "**Row Wise**  \n",
    "Use **apply** with **MARGIN=1** for column"
   ]
  },
  {
   "cell_type": "code",
   "execution_count": 34,
   "metadata": {},
   "outputs": [
    {
     "name": "stdout",
     "output_type": "stream",
     "text": [
      "       mpg        cyl       disp         hp       drat         wt       qsec \n",
      " 20.090625   6.187500 230.721875 146.687500   3.596563   3.217250  17.848750 \n",
      "        vs         am       gear       carb \n",
      "  0.437500   0.406250   3.687500   2.812500 \n",
      "          Mazda RX4       Mazda RX4 Wag          Datsun 710      Hornet 4 Drive \n",
      "           29.90727            29.98136            23.59818            38.73955 \n",
      "  Hornet Sportabout             Valiant          Duster 360           Merc 240D \n",
      "           53.66455            35.04909            59.72000            24.63455 \n",
      "           Merc 230            Merc 280           Merc 280C          Merc 450SE \n",
      "           27.23364            31.86000            31.78727            46.43091 \n",
      "         Merc 450SL         Merc 450SLC  Cadillac Fleetwood Lincoln Continental \n",
      "           46.50000            46.35000            66.23273            66.05855 \n",
      "  Chrysler Imperial            Fiat 128         Honda Civic      Toyota Corolla \n",
      "           65.97227            19.44091            17.74227            18.81409 \n",
      "      Toyota Corona    Dodge Challenger         AMC Javelin          Camaro Z28 \n",
      "           24.88864            47.24091            46.00773            58.75273 \n",
      "   Pontiac Firebird           Fiat X1-9       Porsche 914-2        Lotus Europa \n",
      "           57.37955            18.92864            24.77909            24.88027 \n",
      "     Ford Pantera L        Ferrari Dino       Maserati Bora          Volvo 142E \n",
      "           60.97182            34.50818            63.15545            26.26273 \n"
     ]
    }
   ],
   "source": [
    "print( apply( mtcars, MARGIN=1, mean) )"
   ]
  },
  {
   "cell_type": "markdown",
   "metadata": {},
   "source": [
    "#### Loop Through Data Frame Groups\n",
    "Example below group each category of cyl, and calculate mean for each group."
   ]
  },
  {
   "cell_type": "code",
   "execution_count": 47,
   "metadata": {},
   "outputs": [
    {
     "name": "stdout",
     "output_type": "stream",
     "text": [
      "       4        6        8 \n",
      "26.66364 19.74286 15.10000 \n"
     ]
    }
   ],
   "source": [
    "print( tapply(mtcars$mpg,mtcars$cyl, mean, na.rm=T) )"
   ]
  },
  {
   "cell_type": "markdown",
   "metadata": {},
   "source": [
    "# Data Generation"
   ]
  },
  {
   "cell_type": "markdown",
   "metadata": {},
   "source": [
    "## Numbers"
   ]
  },
  {
   "cell_type": "markdown",
   "metadata": {},
   "source": [
    "### Sequantial Number\n",
    "#### Incremental \n",
    "**Incremental by 1 Step**"
   ]
  },
  {
   "cell_type": "code",
   "execution_count": 357,
   "metadata": {},
   "outputs": [
    {
     "name": "stdout",
     "output_type": "stream",
     "text": [
      " [1]  3  4  5  6  7  8  9 10 11 12\n",
      " [1]  3  4  5  6  7  8  9 10 11 12\n"
     ]
    }
   ],
   "source": [
    "print( 3:12)\n",
    "print( seq (3, 12) )        # integer increment, default by=1"
   ]
  },
  {
   "cell_type": "code",
   "execution_count": 358,
   "metadata": {},
   "outputs": [
    {
     "name": "stdout",
     "output_type": "stream",
     "text": [
      " [1]  3.3  4.3  5.3  6.3  7.3  8.3  9.3 10.3 11.3 12.3\n",
      " [1]  3.3  4.3  5.3  6.3  7.3  8.3  9.3 10.3 11.3 12.3\n"
     ]
    }
   ],
   "source": [
    "print( 3.3:12.5 )\n",
    "print( seq (3.3, 12.5) )    # double increment, default by 1"
   ]
  },
  {
   "cell_type": "markdown",
   "metadata": {},
   "source": [
    "**Incrementaal by x Step**"
   ]
  },
  {
   "cell_type": "code",
   "execution_count": 359,
   "metadata": {},
   "outputs": [
    {
     "name": "stdout",
     "output_type": "stream",
     "text": [
      "[1]  3  7 11\n",
      "[1]  3.25  5.50  7.75 10.00 12.25\n"
     ]
    }
   ],
   "source": [
    "print( seq (3, 12, by = 4) )           # increment of integer\n",
    "print( seq (3.25, 12.50, by = 2.25))   # increment of decimal "
   ]
  },
  {
   "cell_type": "code",
   "execution_count": 360,
   "metadata": {},
   "outputs": [
    {
     "data": {
      "text/html": [
       "<ol class=list-inline>\n",
       "\t<li>3</li>\n",
       "\t<li>5.8</li>\n",
       "\t<li>8.6</li>\n",
       "\t<li>11.4</li>\n",
       "\t<li>14.2</li>\n",
       "\t<li>17</li>\n",
       "</ol>\n"
      ],
      "text/latex": [
       "\\begin{enumerate*}\n",
       "\\item 3\n",
       "\\item 5.8\n",
       "\\item 8.6\n",
       "\\item 11.4\n",
       "\\item 14.2\n",
       "\\item 17\n",
       "\\end{enumerate*}\n"
      ],
      "text/markdown": [
       "1. 3\n",
       "2. 5.8\n",
       "3. 8.6\n",
       "4. 11.4\n",
       "5. 14.2\n",
       "6. 17\n",
       "\n",
       "\n"
      ],
      "text/plain": [
       "[1]  3.0  5.8  8.6 11.4 14.2 17.0"
      ]
     },
     "metadata": {},
     "output_type": "display_data"
    }
   ],
   "source": [
    "seq(3, 17, length.out=6)   # "
   ]
  },
  {
   "cell_type": "markdown",
   "metadata": {},
   "source": [
    "**Incremental by Equal Spreading**"
   ]
  },
  {
   "cell_type": "code",
   "execution_count": 361,
   "metadata": {},
   "outputs": [
    {
     "data": {
      "text/html": [
       "<ol class=list-inline>\n",
       "\t<li>15</li>\n",
       "\t<li>12.6</li>\n",
       "\t<li>10.2</li>\n",
       "\t<li>7.8</li>\n",
       "\t<li>5.4</li>\n",
       "\t<li>3</li>\n",
       "</ol>\n"
      ],
      "text/latex": [
       "\\begin{enumerate*}\n",
       "\\item 15\n",
       "\\item 12.6\n",
       "\\item 10.2\n",
       "\\item 7.8\n",
       "\\item 5.4\n",
       "\\item 3\n",
       "\\end{enumerate*}\n"
      ],
      "text/markdown": [
       "1. 15\n",
       "2. 12.6\n",
       "3. 10.2\n",
       "4. 7.8\n",
       "5. 5.4\n",
       "6. 3\n",
       "\n",
       "\n"
      ],
      "text/plain": [
       "[1] 15.0 12.6 10.2  7.8  5.4  3.0"
      ]
     },
     "metadata": {},
     "output_type": "display_data"
    }
   ],
   "source": [
    "seq(15,3, length.out=6)"
   ]
  },
  {
   "cell_type": "markdown",
   "metadata": {},
   "source": [
    "#### Decremental"
   ]
  },
  {
   "cell_type": "markdown",
   "metadata": {},
   "source": [
    "**Decrement by 1 Step**"
   ]
  },
  {
   "cell_type": "code",
   "execution_count": 362,
   "metadata": {},
   "outputs": [
    {
     "name": "stdout",
     "output_type": "stream",
     "text": [
      " [1] 12 11 10  9  8  7  6  5  4  3\n",
      " [1] 12 11 10  9  8  7  6  5  4  3\n"
     ]
    }
   ],
   "source": [
    "print( 12:3 )   \n",
    "print( seq(12,3)  )            # default by -1"
   ]
  },
  {
   "cell_type": "markdown",
   "metadata": {},
   "source": [
    "**Decrement by X Step**"
   ]
  },
  {
   "cell_type": "code",
   "execution_count": 363,
   "metadata": {},
   "outputs": [
    {
     "name": "stdout",
     "output_type": "stream",
     "text": [
      "[1] 12  9  6  3\n",
      "[1] 12.50 11.25 10.00  8.75  7.50  6.25  5.00  3.75\n"
     ]
    }
   ],
   "source": [
    "print( seq(12,3, by = -3)  )               # integer\n",
    "print( seq(12.50, 3.25, by = -1.25)  )     # double"
   ]
  },
  {
   "cell_type": "markdown",
   "metadata": {},
   "source": [
    "**Decrement by Equal Spreading**"
   ]
  },
  {
   "cell_type": "code",
   "execution_count": 364,
   "metadata": {},
   "outputs": [
    {
     "name": "stdout",
     "output_type": "stream",
     "text": [
      "[1] 12.50 10.65  8.80  6.95  5.10  3.25\n"
     ]
    }
   ],
   "source": [
    "print( seq(12.50, 3.25, length.out=6) )    # double"
   ]
  },
  {
   "cell_type": "markdown",
   "metadata": {},
   "source": [
    "## Random Numbers"
   ]
  },
  {
   "cell_type": "markdown",
   "metadata": {},
   "source": [
    "### Normal Distribution"
   ]
  },
  {
   "cell_type": "code",
   "execution_count": 365,
   "metadata": {},
   "outputs": [
    {
     "name": "stdout",
     "output_type": "stream",
     "text": [
      "[1] 0.1049548 3.7030897 2.0202811 2.7174325 1.0161213 3.6844053 5.3640338\n",
      "[8] 1.9024036\n"
     ]
    }
   ],
   "source": [
    "print( rnorm(8, mean=3,sd=1.25) )"
   ]
  },
  {
   "cell_type": "markdown",
   "metadata": {},
   "source": [
    "### Unified Distribution"
   ]
  },
  {
   "cell_type": "code",
   "execution_count": 366,
   "metadata": {},
   "outputs": [
    {
     "name": "stdout",
     "output_type": "stream",
     "text": [
      "[1] 6.186331 4.427298 9.820346 3.695859 8.773605 3.707184 9.804908 3.037540\n"
     ]
    }
   ],
   "source": [
    "print (runif(8,min = 3, max=10))"
   ]
  },
  {
   "cell_type": "markdown",
   "metadata": {},
   "source": [
    "## Factor"
   ]
  },
  {
   "cell_type": "markdown",
   "metadata": {},
   "source": [
    "### Random Non Ordered Factor"
   ]
  },
  {
   "cell_type": "code",
   "execution_count": 367,
   "metadata": {},
   "outputs": [
    {
     "name": "stdout",
     "output_type": "stream",
     "text": [
      " [1] Aaa Aaa Aaa Bbb Bbb Bbb Aaa Aaa Aaa Bbb Bbb Bbb\n",
      "Levels: Aaa Bbb Ccc Ddd\n"
     ]
    }
   ],
   "source": [
    "rf2 = gl(n=2, k=3, length = 12, c('Aaa','Bbb','Ccc','Ddd'))\n",
    "print( rf2 )\n"
   ]
  },
  {
   "cell_type": "markdown",
   "metadata": {},
   "source": [
    "### Random Ordered Factor"
   ]
  },
  {
   "cell_type": "code",
   "execution_count": 368,
   "metadata": {},
   "outputs": [
    {
     "name": "stdout",
     "output_type": "stream",
     "text": [
      "[1] Aaa Aaa Aaa Aaa Aaa Bbb Bbb Bbb Bbb\n",
      "Levels: Aaa < Bbb < Ccc\n"
     ]
    }
   ],
   "source": [
    "rf1 = gl( 3, 5, 9, c('Aaa','Bbb','Ccc'), ordered=TRUE )\n",
    "print( rf1 )"
   ]
  },
  {
   "cell_type": "code",
   "execution_count": null,
   "metadata": {},
   "outputs": [],
   "source": []
  },
  {
   "cell_type": "markdown",
   "metadata": {},
   "source": [
    "## Sampling"
   ]
  },
  {
   "cell_type": "markdown",
   "metadata": {},
   "source": [
    "### Without Replacement"
   ]
  },
  {
   "cell_type": "markdown",
   "metadata": {},
   "source": [
    "Sample size MUST not be larger than population**"
   ]
  },
  {
   "cell_type": "code",
   "execution_count": 369,
   "metadata": {},
   "outputs": [
    {
     "name": "stdout",
     "output_type": "stream",
     "text": [
      "[1] 4 7 3 2 5\n"
     ]
    }
   ],
   "source": [
    "X = c(1,2,3,4,5,6,7,8)\n",
    "print( sample(X, size = 5) )"
   ]
  },
  {
   "cell_type": "markdown",
   "metadata": {},
   "source": [
    "### Sampling With Replacement"
   ]
  },
  {
   "cell_type": "code",
   "execution_count": 370,
   "metadata": {},
   "outputs": [
    {
     "name": "stdout",
     "output_type": "stream",
     "text": [
      "[1] 8 8 1 1 5 5 7 4\n"
     ]
    }
   ],
   "source": [
    "print( sample(X,size = 8, replace=TRUE) )"
   ]
  },
  {
   "cell_type": "markdown",
   "metadata": {},
   "source": [
    "# Statistics"
   ]
  },
  {
   "cell_type": "markdown",
   "metadata": {},
   "source": [
    "## Summary Stats\n",
    "### Sample Data"
   ]
  },
  {
   "cell_type": "code",
   "execution_count": 372,
   "metadata": {},
   "outputs": [],
   "source": [
    "set.seed(1234)\n",
    "my.df = data.frame(\n",
    "  com  = paste('C',sample(1:3, 50, replace = T),sep=''),\n",
    "  dept = paste('D',sample(1:5, 50, replace = T),sep=''),\n",
    "  x1 = rnorm(1:100, mean = 50, sd = 5),\n",
    "  x2 = rnorm(1:100, mean = 20, sd = 3),\n",
    "  x3 = rnorm(1:100, mean =  5, sd = 1),\n",
    "  stringsAsFactors = F\n",
    ")"
   ]
  },
  {
   "cell_type": "code",
   "execution_count": 373,
   "metadata": {},
   "outputs": [
    {
     "name": "stdout",
     "output_type": "stream",
     "text": [
      "  com dept       x1       x2       x3\n",
      "1  C1   D1 40.96984 18.86829 5.436931\n",
      "2  C2   D2 47.08962 20.29286 6.060124\n",
      "3  C2   D4 44.45555 24.91623 5.452190\n",
      "4  C2   D3 44.92519 17.37322 5.663199\n",
      "5  C3   D1 49.18845 20.36528 3.863626\n",
      "6  C2   D3 52.81528 24.08639 4.629502\n"
     ]
    }
   ],
   "source": [
    "print( head(my.df) )"
   ]
  },
  {
   "cell_type": "code",
   "execution_count": 374,
   "metadata": {},
   "outputs": [
    {
     "name": "stdout",
     "output_type": "stream",
     "text": [
      "'data.frame':\t100 obs. of  5 variables:\n",
      " $ com : chr  \"C1\" \"C2\" \"C2\" \"C2\" ...\n",
      " $ dept: chr  \"D1\" \"D2\" \"D4\" \"D3\" ...\n",
      " $ x1  : num  41 47.1 44.5 44.9 49.2 ...\n",
      " $ x2  : num  18.9 20.3 24.9 17.4 20.4 ...\n",
      " $ x3  : num  5.44 6.06 5.45 5.66 3.86 ...\n"
     ]
    }
   ],
   "source": [
    "str(my.df)"
   ]
  },
  {
   "cell_type": "markdown",
   "metadata": {},
   "source": [
    "### Mean"
   ]
  },
  {
   "cell_type": "markdown",
   "metadata": {},
   "source": [
    "#### Singlve Vector Mean\n",
    "Input **MUST be numeric vector**, otherwise error"
   ]
  },
  {
   "cell_type": "code",
   "execution_count": 375,
   "metadata": {},
   "outputs": [
    {
     "name": "stdout",
     "output_type": "stream",
     "text": [
      "[1] 50.39877\n"
     ]
    }
   ],
   "source": [
    "print( mean( my.df$x1, na.rm=T) )"
   ]
  },
  {
   "cell_type": "markdown",
   "metadata": {},
   "source": [
    "#### Columns Means\n",
    "Input **MUST be matrix or numeric dataframe**, otherwise error"
   ]
  },
  {
   "cell_type": "code",
   "execution_count": 376,
   "metadata": {},
   "outputs": [
    {
     "name": "stdout",
     "output_type": "stream",
     "text": [
      "      x1       x2       x3 \n",
      "50.39877 20.40973  5.05275 \n"
     ]
    }
   ],
   "source": [
    "print( colMeans(my.df[,c('x1','x2','x3')]) )"
   ]
  },
  {
   "cell_type": "markdown",
   "metadata": {},
   "source": [
    "###  Summation\n",
    "#### Single Vector Sum\n",
    "Supply matrix or multiple columns of numeric data will sum all accross all columns"
   ]
  },
  {
   "cell_type": "code",
   "execution_count": 377,
   "metadata": {},
   "outputs": [
    {
     "data": {
      "text/html": [
       "7586.12454988088"
      ],
      "text/latex": [
       "7586.12454988088"
      ],
      "text/markdown": [
       "7586.12454988088"
      ],
      "text/plain": [
       "[1] 7586.125"
      ]
     },
     "metadata": {},
     "output_type": "display_data"
    }
   ],
   "source": [
    "sum(my.df[,c('x1','x2','x3')])"
   ]
  },
  {
   "cell_type": "markdown",
   "metadata": {},
   "source": [
    "#### Columns Sum"
   ]
  },
  {
   "cell_type": "code",
   "execution_count": 378,
   "metadata": {},
   "outputs": [
    {
     "name": "stdout",
     "output_type": "stream",
     "text": [
      "      x1       x2       x3 \n",
      "5039.877 2040.973  505.275 \n"
     ]
    }
   ],
   "source": [
    "print( colSums(my.df[,c('x1','x2','x3')], na.rm=T) )"
   ]
  },
  {
   "cell_type": "markdown",
   "metadata": {},
   "source": [
    "## Frequency Table"
   ]
  },
  {
   "cell_type": "markdown",
   "metadata": {},
   "source": [
    "### One Dimension"
   ]
  },
  {
   "cell_type": "markdown",
   "metadata": {},
   "source": [
    "#### table"
   ]
  },
  {
   "cell_type": "code",
   "execution_count": 379,
   "metadata": {},
   "outputs": [
    {
     "name": "stdout",
     "output_type": "stream",
     "text": [
      "\n",
      "C1 C2 C3 \n",
      "46 30 24 \n"
     ]
    }
   ],
   "source": [
    "t1 = table(my.df$com)\n",
    "print( t1 )"
   ]
  },
  {
   "cell_type": "code",
   "execution_count": 380,
   "metadata": {},
   "outputs": [
    {
     "name": "stdout",
     "output_type": "stream",
     "text": [
      "[1] \"table\"\n",
      "[1] \"integer\"\n"
     ]
    }
   ],
   "source": [
    "print( class(t1)  )\n",
    "print( typeof(t1) )"
   ]
  },
  {
   "cell_type": "markdown",
   "metadata": {},
   "source": [
    "#### tidyverse"
   ]
  },
  {
   "cell_type": "code",
   "execution_count": 381,
   "metadata": {},
   "outputs": [
    {
     "data": {
      "text/html": [
       "<table>\n",
       "<thead><tr><th scope=col>com</th><th scope=col>n</th></tr></thead>\n",
       "<tbody>\n",
       "\t<tr><td>C1</td><td>46</td></tr>\n",
       "\t<tr><td>C2</td><td>30</td></tr>\n",
       "\t<tr><td>C3</td><td>24</td></tr>\n",
       "</tbody>\n",
       "</table>\n"
      ],
      "text/latex": [
       "\\begin{tabular}{r|ll}\n",
       " com & n\\\\\n",
       "\\hline\n",
       "\t C1 & 46\\\\\n",
       "\t C2 & 30\\\\\n",
       "\t C3 & 24\\\\\n",
       "\\end{tabular}\n"
      ],
      "text/markdown": [
       "\n",
       "com | n | \n",
       "|---|---|---|\n",
       "| C1 | 46 | \n",
       "| C2 | 30 | \n",
       "| C3 | 24 | \n",
       "\n",
       "\n"
      ],
      "text/plain": [
       "  com n \n",
       "1 C1  46\n",
       "2 C2  30\n",
       "3 C3  24"
      ]
     },
     "metadata": {},
     "output_type": "display_data"
    }
   ],
   "source": [
    "my.df %>% count(com)"
   ]
  },
  {
   "cell_type": "markdown",
   "metadata": {},
   "source": [
    "**count( )** is shorthand for below"
   ]
  },
  {
   "cell_type": "code",
   "execution_count": 382,
   "metadata": {},
   "outputs": [
    {
     "data": {
      "text/html": [
       "<table>\n",
       "<thead><tr><th scope=col>com</th><th scope=col>n</th></tr></thead>\n",
       "<tbody>\n",
       "\t<tr><td>C1</td><td>46</td></tr>\n",
       "\t<tr><td>C2</td><td>30</td></tr>\n",
       "\t<tr><td>C3</td><td>24</td></tr>\n",
       "</tbody>\n",
       "</table>\n"
      ],
      "text/latex": [
       "\\begin{tabular}{r|ll}\n",
       " com & n\\\\\n",
       "\\hline\n",
       "\t C1 & 46\\\\\n",
       "\t C2 & 30\\\\\n",
       "\t C3 & 24\\\\\n",
       "\\end{tabular}\n"
      ],
      "text/markdown": [
       "\n",
       "com | n | \n",
       "|---|---|---|\n",
       "| C1 | 46 | \n",
       "| C2 | 30 | \n",
       "| C3 | 24 | \n",
       "\n",
       "\n"
      ],
      "text/plain": [
       "  com n \n",
       "1 C1  46\n",
       "2 C2  30\n",
       "3 C3  24"
      ]
     },
     "metadata": {},
     "output_type": "display_data"
    }
   ],
   "source": [
    "my.df %>% group_by(com) %>% \n",
    "   summarize(n = n())"
   ]
  },
  {
   "cell_type": "markdown",
   "metadata": {},
   "source": [
    "### Two Dimension\n",
    "#### table"
   ]
  },
  {
   "cell_type": "code",
   "execution_count": 383,
   "metadata": {},
   "outputs": [
    {
     "data": {
      "text/plain": [
       "    \n",
       "     D1 D2 D3 D4 D5\n",
       "  C1 18 12  8  6  2\n",
       "  C2 10  4  8  2  6\n",
       "  C3  8  4  2  4  6"
      ]
     },
     "metadata": {},
     "output_type": "display_data"
    }
   ],
   "source": [
    "table(my.df$com, my.df$dep)"
   ]
  },
  {
   "cell_type": "markdown",
   "metadata": {},
   "source": [
    "#### tidyverse"
   ]
  },
  {
   "cell_type": "code",
   "execution_count": 384,
   "metadata": {},
   "outputs": [
    {
     "data": {
      "text/html": [
       "<table>\n",
       "<thead><tr><th scope=col>com</th><th scope=col>D1</th><th scope=col>D2</th><th scope=col>D3</th><th scope=col>D4</th><th scope=col>D5</th></tr></thead>\n",
       "<tbody>\n",
       "\t<tr><td>C1</td><td>18</td><td>12</td><td>8 </td><td>6 </td><td>2 </td></tr>\n",
       "\t<tr><td>C2</td><td>10</td><td> 4</td><td>8 </td><td>2 </td><td>6 </td></tr>\n",
       "\t<tr><td>C3</td><td> 8</td><td> 4</td><td>2 </td><td>4 </td><td>6 </td></tr>\n",
       "</tbody>\n",
       "</table>\n"
      ],
      "text/latex": [
       "\\begin{tabular}{r|llllll}\n",
       " com & D1 & D2 & D3 & D4 & D5\\\\\n",
       "\\hline\n",
       "\t C1 & 18 & 12 & 8  & 6  & 2 \\\\\n",
       "\t C2 & 10 &  4 & 8  & 2  & 6 \\\\\n",
       "\t C3 &  8 &  4 & 2  & 4  & 6 \\\\\n",
       "\\end{tabular}\n"
      ],
      "text/markdown": [
       "\n",
       "com | D1 | D2 | D3 | D4 | D5 | \n",
       "|---|---|---|\n",
       "| C1 | 18 | 12 | 8  | 6  | 2  | \n",
       "| C2 | 10 |  4 | 8  | 2  | 6  | \n",
       "| C3 |  8 |  4 | 2  | 4  | 6  | \n",
       "\n",
       "\n"
      ],
      "text/plain": [
       "  com D1 D2 D3 D4 D5\n",
       "1 C1  18 12 8  6  2 \n",
       "2 C2  10  4 8  2  6 \n",
       "3 C3   8  4 2  4  6 "
      ]
     },
     "metadata": {},
     "output_type": "display_data"
    }
   ],
   "source": [
    "my.df %>% count(com,dept) %>%\n",
    "   spread(key=dept, value=n)"
   ]
  },
  {
   "cell_type": "markdown",
   "metadata": {},
   "source": [
    "## Proportion Table\n",
    "### One Dimension\n",
    "#### prop.table"
   ]
  },
  {
   "cell_type": "code",
   "execution_count": 385,
   "metadata": {},
   "outputs": [
    {
     "data": {
      "text/plain": [
       "\n",
       "  C1   C2   C3 \n",
       "0.46 0.30 0.24 "
      ]
     },
     "metadata": {},
     "output_type": "display_data"
    }
   ],
   "source": [
    "t1 = table(my.df$com)\n",
    "prop.table( t1 )"
   ]
  },
  {
   "cell_type": "markdown",
   "metadata": {},
   "source": [
    "#### tidyverse"
   ]
  },
  {
   "cell_type": "code",
   "execution_count": 386,
   "metadata": {},
   "outputs": [
    {
     "data": {
      "text/html": [
       "<table>\n",
       "<thead><tr><th scope=col>com</th><th scope=col>n</th><th scope=col>pct</th></tr></thead>\n",
       "<tbody>\n",
       "\t<tr><td>C1  </td><td>46  </td><td>0.46</td></tr>\n",
       "\t<tr><td>C2  </td><td>30  </td><td>0.30</td></tr>\n",
       "\t<tr><td>C3  </td><td>24  </td><td>0.24</td></tr>\n",
       "</tbody>\n",
       "</table>\n"
      ],
      "text/latex": [
       "\\begin{tabular}{r|lll}\n",
       " com & n & pct\\\\\n",
       "\\hline\n",
       "\t C1   & 46   & 0.46\\\\\n",
       "\t C2   & 30   & 0.30\\\\\n",
       "\t C3   & 24   & 0.24\\\\\n",
       "\\end{tabular}\n"
      ],
      "text/markdown": [
       "\n",
       "com | n | pct | \n",
       "|---|---|---|\n",
       "| C1   | 46   | 0.46 | \n",
       "| C2   | 30   | 0.30 | \n",
       "| C3   | 24   | 0.24 | \n",
       "\n",
       "\n"
      ],
      "text/plain": [
       "  com n  pct \n",
       "1 C1  46 0.46\n",
       "2 C2  30 0.30\n",
       "3 C3  24 0.24"
      ]
     },
     "metadata": {},
     "output_type": "display_data"
    }
   ],
   "source": [
    "my.df %>% count(com) %>%\n",
    "  mutate(pct=n/sum(n))"
   ]
  },
  {
   "cell_type": "markdown",
   "metadata": {},
   "source": [
    "### Two Dimension"
   ]
  },
  {
   "cell_type": "markdown",
   "metadata": {},
   "source": [
    "#### prop.table\n",
    "Table-wise proportion"
   ]
  },
  {
   "cell_type": "code",
   "execution_count": 387,
   "metadata": {},
   "outputs": [
    {
     "data": {
      "text/plain": [
       "    \n",
       "       D1   D2   D3   D4   D5\n",
       "  C1 0.18 0.12 0.08 0.06 0.02\n",
       "  C2 0.10 0.04 0.08 0.02 0.06\n",
       "  C3 0.08 0.04 0.02 0.04 0.06"
      ]
     },
     "metadata": {},
     "output_type": "display_data"
    }
   ],
   "source": [
    "t2 = table(my.df$com, my.df$dep)\n",
    "prop.table(t2)"
   ]
  },
  {
   "cell_type": "markdown",
   "metadata": {},
   "source": [
    "**Row-wise proportion (margin=1)**"
   ]
  },
  {
   "cell_type": "code",
   "execution_count": 388,
   "metadata": {},
   "outputs": [
    {
     "data": {
      "text/plain": [
       "    \n",
       "             D1         D2         D3         D4         D5\n",
       "  C1 0.39130435 0.26086957 0.17391304 0.13043478 0.04347826\n",
       "  C2 0.33333333 0.13333333 0.26666667 0.06666667 0.20000000\n",
       "  C3 0.33333333 0.16666667 0.08333333 0.16666667 0.25000000"
      ]
     },
     "metadata": {},
     "output_type": "display_data"
    }
   ],
   "source": [
    "t2 = table(my.df$com, my.df$dep)\n",
    "prop.table(t2,margin = 1)"
   ]
  },
  {
   "cell_type": "markdown",
   "metadata": {},
   "source": [
    "**Column-wise proportion (margin=2)**"
   ]
  },
  {
   "cell_type": "code",
   "execution_count": 389,
   "metadata": {},
   "outputs": [
    {
     "data": {
      "text/plain": [
       "    \n",
       "            D1        D2        D3        D4        D5\n",
       "  C1 0.5000000 0.6000000 0.4444444 0.5000000 0.1428571\n",
       "  C2 0.2777778 0.2000000 0.4444444 0.1666667 0.4285714\n",
       "  C3 0.2222222 0.2000000 0.1111111 0.3333333 0.4285714"
      ]
     },
     "metadata": {},
     "output_type": "display_data"
    }
   ],
   "source": [
    "t2 = table(my.df$com, my.df$dep)\n",
    "prop.table(t2,margin = 2)"
   ]
  },
  {
   "cell_type": "markdown",
   "metadata": {},
   "source": [
    "#### tidyverse\n",
    "**Table-Wise Proportion**"
   ]
  },
  {
   "cell_type": "code",
   "execution_count": 390,
   "metadata": {},
   "outputs": [
    {
     "data": {
      "text/html": [
       "<table>\n",
       "<thead><tr><th scope=col>com</th><th scope=col>D1</th><th scope=col>D2</th><th scope=col>D3</th><th scope=col>D4</th><th scope=col>D5</th></tr></thead>\n",
       "<tbody>\n",
       "\t<tr><td>C1  </td><td>0.18</td><td>0.12</td><td>0.08</td><td>0.06</td><td>0.02</td></tr>\n",
       "\t<tr><td>C2  </td><td>0.10</td><td>0.04</td><td>0.08</td><td>0.02</td><td>0.06</td></tr>\n",
       "\t<tr><td>C3  </td><td>0.08</td><td>0.04</td><td>0.02</td><td>0.04</td><td>0.06</td></tr>\n",
       "</tbody>\n",
       "</table>\n"
      ],
      "text/latex": [
       "\\begin{tabular}{r|llllll}\n",
       " com & D1 & D2 & D3 & D4 & D5\\\\\n",
       "\\hline\n",
       "\t C1   & 0.18 & 0.12 & 0.08 & 0.06 & 0.02\\\\\n",
       "\t C2   & 0.10 & 0.04 & 0.08 & 0.02 & 0.06\\\\\n",
       "\t C3   & 0.08 & 0.04 & 0.02 & 0.04 & 0.06\\\\\n",
       "\\end{tabular}\n"
      ],
      "text/markdown": [
       "\n",
       "com | D1 | D2 | D3 | D4 | D5 | \n",
       "|---|---|---|\n",
       "| C1   | 0.18 | 0.12 | 0.08 | 0.06 | 0.02 | \n",
       "| C2   | 0.10 | 0.04 | 0.08 | 0.02 | 0.06 | \n",
       "| C3   | 0.08 | 0.04 | 0.02 | 0.04 | 0.06 | \n",
       "\n",
       "\n"
      ],
      "text/plain": [
       "  com D1   D2   D3   D4   D5  \n",
       "1 C1  0.18 0.12 0.08 0.06 0.02\n",
       "2 C2  0.10 0.04 0.08 0.02 0.06\n",
       "3 C3  0.08 0.04 0.02 0.04 0.06"
      ]
     },
     "metadata": {},
     "output_type": "display_data"
    }
   ],
   "source": [
    "my.df %>% count(com,dept) %>%\n",
    "    mutate(pct=n/sum(n)) %>%\n",
    "    select(com, dept, pct) %>%\n",
    "    spread(key=dept, value=pct)"
   ]
  },
  {
   "cell_type": "markdown",
   "metadata": {},
   "source": [
    "**Row-Wise Proportion**"
   ]
  },
  {
   "cell_type": "code",
   "execution_count": 391,
   "metadata": {},
   "outputs": [
    {
     "data": {
      "text/html": [
       "<table>\n",
       "<thead><tr><th scope=col>com</th><th scope=col>D1</th><th scope=col>D2</th><th scope=col>D3</th><th scope=col>D4</th><th scope=col>D5</th></tr></thead>\n",
       "<tbody>\n",
       "\t<tr><td>C1        </td><td>0.3913043 </td><td>0.2608696 </td><td>0.17391304</td><td>0.13043478</td><td>0.04347826</td></tr>\n",
       "\t<tr><td>C2        </td><td>0.3333333 </td><td>0.1333333 </td><td>0.26666667</td><td>0.06666667</td><td>0.20000000</td></tr>\n",
       "\t<tr><td>C3        </td><td>0.3333333 </td><td>0.1666667 </td><td>0.08333333</td><td>0.16666667</td><td>0.25000000</td></tr>\n",
       "</tbody>\n",
       "</table>\n"
      ],
      "text/latex": [
       "\\begin{tabular}{r|llllll}\n",
       " com & D1 & D2 & D3 & D4 & D5\\\\\n",
       "\\hline\n",
       "\t C1         & 0.3913043  & 0.2608696  & 0.17391304 & 0.13043478 & 0.04347826\\\\\n",
       "\t C2         & 0.3333333  & 0.1333333  & 0.26666667 & 0.06666667 & 0.20000000\\\\\n",
       "\t C3         & 0.3333333  & 0.1666667  & 0.08333333 & 0.16666667 & 0.25000000\\\\\n",
       "\\end{tabular}\n"
      ],
      "text/markdown": [
       "\n",
       "com | D1 | D2 | D3 | D4 | D5 | \n",
       "|---|---|---|\n",
       "| C1         | 0.3913043  | 0.2608696  | 0.17391304 | 0.13043478 | 0.04347826 | \n",
       "| C2         | 0.3333333  | 0.1333333  | 0.26666667 | 0.06666667 | 0.20000000 | \n",
       "| C3         | 0.3333333  | 0.1666667  | 0.08333333 | 0.16666667 | 0.25000000 | \n",
       "\n",
       "\n"
      ],
      "text/plain": [
       "  com D1        D2        D3         D4         D5        \n",
       "1 C1  0.3913043 0.2608696 0.17391304 0.13043478 0.04347826\n",
       "2 C2  0.3333333 0.1333333 0.26666667 0.06666667 0.20000000\n",
       "3 C3  0.3333333 0.1666667 0.08333333 0.16666667 0.25000000"
      ]
     },
     "metadata": {},
     "output_type": "display_data"
    }
   ],
   "source": [
    "my.df %>% group_by(com, dept) %>%\n",
    "    summarize (n = n()) %>%\n",
    "    mutate(pct=n/sum(n)) %>%\n",
    "    select(com, dept, pct) %>%\n",
    "    spread(key=dept, value=pct)"
   ]
  },
  {
   "cell_type": "markdown",
   "metadata": {},
   "source": [
    "**Column-Wise Proportion**"
   ]
  },
  {
   "cell_type": "code",
   "execution_count": 392,
   "metadata": {},
   "outputs": [
    {
     "data": {
      "text/html": [
       "<table>\n",
       "<thead><tr><th scope=col>com</th><th scope=col>D1</th><th scope=col>D2</th><th scope=col>D3</th><th scope=col>D4</th><th scope=col>D5</th></tr></thead>\n",
       "<tbody>\n",
       "\t<tr><td>C1       </td><td>0.5000000</td><td>0.6      </td><td>0.4444444</td><td>0.5000000</td><td>0.1428571</td></tr>\n",
       "\t<tr><td>C2       </td><td>0.2777778</td><td>0.2      </td><td>0.4444444</td><td>0.1666667</td><td>0.4285714</td></tr>\n",
       "\t<tr><td>C3       </td><td>0.2222222</td><td>0.2      </td><td>0.1111111</td><td>0.3333333</td><td>0.4285714</td></tr>\n",
       "</tbody>\n",
       "</table>\n"
      ],
      "text/latex": [
       "\\begin{tabular}{r|llllll}\n",
       " com & D1 & D2 & D3 & D4 & D5\\\\\n",
       "\\hline\n",
       "\t C1        & 0.5000000 & 0.6       & 0.4444444 & 0.5000000 & 0.1428571\\\\\n",
       "\t C2        & 0.2777778 & 0.2       & 0.4444444 & 0.1666667 & 0.4285714\\\\\n",
       "\t C3        & 0.2222222 & 0.2       & 0.1111111 & 0.3333333 & 0.4285714\\\\\n",
       "\\end{tabular}\n"
      ],
      "text/markdown": [
       "\n",
       "com | D1 | D2 | D3 | D4 | D5 | \n",
       "|---|---|---|\n",
       "| C1        | 0.5000000 | 0.6       | 0.4444444 | 0.5000000 | 0.1428571 | \n",
       "| C2        | 0.2777778 | 0.2       | 0.4444444 | 0.1666667 | 0.4285714 | \n",
       "| C3        | 0.2222222 | 0.2       | 0.1111111 | 0.3333333 | 0.4285714 | \n",
       "\n",
       "\n"
      ],
      "text/plain": [
       "  com D1        D2  D3        D4        D5       \n",
       "1 C1  0.5000000 0.6 0.4444444 0.5000000 0.1428571\n",
       "2 C2  0.2777778 0.2 0.4444444 0.1666667 0.4285714\n",
       "3 C3  0.2222222 0.2 0.1111111 0.3333333 0.4285714"
      ]
     },
     "metadata": {},
     "output_type": "display_data"
    }
   ],
   "source": [
    "my.df %>% group_by(dept,com) %>%\n",
    "    summarize(n=n()) %>%\n",
    "    mutate(pct=n/sum(n)) %>%\n",
    "    select(com,dept, pct) %>%\n",
    "    spread(key=dept,value=pct)"
   ]
  }
 ],
 "metadata": {
  "kernelspec": {
   "display_name": "R",
   "language": "R",
   "name": "ir"
  },
  "language_info": {
   "codemirror_mode": "r",
   "file_extension": ".r",
   "mimetype": "text/x-r-source",
   "name": "R",
   "pygments_lexer": "r",
   "version": "3.5.1"
  },
  "toc": {
   "nav_menu": {
    "height": "514px",
    "width": "309px"
   },
   "number_sections": true,
   "sideBar": true,
   "skip_h1_title": false,
   "toc_cell": false,
   "toc_position": {
    "height": "712px",
    "left": "0px",
    "right": "981.701px",
    "top": "66px",
    "width": "336px"
   },
   "toc_section_display": true,
   "toc_window_display": true
  },
  "varInspector": {
   "cols": {
    "lenName": 16,
    "lenType": 16,
    "lenVar": 40
   },
   "kernels_config": {
    "python": {
     "delete_cmd_postfix": "",
     "delete_cmd_prefix": "del ",
     "library": "var_list.py",
     "varRefreshCmd": "print(var_dic_list())"
    },
    "r": {
     "delete_cmd_postfix": ") ",
     "delete_cmd_prefix": "rm(",
     "library": "var_list.r",
     "varRefreshCmd": "cat(var_dic_list()) "
    }
   },
   "types_to_exclude": [
    "module",
    "function",
    "builtin_function_or_method",
    "instance",
    "_Feature"
   ],
   "window_display": false
  }
 },
 "nbformat": 4,
 "nbformat_minor": 2
}
