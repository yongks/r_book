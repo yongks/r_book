{
 "cells": [
  {
   "cell_type": "markdown",
   "metadata": {},
   "source": [
    "# Convert Notebook to HTML_TOC \n",
    "- Convert notebook to static pages, as index.html  \n",
    "- Output to ./docs folder, so that github-pages can pick up the static pages\n"
   ]
  },
  {
   "cell_type": "markdown",
   "metadata": {},
   "source": [
    "## Required Library"
   ]
  },
  {
   "cell_type": "markdown",
   "metadata": {},
   "source": [
    "**nbmerge** is required. To install:\n",
    "```\n",
    "pip install nbmerge\n",
    "```"
   ]
  },
  {
   "cell_type": "code",
   "execution_count": 1,
   "metadata": {},
   "outputs": [],
   "source": [
    "import os\n",
    "import shutil\n",
    "from distutils.dir_util import copy_tree"
   ]
  },
  {
   "cell_type": "markdown",
   "metadata": {
    "heading_collapsed": true
   },
   "source": [
    "## Current Working Directory"
   ]
  },
  {
   "cell_type": "markdown",
   "metadata": {
    "hidden": true
   },
   "source": [
    "### Current Working Directory"
   ]
  },
  {
   "cell_type": "code",
   "execution_count": 2,
   "metadata": {
    "hidden": true
   },
   "outputs": [
    {
     "name": "stdout",
     "output_type": "stream",
     "text": [
      "D:\\Dropbox\\Dropbox\\github\\r_book\n"
     ]
    }
   ],
   "source": [
    "print(os.getcwd())"
   ]
  },
  {
   "cell_type": "markdown",
   "metadata": {
    "hidden": true
   },
   "source": [
    "### List of Files"
   ]
  },
  {
   "cell_type": "code",
   "execution_count": 3,
   "metadata": {
    "hidden": true
   },
   "outputs": [
    {
     "data": {
      "text/plain": [
       "['.git',\n",
       " '.ipynb_checkpoints',\n",
       " '01-fundamental.ipynb',\n",
       " '03-wrangling.ipynb',\n",
       " '04-visualization.ipynb',\n",
       " '05-machine_learning.ipynb',\n",
       " 'compilation.ipynb',\n",
       " 'data',\n",
       " 'docs',\n",
       " 'img']"
      ]
     },
     "execution_count": 3,
     "metadata": {},
     "output_type": "execute_result"
    }
   ],
   "source": [
    "os.listdir()"
   ]
  },
  {
   "cell_type": "markdown",
   "metadata": {},
   "source": [
    "## Cleanup ./docs directory\n",
    "Delete ./docs and re-create. This ensure the content of ./docs is always relevant"
   ]
  },
  {
   "cell_type": "code",
   "execution_count": 4,
   "metadata": {},
   "outputs": [],
   "source": [
    "shutil.rmtree(path='./docs',ignore_errors=True)\n",
    "os.mkdir('docs')\n",
    "os.mkdir('docs\\img')"
   ]
  },
  {
   "cell_type": "markdown",
   "metadata": {},
   "source": [
    "## Merging Multiple Chapters into One Notebook\n",
    "Merge all notebooks with filename containing '-' into _merged.ipynb. This is a temporary notebook."
   ]
  },
  {
   "cell_type": "code",
   "execution_count": 5,
   "metadata": {},
   "outputs": [],
   "source": [
    "!nbmerge --recursive -i -p \".*-.*\" -o _r_book.ipynb"
   ]
  },
  {
   "cell_type": "markdown",
   "metadata": {},
   "source": [
    "## Convert Into Static HTML with TOC\n",
    "- Convert the merged notebook into HTML, in '/docs' directory  \n",
    "- Tag cell to \"remove_cell\" in order to 'hide' from final html output"
   ]
  },
  {
   "cell_type": "code",
   "execution_count": 6,
   "metadata": {
    "scrolled": true
   },
   "outputs": [
    {
     "name": "stderr",
     "output_type": "stream",
     "text": [
      "[NbConvertApp] Converting notebook _r_book.ipynb to html_toc\n",
      "C:\\ProgramData\\Anaconda3\\lib\\site-packages\\nbconvert\\filters\\datatypefilter.py:41: UserWarning: Your element with mimetype(s) dict_keys([]) is not able to be represented.\n",
      "  mimetypes=output.keys())\n",
      "[NbConvertApp] Support files will be in index_files\\\n",
      "[NbConvertApp] Making directory ./docs\\index_files\n",
      "[NbConvertApp] Making directory ./docs\\index_files\n",
      "[NbConvertApp] Making directory ./docs\\index_files\n",
      "[NbConvertApp] Making directory ./docs\\index_files\n",
      "[NbConvertApp] Making directory ./docs\\index_files\n",
      "[NbConvertApp] Making directory ./docs\\index_files\n",
      "[NbConvertApp] Making directory ./docs\\index_files\n",
      "[NbConvertApp] Making directory ./docs\\index_files\n",
      "[NbConvertApp] Making directory ./docs\\index_files\n",
      "[NbConvertApp] Making directory ./docs\\index_files\n",
      "[NbConvertApp] Making directory ./docs\\index_files\n",
      "[NbConvertApp] Making directory ./docs\\index_files\n",
      "[NbConvertApp] Making directory ./docs\\index_files\n",
      "[NbConvertApp] Making directory ./docs\\index_files\n",
      "[NbConvertApp] Making directory ./docs\\index_files\n",
      "[NbConvertApp] Making directory ./docs\\index_files\n",
      "[NbConvertApp] Making directory ./docs\\index_files\n",
      "[NbConvertApp] Making directory ./docs\\index_files\n",
      "[NbConvertApp] Making directory ./docs\\index_files\n",
      "[NbConvertApp] Making directory ./docs\\index_files\n",
      "[NbConvertApp] Making directory ./docs\\index_files\n",
      "[NbConvertApp] Making directory ./docs\\index_files\n",
      "[NbConvertApp] Making directory ./docs\\index_files\n",
      "[NbConvertApp] Making directory ./docs\\index_files\n",
      "[NbConvertApp] Making directory ./docs\\index_files\n",
      "[NbConvertApp] Making directory ./docs\\index_files\n",
      "[NbConvertApp] Writing 660316 bytes to ./docs\\index.html\n"
     ]
    }
   ],
   "source": [
    "!jupyter nbconvert _r_book.ipynb --TagRemovePreprocessor.remove_cell_tags={\\\"remove_cell\\\"} --to html_toc --output-dir='./docs' --output index.html"
   ]
  },
  {
   "cell_type": "markdown",
   "metadata": {},
   "source": [
    "## Copy Image Files"
   ]
  },
  {
   "cell_type": "code",
   "execution_count": 7,
   "metadata": {},
   "outputs": [
    {
     "data": {
      "text/plain": [
       "[]"
      ]
     },
     "execution_count": 7,
     "metadata": {},
     "output_type": "execute_result"
    }
   ],
   "source": [
    "copy_tree('./img', './docs/img')"
   ]
  },
  {
   "cell_type": "markdown",
   "metadata": {},
   "source": [
    "## Final Cleanup\n",
    "Cleanup (remove) merged notebook"
   ]
  },
  {
   "cell_type": "code",
   "execution_count": 8,
   "metadata": {},
   "outputs": [],
   "source": [
    "os.remove('_r_book.ipynb')"
   ]
  },
  {
   "cell_type": "code",
   "execution_count": 9,
   "metadata": {},
   "outputs": [
    {
     "name": "stderr",
     "output_type": "stream",
     "text": [
      "'git' is not recognized as an internal or external command,\n",
      "operable program or batch file.\n"
     ]
    }
   ],
   "source": [
    "!git status"
   ]
  },
  {
   "cell_type": "code",
   "execution_count": 10,
   "metadata": {},
   "outputs": [
    {
     "name": "stderr",
     "output_type": "stream",
     "text": [
      "'git' is not recognized as an internal or external command,\n",
      "operable program or batch file.\n",
      "'git' is not recognized as an internal or external command,\n",
      "operable program or batch file.\n",
      "'git' is not recognized as an internal or external command,\n",
      "operable program or batch file.\n"
     ]
    }
   ],
   "source": [
    "!git add *\n",
    "!git commit -m \"update\"\n",
    "!git push origin master"
   ]
  }
 ],
 "metadata": {
  "kernelspec": {
   "display_name": "Python 3",
   "language": "python",
   "name": "python3"
  },
  "language_info": {
   "codemirror_mode": {
    "name": "ipython",
    "version": 3
   },
   "file_extension": ".py",
   "mimetype": "text/x-python",
   "name": "python",
   "nbconvert_exporter": "python",
   "pygments_lexer": "ipython3",
   "version": "3.6.5"
  },
  "toc": {
   "nav_menu": {},
   "number_sections": true,
   "sideBar": true,
   "skip_h1_title": false,
   "toc_cell": false,
   "toc_position": {},
   "toc_section_display": "block",
   "toc_window_display": true
  },
  "varInspector": {
   "cols": {
    "lenName": 16,
    "lenType": 16,
    "lenVar": 40
   },
   "kernels_config": {
    "python": {
     "delete_cmd_postfix": "",
     "delete_cmd_prefix": "del ",
     "library": "var_list.py",
     "varRefreshCmd": "print(var_dic_list())"
    },
    "r": {
     "delete_cmd_postfix": ") ",
     "delete_cmd_prefix": "rm(",
     "library": "var_list.r",
     "varRefreshCmd": "cat(var_dic_list()) "
    }
   },
   "types_to_exclude": [
    "module",
    "function",
    "builtin_function_or_method",
    "instance",
    "_Feature"
   ],
   "window_display": false
  }
 },
 "nbformat": 4,
 "nbformat_minor": 2
}
