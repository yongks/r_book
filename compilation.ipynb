{
 "cells": [
  {
   "cell_type": "markdown",
   "metadata": {},
   "source": [
    "# Convert Notebook to HTML_TOC \n",
    "- Convert notebook to static pages, as index.html  \n",
    "- Output to ./docs folder, so that github-pages can pick up the static pages\n"
   ]
  },
  {
   "cell_type": "markdown",
   "metadata": {},
   "source": [
    "## Required Library"
   ]
  },
  {
   "cell_type": "markdown",
   "metadata": {},
   "source": [
    "**nbmerge** is required. To install:\n",
    "```\n",
    "pip install nbmerge\n",
    "```"
   ]
  },
  {
   "cell_type": "code",
   "execution_count": 1,
   "metadata": {},
   "outputs": [],
   "source": [
    "import os\n",
    "import shutil\n",
    "from distutils.dir_util import copy_tree"
   ]
  },
  {
   "cell_type": "markdown",
   "metadata": {
    "heading_collapsed": true
   },
   "source": [
    "## Current Working Directory"
   ]
  },
  {
   "cell_type": "markdown",
   "metadata": {
    "hidden": true
   },
   "source": [
    "### Current Working Directory"
   ]
  },
  {
   "cell_type": "code",
   "execution_count": 2,
   "metadata": {
    "hidden": true
   },
   "outputs": [
    {
     "name": "stdout",
     "output_type": "stream",
     "text": [
      "D:\\Dropbox\\github\\python_book\n"
     ]
    }
   ],
   "source": [
    "print(os.getcwd())"
   ]
  },
  {
   "cell_type": "markdown",
   "metadata": {
    "hidden": true
   },
   "source": [
    "### List of Files"
   ]
  },
  {
   "cell_type": "code",
   "execution_count": 3,
   "metadata": {
    "hidden": true
   },
   "outputs": [
    {
     "data": {
      "text/plain": [
       "['.git',\n",
       " '.ipynb_checkpoints',\n",
       " '01-fundamental.ipynb',\n",
       " '02-numpy.ipynb',\n",
       " '03-pandas.ipynb',\n",
       " '04-visualization.ipynb',\n",
       " '05-sklearn.ipynb',\n",
       " '06-regression.ipynb',\n",
       " 'compilation.ipynb',\n",
       " 'data',\n",
       " 'docs',\n",
       " 'img']"
      ]
     },
     "execution_count": 3,
     "metadata": {},
     "output_type": "execute_result"
    }
   ],
   "source": [
    "os.listdir()"
   ]
  },
  {
   "cell_type": "markdown",
   "metadata": {},
   "source": [
    "## Cleanup ./docs directory\n",
    "Delete ./docs and re-create. This ensure the content of ./docs is always relevant"
   ]
  },
  {
   "cell_type": "code",
   "execution_count": 4,
   "metadata": {},
   "outputs": [],
   "source": [
    "shutil.rmtree(path='./docs',ignore_errors=True)\n",
    "os.mkdir('docs')\n",
    "os.mkdir('docs\\img')"
   ]
  },
  {
   "cell_type": "markdown",
   "metadata": {},
   "source": [
    "## Merging Multiple Chapters into One Notebook\n",
    "Merge all notebooks with filename containing '-' into _merged.ipynb. This is a temporary notebook."
   ]
  },
  {
   "cell_type": "code",
   "execution_count": 5,
   "metadata": {},
   "outputs": [],
   "source": [
    "!nbmerge --recursive -i -p \".*-.*\" -o _python_book.ipynb"
   ]
  },
  {
   "cell_type": "markdown",
   "metadata": {},
   "source": [
    "## Convert Into Static HTML with TOC\n",
    "- Convert the merged notebook into HTML, in '/docs' directory  \n",
    "- Tag cell to \"remove_cell\" in order to 'hide' from final html output"
   ]
  },
  {
   "cell_type": "code",
   "execution_count": 6,
   "metadata": {
    "scrolled": true
   },
   "outputs": [
    {
     "name": "stderr",
     "output_type": "stream",
     "text": [
      "[NbConvertApp] Converting notebook _python_book.ipynb to html_toc\n",
      "[NbConvertApp] Support files will be in index_files\\\n",
      "[NbConvertApp] Making directory ./docs\\index_files\n",
      "[NbConvertApp] Making directory ./docs\\index_files\n",
      "[NbConvertApp] Making directory ./docs\\index_files\n",
      "[NbConvertApp] Making directory ./docs\\index_files\n",
      "[NbConvertApp] Making directory ./docs\\index_files\n",
      "[NbConvertApp] Making directory ./docs\\index_files\n",
      "[NbConvertApp] Making directory ./docs\\index_files\n",
      "[NbConvertApp] Making directory ./docs\\index_files\n",
      "[NbConvertApp] Making directory ./docs\\index_files\n",
      "[NbConvertApp] Making directory ./docs\\index_files\n",
      "[NbConvertApp] Making directory ./docs\\index_files\n",
      "[NbConvertApp] Making directory ./docs\\index_files\n",
      "[NbConvertApp] Making directory ./docs\\index_files\n",
      "[NbConvertApp] Making directory ./docs\\index_files\n",
      "[NbConvertApp] Making directory ./docs\\index_files\n",
      "[NbConvertApp] Making directory ./docs\\index_files\n",
      "[NbConvertApp] Making directory ./docs\\index_files\n",
      "[NbConvertApp] Making directory ./docs\\index_files\n",
      "[NbConvertApp] Making directory ./docs\\index_files\n",
      "[NbConvertApp] Making directory ./docs\\index_files\n",
      "[NbConvertApp] Making directory ./docs\\index_files\n",
      "[NbConvertApp] Making directory ./docs\\index_files\n",
      "[NbConvertApp] Making directory ./docs\\index_files\n",
      "[NbConvertApp] Making directory ./docs\\index_files\n",
      "[NbConvertApp] Making directory ./docs\\index_files\n",
      "[NbConvertApp] Making directory ./docs\\index_files\n",
      "[NbConvertApp] Making directory ./docs\\index_files\n",
      "[NbConvertApp] Making directory ./docs\\index_files\n",
      "[NbConvertApp] Making directory ./docs\\index_files\n",
      "[NbConvertApp] Making directory ./docs\\index_files\n",
      "[NbConvertApp] Making directory ./docs\\index_files\n",
      "[NbConvertApp] Making directory ./docs\\index_files\n",
      "[NbConvertApp] Making directory ./docs\\index_files\n",
      "[NbConvertApp] Making directory ./docs\\index_files\n",
      "[NbConvertApp] Making directory ./docs\\index_files\n",
      "[NbConvertApp] Making directory ./docs\\index_files\n",
      "[NbConvertApp] Making directory ./docs\\index_files\n",
      "[NbConvertApp] Making directory ./docs\\index_files\n",
      "[NbConvertApp] Making directory ./docs\\index_files\n",
      "[NbConvertApp] Making directory ./docs\\index_files\n",
      "[NbConvertApp] Making directory ./docs\\index_files\n",
      "[NbConvertApp] Making directory ./docs\\index_files\n",
      "[NbConvertApp] Making directory ./docs\\index_files\n",
      "[NbConvertApp] Making directory ./docs\\index_files\n",
      "[NbConvertApp] Making directory ./docs\\index_files\n",
      "[NbConvertApp] Making directory ./docs\\index_files\n",
      "[NbConvertApp] Making directory ./docs\\index_files\n",
      "[NbConvertApp] Making directory ./docs\\index_files\n",
      "[NbConvertApp] Making directory ./docs\\index_files\n",
      "[NbConvertApp] Making directory ./docs\\index_files\n",
      "[NbConvertApp] Making directory ./docs\\index_files\n",
      "[NbConvertApp] Making directory ./docs\\index_files\n",
      "[NbConvertApp] Making directory ./docs\\index_files\n",
      "[NbConvertApp] Making directory ./docs\\index_files\n",
      "[NbConvertApp] Making directory ./docs\\index_files\n",
      "[NbConvertApp] Making directory ./docs\\index_files\n",
      "[NbConvertApp] Making directory ./docs\\index_files\n",
      "[NbConvertApp] Making directory ./docs\\index_files\n",
      "[NbConvertApp] Making directory ./docs\\index_files\n",
      "[NbConvertApp] Making directory ./docs\\index_files\n",
      "[NbConvertApp] Making directory ./docs\\index_files\n",
      "[NbConvertApp] Making directory ./docs\\index_files\n",
      "[NbConvertApp] Making directory ./docs\\index_files\n",
      "[NbConvertApp] Writing 1248518 bytes to ./docs\\index.html\n"
     ]
    }
   ],
   "source": [
    "!jupyter nbconvert _python_book.ipynb --TagRemovePreprocessor.remove_cell_tags={\\\"remove_cell\\\"} --to html_toc --output-dir='./docs' --output index.html  "
   ]
  },
  {
   "cell_type": "markdown",
   "metadata": {},
   "source": [
    "## Copy Image Files"
   ]
  },
  {
   "cell_type": "code",
   "execution_count": 7,
   "metadata": {},
   "outputs": [
    {
     "data": {
      "text/plain": [
       "['./docs/img\\\\bias-variance-tradeoff.png',\n",
       " './docs/img\\\\confusion_table.jpg',\n",
       " './docs/img\\\\distribution_chart.gif',\n",
       " './docs/img\\\\dplyr_anti_join.png',\n",
       " './docs/img\\\\dplyr_full_join.png',\n",
       " './docs/img\\\\dplyr_inner_join.png',\n",
       " './docs/img\\\\dplyr_intersect.png',\n",
       " './docs/img\\\\dplyr_left_join.png',\n",
       " './docs/img\\\\dplyr_right_join.png',\n",
       " './docs/img\\\\dplyr_semi_join.png',\n",
       " './docs/img\\\\dplyr_setdiff.png',\n",
       " './docs/img\\\\dplyr_union.png',\n",
       " './docs/img\\\\dtree_split.jpg',\n",
       " './docs/img\\\\dtree_structure.jpg',\n",
       " './docs/img\\\\entropy_gini.jpg',\n",
       " './docs/img\\\\explain_sst.jpg',\n",
       " './docs/img\\\\fitting.png',\n",
       " './docs/img\\\\heteroscedastic.jpg',\n",
       " './docs/img\\\\kfold-cross-validation.png',\n",
       " './docs/img\\\\kfold.jpg',\n",
       " './docs/img\\\\kfold_cross_validation.png',\n",
       " './docs/img\\\\line_types.jpg',\n",
       " './docs/img\\\\logistic_vs_linear.png',\n",
       " './docs/img\\\\ml_libraries.jpg',\n",
       " './docs/img\\\\model_complexity.jpg',\n",
       " './docs/img\\\\point_shapes.jpg',\n",
       " './docs/img\\\\random_forest.png',\n",
       " './docs/img\\\\read_performance.jpg',\n",
       " './docs/img\\\\roc_curve.gif',\n",
       " './docs/img\\\\roc_threshold_demo.gif',\n",
       " './docs/img\\\\sample_excel_import.jpg',\n",
       " './docs/img\\\\scikit_learn_split.jpg',\n",
       " './docs/img\\\\train_test_split_1.jpg',\n",
       " './docs/img\\\\train_test_split_2.jpg',\n",
       " './docs/img\\\\underfitting-overfitting.png']"
      ]
     },
     "execution_count": 7,
     "metadata": {},
     "output_type": "execute_result"
    }
   ],
   "source": [
    "copy_tree('./img', './docs/img')"
   ]
  },
  {
   "cell_type": "markdown",
   "metadata": {},
   "source": [
    "## Final Cleanup\n",
    "Cleanup (remove) merged notebook"
   ]
  },
  {
   "cell_type": "code",
   "execution_count": 8,
   "metadata": {},
   "outputs": [],
   "source": [
    "os.remove('_python_book.ipynb')"
   ]
  },
  {
   "cell_type": "code",
   "execution_count": 9,
   "metadata": {},
   "outputs": [
    {
     "name": "stdout",
     "output_type": "stream",
     "text": [
      "On branch master\n",
      "Changes not staged for commit:\n",
      "  (use \"git add/rm <file>...\" to update what will be committed)\n",
      "  (use \"git checkout -- <file>...\" to discard changes in working directory)\n",
      "\n",
      "\tmodified:   .ipynb_checkpoints/01-fundamental-checkpoint.ipynb\n",
      "\tmodified:   .ipynb_checkpoints/02-numpy-checkpoint.ipynb\n",
      "\tmodified:   .ipynb_checkpoints/03-pandas-checkpoint.ipynb\n",
      "\tmodified:   .ipynb_checkpoints/04-visualization-checkpoint.ipynb\n",
      "\tmodified:   .ipynb_checkpoints/05-sklearn-checkpoint.ipynb\n",
      "\tmodified:   .ipynb_checkpoints/compilation-checkpoint.ipynb\n",
      "\tmodified:   01-fundamental.ipynb\n",
      "\tmodified:   03-pandas.ipynb\n",
      "\tmodified:   docs/img/scikit_learn_split.jpg\n",
      "\tmodified:   docs/index.html\n",
      "\tdeleted:    docs/index_files/index_1002_1.png\n",
      "\tdeleted:    docs/index_files/index_1003_1.png\n",
      "\tdeleted:    docs/index_files/index_1007_2.png\n",
      "\tdeleted:    docs/index_files/index_1010_2.png\n",
      "\tdeleted:    docs/index_files/index_1012_2.png\n",
      "\tdeleted:    docs/index_files/index_1015_0.png\n",
      "\tdeleted:    docs/index_files/index_1016_0.png\n",
      "\tdeleted:    docs/index_files/index_1018_1.png\n",
      "\tdeleted:    docs/index_files/index_1021_1.png\n",
      "\tdeleted:    docs/index_files/index_1023_0.png\n",
      "\tdeleted:    docs/index_files/index_1028_1.png\n",
      "\tdeleted:    docs/index_files/index_1029_0.png\n",
      "\tdeleted:    docs/index_files/index_1030_0.png\n",
      "\tdeleted:    docs/index_files/index_1033_0.png\n",
      "\tmodified:   docs/index_files/index_1036_0.png\n",
      "\tmodified:   docs/index_files/index_1038_0.png\n",
      "\tdeleted:    docs/index_files/index_1039_0.png\n",
      "\tdeleted:    docs/index_files/index_1040_0.png\n",
      "\tdeleted:    docs/index_files/index_1042_0.png\n",
      "\tdeleted:    docs/index_files/index_1044_1.png\n",
      "\tdeleted:    docs/index_files/index_1045_0.png\n",
      "\tdeleted:    docs/index_files/index_1048_0.png\n",
      "\tdeleted:    docs/index_files/index_1050_0.png\n",
      "\tdeleted:    docs/index_files/index_1051_0.png\n",
      "\tdeleted:    docs/index_files/index_1053_0.png\n",
      "\tdeleted:    docs/index_files/index_1058_0.png\n",
      "\tdeleted:    docs/index_files/index_1093_2.png\n",
      "\tdeleted:    docs/index_files/index_1220_0.png\n",
      "\tdeleted:    docs/index_files/index_1221_0.png\n",
      "\tdeleted:    docs/index_files/index_1264_0.png\n",
      "\tdeleted:    docs/index_files/index_1269_1.png\n",
      "\tdeleted:    docs/index_files/index_1272_0.png\n",
      "\tdeleted:    docs/index_files/index_1274_1.png\n",
      "\tdeleted:    docs/index_files/index_1276_1.png\n",
      "\tdeleted:    docs/index_files/index_932_0.png\n",
      "\tdeleted:    docs/index_files/index_934_0.png\n",
      "\tdeleted:    docs/index_files/index_939_0.png\n",
      "\tdeleted:    docs/index_files/index_941_0.png\n",
      "\tdeleted:    docs/index_files/index_945_1.png\n",
      "\tdeleted:    docs/index_files/index_947_1.png\n",
      "\tdeleted:    docs/index_files/index_949_0.png\n",
      "\tdeleted:    docs/index_files/index_950_0.png\n",
      "\tdeleted:    docs/index_files/index_952_0.png\n",
      "\tdeleted:    docs/index_files/index_955_0.png\n",
      "\tdeleted:    docs/index_files/index_957_0.png\n",
      "\tdeleted:    docs/index_files/index_959_0.png\n",
      "\tdeleted:    docs/index_files/index_962_0.png\n",
      "\tdeleted:    docs/index_files/index_964_0.png\n",
      "\tdeleted:    docs/index_files/index_965_1.png\n",
      "\tdeleted:    docs/index_files/index_967_0.png\n",
      "\tdeleted:    docs/index_files/index_969_1.png\n",
      "\tdeleted:    docs/index_files/index_971_0.png\n",
      "\tdeleted:    docs/index_files/index_973_0.png\n",
      "\tdeleted:    docs/index_files/index_975_0.png\n",
      "\tdeleted:    docs/index_files/index_978_1.png\n",
      "\tdeleted:    docs/index_files/index_984_0.png\n",
      "\tdeleted:    docs/index_files/index_985_0.png\n",
      "\tdeleted:    docs/index_files/index_987_0.png\n",
      "\tdeleted:    docs/index_files/index_989_0.png\n",
      "\tdeleted:    docs/index_files/index_991_0.png\n",
      "\tdeleted:    docs/index_files/index_994_0.png\n",
      "\tmodified:   docs/index_files/index_996_0.png\n",
      "\tmodified:   docs/index_files/index_999_0.png\n",
      "\n",
      "Untracked files:\n",
      "  (use \"git add <file>...\" to include in what will be committed)\n",
      "\n",
      "\t.ipynb_checkpoints/06-regression-checkpoint.ipynb\n",
      "\tdocs/index_files/index_1002_0.png\n",
      "\tdocs/index_files/index_1004_0.png\n",
      "\tdocs/index_files/index_1006_0.png\n",
      "\tdocs/index_files/index_1009_0.png\n",
      "\tdocs/index_files/index_1011_0.png\n",
      "\tdocs/index_files/index_1012_1.png\n",
      "\tdocs/index_files/index_1014_0.png\n",
      "\tdocs/index_files/index_1016_1.png\n",
      "\tdocs/index_files/index_1018_0.png\n",
      "\tdocs/index_files/index_1020_0.png\n",
      "\tdocs/index_files/index_1022_0.png\n",
      "\tdocs/index_files/index_1025_1.png\n",
      "\tdocs/index_files/index_1031_0.png\n",
      "\tdocs/index_files/index_1032_0.png\n",
      "\tdocs/index_files/index_1034_0.png\n",
      "\tdocs/index_files/index_1041_0.png\n",
      "\tdocs/index_files/index_1043_0.png\n",
      "\tdocs/index_files/index_1046_0.png\n",
      "\tdocs/index_files/index_1049_1.png\n",
      "\tdocs/index_files/index_1050_1.png\n",
      "\tdocs/index_files/index_1054_2.png\n",
      "\tdocs/index_files/index_1057_2.png\n",
      "\tdocs/index_files/index_1059_2.png\n",
      "\tdocs/index_files/index_1062_0.png\n",
      "\tdocs/index_files/index_1063_0.png\n",
      "\tdocs/index_files/index_1065_1.png\n",
      "\tdocs/index_files/index_1068_1.png\n",
      "\tdocs/index_files/index_1070_0.png\n",
      "\tdocs/index_files/index_1075_1.png\n",
      "\tdocs/index_files/index_1076_0.png\n",
      "\tdocs/index_files/index_1077_0.png\n",
      "\tdocs/index_files/index_1080_0.png\n",
      "\tdocs/index_files/index_1083_0.png\n",
      "\tdocs/index_files/index_1085_0.png\n",
      "\tdocs/index_files/index_1086_0.png\n",
      "\tdocs/index_files/index_1087_0.png\n",
      "\tdocs/index_files/index_1089_0.png\n",
      "\tdocs/index_files/index_1091_1.png\n",
      "\tdocs/index_files/index_1092_0.png\n",
      "\tdocs/index_files/index_1095_0.png\n",
      "\tdocs/index_files/index_1097_0.png\n",
      "\tdocs/index_files/index_1098_0.png\n",
      "\tdocs/index_files/index_1100_0.png\n",
      "\tdocs/index_files/index_1105_0.png\n",
      "\tdocs/index_files/index_1140_2.png\n",
      "\tdocs/index_files/index_1267_0.png\n",
      "\tdocs/index_files/index_1268_0.png\n",
      "\tdocs/index_files/index_1311_0.png\n",
      "\tdocs/index_files/index_1316_1.png\n",
      "\tdocs/index_files/index_1319_0.png\n",
      "\tdocs/index_files/index_1321_1.png\n",
      "\tdocs/index_files/index_1323_1.png\n",
      "\tdocs/index_files/index_979_0.png\n",
      "\tdocs/index_files/index_981_0.png\n",
      "\tdocs/index_files/index_986_0.png\n",
      "\tdocs/index_files/index_988_0.png\n",
      "\tdocs/index_files/index_992_1.png\n",
      "\tdocs/index_files/index_994_1.png\n",
      "\tdocs/index_files/index_997_0.png\n",
      "\n",
      "no changes added to commit (use \"git add\" and/or \"git commit -a\")\n"
     ]
    }
   ],
   "source": [
    "!git status"
   ]
  },
  {
   "cell_type": "code",
   "execution_count": 11,
   "metadata": {},
   "outputs": [
    {
     "name": "stderr",
     "output_type": "stream",
     "text": [
      "warning: LF will be replaced by CRLF in .ipynb_checkpoints/01-fundamental-checkpoint.ipynb.\n",
      "The file will have its original line endings in your working directory.\n",
      "warning: LF will be replaced by CRLF in .ipynb_checkpoints/02-numpy-checkpoint.ipynb.\n",
      "The file will have its original line endings in your working directory.\n",
      "warning: LF will be replaced by CRLF in .ipynb_checkpoints/03-pandas-checkpoint.ipynb.\n",
      "The file will have its original line endings in your working directory.\n",
      "warning: LF will be replaced by CRLF in .ipynb_checkpoints/04-visualization-checkpoint.ipynb.\n",
      "The file will have its original line endings in your working directory.\n",
      "warning: LF will be replaced by CRLF in .ipynb_checkpoints/05-sklearn-checkpoint.ipynb.\n",
      "The file will have its original line endings in your working directory.\n",
      "warning: LF will be replaced by CRLF in .ipynb_checkpoints/compilation-checkpoint.ipynb.\n",
      "The file will have its original line endings in your working directory.\n",
      "warning: LF will be replaced by CRLF in 01-fundamental.ipynb.\n",
      "The file will have its original line endings in your working directory.\n",
      "warning: LF will be replaced by CRLF in 03-pandas.ipynb.\n",
      "The file will have its original line endings in your working directory.\n",
      "warning: LF will be replaced by CRLF in .ipynb_checkpoints/06-regression-checkpoint.ipynb.\n",
      "The file will have its original line endings in your working directory.\n"
     ]
    },
    {
     "name": "stdout",
     "output_type": "stream",
     "text": [
      "[master e51906b] update\n",
      " 74 files changed, 12637 insertions(+), 10622 deletions(-)\n",
      " rewrite .ipynb_checkpoints/01-fundamental-checkpoint.ipynb (81%)\n",
      " rewrite .ipynb_checkpoints/05-sklearn-checkpoint.ipynb (73%)\n",
      " create mode 100644 .ipynb_checkpoints/06-regression-checkpoint.ipynb\n",
      " rewrite docs/img/scikit_learn_split.jpg (96%)\n",
      " rename docs/index_files/{index_955_0.png => index_1002_0.png} (100%)\n",
      " rename docs/index_files/{index_957_0.png => index_1004_0.png} (100%)\n",
      " rename docs/index_files/{index_959_0.png => index_1006_0.png} (100%)\n",
      " rename docs/index_files/{index_962_0.png => index_1009_0.png} (100%)\n",
      " rename docs/index_files/{index_947_1.png => index_1011_0.png} (100%)\n",
      " rename docs/index_files/{index_965_1.png => index_1012_1.png} (100%)\n",
      " rename docs/index_files/{index_967_0.png => index_1014_0.png} (100%)\n",
      " rename docs/index_files/{index_969_1.png => index_1016_1.png} (100%)\n",
      " rename docs/index_files/{index_964_0.png => index_1018_0.png} (100%)\n",
      " rename docs/index_files/{index_973_0.png => index_1020_0.png} (100%)\n",
      " rename docs/index_files/{index_975_0.png => index_1022_0.png} (100%)\n",
      " rename docs/index_files/{index_978_1.png => index_1025_1.png} (100%)\n",
      " rename docs/index_files/{index_984_0.png => index_1031_0.png} (100%)\n",
      " rename docs/index_files/{index_985_0.png => index_1032_0.png} (100%)\n",
      " rename docs/index_files/{index_987_0.png => index_1034_0.png} (100%)\n",
      " rename docs/index_files/{index_989_0.png => index_1036_0.png} (100%)\n",
      " rename docs/index_files/{index_991_0.png => index_1038_0.png} (100%)\n",
      " rename docs/index_files/{index_994_0.png => index_1041_0.png} (100%)\n",
      " rename docs/index_files/{index_996_0.png => index_1043_0.png} (100%)\n",
      " rename docs/index_files/{index_999_0.png => index_1046_0.png} (100%)\n",
      " rename docs/index_files/{index_1002_1.png => index_1049_1.png} (100%)\n",
      " rename docs/index_files/{index_1003_1.png => index_1050_1.png} (100%)\n",
      " rename docs/index_files/{index_1007_2.png => index_1054_2.png} (100%)\n",
      " rename docs/index_files/{index_1010_2.png => index_1057_2.png} (100%)\n",
      " rename docs/index_files/{index_1012_2.png => index_1059_2.png} (100%)\n",
      " rename docs/index_files/{index_1015_0.png => index_1062_0.png} (100%)\n",
      " rename docs/index_files/{index_1016_0.png => index_1063_0.png} (100%)\n",
      " rename docs/index_files/{index_1018_1.png => index_1065_1.png} (100%)\n",
      " rename docs/index_files/{index_1021_1.png => index_1068_1.png} (100%)\n",
      " rename docs/index_files/{index_1023_0.png => index_1070_0.png} (100%)\n",
      " rename docs/index_files/{index_1028_1.png => index_1075_1.png} (100%)\n",
      " rename docs/index_files/{index_1029_0.png => index_1076_0.png} (100%)\n",
      " rename docs/index_files/{index_1030_0.png => index_1077_0.png} (100%)\n",
      " rename docs/index_files/{index_1033_0.png => index_1080_0.png} (100%)\n",
      " rename docs/index_files/{index_1036_0.png => index_1083_0.png} (100%)\n",
      " rename docs/index_files/{index_1038_0.png => index_1085_0.png} (100%)\n",
      " rename docs/index_files/{index_1039_0.png => index_1086_0.png} (100%)\n",
      " rename docs/index_files/{index_1040_0.png => index_1087_0.png} (100%)\n",
      " rename docs/index_files/{index_1042_0.png => index_1089_0.png} (100%)\n",
      " rename docs/index_files/{index_1044_1.png => index_1091_1.png} (100%)\n",
      " rename docs/index_files/{index_1045_0.png => index_1092_0.png} (100%)\n",
      " rename docs/index_files/{index_1048_0.png => index_1095_0.png} (100%)\n",
      " rename docs/index_files/{index_1050_0.png => index_1097_0.png} (100%)\n",
      " rename docs/index_files/{index_1051_0.png => index_1098_0.png} (100%)\n",
      " rename docs/index_files/{index_1053_0.png => index_1100_0.png} (100%)\n",
      " rename docs/index_files/{index_1058_0.png => index_1105_0.png} (100%)\n",
      " rename docs/index_files/{index_1093_2.png => index_1140_2.png} (100%)\n",
      " rename docs/index_files/{index_1220_0.png => index_1267_0.png} (100%)\n",
      " rename docs/index_files/{index_1221_0.png => index_1268_0.png} (100%)\n",
      " rename docs/index_files/{index_1264_0.png => index_1311_0.png} (100%)\n",
      " rename docs/index_files/{index_1269_1.png => index_1316_1.png} (100%)\n",
      " rename docs/index_files/{index_1272_0.png => index_1319_0.png} (100%)\n",
      " rename docs/index_files/{index_1274_1.png => index_1321_1.png} (100%)\n",
      " rename docs/index_files/{index_1276_1.png => index_1323_1.png} (100%)\n",
      " rename docs/index_files/{index_932_0.png => index_979_0.png} (100%)\n",
      " rename docs/index_files/{index_934_0.png => index_981_0.png} (100%)\n",
      " rename docs/index_files/{index_939_0.png => index_986_0.png} (100%)\n",
      " rename docs/index_files/{index_941_0.png => index_988_0.png} (100%)\n",
      " rename docs/index_files/{index_945_1.png => index_992_1.png} (100%)\n",
      " rename docs/index_files/{index_971_0.png => index_994_1.png} (100%)\n",
      " rename docs/index_files/{index_949_0.png => index_996_0.png} (100%)\n",
      " rename docs/index_files/{index_950_0.png => index_997_0.png} (100%)\n",
      " rename docs/index_files/{index_952_0.png => index_999_0.png} (100%)\n"
     ]
    },
    {
     "name": "stderr",
     "output_type": "stream",
     "text": [
      "fatal: HttpRequestException encountered.\n",
      "   An error occurred while sending the request.\n",
      "To https://github.com/yongks/python_book.git\n",
      "   6c3ad44..e51906b  master -> master\n"
     ]
    }
   ],
   "source": [
    "!git add *\n",
    "!git commit -m \"update\"\n",
    "!git push origin master"
   ]
  },
  {
   "cell_type": "code",
   "execution_count": null,
   "metadata": {},
   "outputs": [],
   "source": []
  }
 ],
 "metadata": {
  "kernelspec": {
   "display_name": "Python 3",
   "language": "python",
   "name": "python3"
  },
  "language_info": {
   "codemirror_mode": {
    "name": "ipython",
    "version": 3
   },
   "file_extension": ".py",
   "mimetype": "text/x-python",
   "name": "python",
   "nbconvert_exporter": "python",
   "pygments_lexer": "ipython3",
   "version": "3.6.5"
  },
  "toc": {
   "nav_menu": {},
   "number_sections": true,
   "sideBar": true,
   "skip_h1_title": false,
   "toc_cell": false,
   "toc_position": {},
   "toc_section_display": "block",
   "toc_window_display": true
  },
  "varInspector": {
   "cols": {
    "lenName": 16,
    "lenType": 16,
    "lenVar": 40
   },
   "kernels_config": {
    "python": {
     "delete_cmd_postfix": "",
     "delete_cmd_prefix": "del ",
     "library": "var_list.py",
     "varRefreshCmd": "print(var_dic_list())"
    },
    "r": {
     "delete_cmd_postfix": ") ",
     "delete_cmd_prefix": "rm(",
     "library": "var_list.r",
     "varRefreshCmd": "cat(var_dic_list()) "
    }
   },
   "types_to_exclude": [
    "module",
    "function",
    "builtin_function_or_method",
    "instance",
    "_Feature"
   ],
   "window_display": false
  }
 },
 "nbformat": 4,
 "nbformat_minor": 2
}
