{
 "cells": [
  {
   "cell_type": "markdown",
   "metadata": {},
   "source": [
    "# Convert Notebook to HTML_TOC \n",
    "- Convert notebook to static pages, as index.html  \n",
    "- Output to ./docs folder, so that github-pages can pick up the static pages\n"
   ]
  },
  {
   "cell_type": "markdown",
   "metadata": {},
   "source": [
    "## Required Library"
   ]
  },
  {
   "cell_type": "markdown",
   "metadata": {},
   "source": [
    "**nbmerge** is required. To install:\n",
    "```\n",
    "pip install nbmerge\n",
    "```"
   ]
  },
  {
   "cell_type": "code",
   "execution_count": 1,
   "metadata": {},
   "outputs": [],
   "source": [
    "import os\n",
    "import shutil\n",
    "from distutils.dir_util import copy_tree"
   ]
  },
  {
   "cell_type": "markdown",
   "metadata": {},
   "source": [
    "## Current Working Directory"
   ]
  },
  {
   "cell_type": "markdown",
   "metadata": {},
   "source": [
    "### Current Working Directory"
   ]
  },
  {
   "cell_type": "code",
   "execution_count": 2,
   "metadata": {},
   "outputs": [
    {
     "name": "stdout",
     "output_type": "stream",
     "text": [
      "D:\\Dropbox\\Dropbox\\github\\r_book\n"
     ]
    }
   ],
   "source": [
    "print(os.getcwd())"
   ]
  },
  {
   "cell_type": "markdown",
   "metadata": {},
   "source": [
    "### List of Files"
   ]
  },
  {
   "cell_type": "code",
   "execution_count": 3,
   "metadata": {},
   "outputs": [
    {
     "data": {
      "text/plain": [
       "['.git',\n",
       " '.ipynb_checkpoints',\n",
       " '01-fundamental.ipynb',\n",
       " '03-wrangling.ipynb',\n",
       " '04-visualization.ipynb',\n",
       " '05-machine_learning.ipynb',\n",
       " 'compilation.ipynb',\n",
       " 'data',\n",
       " 'docs',\n",
       " 'img']"
      ]
     },
     "execution_count": 3,
     "metadata": {},
     "output_type": "execute_result"
    }
   ],
   "source": [
    "os.listdir()"
   ]
  },
  {
   "cell_type": "markdown",
   "metadata": {},
   "source": [
    "## Cleanup ./docs directory\n",
    "Delete ./docs and re-create. This ensure the content of ./docs is always relevant"
   ]
  },
  {
   "cell_type": "code",
   "execution_count": 4,
   "metadata": {},
   "outputs": [],
   "source": [
    "shutil.rmtree(path='./docs',ignore_errors=True)\n",
    "os.mkdir('docs')\n",
    "os.mkdir('docs\\img')"
   ]
  },
  {
   "cell_type": "markdown",
   "metadata": {},
   "source": [
    "## Merging Multiple Chapters into One Notebook\n",
    "Merge all notebooks with filename containing '-' into _merged.ipynb. This is a temporary notebook."
   ]
  },
  {
   "cell_type": "code",
   "execution_count": 5,
   "metadata": {},
   "outputs": [],
   "source": [
    "!nbmerge --recursive -i -p \".*-.*\" -o _r_book.ipynb"
   ]
  },
  {
   "cell_type": "markdown",
   "metadata": {},
   "source": [
    "## Convert Into Static HTML with TOC\n",
    "- Convert the merged notebook into HTML, in '/docs' directory  \n",
    "- Tag cell to \"remove_cell\" in order to 'hide' from final html output"
   ]
  },
  {
   "cell_type": "code",
   "execution_count": 6,
   "metadata": {
    "scrolled": true
   },
   "outputs": [
    {
     "name": "stderr",
     "output_type": "stream",
     "text": [
      "[NbConvertApp] Converting notebook _r_book.ipynb to html_toc\n",
      "C:\\ProgramData\\Anaconda3\\lib\\site-packages\\nbconvert\\filters\\datatypefilter.py:41: UserWarning: Your element with mimetype(s) dict_keys([]) is not able to be represented.\n",
      "  mimetypes=output.keys())\n",
      "[NbConvertApp] Support files will be in index_files\\\n",
      "[NbConvertApp] Making directory ./docs\\index_files\n",
      "[NbConvertApp] Making directory ./docs\\index_files\n",
      "[NbConvertApp] Making directory ./docs\\index_files\n",
      "[NbConvertApp] Making directory ./docs\\index_files\n",
      "[NbConvertApp] Making directory ./docs\\index_files\n",
      "[NbConvertApp] Making directory ./docs\\index_files\n",
      "[NbConvertApp] Making directory ./docs\\index_files\n",
      "[NbConvertApp] Making directory ./docs\\index_files\n",
      "[NbConvertApp] Making directory ./docs\\index_files\n",
      "[NbConvertApp] Making directory ./docs\\index_files\n",
      "[NbConvertApp] Making directory ./docs\\index_files\n",
      "[NbConvertApp] Making directory ./docs\\index_files\n",
      "[NbConvertApp] Making directory ./docs\\index_files\n",
      "[NbConvertApp] Making directory ./docs\\index_files\n",
      "[NbConvertApp] Making directory ./docs\\index_files\n",
      "[NbConvertApp] Making directory ./docs\\index_files\n",
      "[NbConvertApp] Making directory ./docs\\index_files\n",
      "[NbConvertApp] Making directory ./docs\\index_files\n",
      "[NbConvertApp] Making directory ./docs\\index_files\n",
      "[NbConvertApp] Making directory ./docs\\index_files\n",
      "[NbConvertApp] Making directory ./docs\\index_files\n",
      "[NbConvertApp] Making directory ./docs\\index_files\n",
      "[NbConvertApp] Making directory ./docs\\index_files\n",
      "[NbConvertApp] Making directory ./docs\\index_files\n",
      "[NbConvertApp] Making directory ./docs\\index_files\n",
      "[NbConvertApp] Making directory ./docs\\index_files\n",
      "[NbConvertApp] Making directory ./docs\\index_files\n",
      "[NbConvertApp] Making directory ./docs\\index_files\n",
      "[NbConvertApp] Making directory ./docs\\index_files\n",
      "[NbConvertApp] Making directory ./docs\\index_files\n",
      "[NbConvertApp] Making directory ./docs\\index_files\n",
      "[NbConvertApp] Making directory ./docs\\index_files\n",
      "[NbConvertApp] Writing 776616 bytes to ./docs\\index.html\n"
     ]
    }
   ],
   "source": [
    "!jupyter nbconvert _r_book.ipynb --TagRemovePreprocessor.remove_cell_tags={\\\"remove_cell\\\"} --to html_toc --output-dir='./docs' --output index.html"
   ]
  },
  {
   "cell_type": "markdown",
   "metadata": {},
   "source": [
    "## Copy Image Files"
   ]
  },
  {
   "cell_type": "code",
   "execution_count": 7,
   "metadata": {},
   "outputs": [
    {
     "data": {
      "text/plain": [
       "[]"
      ]
     },
     "execution_count": 7,
     "metadata": {},
     "output_type": "execute_result"
    }
   ],
   "source": [
    "copy_tree('./img', './docs/img')"
   ]
  },
  {
   "cell_type": "markdown",
   "metadata": {},
   "source": [
    "## Final Cleanup\n",
    "Cleanup (remove) merged notebook"
   ]
  },
  {
   "cell_type": "code",
   "execution_count": 8,
   "metadata": {},
   "outputs": [],
   "source": [
    "os.remove('_r_book.ipynb')"
   ]
  },
  {
   "cell_type": "code",
   "execution_count": 9,
   "metadata": {},
   "outputs": [
    {
     "name": "stdout",
     "output_type": "stream",
     "text": [
      "On branch master\n",
      "Changes not staged for commit:\n",
      "  (use \"git add/rm <file>...\" to update what will be committed)\n",
      "  (use \"git checkout -- <file>...\" to discard changes in working directory)\n",
      "\n",
      "\tmodified:   .ipynb_checkpoints/01-fundamental-checkpoint.ipynb\n",
      "\tmodified:   01-fundamental.ipynb\n",
      "\tmodified:   compilation.ipynb\n",
      "\tmodified:   docs/index.html\n",
      "\tdeleted:    docs/index_files/index_388_0.png\n",
      "\tdeleted:    docs/index_files/index_388_1.png\n",
      "\tdeleted:    docs/index_files/index_389_0.png\n",
      "\tdeleted:    docs/index_files/index_390_0.png\n",
      "\tdeleted:    docs/index_files/index_392_1.png\n",
      "\tdeleted:    docs/index_files/index_508_0.png\n",
      "\tdeleted:    docs/index_files/index_510_0.png\n",
      "\tdeleted:    docs/index_files/index_512_1.png\n",
      "\tdeleted:    docs/index_files/index_515_0.png\n",
      "\tdeleted:    docs/index_files/index_517_0.png\n",
      "\tdeleted:    docs/index_files/index_519_0.png\n",
      "\tdeleted:    docs/index_files/index_523_0.png\n",
      "\tdeleted:    docs/index_files/index_527_0.png\n",
      "\tdeleted:    docs/index_files/index_530_0.png\n",
      "\tdeleted:    docs/index_files/index_534_1.png\n",
      "\tdeleted:    docs/index_files/index_538_0.png\n",
      "\tdeleted:    docs/index_files/index_540_0.png\n",
      "\tdeleted:    docs/index_files/index_542_0.png\n",
      "\tdeleted:    docs/index_files/index_544_0.png\n",
      "\tmodified:   docs/index_files/index_550_0.png\n",
      "\tdeleted:    docs/index_files/index_552_1.png\n",
      "\tdeleted:    docs/index_files/index_554_1.png\n",
      "\tdeleted:    docs/index_files/index_556_0.png\n",
      "\tdeleted:    docs/index_files/index_558_1.png\n",
      "\tdeleted:    docs/index_files/index_561_1.png\n",
      "\tdeleted:    docs/index_files/index_563_1.png\n",
      "\tmodified:   docs/index_files/index_565_1.png\n",
      "\tdeleted:    docs/index_files/index_568_0.png\n",
      "\tdeleted:    docs/index_files/index_570_0.png\n",
      "\tdeleted:    docs/index_files/index_572_0.png\n",
      "\tdeleted:    docs/index_files/index_620_0.png\n",
      "\tdeleted:    docs/index_files/index_631_0.png\n",
      "\n",
      "Untracked files:\n",
      "  (use \"git add <file>...\" to include in what will be committed)\n",
      "\n",
      "\tdocs/index_files/index_419_0.png\n",
      "\tdocs/index_files/index_419_1.png\n",
      "\tdocs/index_files/index_420_0.png\n",
      "\tdocs/index_files/index_421_0.png\n",
      "\tdocs/index_files/index_423_1.png\n",
      "\tdocs/index_files/index_539_0.png\n",
      "\tdocs/index_files/index_541_0.png\n",
      "\tdocs/index_files/index_543_1.png\n",
      "\tdocs/index_files/index_546_0.png\n",
      "\tdocs/index_files/index_548_0.png\n",
      "\tdocs/index_files/index_554_0.png\n",
      "\tdocs/index_files/index_558_0.png\n",
      "\tdocs/index_files/index_561_0.png\n",
      "\tdocs/index_files/index_569_0.png\n",
      "\tdocs/index_files/index_571_0.png\n",
      "\tdocs/index_files/index_573_0.png\n",
      "\tdocs/index_files/index_575_0.png\n",
      "\tdocs/index_files/index_581_0.png\n",
      "\tdocs/index_files/index_583_1.png\n",
      "\tdocs/index_files/index_585_1.png\n",
      "\tdocs/index_files/index_587_0.png\n",
      "\tdocs/index_files/index_589_1.png\n",
      "\tdocs/index_files/index_592_1.png\n",
      "\tdocs/index_files/index_594_1.png\n",
      "\tdocs/index_files/index_596_1.png\n",
      "\tdocs/index_files/index_599_0.png\n",
      "\tdocs/index_files/index_601_0.png\n",
      "\tdocs/index_files/index_603_0.png\n",
      "\tdocs/index_files/index_651_0.png\n",
      "\tdocs/index_files/index_662_0.png\n",
      "\n",
      "no changes added to commit (use \"git add\" and/or \"git commit -a\")\n"
     ]
    }
   ],
   "source": [
    "!git status"
   ]
  },
  {
   "cell_type": "code",
   "execution_count": 10,
   "metadata": {},
   "outputs": [
    {
     "name": "stderr",
     "output_type": "stream",
     "text": [
      "warning: LF will be replaced by CRLF in .ipynb_checkpoints/01-fundamental-checkpoint.ipynb.\n",
      "The file will have its original line endings in your working directory\n",
      "warning: LF will be replaced by CRLF in 01-fundamental.ipynb.\n",
      "The file will have its original line endings in your working directory\n",
      "warning: LF will be replaced by CRLF in compilation.ipynb.\n",
      "The file will have its original line endings in your working directory\n"
     ]
    },
    {
     "name": "stdout",
     "output_type": "stream",
     "text": [
      "[master a9c5592] update\n",
      " 36 files changed, 2160 insertions(+), 315 deletions(-)\n",
      " rename docs/index_files/{index_388_0.png => index_419_0.png} (100%)\n",
      " rename docs/index_files/{index_388_1.png => index_419_1.png} (100%)\n",
      " rename docs/index_files/{index_389_0.png => index_420_0.png} (100%)\n",
      " rename docs/index_files/{index_390_0.png => index_421_0.png} (100%)\n",
      " rename docs/index_files/{index_392_1.png => index_423_1.png} (100%)\n",
      " rename docs/index_files/{index_508_0.png => index_539_0.png} (100%)\n",
      " rename docs/index_files/{index_510_0.png => index_541_0.png} (100%)\n",
      " rename docs/index_files/{index_512_1.png => index_543_1.png} (100%)\n",
      " rename docs/index_files/{index_515_0.png => index_546_0.png} (100%)\n",
      " rename docs/index_files/{index_517_0.png => index_548_0.png} (100%)\n",
      " rename docs/index_files/{index_519_0.png => index_550_0.png} (100%)\n",
      " rename docs/index_files/{index_523_0.png => index_554_0.png} (100%)\n",
      " rename docs/index_files/{index_527_0.png => index_558_0.png} (100%)\n",
      " rename docs/index_files/{index_530_0.png => index_561_0.png} (100%)\n",
      " rename docs/index_files/{index_534_1.png => index_565_1.png} (100%)\n",
      " rename docs/index_files/{index_538_0.png => index_569_0.png} (100%)\n",
      " rename docs/index_files/{index_540_0.png => index_571_0.png} (100%)\n",
      " rename docs/index_files/{index_542_0.png => index_573_0.png} (100%)\n",
      " rename docs/index_files/{index_544_0.png => index_575_0.png} (100%)\n",
      " rename docs/index_files/{index_550_0.png => index_581_0.png} (100%)\n",
      " rename docs/index_files/{index_552_1.png => index_583_1.png} (100%)\n",
      " rename docs/index_files/{index_554_1.png => index_585_1.png} (100%)\n",
      " rename docs/index_files/{index_556_0.png => index_587_0.png} (100%)\n",
      " rename docs/index_files/{index_558_1.png => index_589_1.png} (100%)\n",
      " rename docs/index_files/{index_561_1.png => index_592_1.png} (100%)\n",
      " rename docs/index_files/{index_563_1.png => index_594_1.png} (100%)\n",
      " rename docs/index_files/{index_565_1.png => index_596_1.png} (100%)\n",
      " rename docs/index_files/{index_568_0.png => index_599_0.png} (100%)\n",
      " rename docs/index_files/{index_570_0.png => index_601_0.png} (100%)\n",
      " rename docs/index_files/{index_572_0.png => index_603_0.png} (100%)\n",
      " rename docs/index_files/{index_620_0.png => index_651_0.png} (100%)\n",
      " rename docs/index_files/{index_631_0.png => index_662_0.png} (100%)\n"
     ]
    },
    {
     "name": "stderr",
     "output_type": "stream",
     "text": [
      "To https://github.com/yongks/r_book.git\n",
      "   1fced4f..a9c5592  master -> master\n"
     ]
    }
   ],
   "source": [
    "!git add *\n",
    "!git commit -m \"update\"\n",
    "!git push origin master"
   ]
  },
  {
   "cell_type": "code",
   "execution_count": null,
   "metadata": {},
   "outputs": [],
   "source": []
  }
 ],
 "metadata": {
  "kernelspec": {
   "display_name": "Python 3",
   "language": "python",
   "name": "python3"
  },
  "language_info": {
   "codemirror_mode": {
    "name": "ipython",
    "version": 3
   },
   "file_extension": ".py",
   "mimetype": "text/x-python",
   "name": "python",
   "nbconvert_exporter": "python",
   "pygments_lexer": "ipython3",
   "version": "3.6.5"
  },
  "toc": {
   "nav_menu": {},
   "number_sections": true,
   "sideBar": true,
   "skip_h1_title": false,
   "toc_cell": false,
   "toc_position": {
    "height": "739px",
    "left": "0px",
    "right": "1494.67px",
    "top": "66px",
    "width": "212px"
   },
   "toc_section_display": "block",
   "toc_window_display": true
  },
  "varInspector": {
   "cols": {
    "lenName": 16,
    "lenType": 16,
    "lenVar": 40
   },
   "kernels_config": {
    "python": {
     "delete_cmd_postfix": "",
     "delete_cmd_prefix": "del ",
     "library": "var_list.py",
     "varRefreshCmd": "print(var_dic_list())"
    },
    "r": {
     "delete_cmd_postfix": ") ",
     "delete_cmd_prefix": "rm(",
     "library": "var_list.r",
     "varRefreshCmd": "cat(var_dic_list()) "
    }
   },
   "types_to_exclude": [
    "module",
    "function",
    "builtin_function_or_method",
    "instance",
    "_Feature"
   ],
   "window_display": false
  }
 },
 "nbformat": 4,
 "nbformat_minor": 2
}
