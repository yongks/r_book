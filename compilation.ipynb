{
 "cells": [
  {
   "cell_type": "markdown",
   "metadata": {},
   "source": [
    "# Convert Notebook to HTML_TOC \n",
    "- Convert notebook to static pages, as index.html  \n",
    "- Output to ./docs folder, so that github-pages can pick up the static pages\n"
   ]
  },
  {
   "cell_type": "markdown",
   "metadata": {},
   "source": [
    "## Required Library"
   ]
  },
  {
   "cell_type": "markdown",
   "metadata": {},
   "source": [
    "**nbmerge** is required. To install:\n",
    "```\n",
    "pip install nbmerge\n",
    "```"
   ]
  },
  {
   "cell_type": "code",
   "execution_count": 11,
   "metadata": {},
   "outputs": [],
   "source": [
    "import os\n",
    "import shutil\n",
    "from distutils.dir_util import copy_tree"
   ]
  },
  {
   "cell_type": "markdown",
   "metadata": {
    "heading_collapsed": true
   },
   "source": [
    "## Current Working Directory"
   ]
  },
  {
   "cell_type": "markdown",
   "metadata": {
    "hidden": true
   },
   "source": [
    "### Current Working Directory"
   ]
  },
  {
   "cell_type": "code",
   "execution_count": 12,
   "metadata": {
    "hidden": true
   },
   "outputs": [
    {
     "name": "stdout",
     "output_type": "stream",
     "text": [
      "D:\\Dropbox\\github\\r_book\n"
     ]
    }
   ],
   "source": [
    "print(os.getcwd())"
   ]
  },
  {
   "cell_type": "markdown",
   "metadata": {
    "hidden": true
   },
   "source": [
    "### List of Files"
   ]
  },
  {
   "cell_type": "code",
   "execution_count": 13,
   "metadata": {
    "hidden": true
   },
   "outputs": [
    {
     "data": {
      "text/plain": [
       "['.git',\n",
       " '.ipynb_checkpoints',\n",
       " '01-fundamental.ipynb',\n",
       " '02-pre_processing.ipynb',\n",
       " '03-Wrangling.ipynb',\n",
       " '04-visualization.ipynb',\n",
       " '05-machine_learning.ipynb',\n",
       " 'compilation.ipynb',\n",
       " 'data',\n",
       " 'docs',\n",
       " 'img',\n",
       " 'Untitled.ipynb']"
      ]
     },
     "execution_count": 13,
     "metadata": {},
     "output_type": "execute_result"
    }
   ],
   "source": [
    "os.listdir()"
   ]
  },
  {
   "cell_type": "markdown",
   "metadata": {},
   "source": [
    "## Cleanup ./docs directory\n",
    "Delete ./docs and re-create. This ensure the content of ./docs is always relevant"
   ]
  },
  {
   "cell_type": "code",
   "execution_count": 14,
   "metadata": {},
   "outputs": [],
   "source": [
    "shutil.rmtree(path='./docs',ignore_errors=True)\n",
    "os.mkdir('docs')\n",
    "os.mkdir('docs\\img')"
   ]
  },
  {
   "cell_type": "markdown",
   "metadata": {},
   "source": [
    "## Merging Multiple Chapters into One Notebook\n",
    "Merge all notebooks with filename containing '-' into _merged.ipynb. This is a temporary notebook."
   ]
  },
  {
   "cell_type": "code",
   "execution_count": 15,
   "metadata": {},
   "outputs": [],
   "source": [
    "!nbmerge --recursive -i -p \".*-.*\" -o _r_book.ipynb"
   ]
  },
  {
   "cell_type": "markdown",
   "metadata": {},
   "source": [
    "## Convert Into Static HTML with TOC\n",
    "- Convert the merged notebook into HTML, in '/docs' directory  \n",
    "- Tag cell to \"remove_cell\" in order to 'hide' from final html output"
   ]
  },
  {
   "cell_type": "code",
   "execution_count": 16,
   "metadata": {
    "scrolled": true
   },
   "outputs": [
    {
     "name": "stderr",
     "output_type": "stream",
     "text": [
      "[NbConvertApp] Converting notebook _r_book.ipynb to html_toc\n",
      "C:\\ProgramData\\Anaconda3\\lib\\site-packages\\nbconvert\\filters\\datatypefilter.py:41: UserWarning: Your element with mimetype(s) dict_keys([]) is not able to be represented.\n",
      "  mimetypes=output.keys())\n",
      "[NbConvertApp] Support files will be in index_files\\\n",
      "[NbConvertApp] Making directory ./docs\\index_files\n",
      "[NbConvertApp] Making directory ./docs\\index_files\n",
      "[NbConvertApp] Making directory ./docs\\index_files\n",
      "[NbConvertApp] Making directory ./docs\\index_files\n",
      "[NbConvertApp] Making directory ./docs\\index_files\n",
      "[NbConvertApp] Making directory ./docs\\index_files\n",
      "[NbConvertApp] Making directory ./docs\\index_files\n",
      "[NbConvertApp] Making directory ./docs\\index_files\n",
      "[NbConvertApp] Making directory ./docs\\index_files\n",
      "[NbConvertApp] Making directory ./docs\\index_files\n",
      "[NbConvertApp] Making directory ./docs\\index_files\n",
      "[NbConvertApp] Making directory ./docs\\index_files\n",
      "[NbConvertApp] Making directory ./docs\\index_files\n",
      "[NbConvertApp] Making directory ./docs\\index_files\n",
      "[NbConvertApp] Making directory ./docs\\index_files\n",
      "[NbConvertApp] Making directory ./docs\\index_files\n",
      "[NbConvertApp] Making directory ./docs\\index_files\n",
      "[NbConvertApp] Making directory ./docs\\index_files\n",
      "[NbConvertApp] Making directory ./docs\\index_files\n",
      "[NbConvertApp] Making directory ./docs\\index_files\n",
      "[NbConvertApp] Making directory ./docs\\index_files\n",
      "[NbConvertApp] Making directory ./docs\\index_files\n",
      "[NbConvertApp] Making directory ./docs\\index_files\n",
      "[NbConvertApp] Making directory ./docs\\index_files\n",
      "[NbConvertApp] Making directory ./docs\\index_files\n",
      "[NbConvertApp] Making directory ./docs\\index_files\n",
      "[NbConvertApp] Making directory ./docs\\index_files\n",
      "[NbConvertApp] Writing 607319 bytes to ./docs\\index.html\n"
     ]
    }
   ],
   "source": [
    "!jupyter nbconvert _r_book.ipynb --TagRemovePreprocessor.remove_cell_tags={\\\"remove_cell\\\"} --to html_toc --output-dir='./docs' --output index.html"
   ]
  },
  {
   "cell_type": "markdown",
   "metadata": {},
   "source": [
    "## Copy Image Files"
   ]
  },
  {
   "cell_type": "code",
   "execution_count": 17,
   "metadata": {},
   "outputs": [
    {
     "data": {
      "text/plain": [
       "[]"
      ]
     },
     "execution_count": 17,
     "metadata": {},
     "output_type": "execute_result"
    }
   ],
   "source": [
    "copy_tree('./img', './docs/img')"
   ]
  },
  {
   "cell_type": "markdown",
   "metadata": {},
   "source": [
    "## Final Cleanup\n",
    "Cleanup (remove) merged notebook"
   ]
  },
  {
   "cell_type": "code",
   "execution_count": 18,
   "metadata": {},
   "outputs": [],
   "source": [
    "os.remove('_r_book.ipynb')"
   ]
  },
  {
   "cell_type": "code",
   "execution_count": 19,
   "metadata": {},
   "outputs": [
    {
     "name": "stdout",
     "output_type": "stream",
     "text": [
      "On branch master\n",
      "Changes not staged for commit:\n",
      "  (use \"git add/rm <file>...\" to update what will be committed)\n",
      "  (use \"git checkout -- <file>...\" to discard changes in working directory)\n",
      "\n",
      "\tmodified:   .ipynb_checkpoints/03-Wrangling-checkpoint.ipynb\n",
      "\tmodified:   03-Wrangling.ipynb\n",
      "\tmodified:   compilation.ipynb\n",
      "\tmodified:   docs/index.html\n",
      "\tmodified:   docs/index_files/index_369_0.png\n",
      "\tdeleted:    docs/index_files/index_371_0.png\n",
      "\tdeleted:    docs/index_files/index_373_1.png\n",
      "\tmodified:   docs/index_files/index_376_0.png\n",
      "\tmodified:   docs/index_files/index_378_0.png\n",
      "\tdeleted:    docs/index_files/index_380_0.png\n",
      "\tdeleted:    docs/index_files/index_384_0.png\n",
      "\tdeleted:    docs/index_files/index_388_0.png\n",
      "\tdeleted:    docs/index_files/index_391_0.png\n",
      "\tdeleted:    docs/index_files/index_395_1.png\n",
      "\tmodified:   docs/index_files/index_399_0.png\n",
      "\tmodified:   docs/index_files/index_401_0.png\n",
      "\tmodified:   docs/index_files/index_403_0.png\n",
      "\tdeleted:    docs/index_files/index_405_0.png\n",
      "\tdeleted:    docs/index_files/index_411_0.png\n",
      "\tmodified:   docs/index_files/index_413_1.png\n",
      "\tdeleted:    docs/index_files/index_415_1.png\n",
      "\tdeleted:    docs/index_files/index_417_0.png\n",
      "\tdeleted:    docs/index_files/index_419_1.png\n",
      "\tmodified:   docs/index_files/index_422_1.png\n",
      "\tmodified:   docs/index_files/index_424_1.png\n",
      "\tdeleted:    docs/index_files/index_426_1.png\n",
      "\tmodified:   docs/index_files/index_429_0.png\n",
      "\tmodified:   docs/index_files/index_431_0.png\n",
      "\tdeleted:    docs/index_files/index_433_0.png\n",
      "\tdeleted:    docs/index_files/index_452_1.png\n",
      "\tdeleted:    docs/index_files/index_461_0.png\n",
      "\n",
      "Untracked files:\n",
      "  (use \"git add <file>...\" to include in what will be committed)\n",
      "\n",
      "\tdocs/index_files/index_367_0.png\n",
      "\tdocs/index_files/index_371_1.png\n",
      "\tdocs/index_files/index_374_0.png\n",
      "\tdocs/index_files/index_382_0.png\n",
      "\tdocs/index_files/index_386_0.png\n",
      "\tdocs/index_files/index_389_0.png\n",
      "\tdocs/index_files/index_393_1.png\n",
      "\tdocs/index_files/index_397_0.png\n",
      "\tdocs/index_files/index_409_0.png\n",
      "\tdocs/index_files/index_411_1.png\n",
      "\tdocs/index_files/index_415_0.png\n",
      "\tdocs/index_files/index_417_1.png\n",
      "\tdocs/index_files/index_420_1.png\n",
      "\tdocs/index_files/index_427_0.png\n",
      "\tdocs/index_files/index_450_1.png\n",
      "\tdocs/index_files/index_459_0.png\n",
      "\n",
      "no changes added to commit (use \"git add\" and/or \"git commit -a\")\n"
     ]
    }
   ],
   "source": [
    "!git status"
   ]
  },
  {
   "cell_type": "code",
   "execution_count": 20,
   "metadata": {},
   "outputs": [
    {
     "name": "stderr",
     "output_type": "stream",
     "text": [
      "warning: LF will be replaced by CRLF in .ipynb_checkpoints/03-Wrangling-checkpoint.ipynb.\n",
      "The file will have its original line endings in your working directory.\n",
      "warning: LF will be replaced by CRLF in 03-Wrangling.ipynb.\n",
      "The file will have its original line endings in your working directory.\n",
      "warning: LF will be replaced by CRLF in compilation.ipynb.\n",
      "The file will have its original line endings in your working directory.\n"
     ]
    },
    {
     "name": "stdout",
     "output_type": "stream",
     "text": [
      "[master 5736f41] update\n",
      " 31 files changed, 22569 insertions(+), 99085 deletions(-)\n",
      " rewrite 03-Wrangling.ipynb (99%)\n",
      " rewrite docs/index.html (61%)\n",
      " rename docs/index_files/{index_369_0.png => index_367_0.png} (100%)\n",
      " rename docs/index_files/{index_371_0.png => index_369_0.png} (100%)\n",
      " rename docs/index_files/{index_373_1.png => index_371_1.png} (100%)\n",
      " rename docs/index_files/{index_376_0.png => index_374_0.png} (100%)\n",
      " rename docs/index_files/{index_378_0.png => index_376_0.png} (100%)\n",
      " rename docs/index_files/{index_380_0.png => index_378_0.png} (100%)\n",
      " rename docs/index_files/{index_384_0.png => index_382_0.png} (100%)\n",
      " rename docs/index_files/{index_388_0.png => index_386_0.png} (100%)\n",
      " rename docs/index_files/{index_391_0.png => index_389_0.png} (100%)\n",
      " rename docs/index_files/{index_395_1.png => index_393_1.png} (100%)\n",
      " rename docs/index_files/{index_399_0.png => index_397_0.png} (100%)\n",
      " rename docs/index_files/{index_401_0.png => index_399_0.png} (100%)\n",
      " rename docs/index_files/{index_403_0.png => index_401_0.png} (100%)\n",
      " rename docs/index_files/{index_405_0.png => index_403_0.png} (100%)\n",
      " rename docs/index_files/{index_411_0.png => index_409_0.png} (100%)\n",
      " rename docs/index_files/{index_413_1.png => index_411_1.png} (100%)\n",
      " rename docs/index_files/{index_415_1.png => index_413_1.png} (100%)\n",
      " rename docs/index_files/{index_417_0.png => index_415_0.png} (100%)\n",
      " rename docs/index_files/{index_419_1.png => index_417_1.png} (100%)\n",
      " rename docs/index_files/{index_422_1.png => index_420_1.png} (100%)\n",
      " rename docs/index_files/{index_424_1.png => index_422_1.png} (100%)\n",
      " rename docs/index_files/{index_426_1.png => index_424_1.png} (100%)\n",
      " rename docs/index_files/{index_429_0.png => index_427_0.png} (100%)\n",
      " rename docs/index_files/{index_431_0.png => index_429_0.png} (100%)\n",
      " rename docs/index_files/{index_433_0.png => index_431_0.png} (100%)\n",
      " rename docs/index_files/{index_452_1.png => index_450_1.png} (100%)\n",
      " rename docs/index_files/{index_461_0.png => index_459_0.png} (100%)\n"
     ]
    },
    {
     "name": "stderr",
     "output_type": "stream",
     "text": [
      "fatal: HttpRequestException encountered.\n",
      "   An error occurred while sending the request.\n",
      "To https://github.com/yongks/r_book.git\n",
      "   bb97b7e..5736f41  master -> master\n"
     ]
    }
   ],
   "source": [
    "!git add *\n",
    "!git commit -m \"update\"\n",
    "!git push origin master"
   ]
  },
  {
   "cell_type": "code",
   "execution_count": null,
   "metadata": {},
   "outputs": [],
   "source": []
  }
 ],
 "metadata": {
  "kernelspec": {
   "display_name": "Python 3",
   "language": "python",
   "name": "python3"
  },
  "language_info": {
   "codemirror_mode": {
    "name": "ipython",
    "version": 3
   },
   "file_extension": ".py",
   "mimetype": "text/x-python",
   "name": "python",
   "nbconvert_exporter": "python",
   "pygments_lexer": "ipython3",
   "version": "3.6.5"
  },
  "toc": {
   "nav_menu": {},
   "number_sections": true,
   "sideBar": true,
   "skip_h1_title": false,
   "toc_cell": false,
   "toc_position": {},
   "toc_section_display": "block",
   "toc_window_display": true
  },
  "varInspector": {
   "cols": {
    "lenName": 16,
    "lenType": 16,
    "lenVar": 40
   },
   "kernels_config": {
    "python": {
     "delete_cmd_postfix": "",
     "delete_cmd_prefix": "del ",
     "library": "var_list.py",
     "varRefreshCmd": "print(var_dic_list())"
    },
    "r": {
     "delete_cmd_postfix": ") ",
     "delete_cmd_prefix": "rm(",
     "library": "var_list.r",
     "varRefreshCmd": "cat(var_dic_list()) "
    }
   },
   "types_to_exclude": [
    "module",
    "function",
    "builtin_function_or_method",
    "instance",
    "_Feature"
   ],
   "window_display": false
  }
 },
 "nbformat": 4,
 "nbformat_minor": 2
}
